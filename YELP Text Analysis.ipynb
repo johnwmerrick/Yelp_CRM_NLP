{
 "cells": [
  {
   "cell_type": "code",
   "execution_count": 5,
   "metadata": {},
   "outputs": [],
   "source": [
    "from gensim.models import Phrases\n",
    "from gensim.corpora import Dictionary, MmCorpus\n",
    "from gensim.models.word2vec import LineSentence\n",
    "from gensim.models.ldamulticore import LdaMulticore\n",
    "\n",
    "import os\n",
    "import codecs\n",
    "import pyLDAvis\n",
    "import pyLDAvis.gensim\n",
    "import warnings\n",
    "import _pickle as pickle\n",
    "import pandas as pd\n",
    "import numpy as np\n",
    "import itertools"
   ]
  },
  {
   "cell_type": "code",
   "execution_count": 7,
   "metadata": {},
   "outputs": [],
   "source": [
    "import spacy\n",
    "import nltk\n",
    "import nltk.classify.util\n",
    "from nltk.tokenize import sent_tokenize, word_tokenize, RegexpTokenizer\n",
    "from nltk.classify import NaiveBayesClassifier\n",
    "from nltk.corpus import stopwords, names\n",
    "\n",
    "nlp = spacy.load('en')"
   ]
  },
  {
   "cell_type": "code",
   "execution_count": 64,
   "metadata": {
    "collapsed": true
   },
   "outputs": [],
   "source": [
    "from matplotlib import pyplot as plt\n",
    "import seaborn as sns\n",
    "%matplotlib inline"
   ]
  },
  {
   "cell_type": "code",
   "execution_count": 80,
   "metadata": {},
   "outputs": [
    {
     "name": "stderr",
     "output_type": "stream",
     "text": [
      "C:\\ProgramData\\Anaconda3\\lib\\site-packages\\IPython\\core\\interactiveshell.py:2717: DtypeWarning: Columns (0,1,6,11,12,13,20) have mixed types. Specify dtype option on import or set low_memory=False.\n",
      "  interactivity=interactivity, compiler=compiler, result=result)\n"
     ]
    },
    {
     "data": {
      "text/plain": [
       "(2043401, 27)"
      ]
     },
     "execution_count": 80,
     "metadata": {},
     "output_type": "execute_result"
    }
   ],
   "source": [
    "data = pd.read_csv(\"data.csv\", encoding='ISO-8859-1')\n",
    "np.shape(data) #(2043401, 27)"
   ]
  },
  {
   "cell_type": "code",
   "execution_count": 84,
   "metadata": {
    "collapsed": true
   },
   "outputs": [],
   "source": [
    "data = data.drop('Unnamed: 0', 1)"
   ]
  },
  {
   "cell_type": "code",
   "execution_count": 85,
   "metadata": {},
   "outputs": [
    {
     "data": {
      "text/html": [
       "<div>\n",
       "<style>\n",
       "    .dataframe thead tr:only-child th {\n",
       "        text-align: right;\n",
       "    }\n",
       "\n",
       "    .dataframe thead th {\n",
       "        text-align: left;\n",
       "    }\n",
       "\n",
       "    .dataframe tbody tr th {\n",
       "        vertical-align: top;\n",
       "    }\n",
       "</style>\n",
       "<table border=\"1\" class=\"dataframe\">\n",
       "  <thead>\n",
       "    <tr style=\"text-align: right;\">\n",
       "      <th></th>\n",
       "      <th>funny</th>\n",
       "      <th>user_id</th>\n",
       "      <th>review_id</th>\n",
       "      <th>text</th>\n",
       "      <th>business_id</th>\n",
       "      <th>stars</th>\n",
       "      <th>date</th>\n",
       "      <th>useful</th>\n",
       "      <th>cool</th>\n",
       "      <th>yelping_since</th>\n",
       "      <th>...</th>\n",
       "      <th>state</th>\n",
       "      <th>postal_code</th>\n",
       "      <th>latitude</th>\n",
       "      <th>longitude</th>\n",
       "      <th>business_avg_stars</th>\n",
       "      <th>review_count_y</th>\n",
       "      <th>is_open</th>\n",
       "      <th>categories</th>\n",
       "      <th>stars_dif</th>\n",
       "      <th>bus_stars_dif</th>\n",
       "    </tr>\n",
       "  </thead>\n",
       "  <tbody>\n",
       "    <tr>\n",
       "      <th>0</th>\n",
       "      <td>0</td>\n",
       "      <td>kzyLOqiJvyw_FWFTw2rjiQ</td>\n",
       "      <td>ByRzJ8rF2KJWLr-cUNU6EA</td>\n",
       "      <td>This place is horrible, we were so excited to ...</td>\n",
       "      <td>jQsNFOzDpxPmOurSWCg1vQ</td>\n",
       "      <td>1</td>\n",
       "      <td>2017-06-03</td>\n",
       "      <td>0.0</td>\n",
       "      <td>0.0</td>\n",
       "      <td>2016-06-17</td>\n",
       "      <td>...</td>\n",
       "      <td>AZ</td>\n",
       "      <td>85374.0</td>\n",
       "      <td>33.638228</td>\n",
       "      <td>-112.365</td>\n",
       "      <td>3.5</td>\n",
       "      <td>92.0</td>\n",
       "      <td>1.0</td>\n",
       "      <td>['Fast Food', 'Gluten-Free', 'Asian Fusion', '...</td>\n",
       "      <td>-2.00</td>\n",
       "      <td>-2.5</td>\n",
       "    </tr>\n",
       "    <tr>\n",
       "      <th>1</th>\n",
       "      <td>0</td>\n",
       "      <td>WZXp9-V2dqRRJqhGgRqueA</td>\n",
       "      <td>i5UwUPlQFPLcE8p2gPFwBw</td>\n",
       "      <td>For being fairly \"fast\" food.. Pei Wei (pronou...</td>\n",
       "      <td>jQsNFOzDpxPmOurSWCg1vQ</td>\n",
       "      <td>4</td>\n",
       "      <td>2015-03-26</td>\n",
       "      <td>1.0</td>\n",
       "      <td>0.0</td>\n",
       "      <td>2012-09-28</td>\n",
       "      <td>...</td>\n",
       "      <td>AZ</td>\n",
       "      <td>85374.0</td>\n",
       "      <td>33.638228</td>\n",
       "      <td>-112.365</td>\n",
       "      <td>3.5</td>\n",
       "      <td>92.0</td>\n",
       "      <td>1.0</td>\n",
       "      <td>['Fast Food', 'Gluten-Free', 'Asian Fusion', '...</td>\n",
       "      <td>0.46</td>\n",
       "      <td>0.5</td>\n",
       "    </tr>\n",
       "    <tr>\n",
       "      <th>2</th>\n",
       "      <td>1</td>\n",
       "      <td>XylT12exfdLiI_3uDLVIpw</td>\n",
       "      <td>EyQyvTTg2jX4or9bB8PC9g</td>\n",
       "      <td>I decided to try it out, I'm celiac and theref...</td>\n",
       "      <td>jQsNFOzDpxPmOurSWCg1vQ</td>\n",
       "      <td>5</td>\n",
       "      <td>2012-12-30</td>\n",
       "      <td>2.0</td>\n",
       "      <td>1.0</td>\n",
       "      <td>2010-10-19</td>\n",
       "      <td>...</td>\n",
       "      <td>AZ</td>\n",
       "      <td>85374.0</td>\n",
       "      <td>33.638228</td>\n",
       "      <td>-112.365</td>\n",
       "      <td>3.5</td>\n",
       "      <td>92.0</td>\n",
       "      <td>1.0</td>\n",
       "      <td>['Fast Food', 'Gluten-Free', 'Asian Fusion', '...</td>\n",
       "      <td>0.96</td>\n",
       "      <td>1.5</td>\n",
       "    </tr>\n",
       "    <tr>\n",
       "      <th>3</th>\n",
       "      <td>1</td>\n",
       "      <td>Ji9PeffxjwqPLO7pEfSpKQ</td>\n",
       "      <td>G-EFA005besj5uHsH0sQFA</td>\n",
       "      <td>I'm not saying Pei Wei is the best asian food ...</td>\n",
       "      <td>jQsNFOzDpxPmOurSWCg1vQ</td>\n",
       "      <td>3</td>\n",
       "      <td>2009-01-12</td>\n",
       "      <td>1.0</td>\n",
       "      <td>1.0</td>\n",
       "      <td>2008-11-20</td>\n",
       "      <td>...</td>\n",
       "      <td>AZ</td>\n",
       "      <td>85374.0</td>\n",
       "      <td>33.638228</td>\n",
       "      <td>-112.365</td>\n",
       "      <td>3.5</td>\n",
       "      <td>92.0</td>\n",
       "      <td>1.0</td>\n",
       "      <td>['Fast Food', 'Gluten-Free', 'Asian Fusion', '...</td>\n",
       "      <td>-0.55</td>\n",
       "      <td>-0.5</td>\n",
       "    </tr>\n",
       "    <tr>\n",
       "      <th>4</th>\n",
       "      <td>0</td>\n",
       "      <td>TLIWzAJPrET0zX4_vgvLhg</td>\n",
       "      <td>6PcJSGUBSLjt4VLXos5C4A</td>\n",
       "      <td>Sometimes the food is spot on and delicious an...</td>\n",
       "      <td>jQsNFOzDpxPmOurSWCg1vQ</td>\n",
       "      <td>3</td>\n",
       "      <td>2015-07-11</td>\n",
       "      <td>0.0</td>\n",
       "      <td>0.0</td>\n",
       "      <td>2014-08-03</td>\n",
       "      <td>...</td>\n",
       "      <td>AZ</td>\n",
       "      <td>85374.0</td>\n",
       "      <td>33.638228</td>\n",
       "      <td>-112.365</td>\n",
       "      <td>3.5</td>\n",
       "      <td>92.0</td>\n",
       "      <td>1.0</td>\n",
       "      <td>['Fast Food', 'Gluten-Free', 'Asian Fusion', '...</td>\n",
       "      <td>-0.55</td>\n",
       "      <td>-0.5</td>\n",
       "    </tr>\n",
       "  </tbody>\n",
       "</table>\n",
       "<p>5 rows × 26 columns</p>\n",
       "</div>"
      ],
      "text/plain": [
       "  funny                 user_id               review_id  \\\n",
       "0     0  kzyLOqiJvyw_FWFTw2rjiQ  ByRzJ8rF2KJWLr-cUNU6EA   \n",
       "1     0  WZXp9-V2dqRRJqhGgRqueA  i5UwUPlQFPLcE8p2gPFwBw   \n",
       "2     1  XylT12exfdLiI_3uDLVIpw  EyQyvTTg2jX4or9bB8PC9g   \n",
       "3     1  Ji9PeffxjwqPLO7pEfSpKQ  G-EFA005besj5uHsH0sQFA   \n",
       "4     0  TLIWzAJPrET0zX4_vgvLhg  6PcJSGUBSLjt4VLXos5C4A   \n",
       "\n",
       "                                                text             business_id  \\\n",
       "0  This place is horrible, we were so excited to ...  jQsNFOzDpxPmOurSWCg1vQ   \n",
       "1  For being fairly \"fast\" food.. Pei Wei (pronou...  jQsNFOzDpxPmOurSWCg1vQ   \n",
       "2  I decided to try it out, I'm celiac and theref...  jQsNFOzDpxPmOurSWCg1vQ   \n",
       "3  I'm not saying Pei Wei is the best asian food ...  jQsNFOzDpxPmOurSWCg1vQ   \n",
       "4  Sometimes the food is spot on and delicious an...  jQsNFOzDpxPmOurSWCg1vQ   \n",
       "\n",
       "  stars        date  useful  cool yelping_since      ...      state  \\\n",
       "0     1  2017-06-03     0.0   0.0    2016-06-17      ...         AZ   \n",
       "1     4  2015-03-26     1.0   0.0    2012-09-28      ...         AZ   \n",
       "2     5  2012-12-30     2.0   1.0    2010-10-19      ...         AZ   \n",
       "3     3  2009-01-12     1.0   1.0    2008-11-20      ...         AZ   \n",
       "4     3  2015-07-11     0.0   0.0    2014-08-03      ...         AZ   \n",
       "\n",
       "  postal_code   latitude longitude business_avg_stars review_count_y is_open  \\\n",
       "0     85374.0  33.638228  -112.365                3.5           92.0     1.0   \n",
       "1     85374.0  33.638228  -112.365                3.5           92.0     1.0   \n",
       "2     85374.0  33.638228  -112.365                3.5           92.0     1.0   \n",
       "3     85374.0  33.638228  -112.365                3.5           92.0     1.0   \n",
       "4     85374.0  33.638228  -112.365                3.5           92.0     1.0   \n",
       "\n",
       "                                          categories  stars_dif bus_stars_dif  \n",
       "0  ['Fast Food', 'Gluten-Free', 'Asian Fusion', '...      -2.00          -2.5  \n",
       "1  ['Fast Food', 'Gluten-Free', 'Asian Fusion', '...       0.46           0.5  \n",
       "2  ['Fast Food', 'Gluten-Free', 'Asian Fusion', '...       0.96           1.5  \n",
       "3  ['Fast Food', 'Gluten-Free', 'Asian Fusion', '...      -0.55          -0.5  \n",
       "4  ['Fast Food', 'Gluten-Free', 'Asian Fusion', '...      -0.55          -0.5  \n",
       "\n",
       "[5 rows x 26 columns]"
      ]
     },
     "execution_count": 85,
     "metadata": {},
     "output_type": "execute_result"
    }
   ],
   "source": [
    "data.head()"
   ]
  },
  {
   "cell_type": "code",
   "execution_count": 86,
   "metadata": {
    "collapsed": true
   },
   "outputs": [],
   "source": [
    "def textPreProcess(reviews_column):\n",
    "    \n",
    "    filtered = []\n",
    "    temp = []\n",
    "    tokenizer = RegexpTokenizer(r'\\w+')\n",
    "    stop_words = set(stopwords.words('english'))\n",
    "\n",
    "    for review in reviews_column:\n",
    "        words = tokenizer.tokenize(review)\n",
    "        for w in words:\n",
    "            if w.lower() not in stop_words:\n",
    "                temp.append(w.lower())\n",
    "        filtered.append(temp)\n",
    "        temp = []\n",
    "\n",
    "    return filtered"
   ]
  },
  {
   "cell_type": "code",
   "execution_count": 87,
   "metadata": {
    "collapsed": true
   },
   "outputs": [],
   "source": [
    "filtered = textPreProcess(data['text'])"
   ]
  },
  {
   "cell_type": "code",
   "execution_count": 88,
   "metadata": {
    "collapsed": true
   },
   "outputs": [],
   "source": [
    "def sentimentScore(data, filtered):\n",
    "    \n",
    "    neg_file = open(\"negative-words.txt\", \"r\")\n",
    "    neg_dict = neg_file.read().split('\\n')\n",
    "    neg_file.close()\n",
    "\n",
    "    pos_file = open(\"positive-words.txt\", \"r\")\n",
    "    pos_dict = pos_file.read().split('\\n')\n",
    "    pos_file.close()\n",
    "        \n",
    "    pos_counter = 0\n",
    "    neg_counter = 0\n",
    "    sent_ratio = 0\n",
    "    sentiment_score = []\n",
    "    \n",
    "    for review in filtered:\n",
    "        for word in review:\n",
    "            if word in pos_dict:\n",
    "                pos_counter = pos_counter + 1\n",
    "            if word in neg_dict:\n",
    "                neg_counter = neg_counter + 1\n",
    "                \n",
    "        if len(review) != 0:\n",
    "            sent_ratio = float(pos_counter - neg_counter) / float(len(review))  \n",
    "        else:\n",
    "            sent_ratio = 0\n",
    "        sentiment_score.append(sent_ratio)\n",
    "        pos_counter = 0\n",
    "        neg_counter = 0\n",
    "    \n",
    "    df = pd.DataFrame(np.column_stack([filtered, sentiment_score]), columns=['filtered_text', 'sentiment_score'])\n",
    "    \n",
    "    # reset indexes to zero so pd.concat works properly\n",
    "    data.index = (range(0, len(data)))\n",
    "    df.index = (range(0, len(df)))\n",
    "    return pd.concat([data, df], axis=1)"
   ]
  },
  {
   "cell_type": "code",
   "execution_count": 89,
   "metadata": {},
   "outputs": [
    {
     "name": "stdout",
     "output_type": "stream",
     "text": [
      "Wall time: 2h 40min 25s\n"
     ]
    }
   ],
   "source": [
    "%%time\n",
    "scored_df = sentimentScore(data, filtered)"
   ]
  },
  {
   "cell_type": "code",
   "execution_count": null,
   "metadata": {
    "collapsed": true
   },
   "outputs": [],
   "source": [
    "scored_df.to_csv('scored_df.csv')"
   ]
  },
  {
   "cell_type": "code",
   "execution_count": 202,
   "metadata": {},
   "outputs": [
    {
     "name": "stderr",
     "output_type": "stream",
     "text": [
      "C:\\ProgramData\\Anaconda3\\lib\\site-packages\\IPython\\core\\interactiveshell.py:2717: DtypeWarning: Columns (1,6,11,12,13,20) have mixed types. Specify dtype option on import or set low_memory=False.\n",
      "  interactivity=interactivity, compiler=compiler, result=result)\n"
     ]
    },
    {
     "data": {
      "text/plain": [
       "(2043401, 29)"
      ]
     },
     "execution_count": 202,
     "metadata": {},
     "output_type": "execute_result"
    }
   ],
   "source": [
    "scored_df = pd.read_csv(\"scored_df.csv\", encoding='ISO-8859-1')\n",
    "np.shape(scored_df) #(2043401, 29)"
   ]
  },
  {
   "cell_type": "code",
   "execution_count": 185,
   "metadata": {
    "collapsed": true
   },
   "outputs": [],
   "source": [
    "corr_df = scored_df.loc[:,['stars', 'sentiment_score']]"
   ]
  },
  {
   "cell_type": "code",
   "execution_count": 204,
   "metadata": {
    "collapsed": true
   },
   "outputs": [],
   "source": [
    "scored_df = scored_df.dropna(subset=['stars'])"
   ]
  },
  {
   "cell_type": "code",
   "execution_count": 205,
   "metadata": {
    "collapsed": true
   },
   "outputs": [],
   "source": [
    "scored_df = scored_df[scored_df.stars != '2013-06-30']"
   ]
  },
  {
   "cell_type": "code",
   "execution_count": 203,
   "metadata": {
    "collapsed": true
   },
   "outputs": [],
   "source": [
    "scored_df = scored_df.drop('Unnamed: 0', 1)"
   ]
  },
  {
   "cell_type": "code",
   "execution_count": 235,
   "metadata": {
    "collapsed": true
   },
   "outputs": [],
   "source": [
    "scored_df['average_stars'] = scored_df['average_stars'].apply(float)"
   ]
  },
  {
   "cell_type": "code",
   "execution_count": 236,
   "metadata": {},
   "outputs": [
    {
     "data": {
      "text/plain": [
       "3.752122820847011"
      ]
     },
     "execution_count": 236,
     "metadata": {},
     "output_type": "execute_result"
    }
   ],
   "source": [
    "scored_df['average_stars'].mean()"
   ]
  },
  {
   "cell_type": "code",
   "execution_count": 232,
   "metadata": {},
   "outputs": [
    {
     "data": {
      "text/html": [
       "<div>\n",
       "<style>\n",
       "    .dataframe thead tr:only-child th {\n",
       "        text-align: right;\n",
       "    }\n",
       "\n",
       "    .dataframe thead th {\n",
       "        text-align: left;\n",
       "    }\n",
       "\n",
       "    .dataframe tbody tr th {\n",
       "        vertical-align: top;\n",
       "    }\n",
       "</style>\n",
       "<table border=\"1\" class=\"dataframe\">\n",
       "  <thead>\n",
       "    <tr style=\"text-align: right;\">\n",
       "      <th></th>\n",
       "      <th>stars</th>\n",
       "      <th>useful</th>\n",
       "      <th>cool</th>\n",
       "      <th>postal_code</th>\n",
       "      <th>latitude</th>\n",
       "      <th>business_avg_stars</th>\n",
       "      <th>review_count_y</th>\n",
       "      <th>is_open</th>\n",
       "      <th>stars_dif</th>\n",
       "      <th>bus_stars_dif</th>\n",
       "      <th>sentiment_score</th>\n",
       "    </tr>\n",
       "  </thead>\n",
       "  <tbody>\n",
       "    <tr>\n",
       "      <th>count</th>\n",
       "      <td>2.043399e+06</td>\n",
       "      <td>2.043399e+06</td>\n",
       "      <td>2.043399e+06</td>\n",
       "      <td>2.042974e+06</td>\n",
       "      <td>2.043399e+06</td>\n",
       "      <td>2.043399e+06</td>\n",
       "      <td>2.043399e+06</td>\n",
       "      <td>2043399.0</td>\n",
       "      <td>2.043399e+06</td>\n",
       "      <td>2.043399e+06</td>\n",
       "      <td>2.043399e+06</td>\n",
       "    </tr>\n",
       "    <tr>\n",
       "      <th>mean</th>\n",
       "      <td>3.748968e+00</td>\n",
       "      <td>9.164417e-01</td>\n",
       "      <td>5.244375e-01</td>\n",
       "      <td>7.397933e+04</td>\n",
       "      <td>3.598662e+01</td>\n",
       "      <td>3.751935e+00</td>\n",
       "      <td>5.253172e+02</td>\n",
       "      <td>1.0</td>\n",
       "      <td>-3.154558e-03</td>\n",
       "      <td>-2.966381e-03</td>\n",
       "      <td>1.053997e-01</td>\n",
       "    </tr>\n",
       "    <tr>\n",
       "      <th>std</th>\n",
       "      <td>1.358269e+00</td>\n",
       "      <td>2.498583e+00</td>\n",
       "      <td>2.101433e+00</td>\n",
       "      <td>2.428910e+04</td>\n",
       "      <td>2.666742e+00</td>\n",
       "      <td>5.842759e-01</td>\n",
       "      <td>8.720526e+02</td>\n",
       "      <td>0.0</td>\n",
       "      <td>1.166744e+00</td>\n",
       "      <td>1.243536e+00</td>\n",
       "      <td>1.075339e-01</td>\n",
       "    </tr>\n",
       "    <tr>\n",
       "      <th>min</th>\n",
       "      <td>1.000000e+00</td>\n",
       "      <td>0.000000e+00</td>\n",
       "      <td>0.000000e+00</td>\n",
       "      <td>2.224000e+03</td>\n",
       "      <td>3.313739e+01</td>\n",
       "      <td>1.000000e+00</td>\n",
       "      <td>3.000000e+00</td>\n",
       "      <td>1.0</td>\n",
       "      <td>-3.910000e+00</td>\n",
       "      <td>-4.000000e+00</td>\n",
       "      <td>-1.000000e+00</td>\n",
       "    </tr>\n",
       "    <tr>\n",
       "      <th>25%</th>\n",
       "      <td>3.000000e+00</td>\n",
       "      <td>0.000000e+00</td>\n",
       "      <td>0.000000e+00</td>\n",
       "      <td>8.500300e+04</td>\n",
       "      <td>3.353931e+01</td>\n",
       "      <td>3.500000e+00</td>\n",
       "      <td>1.030000e+02</td>\n",
       "      <td>1.0</td>\n",
       "      <td>-6.700000e-01</td>\n",
       "      <td>-1.000000e+00</td>\n",
       "      <td>3.773585e-02</td>\n",
       "    </tr>\n",
       "    <tr>\n",
       "      <th>50%</th>\n",
       "      <td>4.000000e+00</td>\n",
       "      <td>0.000000e+00</td>\n",
       "      <td>0.000000e+00</td>\n",
       "      <td>8.526000e+04</td>\n",
       "      <td>3.606815e+01</td>\n",
       "      <td>4.000000e+00</td>\n",
       "      <td>2.480000e+02</td>\n",
       "      <td>1.0</td>\n",
       "      <td>1.100000e-01</td>\n",
       "      <td>5.000000e-01</td>\n",
       "      <td>9.722222e-02</td>\n",
       "    </tr>\n",
       "    <tr>\n",
       "      <th>75%</th>\n",
       "      <td>5.000000e+00</td>\n",
       "      <td>1.000000e+00</td>\n",
       "      <td>0.000000e+00</td>\n",
       "      <td>8.910900e+04</td>\n",
       "      <td>3.614495e+01</td>\n",
       "      <td>4.000000e+00</td>\n",
       "      <td>5.610000e+02</td>\n",
       "      <td>1.0</td>\n",
       "      <td>8.200000e-01</td>\n",
       "      <td>1.000000e+00</td>\n",
       "      <td>1.666667e-01</td>\n",
       "    </tr>\n",
       "    <tr>\n",
       "      <th>max</th>\n",
       "      <td>5.000000e+00</td>\n",
       "      <td>2.510000e+02</td>\n",
       "      <td>2.310000e+02</td>\n",
       "      <td>9.802300e+04</td>\n",
       "      <td>4.650400e+01</td>\n",
       "      <td>5.000000e+00</td>\n",
       "      <td>6.979000e+03</td>\n",
       "      <td>1.0</td>\n",
       "      <td>3.850000e+00</td>\n",
       "      <td>4.000000e+00</td>\n",
       "      <td>1.000000e+00</td>\n",
       "    </tr>\n",
       "  </tbody>\n",
       "</table>\n",
       "</div>"
      ],
      "text/plain": [
       "              stars        useful          cool   postal_code      latitude  \\\n",
       "count  2.043399e+06  2.043399e+06  2.043399e+06  2.042974e+06  2.043399e+06   \n",
       "mean   3.748968e+00  9.164417e-01  5.244375e-01  7.397933e+04  3.598662e+01   \n",
       "std    1.358269e+00  2.498583e+00  2.101433e+00  2.428910e+04  2.666742e+00   \n",
       "min    1.000000e+00  0.000000e+00  0.000000e+00  2.224000e+03  3.313739e+01   \n",
       "25%    3.000000e+00  0.000000e+00  0.000000e+00  8.500300e+04  3.353931e+01   \n",
       "50%    4.000000e+00  0.000000e+00  0.000000e+00  8.526000e+04  3.606815e+01   \n",
       "75%    5.000000e+00  1.000000e+00  0.000000e+00  8.910900e+04  3.614495e+01   \n",
       "max    5.000000e+00  2.510000e+02  2.310000e+02  9.802300e+04  4.650400e+01   \n",
       "\n",
       "       business_avg_stars  review_count_y    is_open     stars_dif  \\\n",
       "count        2.043399e+06    2.043399e+06  2043399.0  2.043399e+06   \n",
       "mean         3.751935e+00    5.253172e+02        1.0 -3.154558e-03   \n",
       "std          5.842759e-01    8.720526e+02        0.0  1.166744e+00   \n",
       "min          1.000000e+00    3.000000e+00        1.0 -3.910000e+00   \n",
       "25%          3.500000e+00    1.030000e+02        1.0 -6.700000e-01   \n",
       "50%          4.000000e+00    2.480000e+02        1.0  1.100000e-01   \n",
       "75%          4.000000e+00    5.610000e+02        1.0  8.200000e-01   \n",
       "max          5.000000e+00    6.979000e+03        1.0  3.850000e+00   \n",
       "\n",
       "       bus_stars_dif  sentiment_score  \n",
       "count   2.043399e+06     2.043399e+06  \n",
       "mean   -2.966381e-03     1.053997e-01  \n",
       "std     1.243536e+00     1.075339e-01  \n",
       "min    -4.000000e+00    -1.000000e+00  \n",
       "25%    -1.000000e+00     3.773585e-02  \n",
       "50%     5.000000e-01     9.722222e-02  \n",
       "75%     1.000000e+00     1.666667e-01  \n",
       "max     4.000000e+00     1.000000e+00  "
      ]
     },
     "execution_count": 232,
     "metadata": {},
     "output_type": "execute_result"
    }
   ],
   "source": [
    "scored_df.describe()"
   ]
  },
  {
   "cell_type": "code",
   "execution_count": 208,
   "metadata": {},
   "outputs": [
    {
     "data": {
      "text/html": [
       "<div>\n",
       "<style>\n",
       "    .dataframe thead tr:only-child th {\n",
       "        text-align: right;\n",
       "    }\n",
       "\n",
       "    .dataframe thead th {\n",
       "        text-align: left;\n",
       "    }\n",
       "\n",
       "    .dataframe tbody tr th {\n",
       "        vertical-align: top;\n",
       "    }\n",
       "</style>\n",
       "<table border=\"1\" class=\"dataframe\">\n",
       "  <thead>\n",
       "    <tr style=\"text-align: right;\">\n",
       "      <th></th>\n",
       "      <th>funny</th>\n",
       "      <th>user_id</th>\n",
       "      <th>review_id</th>\n",
       "      <th>text</th>\n",
       "      <th>business_id</th>\n",
       "      <th>date</th>\n",
       "      <th>useful</th>\n",
       "      <th>cool</th>\n",
       "      <th>yelping_since</th>\n",
       "      <th>review_count_x</th>\n",
       "      <th>...</th>\n",
       "      <th>latitude</th>\n",
       "      <th>longitude</th>\n",
       "      <th>business_avg_stars</th>\n",
       "      <th>review_count_y</th>\n",
       "      <th>is_open</th>\n",
       "      <th>categories</th>\n",
       "      <th>stars_dif</th>\n",
       "      <th>bus_stars_dif</th>\n",
       "      <th>filtered_text</th>\n",
       "      <th>sentiment_score</th>\n",
       "    </tr>\n",
       "    <tr>\n",
       "      <th>stars</th>\n",
       "      <th></th>\n",
       "      <th></th>\n",
       "      <th></th>\n",
       "      <th></th>\n",
       "      <th></th>\n",
       "      <th></th>\n",
       "      <th></th>\n",
       "      <th></th>\n",
       "      <th></th>\n",
       "      <th></th>\n",
       "      <th></th>\n",
       "      <th></th>\n",
       "      <th></th>\n",
       "      <th></th>\n",
       "      <th></th>\n",
       "      <th></th>\n",
       "      <th></th>\n",
       "      <th></th>\n",
       "      <th></th>\n",
       "      <th></th>\n",
       "      <th></th>\n",
       "    </tr>\n",
       "  </thead>\n",
       "  <tbody>\n",
       "    <tr>\n",
       "      <th>1</th>\n",
       "      <td>228344</td>\n",
       "      <td>228344</td>\n",
       "      <td>228344</td>\n",
       "      <td>228344</td>\n",
       "      <td>228344</td>\n",
       "      <td>228344</td>\n",
       "      <td>228344</td>\n",
       "      <td>228344</td>\n",
       "      <td>228344</td>\n",
       "      <td>228344</td>\n",
       "      <td>...</td>\n",
       "      <td>228344</td>\n",
       "      <td>228344</td>\n",
       "      <td>228344</td>\n",
       "      <td>228344</td>\n",
       "      <td>228344</td>\n",
       "      <td>228344</td>\n",
       "      <td>228344</td>\n",
       "      <td>228344</td>\n",
       "      <td>228344</td>\n",
       "      <td>228344</td>\n",
       "    </tr>\n",
       "    <tr>\n",
       "      <th>2</th>\n",
       "      <td>190147</td>\n",
       "      <td>190147</td>\n",
       "      <td>190147</td>\n",
       "      <td>190147</td>\n",
       "      <td>190147</td>\n",
       "      <td>190147</td>\n",
       "      <td>190147</td>\n",
       "      <td>190147</td>\n",
       "      <td>190147</td>\n",
       "      <td>190147</td>\n",
       "      <td>...</td>\n",
       "      <td>190147</td>\n",
       "      <td>190147</td>\n",
       "      <td>190147</td>\n",
       "      <td>190147</td>\n",
       "      <td>190147</td>\n",
       "      <td>190147</td>\n",
       "      <td>190147</td>\n",
       "      <td>190147</td>\n",
       "      <td>190147</td>\n",
       "      <td>190147</td>\n",
       "    </tr>\n",
       "    <tr>\n",
       "      <th>3</th>\n",
       "      <td>265286</td>\n",
       "      <td>265286</td>\n",
       "      <td>265286</td>\n",
       "      <td>265286</td>\n",
       "      <td>265286</td>\n",
       "      <td>265286</td>\n",
       "      <td>265286</td>\n",
       "      <td>265286</td>\n",
       "      <td>265286</td>\n",
       "      <td>265286</td>\n",
       "      <td>...</td>\n",
       "      <td>265286</td>\n",
       "      <td>265286</td>\n",
       "      <td>265286</td>\n",
       "      <td>265286</td>\n",
       "      <td>265286</td>\n",
       "      <td>265286</td>\n",
       "      <td>265286</td>\n",
       "      <td>265286</td>\n",
       "      <td>265286</td>\n",
       "      <td>265286</td>\n",
       "    </tr>\n",
       "    <tr>\n",
       "      <th>4</th>\n",
       "      <td>541968</td>\n",
       "      <td>541968</td>\n",
       "      <td>541968</td>\n",
       "      <td>541968</td>\n",
       "      <td>541968</td>\n",
       "      <td>541968</td>\n",
       "      <td>541968</td>\n",
       "      <td>541968</td>\n",
       "      <td>541968</td>\n",
       "      <td>541968</td>\n",
       "      <td>...</td>\n",
       "      <td>541968</td>\n",
       "      <td>541968</td>\n",
       "      <td>541968</td>\n",
       "      <td>541968</td>\n",
       "      <td>541968</td>\n",
       "      <td>541968</td>\n",
       "      <td>541968</td>\n",
       "      <td>541968</td>\n",
       "      <td>541968</td>\n",
       "      <td>541968</td>\n",
       "    </tr>\n",
       "    <tr>\n",
       "      <th>5</th>\n",
       "      <td>817654</td>\n",
       "      <td>817654</td>\n",
       "      <td>817654</td>\n",
       "      <td>817654</td>\n",
       "      <td>817654</td>\n",
       "      <td>817654</td>\n",
       "      <td>817654</td>\n",
       "      <td>817654</td>\n",
       "      <td>817654</td>\n",
       "      <td>817654</td>\n",
       "      <td>...</td>\n",
       "      <td>817654</td>\n",
       "      <td>817654</td>\n",
       "      <td>817654</td>\n",
       "      <td>817654</td>\n",
       "      <td>817654</td>\n",
       "      <td>817654</td>\n",
       "      <td>817654</td>\n",
       "      <td>817654</td>\n",
       "      <td>817654</td>\n",
       "      <td>817654</td>\n",
       "    </tr>\n",
       "  </tbody>\n",
       "</table>\n",
       "<p>5 rows × 27 columns</p>\n",
       "</div>"
      ],
      "text/plain": [
       "        funny  user_id  review_id    text  business_id    date  useful  \\\n",
       "stars                                                                    \n",
       "1      228344   228344     228344  228344       228344  228344  228344   \n",
       "2      190147   190147     190147  190147       190147  190147  190147   \n",
       "3      265286   265286     265286  265286       265286  265286  265286   \n",
       "4      541968   541968     541968  541968       541968  541968  541968   \n",
       "5      817654   817654     817654  817654       817654  817654  817654   \n",
       "\n",
       "         cool  yelping_since  review_count_x       ...         latitude  \\\n",
       "stars                                              ...                    \n",
       "1      228344         228344          228344       ...           228344   \n",
       "2      190147         190147          190147       ...           190147   \n",
       "3      265286         265286          265286       ...           265286   \n",
       "4      541968         541968          541968       ...           541968   \n",
       "5      817654         817654          817654       ...           817654   \n",
       "\n",
       "       longitude  business_avg_stars  review_count_y  is_open  categories  \\\n",
       "stars                                                                       \n",
       "1         228344              228344          228344   228344      228344   \n",
       "2         190147              190147          190147   190147      190147   \n",
       "3         265286              265286          265286   265286      265286   \n",
       "4         541968              541968          541968   541968      541968   \n",
       "5         817654              817654          817654   817654      817654   \n",
       "\n",
       "       stars_dif  bus_stars_dif  filtered_text  sentiment_score  \n",
       "stars                                                            \n",
       "1         228344         228344         228344           228344  \n",
       "2         190147         190147         190147           190147  \n",
       "3         265286         265286         265286           265286  \n",
       "4         541968         541968         541968           541968  \n",
       "5         817654         817654         817654           817654  \n",
       "\n",
       "[5 rows x 27 columns]"
      ]
     },
     "execution_count": 208,
     "metadata": {},
     "output_type": "execute_result"
    }
   ],
   "source": [
    "scored_df.groupby('stars').count()"
   ]
  },
  {
   "cell_type": "code",
   "execution_count": 207,
   "metadata": {
    "collapsed": true
   },
   "outputs": [],
   "source": [
    "scored_df['stars'] = scored_df['stars'].apply(int)"
   ]
  },
  {
   "cell_type": "code",
   "execution_count": 212,
   "metadata": {},
   "outputs": [
    {
     "name": "stdout",
     "output_type": "stream",
     "text": [
      "0.567907522791\n",
      "0.454066529438\n"
     ]
    }
   ],
   "source": [
    "print(scored_df['stars'].corr(scored_df['sentiment_score']))\n",
    "print(scored_df['stars_dif'].corr(scored_df['sentiment_score']))"
   ]
  },
  {
   "cell_type": "code",
   "execution_count": 240,
   "metadata": {
    "collapsed": true
   },
   "outputs": [],
   "source": [
    "distplot3 = scored_df.loc[:,['sentiment_score', 'stars_dif', 'stars']]"
   ]
  },
  {
   "cell_type": "code",
   "execution_count": 242,
   "metadata": {},
   "outputs": [
    {
     "name": "stderr",
     "output_type": "stream",
     "text": [
      "C:\\ProgramData\\Anaconda3\\lib\\site-packages\\statsmodels\\nonparametric\\kde.py:475: DeprecationWarning: object of type <class 'numpy.float64'> cannot be safely interpreted as an integer.\n",
      "  grid,delta = np.linspace(a,b,gridsize,retstep=True)\n",
      "C:\\ProgramData\\Anaconda3\\lib\\site-packages\\statsmodels\\nonparametric\\kde.py:475: DeprecationWarning: object of type <class 'numpy.float64'> cannot be safely interpreted as an integer.\n",
      "  grid,delta = np.linspace(a,b,gridsize,retstep=True)\n"
     ]
    },
    {
     "data": {
      "text/plain": [
       "(-4, 2)"
      ]
     },
     "execution_count": 242,
     "metadata": {},
     "output_type": "execute_result"
    },
    {
     "data": {
      "text/plain": [
       "<matplotlib.figure.Figure at 0x26f72f2f2b0>"
      ]
     },
     "metadata": {},
     "output_type": "display_data"
    },
    {
     "data": {
      "image/png": "[encoded data removed]",
      "text/plain": [
       "<matplotlib.figure.Figure at 0x26f72fd7dd8>"
      ]
     },
     "metadata": {},
     "output_type": "display_data"
    }
   ],
   "source": [
    "plt.figure(figsize=(12,6))\n",
    "sns.set_style(\"darkgrid\", {\"axes.facecolor\": \".9\"})\n",
    "sns.jointplot(distplot3.stars_dif, distplot3.sentiment_score, kind = 'kde', cmap=\"Reds\", shade=True, shade_lowest=False)\n",
    "#sns.plt.ylim(-0.25,0)\n",
    "sns.plt.xlim((-4),2)"
   ]
  },
  {
   "cell_type": "code",
   "execution_count": 239,
   "metadata": {},
   "outputs": [
    {
     "ename": "AttributeError",
     "evalue": "'DataFrame' object has no attribute 'stars'",
     "output_type": "error",
     "traceback": [
      "\u001b[1;31m---------------------------------------------------------------------------\u001b[0m",
      "\u001b[1;31mAttributeError\u001b[0m                            Traceback (most recent call last)",
      "\u001b[1;32m<ipython-input-239-47a63956fc8d>\u001b[0m in \u001b[0;36m<module>\u001b[1;34m()\u001b[0m\n\u001b[0;32m      1\u001b[0m \u001b[0mplt\u001b[0m\u001b[1;33m.\u001b[0m\u001b[0mfigure\u001b[0m\u001b[1;33m(\u001b[0m\u001b[0mfigsize\u001b[0m\u001b[1;33m=\u001b[0m\u001b[1;33m(\u001b[0m\u001b[1;36m12\u001b[0m\u001b[1;33m,\u001b[0m\u001b[1;36m6\u001b[0m\u001b[1;33m)\u001b[0m\u001b[1;33m)\u001b[0m\u001b[1;33m\u001b[0m\u001b[0m\n\u001b[0;32m      2\u001b[0m \u001b[0msns\u001b[0m\u001b[1;33m.\u001b[0m\u001b[0mset_style\u001b[0m\u001b[1;33m(\u001b[0m\u001b[1;34m\"darkgrid\"\u001b[0m\u001b[1;33m,\u001b[0m \u001b[1;33m{\u001b[0m\u001b[1;34m\"axes.facecolor\"\u001b[0m\u001b[1;33m:\u001b[0m \u001b[1;34m\".9\"\u001b[0m\u001b[1;33m}\u001b[0m\u001b[1;33m)\u001b[0m\u001b[1;33m\u001b[0m\u001b[0m\n\u001b[1;32m----> 3\u001b[1;33m \u001b[0msns\u001b[0m\u001b[1;33m.\u001b[0m\u001b[0mjointplot\u001b[0m\u001b[1;33m(\u001b[0m\u001b[0mdistplot\u001b[0m\u001b[1;33m.\u001b[0m\u001b[0mstars\u001b[0m\u001b[1;33m,\u001b[0m \u001b[0mdistplot3\u001b[0m\u001b[1;33m.\u001b[0m\u001b[0msentiment_score\u001b[0m\u001b[1;33m,\u001b[0m \u001b[0mkind\u001b[0m \u001b[1;33m=\u001b[0m \u001b[1;34m'kde'\u001b[0m\u001b[1;33m,\u001b[0m \u001b[0mcmap\u001b[0m\u001b[1;33m=\u001b[0m\u001b[1;34m\"Reds\"\u001b[0m\u001b[1;33m,\u001b[0m \u001b[0mshade\u001b[0m\u001b[1;33m=\u001b[0m\u001b[1;32mTrue\u001b[0m\u001b[1;33m,\u001b[0m \u001b[0mshade_lowest\u001b[0m\u001b[1;33m=\u001b[0m\u001b[1;32mFalse\u001b[0m\u001b[1;33m)\u001b[0m\u001b[1;33m\u001b[0m\u001b[0m\n\u001b[0m\u001b[0;32m      4\u001b[0m \u001b[1;31m#sns.plt.ylim(-0.25,0)\u001b[0m\u001b[1;33m\u001b[0m\u001b[1;33m\u001b[0m\u001b[0m\n\u001b[0;32m      5\u001b[0m \u001b[0msns\u001b[0m\u001b[1;33m.\u001b[0m\u001b[0mplt\u001b[0m\u001b[1;33m.\u001b[0m\u001b[0mxlim\u001b[0m\u001b[1;33m(\u001b[0m\u001b[1;33m(\u001b[0m\u001b[1;33m-\u001b[0m\u001b[1;36m4\u001b[0m\u001b[1;33m)\u001b[0m\u001b[1;33m,\u001b[0m\u001b[1;36m2\u001b[0m\u001b[1;33m)\u001b[0m\u001b[1;33m\u001b[0m\u001b[0m\n",
      "\u001b[1;32mC:\\ProgramData\\Anaconda3\\lib\\site-packages\\pandas\\core\\generic.py\u001b[0m in \u001b[0;36m__getattr__\u001b[1;34m(self, name)\u001b[0m\n\u001b[0;32m   2968\u001b[0m             \u001b[1;32mif\u001b[0m \u001b[0mname\u001b[0m \u001b[1;32min\u001b[0m \u001b[0mself\u001b[0m\u001b[1;33m.\u001b[0m\u001b[0m_info_axis\u001b[0m\u001b[1;33m:\u001b[0m\u001b[1;33m\u001b[0m\u001b[0m\n\u001b[0;32m   2969\u001b[0m                 \u001b[1;32mreturn\u001b[0m \u001b[0mself\u001b[0m\u001b[1;33m[\u001b[0m\u001b[0mname\u001b[0m\u001b[1;33m]\u001b[0m\u001b[1;33m\u001b[0m\u001b[0m\n\u001b[1;32m-> 2970\u001b[1;33m             \u001b[1;32mreturn\u001b[0m \u001b[0mobject\u001b[0m\u001b[1;33m.\u001b[0m\u001b[0m__getattribute__\u001b[0m\u001b[1;33m(\u001b[0m\u001b[0mself\u001b[0m\u001b[1;33m,\u001b[0m \u001b[0mname\u001b[0m\u001b[1;33m)\u001b[0m\u001b[1;33m\u001b[0m\u001b[0m\n\u001b[0m\u001b[0;32m   2971\u001b[0m \u001b[1;33m\u001b[0m\u001b[0m\n\u001b[0;32m   2972\u001b[0m     \u001b[1;32mdef\u001b[0m \u001b[0m__setattr__\u001b[0m\u001b[1;33m(\u001b[0m\u001b[0mself\u001b[0m\u001b[1;33m,\u001b[0m \u001b[0mname\u001b[0m\u001b[1;33m,\u001b[0m \u001b[0mvalue\u001b[0m\u001b[1;33m)\u001b[0m\u001b[1;33m:\u001b[0m\u001b[1;33m\u001b[0m\u001b[0m\n",
      "\u001b[1;31mAttributeError\u001b[0m: 'DataFrame' object has no attribute 'stars'"
     ]
    },
    {
     "data": {
      "text/plain": [
       "<matplotlib.figure.Figure at 0x270f5154a58>"
      ]
     },
     "metadata": {},
     "output_type": "display_data"
    }
   ],
   "source": [
    "plt.figure(figsize=(12,6))\n",
    "sns.set_style(\"darkgrid\", {\"axes.facecolor\": \".9\"})\n",
    "sns.jointplot(distplot3.stars, distplot3.sentiment_score, kind = 'kde', cmap=\"Reds\", shade=True, shade_lowest=False)\n",
    "#sns.plt.ylim(-0.25,0)\n",
    "sns.plt.xlim((-4),2)"
   ]
  },
  {
   "cell_type": "code",
   "execution_count": 221,
   "metadata": {},
   "outputs": [
    {
     "data": {
      "text/plain": [
       "SpearmanrResult(correlation=0.57184624524878747, pvalue=0.0)"
      ]
     },
     "execution_count": 221,
     "metadata": {},
     "output_type": "execute_result"
    }
   ],
   "source": [
    "import scipy as sp\n",
    "from scipy import stats\n",
    "sp.stats.spearmanr(scored_df['stars'], scored_df['sentiment_score'])"
   ]
  },
  {
   "cell_type": "code",
   "execution_count": 225,
   "metadata": {},
   "outputs": [
    {
     "data": {
      "text/plain": [
       "<matplotlib.axes._subplots.AxesSubplot at 0x26f727a9828>"
      ]
     },
     "execution_count": 225,
     "metadata": {},
     "output_type": "execute_result"
    },
    {
     "data": {
      "image/png": "[encoded data removed]",
      "text/plain": [
       "<matplotlib.figure.Figure at 0x26f3cad1940>"
      ]
     },
     "metadata": {},
     "output_type": "display_data"
    }
   ],
   "source": [
    "bar_df = scored_df.groupby('stars')['is_open'].sum()\n",
    "bar_df.plot.bar()"
   ]
  },
  {
   "cell_type": "code",
   "execution_count": 217,
   "metadata": {},
   "outputs": [
    {
     "name": "stderr",
     "output_type": "stream",
     "text": [
      "C:\\ProgramData\\Anaconda3\\lib\\site-packages\\statsmodels\\nonparametric\\kde.py:475: DeprecationWarning: object of type <class 'numpy.float64'> cannot be safely interpreted as an integer.\n",
      "  grid,delta = np.linspace(a,b,gridsize,retstep=True)\n"
     ]
    },
    {
     "data": {
      "text/plain": [
       "(-0.4, 0.4)"
      ]
     },
     "execution_count": 217,
     "metadata": {},
     "output_type": "execute_result"
    },
    {
     "data": {
      "image/png": "[encoded data removed]",
      "text/plain": [
       "<matplotlib.figure.Figure at 0x26f3540fb00>"
      ]
     },
     "metadata": {},
     "output_type": "display_data"
    }
   ],
   "source": [
    "plt.figure(figsize=(12,6))\n",
    "sns.distplot(scored_df['sentiment_score'], label='Sentiment Score')\n",
    "sns.plt.xlim(-0.4,0.4)"
   ]
  },
  {
   "cell_type": "code",
   "execution_count": 90,
   "metadata": {},
   "outputs": [
    {
     "data": {
      "text/plain": [
       "(223487, 28)"
      ]
     },
     "execution_count": 90,
     "metadata": {},
     "output_type": "execute_result"
    }
   ],
   "source": [
    "#scored_df = pd.read_csv(\"scored_df.csv\", encoding='ISO-8859-1')\n",
    "neg_scores = scored_df[scored_df['sentiment_score'] < 0]\n",
    "np.shape(neg_scores) "
   ]
  },
  {
   "cell_type": "code",
   "execution_count": 106,
   "metadata": {},
   "outputs": [
    {
     "name": "stderr",
     "output_type": "stream",
     "text": [
      "C:\\ProgramData\\Anaconda3\\lib\\site-packages\\ipykernel_launcher.py:1: SettingWithCopyWarning: \n",
      "A value is trying to be set on a copy of a slice from a DataFrame.\n",
      "Try using .loc[row_indexer,col_indexer] = value instead\n",
      "\n",
      "See the caveats in the documentation: http://pandas.pydata.org/pandas-docs/stable/indexing.html#indexing-view-versus-copy\n",
      "  \"\"\"Entry point for launching an IPython kernel.\n"
     ]
    }
   ],
   "source": [
    "neg_scores['stars'] = neg_scores['stars'].apply(int)"
   ]
  },
  {
   "cell_type": "code",
   "execution_count": 222,
   "metadata": {},
   "outputs": [
    {
     "name": "stdout",
     "output_type": "stream",
     "text": [
      "SpearmanrResult(correlation=0.14814724011469252, pvalue=0.0)\n",
      "SpearmanrResult(correlation=0.046634209769850277, pvalue=8.0176788335912573e-108)\n"
     ]
    }
   ],
   "source": [
    "print(sp.stats.spearmanr(neg_scores['stars'], neg_scores['sentiment_score']))\n",
    "print(sp.stats.spearmanr(neg_scores['stars_dif'], neg_scores['sentiment_score']))"
   ]
  },
  {
   "cell_type": "code",
   "execution_count": 110,
   "metadata": {},
   "outputs": [
    {
     "data": {
      "text/html": [
       "<div>\n",
       "<style>\n",
       "    .dataframe thead tr:only-child th {\n",
       "        text-align: right;\n",
       "    }\n",
       "\n",
       "    .dataframe thead th {\n",
       "        text-align: left;\n",
       "    }\n",
       "\n",
       "    .dataframe tbody tr th {\n",
       "        vertical-align: top;\n",
       "    }\n",
       "</style>\n",
       "<table border=\"1\" class=\"dataframe\">\n",
       "  <thead>\n",
       "    <tr style=\"text-align: right;\">\n",
       "      <th></th>\n",
       "      <th>stars</th>\n",
       "      <th>useful</th>\n",
       "      <th>cool</th>\n",
       "      <th>postal_code</th>\n",
       "      <th>latitude</th>\n",
       "      <th>business_avg_stars</th>\n",
       "      <th>review_count_y</th>\n",
       "      <th>is_open</th>\n",
       "      <th>stars_dif</th>\n",
       "      <th>bus_stars_dif</th>\n",
       "    </tr>\n",
       "  </thead>\n",
       "  <tbody>\n",
       "    <tr>\n",
       "      <th>count</th>\n",
       "      <td>223487.000000</td>\n",
       "      <td>223487.000000</td>\n",
       "      <td>223487.000000</td>\n",
       "      <td>223443.000000</td>\n",
       "      <td>223487.000000</td>\n",
       "      <td>223487.000000</td>\n",
       "      <td>223487.000000</td>\n",
       "      <td>223487.0</td>\n",
       "      <td>223487.000000</td>\n",
       "      <td>223487.000000</td>\n",
       "    </tr>\n",
       "    <tr>\n",
       "      <th>mean</th>\n",
       "      <td>1.863621</td>\n",
       "      <td>0.961161</td>\n",
       "      <td>0.308461</td>\n",
       "      <td>74167.992625</td>\n",
       "      <td>36.005608</td>\n",
       "      <td>3.370149</td>\n",
       "      <td>432.892092</td>\n",
       "      <td>1.0</td>\n",
       "      <td>-1.292197</td>\n",
       "      <td>-1.506528</td>\n",
       "    </tr>\n",
       "    <tr>\n",
       "      <th>std</th>\n",
       "      <td>1.166688</td>\n",
       "      <td>2.203870</td>\n",
       "      <td>1.449252</td>\n",
       "      <td>24142.488977</td>\n",
       "      <td>2.647408</td>\n",
       "      <td>0.698158</td>\n",
       "      <td>790.342587</td>\n",
       "      <td>0.0</td>\n",
       "      <td>1.164313</td>\n",
       "      <td>1.164704</td>\n",
       "    </tr>\n",
       "    <tr>\n",
       "      <th>min</th>\n",
       "      <td>1.000000</td>\n",
       "      <td>0.000000</td>\n",
       "      <td>0.000000</td>\n",
       "      <td>2224.000000</td>\n",
       "      <td>33.137390</td>\n",
       "      <td>1.000000</td>\n",
       "      <td>3.000000</td>\n",
       "      <td>1.0</td>\n",
       "      <td>-3.890000</td>\n",
       "      <td>-4.000000</td>\n",
       "    </tr>\n",
       "    <tr>\n",
       "      <th>25%</th>\n",
       "      <td>1.000000</td>\n",
       "      <td>0.000000</td>\n",
       "      <td>0.000000</td>\n",
       "      <td>85003.000000</td>\n",
       "      <td>33.567812</td>\n",
       "      <td>3.000000</td>\n",
       "      <td>67.000000</td>\n",
       "      <td>1.0</td>\n",
       "      <td>-2.190000</td>\n",
       "      <td>-2.500000</td>\n",
       "    </tr>\n",
       "    <tr>\n",
       "      <th>50%</th>\n",
       "      <td>1.000000</td>\n",
       "      <td>0.000000</td>\n",
       "      <td>0.000000</td>\n",
       "      <td>85281.000000</td>\n",
       "      <td>36.072381</td>\n",
       "      <td>3.500000</td>\n",
       "      <td>178.000000</td>\n",
       "      <td>1.0</td>\n",
       "      <td>-1.440000</td>\n",
       "      <td>-1.500000</td>\n",
       "    </tr>\n",
       "    <tr>\n",
       "      <th>75%</th>\n",
       "      <td>2.000000</td>\n",
       "      <td>1.000000</td>\n",
       "      <td>0.000000</td>\n",
       "      <td>89109.000000</td>\n",
       "      <td>36.148619</td>\n",
       "      <td>4.000000</td>\n",
       "      <td>435.000000</td>\n",
       "      <td>1.0</td>\n",
       "      <td>-0.360000</td>\n",
       "      <td>-1.000000</td>\n",
       "    </tr>\n",
       "    <tr>\n",
       "      <th>max</th>\n",
       "      <td>5.000000</td>\n",
       "      <td>251.000000</td>\n",
       "      <td>168.000000</td>\n",
       "      <td>98023.000000</td>\n",
       "      <td>44.992140</td>\n",
       "      <td>5.000000</td>\n",
       "      <td>6979.000000</td>\n",
       "      <td>1.0</td>\n",
       "      <td>3.560000</td>\n",
       "      <td>3.500000</td>\n",
       "    </tr>\n",
       "  </tbody>\n",
       "</table>\n",
       "</div>"
      ],
      "text/plain": [
       "               stars         useful           cool    postal_code  \\\n",
       "count  223487.000000  223487.000000  223487.000000  223443.000000   \n",
       "mean        1.863621       0.961161       0.308461   74167.992625   \n",
       "std         1.166688       2.203870       1.449252   24142.488977   \n",
       "min         1.000000       0.000000       0.000000    2224.000000   \n",
       "25%         1.000000       0.000000       0.000000   85003.000000   \n",
       "50%         1.000000       0.000000       0.000000   85281.000000   \n",
       "75%         2.000000       1.000000       0.000000   89109.000000   \n",
       "max         5.000000     251.000000     168.000000   98023.000000   \n",
       "\n",
       "            latitude  business_avg_stars  review_count_y   is_open  \\\n",
       "count  223487.000000       223487.000000   223487.000000  223487.0   \n",
       "mean       36.005608            3.370149      432.892092       1.0   \n",
       "std         2.647408            0.698158      790.342587       0.0   \n",
       "min        33.137390            1.000000        3.000000       1.0   \n",
       "25%        33.567812            3.000000       67.000000       1.0   \n",
       "50%        36.072381            3.500000      178.000000       1.0   \n",
       "75%        36.148619            4.000000      435.000000       1.0   \n",
       "max        44.992140            5.000000     6979.000000       1.0   \n",
       "\n",
       "           stars_dif  bus_stars_dif  \n",
       "count  223487.000000  223487.000000  \n",
       "mean       -1.292197      -1.506528  \n",
       "std         1.164313       1.164704  \n",
       "min        -3.890000      -4.000000  \n",
       "25%        -2.190000      -2.500000  \n",
       "50%        -1.440000      -1.500000  \n",
       "75%        -0.360000      -1.000000  \n",
       "max         3.560000       3.500000  "
      ]
     },
     "execution_count": 110,
     "metadata": {},
     "output_type": "execute_result"
    }
   ],
   "source": [
    "neg_scores.describe()"
   ]
  },
  {
   "cell_type": "code",
   "execution_count": 70,
   "metadata": {},
   "outputs": [
    {
     "data": {
      "text/plain": [
       "(array([  4.07000000e+02,   2.76300000e+03,   9.00700000e+03,\n",
       "          1.20450000e+04,   1.76710000e+04,   1.92010000e+04,\n",
       "          2.43140000e+04,   2.03640000e+04,   2.10600000e+04,\n",
       "          1.62360000e+04,   1.47790000e+04,   1.16180000e+04,\n",
       "          7.12200000e+03,   2.74620000e+04,   6.31700000e+03,\n",
       "          4.41200000e+03,   3.61600000e+03,   2.53100000e+03,\n",
       "          1.34000000e+03,   6.99000000e+02,   2.83000000e+02,\n",
       "          1.28000000e+02,   7.30000000e+01,   2.80000000e+01,\n",
       "          1.10000000e+01]),\n",
       " array([-3.89 , -3.592, -3.294, -2.996, -2.698, -2.4  , -2.102, -1.804,\n",
       "        -1.506, -1.208, -0.91 , -0.612, -0.314, -0.016,  0.282,  0.58 ,\n",
       "         0.878,  1.176,  1.474,  1.772,  2.07 ,  2.368,  2.666,  2.964,\n",
       "         3.262,  3.56 ]),\n",
       " <a list of 25 Patch objects>)"
      ]
     },
     "execution_count": 70,
     "metadata": {},
     "output_type": "execute_result"
    },
    {
     "data": {
      "image/png": "[encoded data removed]",
      "text/plain": [
       "<matplotlib.figure.Figure at 0x26e866ace80>"
      ]
     },
     "metadata": {},
     "output_type": "display_data"
    }
   ],
   "source": [
    "plt.figure(figsize=(12,6))\n",
    "plt.hist(neg_scores['stars_dif'], bins=25, color=\"#666699\")  #.dropna(axis=0, how='any')"
   ]
  },
  {
   "cell_type": "code",
   "execution_count": 69,
   "metadata": {},
   "outputs": [
    {
     "data": {
      "text/plain": [
       "(array([  7.00000000e+00,   1.00000000e+00,   0.00000000e+00,\n",
       "          1.00000000e+00,   0.00000000e+00,   2.00000000e+00,\n",
       "          2.00000000e+00,   4.00000000e+00,   6.00000000e+00,\n",
       "          6.00000000e+00,   2.30000000e+01,   7.00000000e+00,\n",
       "          7.90000000e+01,   7.70000000e+01,   1.22000000e+02,\n",
       "          3.75000000e+02,   5.37000000e+02,   9.45000000e+02,\n",
       "          1.88900000e+03,   2.79700000e+03,   7.60200000e+03,\n",
       "          1.41430000e+04,   3.19980000e+04,   6.82080000e+04,\n",
       "          9.46560000e+04]),\n",
       " array([-1.        , -0.96007968, -0.92015936, -0.88023904, -0.84031873,\n",
       "        -0.80039841, -0.76047809, -0.72055777, -0.68063745, -0.64071713,\n",
       "        -0.60079681, -0.56087649, -0.52095618, -0.48103586, -0.44111554,\n",
       "        -0.40119522, -0.3612749 , -0.32135458, -0.28143426, -0.24151394,\n",
       "        -0.20159363, -0.16167331, -0.12175299, -0.08183267, -0.04191235,\n",
       "        -0.00199203]),\n",
       " <a list of 25 Patch objects>)"
      ]
     },
     "execution_count": 69,
     "metadata": {},
     "output_type": "execute_result"
    },
    {
     "data": {
      "image/png": "[encoded data removed]",
      "text/plain": [
       "<matplotlib.figure.Figure at 0x26ec3dd6048>"
      ]
     },
     "metadata": {},
     "output_type": "display_data"
    }
   ],
   "source": [
    "plt.figure(figsize=(12,6))\n",
    "plt.hist(neg_scores['sentiment_score'], bins=25, color=\"#666699\")  #.dropna(axis=0, how='any')"
   ]
  },
  {
   "cell_type": "code",
   "execution_count": 71,
   "metadata": {},
   "outputs": [
    {
     "name": "stderr",
     "output_type": "stream",
     "text": [
      "C:\\ProgramData\\Anaconda3\\lib\\site-packages\\statsmodels\\nonparametric\\kde.py:475: DeprecationWarning: object of type <class 'numpy.float64'> cannot be safely interpreted as an integer.\n",
      "  grid,delta = np.linspace(a,b,gridsize,retstep=True)\n"
     ]
    },
    {
     "data": {
      "text/plain": [
       "<matplotlib.axes._subplots.AxesSubplot at 0x26ec3e02cf8>"
      ]
     },
     "execution_count": 71,
     "metadata": {},
     "output_type": "execute_result"
    },
    {
     "data": {
      "image/png": "[encoded data removed]",
      "text/plain": [
       "<matplotlib.figure.Figure at 0x26ec3e021d0>"
      ]
     },
     "metadata": {},
     "output_type": "display_data"
    }
   ],
   "source": [
    "plt.figure(figsize=(12,6))\n",
    "sns.distplot(neg_scores['sentiment_score'], label='Sentiment Score')"
   ]
  },
  {
   "cell_type": "code",
   "execution_count": 72,
   "metadata": {},
   "outputs": [
    {
     "name": "stderr",
     "output_type": "stream",
     "text": [
      "C:\\ProgramData\\Anaconda3\\lib\\site-packages\\statsmodels\\nonparametric\\kde.py:475: DeprecationWarning: object of type <class 'numpy.float64'> cannot be safely interpreted as an integer.\n",
      "  grid,delta = np.linspace(a,b,gridsize,retstep=True)\n"
     ]
    },
    {
     "data": {
      "text/plain": [
       "<matplotlib.axes._subplots.AxesSubplot at 0x26f1bcf1240>"
      ]
     },
     "execution_count": 72,
     "metadata": {},
     "output_type": "execute_result"
    },
    {
     "data": {
      "image/png": "[encoded data removed]",
      "text/plain": [
       "<matplotlib.figure.Figure at 0x26f1bcf12b0>"
      ]
     },
     "metadata": {},
     "output_type": "display_data"
    }
   ],
   "source": [
    "plt.figure(figsize=(12,6))\n",
    "sns.distplot(neg_scores['stars_dif'], label='Stars_Dif')"
   ]
  },
  {
   "cell_type": "code",
   "execution_count": 124,
   "metadata": {
    "collapsed": true
   },
   "outputs": [],
   "source": [
    "from sklearn import preprocessing\n",
    "standardizer = lambda x: (2 * ((x - min(x)) / (max(x) - min(x))) - 1)"
   ]
  },
  {
   "cell_type": "code",
   "execution_count": 118,
   "metadata": {},
   "outputs": [
    {
     "data": {
      "text/plain": [
       "(223487, 3)"
      ]
     },
     "execution_count": 118,
     "metadata": {},
     "output_type": "execute_result"
    }
   ],
   "source": [
    "distplot.shape"
   ]
  },
  {
   "cell_type": "code",
   "execution_count": 128,
   "metadata": {
    "collapsed": true
   },
   "outputs": [],
   "source": [
    "distplot['stars_norm'] = distplot[['stars_dif']].apply(standardizer, axis=0)"
   ]
  },
  {
   "cell_type": "code",
   "execution_count": 129,
   "metadata": {},
   "outputs": [
    {
     "data": {
      "text/html": [
       "<div>\n",
       "<style>\n",
       "    .dataframe thead tr:only-child th {\n",
       "        text-align: right;\n",
       "    }\n",
       "\n",
       "    .dataframe thead th {\n",
       "        text-align: left;\n",
       "    }\n",
       "\n",
       "    .dataframe tbody tr th {\n",
       "        vertical-align: top;\n",
       "    }\n",
       "</style>\n",
       "<table border=\"1\" class=\"dataframe\">\n",
       "  <thead>\n",
       "    <tr style=\"text-align: right;\">\n",
       "      <th></th>\n",
       "      <th>sentiment_score</th>\n",
       "      <th>stars_dif</th>\n",
       "      <th>stars_norm</th>\n",
       "    </tr>\n",
       "  </thead>\n",
       "  <tbody>\n",
       "    <tr>\n",
       "      <th>0</th>\n",
       "      <td>-0.033333</td>\n",
       "      <td>-2.67</td>\n",
       "      <td>-0.672483</td>\n",
       "    </tr>\n",
       "    <tr>\n",
       "      <th>1</th>\n",
       "      <td>-0.040000</td>\n",
       "      <td>-2.13</td>\n",
       "      <td>-0.527517</td>\n",
       "    </tr>\n",
       "    <tr>\n",
       "      <th>2</th>\n",
       "      <td>-0.040000</td>\n",
       "      <td>-0.48</td>\n",
       "      <td>-0.084564</td>\n",
       "    </tr>\n",
       "    <tr>\n",
       "      <th>3</th>\n",
       "      <td>-0.022989</td>\n",
       "      <td>-1.63</td>\n",
       "      <td>-0.393289</td>\n",
       "    </tr>\n",
       "    <tr>\n",
       "      <th>4</th>\n",
       "      <td>-0.057692</td>\n",
       "      <td>-1.21</td>\n",
       "      <td>-0.280537</td>\n",
       "    </tr>\n",
       "  </tbody>\n",
       "</table>\n",
       "</div>"
      ],
      "text/plain": [
       "   sentiment_score  stars_dif  stars_norm\n",
       "0        -0.033333      -2.67   -0.672483\n",
       "1        -0.040000      -2.13   -0.527517\n",
       "2        -0.040000      -0.48   -0.084564\n",
       "3        -0.022989      -1.63   -0.393289\n",
       "4        -0.057692      -1.21   -0.280537"
      ]
     },
     "execution_count": 129,
     "metadata": {},
     "output_type": "execute_result"
    }
   ],
   "source": [
    "distplot.head()"
   ]
  },
  {
   "cell_type": "code",
   "execution_count": 138,
   "metadata": {},
   "outputs": [
    {
     "name": "stderr",
     "output_type": "stream",
     "text": [
      "C:\\ProgramData\\Anaconda3\\lib\\site-packages\\statsmodels\\nonparametric\\kde.py:475: DeprecationWarning: object of type <class 'numpy.float64'> cannot be safely interpreted as an integer.\n",
      "  grid,delta = np.linspace(a,b,gridsize,retstep=True)\n",
      "C:\\ProgramData\\Anaconda3\\lib\\site-packages\\statsmodels\\nonparametric\\kde.py:475: DeprecationWarning: object of type <class 'numpy.float64'> cannot be safely interpreted as an integer.\n",
      "  grid,delta = np.linspace(a,b,gridsize,retstep=True)\n"
     ]
    },
    {
     "data": {
      "text/plain": [
       "<matplotlib.text.Text at 0x26ec3dbbdd8>"
      ]
     },
     "execution_count": 138,
     "metadata": {},
     "output_type": "execute_result"
    },
    {
     "data": {
      "image/png": "[encoded data removed]",
      "text/plain": [
       "<matplotlib.figure.Figure at 0x26e9ec18400>"
      ]
     },
     "metadata": {},
     "output_type": "display_data"
    }
   ],
   "source": [
    "sns.set(style=\"darkgrid\")\n",
    "\n",
    "# Set up the figure\n",
    "f, ax = plt.subplots(figsize=(12,6))\n",
    "#ax.set_aspect(\"equal\")\n",
    "\n",
    "# Draw the two density plots\n",
    "ax = sns.distplot(distplot['stars_norm'], color=\"r\")\n",
    "ax = sns.distplot(distplot['sentiment_score'], color=\"b\")\n",
    "\n",
    "# Add labels to the plot\n",
    "red = sns.color_palette(\"Reds\")[-2]\n",
    "blue = sns.color_palette(\"Blues\")[-2]\n",
    "ax.text(0.05, 8.0, \"Sentiment Score\", size=16, color=blue)\n",
    "ax.text(0.15, 1.5, \"Stars_Norm\", size=16, color=red)"
   ]
  },
  {
   "cell_type": "code",
   "execution_count": 150,
   "metadata": {},
   "outputs": [
    {
     "data": {
      "text/plain": [
       "<matplotlib.collections.PathCollection at 0x26e89b80080>"
      ]
     },
     "execution_count": 150,
     "metadata": {},
     "output_type": "execute_result"
    },
    {
     "data": {
      "image/png": "[encoded data removed]",
      "text/plain": [
       "<matplotlib.figure.Figure at 0x26ec26102b0>"
      ]
     },
     "metadata": {},
     "output_type": "display_data"
    }
   ],
   "source": [
    "plt.figure(figsize=(12,6))\n",
    "plt.scatter(neg_scores['sentiment_score'], neg_scores['stars_dif'])"
   ]
  },
  {
   "cell_type": "code",
   "execution_count": 145,
   "metadata": {},
   "outputs": [
    {
     "data": {
      "text/plain": [
       "<matplotlib.collections.PathCollection at 0x26ed12f2c50>"
      ]
     },
     "execution_count": 145,
     "metadata": {},
     "output_type": "execute_result"
    },
    {
     "data": {
      "image/png": "[encoded data removed]",
      "text/plain": [
       "<matplotlib.figure.Figure at 0x26e8c593470>"
      ]
     },
     "metadata": {},
     "output_type": "display_data"
    }
   ],
   "source": [
    "plt.figure(figsize=(12,6))\n",
    "plt.scatter(neg_scores['sentiment_score'], neg_scores['review_count_y'])"
   ]
  },
  {
   "cell_type": "code",
   "execution_count": 79,
   "metadata": {},
   "outputs": [
    {
     "name": "stderr",
     "output_type": "stream",
     "text": [
      "C:\\ProgramData\\Anaconda3\\lib\\site-packages\\seaborn\\categorical.py:342: DeprecationWarning: pandas.core.common.is_categorical_dtype is deprecated. import from the public API: pandas.api.types.is_categorical_dtype instead\n",
      "  elif is_categorical(y):\n"
     ]
    },
    {
     "data": {
      "text/plain": [
       "[<matplotlib.text.Text at 0x26e903abda0>,\n",
       " <matplotlib.text.Text at 0x26f1a7016d8>]"
      ]
     },
     "execution_count": 79,
     "metadata": {},
     "output_type": "execute_result"
    },
    {
     "data": {
      "image/png": "[encoded data removed]",
      "text/plain": [
       "<matplotlib.figure.Figure at 0x26f2a8da438>"
      ]
     },
     "metadata": {},
     "output_type": "display_data"
    }
   ],
   "source": [
    "plt.figure(figsize=(12,6))\n",
    "sns.violinplot(x='stars', y='sentiment_score', data=neg_scores).set(xlabel='', ylabel='Sentiment Score')"
   ]
  },
  {
   "cell_type": "code",
   "execution_count": 153,
   "metadata": {},
   "outputs": [
    {
     "data": {
      "text/plain": [
       "<matplotlib.axes._subplots.AxesSubplot at 0x26ec2610e48>"
      ]
     },
     "execution_count": 153,
     "metadata": {},
     "output_type": "execute_result"
    },
    {
     "data": {
      "image/png": "[encoded data removed]",
      "text/plain": [
       "<matplotlib.figure.Figure at 0x26ec2634860>"
      ]
     },
     "metadata": {},
     "output_type": "display_data"
    }
   ],
   "source": [
    "bar_df = neg_scores.groupby('stars')['is_open'].sum()\n",
    "bar_df.plot.bar()"
   ]
  },
  {
   "cell_type": "code",
   "execution_count": 99,
   "metadata": {
    "collapsed": true
   },
   "outputs": [],
   "source": [
    "distplot = neg_scores.loc[:,['sentiment_score', 'stars_dif']]"
   ]
  },
  {
   "cell_type": "code",
   "execution_count": 224,
   "metadata": {},
   "outputs": [
    {
     "name": "stderr",
     "output_type": "stream",
     "text": [
      "C:\\ProgramData\\Anaconda3\\lib\\site-packages\\statsmodels\\nonparametric\\kde.py:475: DeprecationWarning: object of type <class 'numpy.float64'> cannot be safely interpreted as an integer.\n",
      "  grid,delta = np.linspace(a,b,gridsize,retstep=True)\n",
      "C:\\ProgramData\\Anaconda3\\lib\\site-packages\\statsmodels\\nonparametric\\kde.py:475: DeprecationWarning: object of type <class 'numpy.float64'> cannot be safely interpreted as an integer.\n",
      "  grid,delta = np.linspace(a,b,gridsize,retstep=True)\n"
     ]
    },
    {
     "data": {
      "text/plain": [
       "(-4, 2)"
      ]
     },
     "execution_count": 224,
     "metadata": {},
     "output_type": "execute_result"
    },
    {
     "data": {
      "text/plain": [
       "<matplotlib.figure.Figure at 0x26f3cb3f588>"
      ]
     },
     "metadata": {},
     "output_type": "display_data"
    },
    {
     "data": {
      "image/png": "[encoded data removed]",
      "text/plain": [
       "<matplotlib.figure.Figure at 0x26f727a92b0>"
      ]
     },
     "metadata": {},
     "output_type": "display_data"
    }
   ],
   "source": [
    "plt.figure(figsize=(12,6))\n",
    "sns.set_style(\"darkgrid\", {\"axes.facecolor\": \".9\"})\n",
    "sns.jointplot(distplot.stars_dif, distplot.sentiment_score, kind = 'kde', cmap=\"Reds\", shade=True, shade_lowest=False)\n",
    "sns.plt.ylim(-0.25,0)\n",
    "sns.plt.xlim((-4),2)"
   ]
  },
  {
   "cell_type": "code",
   "execution_count": 109,
   "metadata": {},
   "outputs": [
    {
     "data": {
      "text/plain": [
       "['funny',\n",
       " 'user_id',\n",
       " 'review_id',\n",
       " 'text',\n",
       " 'business_id',\n",
       " 'stars',\n",
       " 'date',\n",
       " 'useful',\n",
       " 'cool',\n",
       " 'yelping_since',\n",
       " 'review_count_x',\n",
       " 'fans',\n",
       " 'average_stars',\n",
       " 'name',\n",
       " 'neighborhood',\n",
       " 'city',\n",
       " 'state',\n",
       " 'postal_code',\n",
       " 'latitude',\n",
       " 'longitude',\n",
       " 'business_avg_stars',\n",
       " 'review_count_y',\n",
       " 'is_open',\n",
       " 'categories',\n",
       " 'stars_dif',\n",
       " 'bus_stars_dif',\n",
       " 'filtered_text',\n",
       " 'sentiment_score']"
      ]
     },
     "execution_count": 109,
     "metadata": {},
     "output_type": "execute_result"
    }
   ],
   "source": [
    "neg_scores.columns.tolist()"
   ]
  },
  {
   "cell_type": "code",
   "execution_count": 108,
   "metadata": {},
   "outputs": [
    {
     "data": {
      "text/html": [
       "<div>\n",
       "<style>\n",
       "    .dataframe thead tr:only-child th {\n",
       "        text-align: right;\n",
       "    }\n",
       "\n",
       "    .dataframe thead th {\n",
       "        text-align: left;\n",
       "    }\n",
       "\n",
       "    .dataframe tbody tr th {\n",
       "        vertical-align: top;\n",
       "    }\n",
       "</style>\n",
       "<table border=\"1\" class=\"dataframe\">\n",
       "  <thead>\n",
       "    <tr style=\"text-align: right;\">\n",
       "      <th></th>\n",
       "      <th>funny</th>\n",
       "      <th>user_id</th>\n",
       "      <th>review_id</th>\n",
       "      <th>text</th>\n",
       "      <th>business_id</th>\n",
       "      <th>date</th>\n",
       "      <th>useful</th>\n",
       "      <th>cool</th>\n",
       "      <th>yelping_since</th>\n",
       "      <th>review_count_x</th>\n",
       "      <th>...</th>\n",
       "      <th>latitude</th>\n",
       "      <th>longitude</th>\n",
       "      <th>business_avg_stars</th>\n",
       "      <th>review_count_y</th>\n",
       "      <th>is_open</th>\n",
       "      <th>categories</th>\n",
       "      <th>stars_dif</th>\n",
       "      <th>bus_stars_dif</th>\n",
       "      <th>filtered_text</th>\n",
       "      <th>sentiment_score</th>\n",
       "    </tr>\n",
       "    <tr>\n",
       "      <th>stars</th>\n",
       "      <th></th>\n",
       "      <th></th>\n",
       "      <th></th>\n",
       "      <th></th>\n",
       "      <th></th>\n",
       "      <th></th>\n",
       "      <th></th>\n",
       "      <th></th>\n",
       "      <th></th>\n",
       "      <th></th>\n",
       "      <th></th>\n",
       "      <th></th>\n",
       "      <th></th>\n",
       "      <th></th>\n",
       "      <th></th>\n",
       "      <th></th>\n",
       "      <th></th>\n",
       "      <th></th>\n",
       "      <th></th>\n",
       "      <th></th>\n",
       "      <th></th>\n",
       "    </tr>\n",
       "  </thead>\n",
       "  <tbody>\n",
       "    <tr>\n",
       "      <th>1</th>\n",
       "      <td>120180</td>\n",
       "      <td>120180</td>\n",
       "      <td>120180</td>\n",
       "      <td>120180</td>\n",
       "      <td>120180</td>\n",
       "      <td>120180</td>\n",
       "      <td>120180</td>\n",
       "      <td>120180</td>\n",
       "      <td>120180</td>\n",
       "      <td>120180</td>\n",
       "      <td>...</td>\n",
       "      <td>120180</td>\n",
       "      <td>120180</td>\n",
       "      <td>120180</td>\n",
       "      <td>120180</td>\n",
       "      <td>120180</td>\n",
       "      <td>120180</td>\n",
       "      <td>120180</td>\n",
       "      <td>120180</td>\n",
       "      <td>120180</td>\n",
       "      <td>120180</td>\n",
       "    </tr>\n",
       "    <tr>\n",
       "      <th>2</th>\n",
       "      <td>51259</td>\n",
       "      <td>51259</td>\n",
       "      <td>51259</td>\n",
       "      <td>51259</td>\n",
       "      <td>51259</td>\n",
       "      <td>51259</td>\n",
       "      <td>51259</td>\n",
       "      <td>51259</td>\n",
       "      <td>51259</td>\n",
       "      <td>51259</td>\n",
       "      <td>...</td>\n",
       "      <td>51259</td>\n",
       "      <td>51259</td>\n",
       "      <td>51259</td>\n",
       "      <td>51259</td>\n",
       "      <td>51259</td>\n",
       "      <td>51259</td>\n",
       "      <td>51259</td>\n",
       "      <td>51259</td>\n",
       "      <td>51259</td>\n",
       "      <td>51259</td>\n",
       "    </tr>\n",
       "    <tr>\n",
       "      <th>3</th>\n",
       "      <td>25980</td>\n",
       "      <td>25980</td>\n",
       "      <td>25980</td>\n",
       "      <td>25980</td>\n",
       "      <td>25980</td>\n",
       "      <td>25980</td>\n",
       "      <td>25980</td>\n",
       "      <td>25980</td>\n",
       "      <td>25980</td>\n",
       "      <td>25980</td>\n",
       "      <td>...</td>\n",
       "      <td>25980</td>\n",
       "      <td>25980</td>\n",
       "      <td>25980</td>\n",
       "      <td>25980</td>\n",
       "      <td>25980</td>\n",
       "      <td>25980</td>\n",
       "      <td>25980</td>\n",
       "      <td>25980</td>\n",
       "      <td>25980</td>\n",
       "      <td>25980</td>\n",
       "    </tr>\n",
       "    <tr>\n",
       "      <th>4</th>\n",
       "      <td>14483</td>\n",
       "      <td>14483</td>\n",
       "      <td>14483</td>\n",
       "      <td>14483</td>\n",
       "      <td>14483</td>\n",
       "      <td>14483</td>\n",
       "      <td>14483</td>\n",
       "      <td>14483</td>\n",
       "      <td>14483</td>\n",
       "      <td>14483</td>\n",
       "      <td>...</td>\n",
       "      <td>14483</td>\n",
       "      <td>14483</td>\n",
       "      <td>14483</td>\n",
       "      <td>14483</td>\n",
       "      <td>14483</td>\n",
       "      <td>14483</td>\n",
       "      <td>14483</td>\n",
       "      <td>14483</td>\n",
       "      <td>14483</td>\n",
       "      <td>14483</td>\n",
       "    </tr>\n",
       "    <tr>\n",
       "      <th>5</th>\n",
       "      <td>11585</td>\n",
       "      <td>11585</td>\n",
       "      <td>11585</td>\n",
       "      <td>11585</td>\n",
       "      <td>11585</td>\n",
       "      <td>11585</td>\n",
       "      <td>11585</td>\n",
       "      <td>11585</td>\n",
       "      <td>11585</td>\n",
       "      <td>11585</td>\n",
       "      <td>...</td>\n",
       "      <td>11585</td>\n",
       "      <td>11585</td>\n",
       "      <td>11585</td>\n",
       "      <td>11585</td>\n",
       "      <td>11585</td>\n",
       "      <td>11585</td>\n",
       "      <td>11585</td>\n",
       "      <td>11585</td>\n",
       "      <td>11585</td>\n",
       "      <td>11585</td>\n",
       "    </tr>\n",
       "  </tbody>\n",
       "</table>\n",
       "<p>5 rows × 27 columns</p>\n",
       "</div>"
      ],
      "text/plain": [
       "        funny  user_id  review_id    text  business_id    date  useful  \\\n",
       "stars                                                                    \n",
       "1      120180   120180     120180  120180       120180  120180  120180   \n",
       "2       51259    51259      51259   51259        51259   51259   51259   \n",
       "3       25980    25980      25980   25980        25980   25980   25980   \n",
       "4       14483    14483      14483   14483        14483   14483   14483   \n",
       "5       11585    11585      11585   11585        11585   11585   11585   \n",
       "\n",
       "         cool  yelping_since  review_count_x       ...         latitude  \\\n",
       "stars                                              ...                    \n",
       "1      120180         120180          120180       ...           120180   \n",
       "2       51259          51259           51259       ...            51259   \n",
       "3       25980          25980           25980       ...            25980   \n",
       "4       14483          14483           14483       ...            14483   \n",
       "5       11585          11585           11585       ...            11585   \n",
       "\n",
       "       longitude  business_avg_stars  review_count_y  is_open  categories  \\\n",
       "stars                                                                       \n",
       "1         120180              120180          120180   120180      120180   \n",
       "2          51259               51259           51259    51259       51259   \n",
       "3          25980               25980           25980    25980       25980   \n",
       "4          14483               14483           14483    14483       14483   \n",
       "5          11585               11585           11585    11585       11585   \n",
       "\n",
       "       stars_dif  bus_stars_dif  filtered_text  sentiment_score  \n",
       "stars                                                            \n",
       "1         120180         120180         120180           120180  \n",
       "2          51259          51259          51259            51259  \n",
       "3          25980          25980          25980            25980  \n",
       "4          14483          14483          14483            14483  \n",
       "5          11585          11585          11585            11585  \n",
       "\n",
       "[5 rows x 27 columns]"
      ]
     },
     "execution_count": 108,
     "metadata": {},
     "output_type": "execute_result"
    }
   ],
   "source": [
    "neg_scores.groupby('stars').count()"
   ]
  },
  {
   "cell_type": "code",
   "execution_count": 102,
   "metadata": {},
   "outputs": [
    {
     "data": {
      "text/plain": [
       "int"
      ]
     },
     "execution_count": 102,
     "metadata": {},
     "output_type": "execute_result"
    }
   ],
   "source": [
    "type(neg_scores['stars'].iloc[223486])"
   ]
  },
  {
   "cell_type": "code",
   "execution_count": 111,
   "metadata": {
    "collapsed": true
   },
   "outputs": [],
   "source": [
    "neg_scores.to_csv('neg_scores.csv')"
   ]
  },
  {
   "cell_type": "code",
   "execution_count": 7,
   "metadata": {
    "collapsed": true
   },
   "outputs": [],
   "source": [
    "neg_scores = pd.read_csv(\"neg_scores.csv\", encoding='ISO-8859-1')"
   ]
  },
  {
   "cell_type": "code",
   "execution_count": 9,
   "metadata": {
    "collapsed": true
   },
   "outputs": [],
   "source": [
    "# helper functions for text preprocessing & LDA modeling:\n",
    "\n",
    "def punct_space(token):\n",
    "    \"\"\"\n",
    "    helper function to eliminate tokens\n",
    "    that are pure punctuation or whitespace\n",
    "    \"\"\"\n",
    "    \n",
    "    return token.is_punct or token.is_space or token.like_num or token.is_digit\n",
    "\n",
    "def line_review(filename):\n",
    "    \"\"\"\n",
    "    generator function to read in reviews from Pandas Series\n",
    "    and un-escape the original line breaks in the text\n",
    "    \"\"\"\n",
    "    \n",
    "    #with codecs.open(filename, encoding='utf_8') as f:\n",
    "    for review in filename:\n",
    "        yield review.replace('\\\\n', '\\n')\n",
    "            \n",
    "def lemmatized_sentence_corpus(filename):\n",
    "    \"\"\"\n",
    "    generator function to use spaCy to parse reviews,\n",
    "    lemmatize the text, and yield sentences\n",
    "    \"\"\"\n",
    "    \n",
    "    for parsed_review in nlp.pipe(line_review(filename), batch_size=10000, n_threads=4):\n",
    "        \n",
    "        for sent in parsed_review.sents:\n",
    "            yield u' '.join([token.lemma_ for token in sent\n",
    "                             if not punct_space(token)])\n",
    "\n",
    "def trigram_bow_generator(filepath):\n",
    "    \"\"\"\n",
    "    generator function to read reviews from a file\n",
    "    and yield a bag-of-words representation\n",
    "    \"\"\"\n",
    "    # load finished dictionary from disk\n",
    "    trigram_dictionary = Dictionary.load('./models/trigram_dict_all_neg.dict')\n",
    "    \n",
    "    for review in LineSentence(filepath):\n",
    "        yield trigram_dictionary.doc2bow(review)"
   ]
  },
  {
   "cell_type": "code",
   "execution_count": 24,
   "metadata": {
    "collapsed": true
   },
   "outputs": [],
   "source": [
    "def reviewPreProcess(text):\n",
    "    \"\"\"\n",
    "    Takes Pandas series as input,\n",
    "    consisting of one review as \n",
    "    text string per row\n",
    "    \"\"\"\n",
    "    \n",
    "    # lemmatized_sentence_corpus generator loops over original review text, segments the reviews into individual sentences \n",
    "    # and normalizes text. Writes data to new file with one normalized sentence per line:\n",
    "    with codecs.open('./models/unigram_sentences_neg.txt', 'w', encoding='utf_8') as f:\n",
    "        for sentence in lemmatized_sentence_corpus(text):  \n",
    "            f.write(sentence + '\\n')\n",
    "    \n",
    "    # Create object to stream unigram sentences from disk, rather than hold in memory:\n",
    "    unigram_sentences = LineSentence('./models/unigram_sentences_neg.txt')\n",
    "        \n",
    "    # Train phrase model to link individual words into two-word phrases: \n",
    "    bigram_model = Phrases(unigram_sentences)\n",
    "    bigram_model.save('./models/bigram_model_neg.txt')\n",
    "            \n",
    "    # Apply trained bigram phrase model to the review sentences data: \n",
    "    with codecs.open('./models/bigram_sentences_neg.txt', 'w', encoding='utf_8') as f:\n",
    "        for unigram_sentence in unigram_sentences:\n",
    "            bigram_sentence = u' '.join(bigram_model[unigram_sentence])\n",
    "            f.write(bigram_sentence + '\\n')\n",
    "    \n",
    "    # Create object to stream bigram sentences from disk, rather than hold in memory:\n",
    "    bigram_sentences = LineSentence('./models/bigram_sentences_neg.txt')\n",
    "    \n",
    "    # Train second-order phrase model to to generate trigrams:\n",
    "    trigram_model = Phrases(bigram_sentences)\n",
    "    trigram_model.save('./models/trigram_model_neg.txt')\n",
    "    \n",
    "    # Apply trained second-order phrase model to our first-order transformed sentences and write to a new file:\n",
    "    #with codecs.open('./models/trigram_sentences_neg.txt', 'w', encoding='utf_8') as f:\n",
    "    #    for bigram_sentence in bigram_sentences:\n",
    "    #        trigram_sentence = u' '.join(trigram_model[bigram_sentence])\n",
    "    #        f.write(trigram_sentence + '\\n')\n",
    "    \n",
    "    # Run complete text of the reviews through a pipeline that applies text normalization and phrase models.\n",
    "    # Also remove stopwords and write transformed text to a new file, one review per line:\n",
    "    with codecs.open('./models/trigram_transformed_reviews_neg.txt', 'w', encoding='utf_8') as f:\n",
    "        for parsed_review in nlp.pipe(line_review(text), \n",
    "                                        batch_size=10000, n_threads=4):\n",
    "            \n",
    "            # lemmatize the text, removing punctuation and whitespace\n",
    "            unigram_review = [token.lemma_ for token in parsed_review\n",
    "                                if not punct_space(token)]\n",
    "            \n",
    "            # apply the first-order and second-order phrase models\n",
    "            bigram_review = bigram_model[unigram_review]\n",
    "            trigram_review = trigram_model[bigram_review]\n",
    "                \n",
    "            common_terms = ['order', 'come', 'bad', 'good', \\\n",
    "                            'place', 'time', '\\'s'] #'service', \n",
    "                \n",
    "            # remove any remaining stopwords\n",
    "            trigram_review = [term for term in trigram_review\n",
    "                                if term not in spacy.en.English.Defaults.stop_words]\n",
    "            trigram_review = [term for term in trigram_review\n",
    "                                if term not in common_terms]\n",
    "            \n",
    "            # write the transformed review as a line in the new file\n",
    "            trigram_review = u' '.join(trigram_review)\n",
    "            f.write(trigram_review + '\\n')\n",
    "    \n",
    "    \n",
    "    # Learn full vocabulary of corpus to be modeled, using gensim's Dictionary class.  Stream\n",
    "    # reviews off of disk using LineSentence:\n",
    "    trigram_reviews = LineSentence('./models/trigram_transformed_reviews_neg.txt')\n",
    "\n",
    "    # learn the dictionary by iterating over all of the reviews\n",
    "    trigram_dictionary = Dictionary(trigram_reviews)\n",
    "    \n",
    "    # filter tokens that are very rare or too common from\n",
    "    # the dictionary (filter_extremes) and reassign integer ids (compactify)\n",
    "    trigram_dictionary.filter_extremes(no_below=10, no_above=0.4)\n",
    "    trigram_dictionary.compactify()\n",
    "\n",
    "    trigram_dictionary.save('./models/trigram_dict_all_neg.dict')\n",
    "    \n",
    "    return bigram_model, trigram_model, trigram_dictionary\n",
    " "
   ]
  },
  {
   "cell_type": "code",
   "execution_count": 25,
   "metadata": {
    "collapsed": true
   },
   "outputs": [],
   "source": [
    "def LDA_Model(topics, cores=3):\n",
    "    \"\"\"\n",
    "    Topics represents desired LDA topics,\n",
    "    cores should be physical cores minus one. \n",
    "    Both should be integers.\n",
    "    \"\"\"\n",
    "    \n",
    "    # load finished dictionary from disk\n",
    "    trigram_dictionary = Dictionary.load('./models/trigram_dict_all_neg.dict')\n",
    "        \n",
    "    # generate bag-of-words representations for\n",
    "    # all reviews and save them as a matrix\n",
    "    MmCorpus.serialize('./models/trigram_bow_corpus_neg.nm',\n",
    "                        trigram_bow_generator('./models/trigram_transformed_reviews_neg.txt'))\n",
    "    \n",
    "    # load finished bag-of-words corpus from disk\n",
    "    trigram_bow_corpus = MmCorpus('./models/trigram_bow_corpus_neg.nm')\n",
    "    \n",
    "    \n",
    "    # Pass the bag-of-words matrix and Dictionary from previous steps to LdaMulticore as inputs, \n",
    "    # along with the number of topics the model should learn\n",
    "        \n",
    "    # workers => sets the parallelism, and should be\n",
    "    # set to your number of physical cores minus one\n",
    "    lda = LdaMulticore(trigram_bow_corpus, \n",
    "                       num_topics=topics, \n",
    "                       id2word=trigram_dictionary, \n",
    "                       workers=cores)\n",
    "        \n",
    "    lda.save('./models/lda_model_neg')\n",
    "        \n",
    "    # load the finished LDA model from disk\n",
    "    #lda = LdaMulticore.load('./models/lda_model_neg')\n",
    "    \n",
    "    return trigram_bow_corpus, lda\n"
   ]
  },
  {
   "cell_type": "code",
   "execution_count": 26,
   "metadata": {},
   "outputs": [
    {
     "name": "stderr",
     "output_type": "stream",
     "text": [
      "C:\\ProgramData\\Anaconda3\\lib\\site-packages\\gensim\\models\\phrases.py:316: UserWarning: For a faster implementation, use the gensim.models.phrases.Phraser class\n",
      "  warnings.warn(\"For a faster implementation, use the gensim.models.phrases.Phraser class\")\n"
     ]
    },
    {
     "name": "stdout",
     "output_type": "stream",
     "text": [
      "Wall time: 19min 11s\n"
     ]
    }
   ],
   "source": [
    "%%time\n",
    "bigram_model, trigram_model, trigram_dictionary = reviewPreProcess(neg_scores['text'])"
   ]
  },
  {
   "cell_type": "code",
   "execution_count": 27,
   "metadata": {},
   "outputs": [
    {
     "name": "stdout",
     "output_type": "stream",
     "text": [
      "Wall time: 2min\n"
     ]
    }
   ],
   "source": [
    "%%time\n",
    "trigram_bow_corpus, lda = LDA_Model(3)"
   ]
  },
  {
   "cell_type": "code",
   "execution_count": 13,
   "metadata": {
    "collapsed": true
   },
   "outputs": [],
   "source": [
    "def explore_topic(topic_number, topn=25):\n",
    "    \"\"\"\n",
    "    accept a user-supplied topic number and\n",
    "    print out a formatted list of the top terms\n",
    "    \"\"\"\n",
    "        \n",
    "    print(u'{:20} {}'.format(u'term', u'frequency') + u'\\n')\n",
    "\n",
    "    for term, frequency in lda.show_topic(topic_number, topn=25):\n",
    "        print(u'{:20} {:.3f}'.format(term, round(frequency, 3)))"
   ]
  },
  {
   "cell_type": "code",
   "execution_count": 28,
   "metadata": {},
   "outputs": [
    {
     "name": "stdout",
     "output_type": "stream",
     "text": [
      "term                 frequency\n",
      "\n",
      "eat                  0.013\n",
      "like                 0.011\n",
      "taste                0.010\n",
      "chicken              0.010\n",
      "service              0.008\n",
      "$                    0.006\n",
      "try                  0.006\n",
      "fry                  0.006\n",
      "restaurant           0.006\n",
      "meat                 0.005\n",
      "dish                 0.005\n",
      "sauce                0.005\n",
      "pizza                0.005\n",
      "meal                 0.005\n",
      "cold                 0.005\n",
      "bland                0.005\n",
      "salad                0.005\n",
      "think                0.005\n",
      "burger               0.005\n",
      "flavor               0.004\n",
      "look                 0.004\n",
      "cheese               0.004\n",
      "dry                  0.004\n",
      "star                 0.004\n",
      "sandwich             0.004\n"
     ]
    }
   ],
   "source": [
    "explore_topic(topic_number=0)"
   ]
  },
  {
   "cell_type": "code",
   "execution_count": 29,
   "metadata": {},
   "outputs": [
    {
     "name": "stdout",
     "output_type": "stream",
     "text": [
      "term                 frequency\n",
      "\n",
      "$                    0.011\n",
      "restaurant           0.009\n",
      "try                  0.008\n",
      "service              0.007\n",
      "like                 0.007\n",
      "want                 0.006\n",
      "menu                 0.006\n",
      "price                0.006\n",
      "drink                0.006\n",
      "think                0.006\n",
      "bar                  0.005\n",
      "know                 0.005\n",
      "people               0.004\n",
      "eat                  0.004\n",
      "thing                0.004\n",
      "vegas                0.004\n",
      "find                 0.004\n",
      "charge               0.004\n",
      "tell                 0.004\n",
      "day                  0.004\n",
      "ask                  0.003\n",
      "way                  0.003\n",
      "great                0.003\n",
      "look                 0.003\n",
      "buffet               0.003\n"
     ]
    }
   ],
   "source": [
    "explore_topic(topic_number=1)"
   ]
  },
  {
   "cell_type": "code",
   "execution_count": 30,
   "metadata": {},
   "outputs": [
    {
     "name": "stdout",
     "output_type": "stream",
     "text": [
      "term                 frequency\n",
      "\n",
      "service              0.019\n",
      "wait                 0.016\n",
      "ask                  0.015\n",
      "table                0.014\n",
      "minute               0.012\n",
      "tell                 0.011\n",
      "manager              0.009\n",
      "server               0.009\n",
      "customer             0.008\n",
      "drink                0.008\n",
      "want                 0.007\n",
      "leave                0.007\n",
      "restaurant           0.007\n",
      "people               0.006\n",
      "experience           0.006\n",
      "waitress             0.006\n",
      "eat                  0.006\n",
      "know                 0.006\n",
      "sit                  0.006\n",
      "seat                 0.005\n",
      "like                 0.005\n",
      "rude                 0.005\n",
      "check                0.005\n",
      "walk                 0.005\n",
      "staff                0.005\n"
     ]
    }
   ],
   "source": [
    "explore_topic(topic_number=2)"
   ]
  },
  {
   "cell_type": "code",
   "execution_count": 18,
   "metadata": {
    "collapsed": true
   },
   "outputs": [],
   "source": [
    "# Assign topic names and save to disk:\n",
    "topic_names = {0: u'food_quality',\n",
    "               1: u'price',\n",
    "               2: u'service_quality'}\n",
    "\n",
    "#with open('./models/topic_names.pkl', 'wb') as f:\n",
    "    #pickle.dump(topic_names, f)"
   ]
  },
  {
   "cell_type": "code",
   "execution_count": 50,
   "metadata": {
    "collapsed": true
   },
   "outputs": [],
   "source": [
    "# Prepare for LDA visualization\n",
    "\n",
    "trigram_dictionary = Dictionary.load('./models/trigram_dict_all_neg.dict')"
   ]
  },
  {
   "cell_type": "code",
   "execution_count": 32,
   "metadata": {
    "scrolled": false
   },
   "outputs": [
    {
     "name": "stderr",
     "output_type": "stream",
     "text": [
      "C:\\ProgramData\\Anaconda3\\lib\\site-packages\\pyLDAvis\\_prepare.py:387: DeprecationWarning: \n",
      ".ix is deprecated. Please use\n",
      ".loc for label based indexing or\n",
      ".iloc for positional indexing\n",
      "\n",
      "See the documentation here:\n",
      "http://pandas.pydata.org/pandas-docs/stable/indexing.html#deprecate_ix\n",
      "  topic_term_dists = topic_term_dists.ix[topic_order]\n"
     ]
    },
    {
     "data": {
      "text/html": [
       "\n",
       "<link rel=\"stylesheet\" type=\"text/css\" href=\"https://cdn.rawgit.com/bmabey/pyLDAvis/files/ldavis.v1.0.0.css\">\n",
       "\n",
       "\n",
       "<div id=\"ldavis_el100426750043487205740650985\"></div>\n",
       "<script type=\"text/javascript\">\n",
       "\n",
       "var ldavis_el100426750043487205740650985_data = {\"mdsDat\": {\"Freq\": [41.08192964673989, 33.65073125335054, 25.26733909990958], \"cluster\": [1, 1, 1], \"topics\": [1, 2, 3], \"x\": [-0.10326770499968935, 0.10197895261873534, 0.0012887523809539951], \"y\": [-0.02700021659589711, -0.028036958801456232, 0.055037175397353366]}, \"tinfo\": {\"Category\": [\"Default\", \"Default\", \"Default\", \"Default\", \"Default\", \"Default\", \"Default\", \"Default\", \"Default\", \"Default\", \"Default\", \"Default\", \"Default\", \"Default\", \"Default\", \"Default\", \"Default\", \"Default\", \"Default\", \"Default\", \"Default\", \"Default\", \"Default\", \"Default\", \"Default\", \"Default\", \"Default\", \"Default\", \"Default\", \"Default\", \"Topic1\", \"Topic1\", \"Topic1\", \"Topic1\", \"Topic1\", \"Topic1\", \"Topic1\", \"Topic1\", \"Topic1\", \"Topic1\", \"Topic1\", \"Topic1\", \"Topic1\", \"Topic1\", \"Topic1\", \"Topic1\", \"Topic1\", \"Topic1\", \"Topic1\", \"Topic1\", \"Topic1\", \"Topic1\", \"Topic1\", \"Topic1\", \"Topic1\", \"Topic1\", \"Topic1\", \"Topic1\", \"Topic1\", \"Topic1\", \"Topic1\", \"Topic1\", \"Topic1\", \"Topic1\", \"Topic1\", \"Topic1\", \"Topic1\", \"Topic1\", \"Topic1\", \"Topic1\", \"Topic1\", \"Topic1\", \"Topic1\", \"Topic1\", \"Topic1\", \"Topic1\", \"Topic1\", \"Topic1\", \"Topic1\", \"Topic1\", \"Topic1\", \"Topic1\", \"Topic1\", \"Topic1\", \"Topic1\", \"Topic1\", \"Topic1\", \"Topic1\", \"Topic1\", \"Topic1\", \"Topic1\", \"Topic1\", \"Topic1\", \"Topic1\", \"Topic1\", \"Topic1\", \"Topic1\", \"Topic1\", \"Topic1\", \"Topic1\", \"Topic1\", \"Topic1\", \"Topic1\", \"Topic1\", \"Topic1\", \"Topic1\", \"Topic1\", \"Topic1\", \"Topic1\", \"Topic1\", \"Topic1\", \"Topic1\", \"Topic1\", \"Topic1\", \"Topic1\", \"Topic1\", \"Topic1\", \"Topic1\", \"Topic1\", \"Topic1\", \"Topic1\", \"Topic1\", \"Topic1\", \"Topic1\", \"Topic1\", \"Topic2\", \"Topic2\", \"Topic2\", \"Topic2\", \"Topic2\", \"Topic2\", \"Topic2\", \"Topic2\", \"Topic2\", \"Topic2\", \"Topic2\", \"Topic2\", \"Topic2\", \"Topic2\", \"Topic2\", \"Topic2\", \"Topic2\", \"Topic2\", \"Topic2\", \"Topic2\", \"Topic2\", \"Topic2\", \"Topic2\", \"Topic2\", \"Topic2\", \"Topic2\", \"Topic2\", \"Topic2\", \"Topic2\", \"Topic2\", \"Topic2\", \"Topic2\", \"Topic2\", \"Topic2\", \"Topic2\", \"Topic2\", \"Topic2\", \"Topic2\", \"Topic2\", \"Topic2\", \"Topic2\", \"Topic2\", \"Topic2\", \"Topic2\", \"Topic2\", \"Topic2\", \"Topic2\", \"Topic2\", \"Topic2\", \"Topic2\", \"Topic2\", \"Topic2\", \"Topic2\", \"Topic2\", \"Topic2\", \"Topic2\", \"Topic2\", \"Topic2\", \"Topic2\", \"Topic2\", \"Topic2\", \"Topic2\", \"Topic2\", \"Topic2\", \"Topic2\", \"Topic2\", \"Topic2\", \"Topic2\", \"Topic2\", \"Topic2\", \"Topic2\", \"Topic2\", \"Topic2\", \"Topic2\", \"Topic2\", \"Topic2\", \"Topic2\", \"Topic2\", \"Topic2\", \"Topic2\", \"Topic2\", \"Topic2\", \"Topic2\", \"Topic2\", \"Topic2\", \"Topic2\", \"Topic2\", \"Topic2\", \"Topic2\", \"Topic2\", \"Topic2\", \"Topic2\", \"Topic2\", \"Topic2\", \"Topic2\", \"Topic2\", \"Topic2\", \"Topic2\", \"Topic2\", \"Topic2\", \"Topic2\", \"Topic2\", \"Topic2\", \"Topic2\", \"Topic2\", \"Topic2\", \"Topic3\", \"Topic3\", \"Topic3\", \"Topic3\", \"Topic3\", \"Topic3\", \"Topic3\", \"Topic3\", \"Topic3\", \"Topic3\", \"Topic3\", \"Topic3\", \"Topic3\", \"Topic3\", \"Topic3\", \"Topic3\", \"Topic3\", \"Topic3\", \"Topic3\", \"Topic3\", \"Topic3\", \"Topic3\", \"Topic3\", \"Topic3\", \"Topic3\", \"Topic3\", \"Topic3\", \"Topic3\", \"Topic3\", \"Topic3\", \"Topic3\", \"Topic3\", \"Topic3\", \"Topic3\", \"Topic3\", \"Topic3\", \"Topic3\", \"Topic3\", \"Topic3\", \"Topic3\", \"Topic3\", \"Topic3\", \"Topic3\", \"Topic3\", \"Topic3\", \"Topic3\", \"Topic3\", \"Topic3\", \"Topic3\", \"Topic3\", \"Topic3\", \"Topic3\", \"Topic3\", \"Topic3\", \"Topic3\", \"Topic3\", \"Topic3\", \"Topic3\", \"Topic3\", \"Topic3\", \"Topic3\", \"Topic3\", \"Topic3\", \"Topic3\", \"Topic3\", \"Topic3\", \"Topic3\", \"Topic3\", \"Topic3\", \"Topic3\", \"Topic3\", \"Topic3\", \"Topic3\", \"Topic3\", \"Topic3\", \"Topic3\", \"Topic3\", \"Topic3\", \"Topic3\", \"Topic3\", \"Topic3\", \"Topic3\", \"Topic3\", \"Topic3\", \"Topic3\", \"Topic3\", \"Topic3\", \"Topic3\", \"Topic3\", \"Topic3\", \"Topic3\", \"Topic3\", \"Topic3\", \"Topic3\", \"Topic3\", \"Topic3\", \"Topic3\", \"Topic3\", \"Topic3\", \"Topic3\", \"Topic3\", \"Topic3\", \"Topic3\", \"Topic3\", \"Topic3\", \"Topic3\", \"Topic3\", \"Topic3\", \"Topic3\"], \"Freq\": [67414.0, 48330.0, 35280.0, 33233.0, 35365.0, 50277.0, 68439.0, 59470.0, 51262.0, 15447.0, 36490.0, 18047.0, 15122.0, 21491.0, 25901.0, 18466.0, 21202.0, 39508.0, 13168.0, 11548.0, 22155.0, 19658.0, 67348.0, 9511.0, 45217.0, 10075.0, 14113.0, 13409.0, 27812.0, 29023.0, 67.41176312741567, 72.85948327451072, 52.5112918108906, 153.86011380264196, 65.93383641789976, 54.944928328321744, 46.074014425338845, 135.16186907374328, 45.40168159134887, 37.800994908715865, 44.73864320469248, 114.90872180671583, 42.103315903209996, 55.1651651915637, 42.16982705316579, 92.44315697843389, 33.60307908947968, 43.50717924602344, 54.634028727258915, 37.005706784382774, 30.275194062650435, 59.883337493380104, 33.34514317442452, 98.42346355404709, 87.98021845933403, 41.482965186605554, 35.85222735594351, 43.09331635903344, 32.611594890583916, 125.27537018065209, 3051.5571384386726, 323.68720903210726, 509.2624183494831, 444.18799021494857, 8635.876348959599, 1848.24760997015, 1087.877736927081, 257.62108493709763, 44202.24081233964, 187.62612005170755, 107.43141541548593, 32259.73865690074, 7207.267924580728, 4223.915523554458, 10199.952287776463, 58810.720673678734, 5599.963998041902, 19117.789556437085, 1605.6750786831633, 11303.242777204216, 1103.196689549695, 400.53024009185185, 521.0406258349306, 19171.303192889925, 7146.1808743461515, 6932.097973149531, 2267.963816007401, 15008.284948762424, 3817.231620108145, 1202.7286257055698, 48411.724062533125, 29909.351792899877, 54231.873203754876, 2346.1763007366294, 7716.748156190333, 3678.5227510050104, 40199.38738773604, 3015.8370280817276, 2824.853632109331, 30789.26760642884, 3898.091781251011, 19757.95352427032, 17385.66579941969, 6637.478310198641, 11458.078641964317, 21239.52549388349, 18131.298990844007, 68847.93739399922, 11590.122220921778, 17260.52002833912, 25308.851025979762, 17089.33676864017, 28451.302994886028, 14835.427715706477, 21616.24429200499, 22721.818639894707, 16424.415268141096, 25797.504707919557, 19824.682080187686, 23878.520483668675, 13994.297837471631, 15120.950651953173, 20208.0528898424, 19155.48136154669, 15686.198026275153, 740.4076978358931, 532.380698137867, 272.731191686533, 318.96791228574864, 431.3069713220447, 188.6533436054311, 233.4883601236929, 165.3951220055795, 231.90450731974138, 225.8276153849121, 217.1221802761243, 149.79049199351388, 150.06580176068596, 138.09695043900874, 132.09745018010068, 185.0377809764221, 151.6100806458431, 156.27453013917903, 144.18937347385022, 109.61848052661142, 106.64698640041846, 93.92326643366806, 81.82112199486811, 94.15182236862927, 120.79215292305449, 78.21667434864835, 91.65686778270279, 82.71440651172001, 80.54607865426834, 115.92710274750593, 2222.5858972723777, 3753.819208675934, 150.71460077667055, 263.6410339507999, 312.003740082303, 1583.6106938404425, 14380.920010401582, 5577.775280883185, 3741.6833740360917, 8767.938826730671, 1282.234179213897, 538.0133150372234, 5575.499656548382, 394.4857210088706, 414.49867382844235, 825.055939479039, 10521.895827802335, 1693.296056959522, 2600.478906812467, 1972.7628166561888, 2270.5693404567396, 11636.730413635534, 1618.4273112075289, 3034.4287832164623, 1260.1670302406553, 1959.6420738448983, 3828.7014111226654, 29738.264284451736, 8867.677772356035, 27881.869562101634, 1545.287567461151, 3673.1411800168635, 12863.782890230093, 15114.746574608002, 6281.00838603093, 4267.075444272846, 3745.8102292594926, 2971.944990847546, 14905.916156756903, 16448.52192032607, 2788.8176100222618, 8520.833535378812, 8287.590249288029, 15000.022286551166, 4458.941890183666, 4575.345842629301, 10595.106739291385, 11778.18392800194, 4918.3423869058115, 37432.46024202703, 14344.185851307073, 8358.699566550236, 13236.558985939073, 7076.048624981571, 32276.352231713565, 11016.152961983635, 14602.883559995675, 6075.118353341284, 11372.43062427519, 14670.862366196006, 9590.926554354623, 14635.971136706736, 18740.255713452243, 9305.243398219225, 16999.641935606105, 23617.937117938247, 16399.992828593127, 13388.078101494664, 12404.595319406642, 11448.135943548086, 10625.637695763113, 10152.76139542359, 10782.136071513683, 11270.504720639326, 10882.429617615508, 11134.723127296622, 68.70665078274362, 74.04097811533468, 56.9865631443359, 64.9368958172051, 59.20994678297965, 61.292403637475864, 52.53388848263837, 43.50178194821667, 46.96522427694646, 60.98315540501158, 74.99951947346474, 245.59509324018202, 45.83044907595844, 36.91942157309329, 77.0132808293345, 671.7882130338268, 74.89811197535572, 157.16136129003746, 45.973824621816895, 58.25293758460121, 55.18566398085273, 39.80029519506646, 43.43596029726763, 43.34763910333386, 32.152599542445245, 65.41786627905269, 37.777054265857466, 50.50422379798967, 33.12944341435186, 28.80226892641227, 267.9204974342815, 71.21978283369334, 149.45919745520808, 254.05312185067993, 107.20367623117825, 352.265352330538, 255.2489835006118, 98.52933849926553, 135.29586435847983, 152.39354992427081, 2845.787622367196, 200.04967933344508, 97.77119433596089, 98.31105664307995, 254.9347383036917, 74.34458923135001, 2666.318460553987, 498.0621520842738, 525.4813794326273, 488.4486935229207, 868.1316549397402, 704.402353822936, 631.2929080049518, 883.0662043285154, 1717.6686715110382, 1178.1039621973712, 597.8026863770915, 297.60572023433724, 397.28589849502845, 1548.542512197362, 567.418255540005, 159.21446103017888, 1588.956295553461, 2588.774037306779, 1674.6144767967962, 2771.9726017817393, 8004.614268162625, 882.8486048278701, 7181.146455088117, 2628.2381296072676, 24799.37372269785, 3035.819246811954, 2004.7964353510529, 3502.578110713976, 2704.1154262715622, 12476.86982140465, 2538.9008383278106, 7262.030846436529, 7838.642888173499, 12622.879748053387, 2472.20527583066, 11452.033844511836, 18233.44518991025, 18860.950427284635, 3477.7655122821857, 12091.25519579798, 2559.136275715316, 7703.563696715892, 3172.747276339533, 7943.438526500168, 12185.97066453691, 12732.846437265607, 5766.5503468126635, 14961.663238643687, 6314.210449434538, 7180.402167920816, 8313.005434495664, 9831.177574833764, 6815.272467780501, 10139.243437115818, 7553.520036403556, 15797.672707023663, 5864.603853118817, 7561.371006476977, 6236.567619805974, 9708.005271161293, 7314.089518214751, 7801.324443806085, 7621.845217257827], \"Term\": [\"wait\", \"minute\", \"taste\", \"chicken\", \"manager\", \"$\", \"ask\", \"table\", \"tell\", \"bland\", \"customer\", \"meat\", \"flavor\", \"rude\", \"price\", \"sauce\", \"fry\", \"server\", \"dry\", \"rice\", \"seat\", \"dish\", \"eat\", \"fish\", \"drink\", \"shrimp\", \"buffet\", \"vegas\", \"bar\", \"menu\", \"julie\", \"pull_forward\", \"discourteous\", \"waiting_list\", \"robin\", \"2hrs\", \"overheard\", \"podium\", \"drive_thru_speaker\", \"call_ahead_seating\", \"pubic_hair\", \"rude_tone\", \"dumbfound\", \"talk_amongst\", \"as_molass\", \"40min\", \"i.d\", \"dysfunctional\", \"silver_wear\", \"travis\", \"12:50\", \"huge_inconvenience\", \"6:40\", \"prep_area\", \"minuet\", \"caller\", \"2:15\", \"make_amend\", \"sofa\", \"7:15\", \"acknowledge\", \"acknowledgement\", \"hostess_stand\", \"supervisor\", \"hostess\", \"hang_up\", \"stand_around\", \"urgency\", \"minute\", \"host_stand\", \"minutes\", \"manager\", \"phone\", \"minute_later\", \"min\", \"wait\", \"apologize\", \"rude\", \"no_apology\", \"employee\", \"rudely\", \"completely_ignore\", \"make_eye_contact\", \"seat\", \"reservation\", \"attitude\", \"unprofessional\", \"finally\", \"ignore\", \"extremely_rude\", \"table\", \"customer\", \"ask\", \"register\", \"an_hour\", \"greet\", \"tell\", \"walk_away\", \"yell\", \"server\", \"ready\", \"sit\", \"walk\", \"speak\", \"busy\", \"waitress\", \"check\", \"service\", \"arrive\", \"staff\", \"leave\", \"bring\", \"drink\", \"waiter\", \"experience\", \"people\", \"horrible\", \"want\", \"know\", \"restaurant\", \"long\", \"pay\", \"eat\", \"like\", \"look\", \"und\", \"der\", \"ein\", \"ist\", \"das\", \"f\\u00fcr\", \"zu\", \"eine\", \"aber\", \"mit\", \"nicht\", \"sind\", \"auch\", \"sich\", \"alle\", \"ich\", \"wir\", \"roast_pork\", \"sehr\", \"nur\", \"zum\", \"auf\", \"und_die\", \"schon\", \"einen\", \"dort\", \"uns\", \"aus\", \"etwa\", \"wie\", \"mushy\", \"fried_rice\", \"hier\", \"egg_drop\", \"squid\", \"egg_roll\", \"bland\", \"noodle\", \"pork\", \"fish\", \"scallop\", \"wonton\", \"beef\", \"mongolian_beef\", \"bbq_pork\", \"orange_chicken\", \"rice\", \"pad_thai\", \"flavorless\", \"chewy\", \"oil\", \"dry\", \"broth\", \"vegetable\", \"broccoli\", \"seasoning\", \"fried\", \"taste\", \"shrimp\", \"chicken\", \"fatty\", \"salt\", \"flavor\", \"meat\", \"greasy\", \"salty\", \"tasteless\", \"thai\", \"sauce\", \"fry\", \"salmon\", \"piece\", \"sushi\", \"dish\", \"soggy\", \"spicy\", \"steak\", \"cheese\", \"chinese\", \"eat\", \"salad\", \"bread\", \"burger\", \"soup\", \"like\", \"plate\", \"cold\", \"gross\", \"sandwich\", \"pizza\", \"quality\", \"meal\", \"$\", \"cook\", \"try\", \"service\", \"restaurant\", \"think\", \"look\", \"star\", \"serve\", \"ok\", \"thing\", \"know\", \"way\", \"want\", \"hollywood\", \"sambar\", \"tilted_kilt\", \"weary_traveler\", \"une\", \"ck\", \"buster\", \"c'\", \"sport_game\", \"andrew\", \"mais\", \"blizzard\", \"ce\", \"ireland\", \"una\", \"pan_roast\", \"pero\", \"palace_station\", \"dark_wood\", \"aliante\", \"chocolate_syrup\", \"hunter\", \"postmates\", \"strawberry_shortcake\", \"idli\", \"hot_fudge\", \"shuffleboard\", \"indians\", \"waffle_cone\", \"buen\", \"cupcake\", \"para\", \"hob\", \"en\", \"bianco\", \"earl\", \"que\", \"upsell\", \"taco_shop\", \"et\", \"dim_sum\", \"biryani\", \"tacos_el_gordo\", \"chocolate_cover_strawberry\", \"le\", \"bit_steep\", \"casino\", \"karaoke\", \"dance_floor\", \"bakery\", \"cart\", \"de\", \"song\", \"venue\", \"parking\", \"indian\", \"tao\", \"vanilla\", \"sport\", \"groupon\", \"sport_bar\", \"india\", \"tv\", \"club\", \"ice_cream\", \"game\", \"vegas\", \"dance\", \"beer\", \"bottle\", \"$\", \"crowd\", \"smoke\", \"wine\", \"music\", \"price\", \"local\", \"buffet\", \"charge\", \"menu\", \"play\", \"bar\", \"try\", \"restaurant\", \"high\", \"think\", \"selection\", \"day\", \"spot\", \"find\", \"drink\", \"want\", \"night\", \"like\", \"visit\", \"little\", \"thing\", \"people\", \"use\", \"know\", \"great\", \"service\", \"small\", \"way\", \"review\", \"eat\", \"look\", \"tell\", \"ask\"], \"Total\": [67414.0, 48330.0, 35280.0, 33233.0, 35365.0, 50277.0, 68439.0, 59470.0, 51262.0, 15447.0, 36490.0, 18047.0, 15122.0, 21491.0, 25901.0, 18466.0, 21202.0, 39508.0, 13168.0, 11548.0, 22155.0, 19658.0, 67348.0, 9511.0, 45217.0, 10075.0, 14113.0, 13409.0, 27812.0, 29023.0, 68.28448709407374, 73.83839585380919, 53.24805593419163, 156.35070404236686, 67.05842344141438, 55.883216858602594, 46.86508991148504, 137.49819010591318, 46.195089211568394, 38.49077657234338, 45.56102012329454, 117.13133680315633, 42.94362662742606, 56.31203539945149, 43.051376442726664, 94.39253163126425, 34.32070376065761, 44.438110387445036, 55.81804866542727, 37.81844324072542, 30.947093202865126, 61.218003938379624, 34.09113862968858, 100.62951809005618, 90.03866911508831, 42.45820328787363, 36.6991577327462, 44.11851596551278, 33.39609905816711, 128.4229047055145, 3148.5145933853537, 332.1900689076702, 526.7142469518707, 459.3139539396316, 9214.093893150348, 1944.5156458517692, 1139.7111112484163, 266.5348003100753, 48330.74504242587, 194.20477849374558, 110.61598299053385, 35365.076124444065, 7764.906665324924, 4522.930668437135, 11169.720771973973, 67414.38778084418, 6124.073829835415, 21491.732358498804, 1716.8569135289954, 12622.006694006226, 1175.958588082708, 418.52256330440264, 549.3716297531713, 22155.839364726595, 8054.649883108072, 7853.935338150177, 2488.1960528065165, 17612.72869133723, 4293.977801446523, 1307.1309344429033, 59470.70504504899, 36490.280399741394, 68439.81040138546, 2608.6061093246503, 9018.35888081983, 4188.076704081348, 51262.035495679986, 3411.077432494535, 3186.667651667841, 39508.619361060184, 4488.144957199178, 25761.6106844924, 22653.53033250968, 8012.235170889295, 14535.028863887086, 28814.063771214747, 24492.044473292903, 108263.54721896113, 15061.231866567894, 23701.744512315046, 36652.038404876104, 24374.729419958876, 45217.260191107955, 21142.544810967967, 34886.90295603586, 37548.10962580167, 25704.406730744362, 49665.07427248179, 41234.430237942826, 59139.46373954644, 22124.504641339543, 26636.004099966216, 67348.51840303073, 66393.49683190393, 35404.88286389655, 741.7626665291524, 533.8953008202427, 273.68033531704424, 320.1103664846721, 433.0141732982058, 189.55631410864868, 234.70551830697426, 166.2881322511421, 233.16361853336116, 227.0539849254622, 218.38015100889035, 150.65985093868986, 150.94134295344642, 138.91658392974733, 132.92000541761465, 186.21135433681985, 152.61332758535292, 157.37581690584858, 145.2264723229935, 110.44342671454194, 107.48655640907774, 94.662888501133, 82.50454605671506, 94.96693845619455, 121.84130162098008, 78.89924412952347, 92.46222953122317, 83.44196862885715, 81.26457710082359, 116.96283971255629, 2283.3887323630124, 3878.8100139133635, 152.17885387967056, 267.78146109688305, 317.9661873786948, 1641.643149334125, 15447.696874334197, 5976.850255922523, 3979.074181833912, 9511.094893998345, 1341.695199123978, 553.3719964219879, 6015.159332045497, 404.03781236514595, 425.7150564831488, 859.4455426219597, 11548.883309701872, 1790.6257131906423, 2794.695300659514, 2108.241604031199, 2441.565472184454, 13168.219488246474, 1723.7377608572106, 3298.5864750564524, 1333.8405090505787, 2103.9925311010643, 4198.648553398195, 35280.22259172682, 10075.400117415016, 33233.62060025145, 1651.9377857694367, 4085.6863990521747, 15122.579753230852, 18047.0126045209, 7170.643083540484, 4786.280071496809, 4189.554711815167, 3290.852680286077, 18466.649999694742, 21202.512411541768, 3106.7064363251493, 10507.445414431351, 10228.787112038284, 19658.465349054244, 5203.032593475043, 5354.567509049109, 13999.24196015611, 16249.596370836161, 5925.810916147595, 67348.51840303073, 21219.75899257596, 11269.235792641297, 20662.482572005654, 9404.653219634365, 66393.49683190393, 17351.764215929586, 26297.269510783735, 7948.651811318547, 20220.68413051201, 30371.31314679909, 16021.800919785024, 31192.75865082656, 50277.00344310798, 15618.549286364534, 50144.94262186899, 108263.54721896113, 59139.46373954644, 37861.947470794454, 35404.88286389655, 28765.574995474675, 25099.306766190624, 20454.97178107374, 28214.073657535853, 41234.430237942826, 31058.809657675585, 49665.07427248179, 69.63290322741592, 75.10733169619768, 57.83960571741812, 65.91541918895237, 60.157213010616395, 62.29948627281594, 53.43759012135213, 44.258759403075416, 47.801429196396306, 62.09388214536256, 76.36972646980351, 250.08999054811252, 46.67640494954057, 37.61712281115418, 78.47279990804911, 685.0162604021651, 76.37343902504604, 160.2639636767202, 46.90103496754431, 59.44488489532666, 56.331636212074486, 40.64478101950545, 44.36396089936015, 44.28388168586912, 32.853707481840765, 66.85223903219124, 38.60898366641362, 51.62938247332671, 33.86910190197807, 29.4690492233666, 274.31751510080403, 72.89704570912642, 154.28356015758916, 263.6895153195139, 110.46106815978816, 368.3714084571901, 267.080582677812, 101.75200030266264, 140.878951222126, 159.19025498229234, 3256.178306323985, 211.58082335458715, 101.37631615490221, 102.02653349247325, 276.33993397017787, 76.61460898968716, 3274.2436955095154, 560.7213522192678, 594.6600869674403, 553.3308925427593, 1017.4426478637344, 816.3701147185108, 727.1494489459174, 1046.7991204270602, 2168.478232010266, 1459.0675725910144, 705.7893347351375, 333.6503630029545, 455.51959638335745, 1992.4014657705434, 674.4043323061828, 171.31721240300615, 2117.071429077721, 3623.9854250750914, 2285.434117445054, 4064.597404719615, 13409.826780228017, 1126.4445171568796, 11963.81153472789, 3914.69463009893, 50277.00344310798, 4640.0934818262795, 2883.0722189344906, 5656.124639091071, 4209.667829016844, 25901.134195934697, 3987.3716796872022, 14113.385069460466, 15815.741123227865, 29023.080287361445, 4023.3498728603513, 27812.910683473812, 50144.94262186899, 59139.46373954644, 6774.445954969926, 37861.947470794454, 4523.966125585255, 21709.960658209748, 6154.709583590686, 23312.92987675959, 45217.260191107955, 49665.07427248179, 15048.387835167116, 66393.49683190393, 17656.98788332449, 21912.650830322906, 28214.073657535853, 37548.10962580167, 20826.281829508094, 41234.430237942826, 25306.25893464457, 108263.54721896113, 17408.137077272237, 31058.809657675585, 22143.487501445452, 67348.51840303073, 35404.88286389655, 51262.035495679986, 68439.81040138546], \"loglift\": [30.0, 29.0, 28.0, 27.0, 26.0, 25.0, 24.0, 23.0, 22.0, 21.0, 20.0, 19.0, 18.0, 17.0, 16.0, 15.0, 14.0, 13.0, 12.0, 11.0, 10.0, 9.0, 8.0, 7.0, 6.0, 5.0, 4.0, 3.0, 2.0, 1.0, 0.8767, 0.8763, 0.8757, 0.8735, 0.8727, 0.8727, 0.8726, 0.8725, 0.8723, 0.8715, 0.8714, 0.8704, 0.8698, 0.869, 0.8689, 0.8687, 0.8685, 0.8684, 0.8682, 0.8679, 0.8677, 0.8676, 0.8675, 0.8674, 0.8665, 0.8664, 0.8663, 0.8661, 0.8658, 0.8648, 0.8583, 0.8637, 0.8559, 0.8561, 0.8248, 0.8388, 0.8431, 0.8556, 0.8003, 0.8551, 0.8604, 0.7977, 0.8151, 0.8212, 0.7988, 0.7531, 0.8001, 0.7726, 0.8227, 0.7792, 0.8257, 0.8457, 0.8367, 0.7449, 0.7699, 0.7647, 0.7969, 0.7296, 0.7719, 0.8064, 0.6839, 0.6907, 0.6569, 0.7836, 0.7337, 0.7599, 0.6465, 0.7665, 0.7691, 0.6402, 0.7486, 0.6243, 0.6249, 0.7014, 0.6517, 0.5846, 0.5889, 0.4369, 0.6276, 0.5725, 0.5193, 0.5345, 0.4263, 0.5353, 0.4109, 0.3873, 0.4417, 0.2346, 0.1573, -0.0173, 0.4316, 0.3234, -0.3142, -0.3534, 0.0755, 1.0873, 1.0863, 1.0857, 1.0856, 1.0852, 1.0844, 1.0839, 1.0838, 1.0837, 1.0837, 1.0834, 1.0833, 1.0833, 1.0832, 1.0829, 1.0828, 1.0825, 1.0821, 1.082, 1.0816, 1.0813, 1.0813, 1.0808, 1.0805, 1.0805, 1.0804, 1.0804, 1.0804, 1.0803, 1.0802, 1.0621, 1.0564, 1.0795, 1.0736, 1.0702, 1.0531, 1.0176, 1.02, 1.0276, 1.0078, 1.0438, 1.061, 1.0132, 1.0652, 1.0624, 1.0483, 0.996, 1.0332, 1.0171, 1.0227, 1.0165, 0.9655, 1.0261, 1.0057, 1.0323, 1.0181, 0.9969, 0.9182, 0.9615, 0.9136, 1.0224, 0.9827, 0.9274, 0.9118, 0.9567, 0.9743, 0.9772, 0.9872, 0.8749, 0.8353, 0.9812, 0.8796, 0.8787, 0.8187, 0.9348, 0.9319, 0.8105, 0.7673, 0.9028, 0.5018, 0.6975, 0.7904, 0.6438, 0.8046, 0.3679, 0.6348, 0.5009, 0.8203, 0.5136, 0.3615, 0.576, 0.3324, 0.1023, 0.5713, 0.0074, -0.4334, -0.1935, 0.0496, 0.0404, 0.1678, 0.2296, 0.3887, 0.1272, -0.2079, 0.0404, -0.4061, 1.3623, 1.3614, 1.3608, 1.3607, 1.3598, 1.3594, 1.3586, 1.3584, 1.358, 1.3576, 1.3576, 1.3575, 1.3574, 1.3569, 1.3569, 1.3562, 1.3562, 1.3561, 1.3557, 1.3554, 1.3551, 1.3547, 1.3545, 1.3543, 1.3541, 1.354, 1.3539, 1.3536, 1.3536, 1.3528, 1.3521, 1.3524, 1.3439, 1.3384, 1.3457, 1.331, 1.3303, 1.3435, 1.3352, 1.332, 1.2409, 1.3196, 1.3394, 1.3386, 1.295, 1.3456, 1.1703, 1.2572, 1.252, 1.2509, 1.217, 1.2281, 1.2343, 1.2056, 1.1426, 1.1618, 1.2096, 1.2613, 1.2389, 1.1236, 1.2029, 1.3024, 1.0887, 1.0393, 1.0647, 0.9929, 0.8597, 1.132, 0.8652, 0.9772, 0.6689, 0.9514, 1.0123, 0.8964, 0.933, 0.6452, 0.9243, 0.7112, 0.6737, 0.5431, 0.8887, 0.4883, 0.364, 0.2329, 0.7089, 0.2342, 0.8059, 0.3396, 0.713, 0.299, 0.0645, 0.0145, 0.4165, -0.1145, 0.3473, 0.2599, 0.1537, 0.0356, 0.2586, -0.0272, 0.1666, -0.549, 0.2877, -0.0372, 0.1085, -0.5613, -0.2014, -0.507, -0.8193], \"logprob\": [30.0, 29.0, 28.0, 27.0, 26.0, 25.0, 24.0, 23.0, 22.0, 21.0, 20.0, 19.0, 18.0, 17.0, 16.0, 15.0, 14.0, 13.0, 12.0, 11.0, 10.0, 9.0, 8.0, 7.0, 6.0, 5.0, 4.0, 3.0, 2.0, 1.0, -10.8774, -10.7996, -11.1271, -10.0521, -10.8995, -11.0818, -11.2579, -10.1817, -11.2726, -11.4558, -11.2873, -10.344, -11.348, -11.0778, -11.3465, -10.5616, -11.5736, -11.3152, -11.0875, -11.4771, -11.6778, -10.9958, -11.5813, -10.4989, -10.6111, -11.3629, -11.5088, -11.3248, -11.6035, -10.2577, -7.0648, -9.3084, -8.8552, -8.9919, -6.0245, -7.5662, -8.0962, -9.5367, -4.3916, -9.8537, -10.4113, -4.7066, -6.2053, -6.7397, -5.858, -4.1061, -6.4577, -5.2298, -7.7069, -5.7553, -8.0822, -9.0954, -8.8323, -5.227, -6.2138, -6.2443, -7.3615, -5.4718, -6.8409, -7.9958, -4.3007, -4.7822, -4.1871, -7.3276, -6.137, -6.8779, -4.4866, -7.0765, -7.142, -4.7533, -6.8199, -5.1969, -5.3248, -6.2877, -5.7417, -5.1246, -5.2828, -3.9485, -5.7303, -5.332, -4.9493, -5.342, -4.8322, -5.4834, -5.107, -5.0571, -5.3816, -4.9301, -5.1935, -5.0074, -5.5418, -5.4643, -5.1743, -5.2278, -5.4276, -8.2814, -8.6113, -9.2802, -9.1235, -8.8218, -9.6487, -9.4355, -9.7803, -9.4423, -9.4689, -9.5082, -9.8794, -9.8776, -9.9607, -10.0051, -9.6681, -9.8673, -9.837, -9.9175, -10.1916, -10.2191, -10.3462, -10.4841, -10.3437, -10.0946, -10.5292, -10.3706, -10.4732, -10.4998, -10.1357, -7.1822, -6.6581, -9.8733, -9.3141, -9.1456, -7.5212, -5.315, -6.2621, -6.6613, -5.8098, -7.7323, -8.6008, -6.2625, -8.9111, -8.8616, -8.1732, -5.6274, -7.4542, -7.0252, -7.3014, -7.1609, -5.5267, -7.4994, -6.8709, -7.7496, -7.3081, -6.6384, -4.5884, -5.7985, -4.6529, -7.5457, -6.6798, -5.4265, -5.2652, -6.1434, -6.53, -6.6602, -6.8917, -5.2791, -5.1806, -6.9553, -5.8384, -5.8661, -5.2728, -6.486, -6.4602, -5.6205, -5.5146, -6.3879, -4.3583, -5.3175, -5.8576, -5.3979, -6.0242, -4.5065, -5.5815, -5.2997, -6.1767, -5.5497, -5.295, -5.7201, -5.2974, -5.0502, -5.7503, -5.1477, -4.8189, -5.1836, -5.3865, -5.4628, -5.5431, -5.6176, -5.6631, -5.603, -5.5587, -5.5937, -5.5708, -10.3723, -10.2975, -10.5593, -10.4287, -10.521, -10.4865, -10.6407, -10.8293, -10.7527, -10.4915, -10.2846, -9.0984, -10.7772, -10.9934, -10.2581, -8.0922, -10.286, -9.5448, -10.774, -10.5373, -10.5914, -10.9182, -10.8308, -10.8329, -11.1316, -10.4213, -10.9704, -10.6801, -11.1017, -11.2417, -9.0114, -10.3363, -9.5951, -9.0646, -9.9274, -8.7377, -9.0599, -10.0118, -9.6947, -9.5757, -6.6485, -9.3036, -10.0195, -10.014, -9.0611, -10.2934, -6.7137, -8.3914, -8.3378, -8.4109, -7.8358, -8.0448, -8.1543, -7.8187, -7.1534, -7.5305, -8.2089, -8.9063, -8.6175, -7.257, -8.261, -9.5319, -7.2313, -6.7432, -7.1788, -6.6748, -5.6143, -7.819, -5.7229, -6.728, -4.4835, -6.5839, -6.9988, -6.4409, -6.6996, -5.1705, -6.7626, -5.7117, -5.6353, -5.1589, -6.7893, -5.2562, -4.7911, -4.7573, -6.448, -5.2019, -6.7547, -5.6527, -6.5398, -5.622, -5.1941, -5.1502, -5.9423, -4.9889, -5.8516, -5.723, -5.5765, -5.4088, -5.7752, -5.3779, -5.6723, -4.9345, -5.9254, -5.6713, -5.8639, -5.4214, -5.7046, -5.6401, -5.6633]}, \"token.table\": {\"Topic\": [1, 2, 3, 1, 1, 1, 3, 1, 2, 3, 1, 1, 2, 3, 1, 2, 3, 1, 2, 3, 1, 2, 3, 1, 3, 2, 1, 2, 3, 1, 3, 1, 2, 3, 1, 2, 3, 1, 2, 1, 2, 3, 1, 2, 3, 2, 2, 2, 1, 2, 3, 1, 2, 3, 1, 2, 3, 1, 2, 3, 1, 2, 3, 1, 2, 3, 1, 2, 3, 1, 2, 3, 1, 2, 3, 1, 2, 3, 1, 2, 3, 1, 2, 3, 1, 2, 3, 1, 2, 3, 1, 2, 3, 3, 1, 2, 3, 1, 2, 3, 1, 3, 1, 2, 3, 3, 1, 1, 3, 1, 2, 3, 1, 2, 3, 1, 3, 1, 2, 3, 1, 2, 3, 1, 2, 3, 1, 2, 3, 1, 2, 3, 1, 2, 3, 1, 2, 3, 1, 3, 1, 3, 1, 2, 3, 1, 2, 3, 1, 2, 3, 1, 2, 3, 1, 2, 3, 1, 2, 3, 1, 2, 3, 1, 2, 3, 1, 2, 3, 3, 1, 2, 3, 1, 2, 3, 1, 2, 3, 1, 2, 3, 1, 2, 3, 1, 1, 2, 3, 2, 1, 2, 3, 1, 1, 2, 3, 1, 1, 2, 1, 2, 3, 1, 2, 3, 1, 2, 3, 1, 2, 3, 2, 3, 2, 1, 2, 1, 2, 3, 1, 2, 3, 1, 3, 2, 1, 2, 3, 1, 2, 3, 1, 2, 3, 1, 2, 3, 1, 2, 3, 1, 2, 3, 1, 2, 3, 1, 2, 3, 1, 2, 3, 1, 2, 3, 1, 2, 3, 2, 1, 2, 3, 1, 2, 3, 1, 2, 3, 1, 2, 3, 1, 2, 3, 1, 2, 3, 1, 2, 3, 1, 2, 3, 1, 2, 3, 1, 3, 2, 3, 1, 2, 3, 1, 2, 3, 1, 2, 3, 1, 2, 3, 1, 2, 3, 1, 3, 3, 1, 1, 2, 3, 1, 2, 3, 1, 2, 3, 1, 2, 3, 1, 2, 3, 1, 2, 3, 3, 1, 2, 3, 1, 1, 2, 3, 1, 2, 3, 1, 2, 3, 1, 2, 3, 1, 2, 3, 1, 2, 3, 1, 2, 3, 1, 2, 3, 1, 2, 3, 2, 3, 1, 3, 1, 2, 3, 1, 2, 3, 1, 2, 3, 1, 2, 3, 1, 2, 3, 1, 2, 3, 1, 2, 3, 1, 2, 3, 1, 2, 3, 1, 3, 1, 2, 3, 1, 2, 3, 1, 2, 3, 1, 2, 3, 1, 2, 3, 1, 2, 3, 1, 2, 3, 1, 2, 3, 2, 1, 2, 3, 1, 2, 3, 1, 2, 3, 1, 1, 2, 3, 1, 2, 3, 1, 2, 3, 2, 3, 1, 2, 3, 1, 2, 3, 1, 2, 3, 1, 2, 3, 1, 2, 3, 1, 2, 3, 1, 2, 3, 1, 2, 3, 1, 2, 3, 1, 3, 1, 2, 3, 3, 1, 2, 3, 1, 2, 3, 1, 1, 3, 1, 2, 3, 1, 2, 3, 1, 2, 3, 1, 2, 3, 1, 2, 3, 1, 2, 3, 1, 2, 3, 1, 2, 3, 2, 3, 1, 3, 1, 2, 3, 1, 2, 3, 1, 2, 3, 1, 2, 3, 1, 2, 3, 1, 2, 3, 1, 2, 3, 1, 3, 1, 2, 3, 1, 2, 3, 1, 2, 3, 2, 1, 2, 3, 1, 2, 3, 1, 2, 3, 1, 2, 3, 1, 2, 3, 1, 2, 3, 1, 2, 3, 1, 2, 3, 3, 2, 1, 3, 2, 1, 2, 3, 1, 2, 3, 1, 2, 3, 1, 1, 2, 3, 1, 2, 3, 1, 2, 3, 1, 2, 3, 1, 2, 3, 1, 2, 3, 1, 2, 3, 1, 3, 1, 2, 3, 1, 2, 3, 1, 2, 3, 1, 2, 3, 1, 2, 3, 1, 2, 3, 2, 3, 1, 2, 3, 1, 2, 3, 1, 2, 3, 1, 2, 3, 1, 2, 3, 1, 2, 1, 2, 3, 1, 2, 3, 1, 2, 3, 1, 2, 3, 1, 2, 3, 1, 2, 3, 1, 2, 3, 3, 1, 1, 2, 3, 1, 2, 3, 2, 3, 1, 2, 3, 2, 1, 3, 1, 2, 3, 2, 1, 2, 3, 1, 2, 3, 1, 2, 3, 1, 2, 3, 1, 2, 3, 1, 2, 3, 1, 2, 3, 1, 2, 3, 3, 1, 2, 3, 1, 2, 3, 1, 3, 1, 2, 3, 1, 2, 3, 1, 2, 3, 1, 2, 3, 1, 2, 3, 1, 3, 1, 2, 1, 2, 3, 2, 3, 1, 2, 3, 1, 2, 3, 1, 2, 3, 2], \"Freq\": [0.13399764382583773, 0.3727350223090692, 0.4932473755732448, 0.9693963760455071, 0.9809489433562026, 0.9841953110745694, 0.017894460201355808, 0.9746533799876197, 0.0105940584781263, 0.0105940584781263, 0.9679934823667534, 0.9733466182425672, 0.015573545891881074, 0.007786772945940537, 0.004288833765276805, 0.9950094335442188, 0.004288833765276805, 0.9693459914119125, 0.012386793468238724, 0.018421385157893485, 0.975345232521245, 0.006020649583464476, 0.021072273542125663, 0.01682230526244347, 0.9756937052217213, 0.9930785030084514, 0.8556989250463797, 0.07440378109448241, 0.06996838430792608, 0.0161046461495029, 0.982383415119677, 0.9144239856674785, 0.04833383924242386, 0.03723011941646162, 0.769525368354952, 0.1444104983754979, 0.08604873834236565, 0.9755785638090954, 0.0232280610430737, 0.7924042992220527, 0.0962305412796216, 0.11136792979551714, 0.8826148550431893, 0.04099855500921912, 0.07639482299854494, 0.9937635180989693, 0.9929973772021011, 0.9947032813808242, 0.06867500172523533, 0.04879539596266721, 0.881931601103022, 0.479309776373789, 0.10894221156796795, 0.4117512233915409, 0.0023489890356734027, 0.9724814607687888, 0.023489890356734027, 0.02194455586517481, 0.9268249920329513, 0.051037717050065656, 0.23520932203183545, 0.16449607169817063, 0.6002267738132944, 0.009052963335040756, 0.018105926670081512, 0.9686670768493608, 0.028357957516521395, 0.023631631263767827, 0.9452652505507131, 0.013052340972393486, 0.013052340972393486, 0.965873231957118, 0.017025191660574673, 0.9309478375312713, 0.05204659351749824, 0.015994242677339288, 0.003998560669334822, 0.9836459246563661, 0.2005264967449484, 0.12823477881014533, 0.6713167305041075, 0.21438898293153338, 0.7417539355648541, 0.0438361579338483, 0.7010949621457924, 0.1702993263425118, 0.12861681235455902, 0.0194925853755234, 0.9446406758907495, 0.03598631146250474, 0.010442423672988775, 0.938657861271991, 0.05047171441944575, 0.9840833268894648, 0.043575655094310446, 0.4418500571839349, 0.5145470037315162, 0.1521114410646018, 0.6406296994502495, 0.20728390139347425, 0.018713418732564227, 0.991811192825904, 0.7883025281406837, 0.12163718535108473, 0.09005830069263004, 0.9941534872064798, 0.9872495019314311, 0.9656555582913678, 0.023552574592472387, 0.09042278716462997, 0.05602281378678161, 0.8531193397706393, 0.10994905495083476, 0.07574268229946395, 0.8142338347192375, 0.021424100701008312, 0.9855086322463824, 0.38904278668062964, 0.11532813959133244, 0.49564544202656524, 0.7402811970136165, 0.09986916374691446, 0.15984782341339743, 0.15194223558876938, 0.7248180035498282, 0.12320306020604144, 0.027511078374080733, 0.9358509936562291, 0.0365233281862796, 0.053500039053420115, 0.8389696787893475, 0.10754169829973201, 0.02227543231936499, 0.8299286071714926, 0.1476591157533664, 0.019602743830824606, 0.019602743830824606, 0.9605344477104056, 0.01775201409444687, 0.9763607751945779, 0.01605149672696972, 0.9791413003451529, 0.221027378989363, 0.06456979610925212, 0.7144068466959561, 0.38658005903735454, 0.5553048005235578, 0.05810489181674973, 0.9581323330191448, 0.011946787194752428, 0.031061646706356312, 0.2683988072861378, 0.5957659593982616, 0.1358640909020001, 0.2564603503487244, 0.08922234037342176, 0.6542971627384262, 0.003645410682699309, 0.021872464096195855, 0.9769700629634148, 0.8196429205902174, 0.036722107512484246, 0.14362728766636562, 0.20773326731671676, 0.007989741050642951, 0.7838823719686363, 0.11266940806751755, 0.0033632659124632103, 0.8828573020215926, 0.9807885909518237, 0.002309393229286575, 0.9953484818225138, 0.002309393229286575, 0.35702505969622356, 0.2881165976519002, 0.35486015480579364, 0.02694856120202995, 0.11024411400830435, 0.8623539584649584, 0.0018730264126012417, 0.9964500515038606, 0.0018730264126012417, 0.007677712228303426, 0.11823676831587276, 0.8740307600700621, 0.9953415025236189, 0.11537014511201975, 0.7630300602646808, 0.12162699160619013, 0.9886026268129104, 0.6292066321522712, 0.10128875523733444, 0.2694988583672833, 0.9741295182677315, 0.047614637693398104, 0.8837185627401495, 0.06872607194980108, 0.9780263871141378, 0.9901411112303098, 0.02250320707341613, 0.0027146515094322635, 0.04071977264148395, 0.9555573313201567, 0.30005114409600175, 0.5557954486243833, 0.14414570996060894, 0.007468776934025325, 0.9858785552913429, 0.011203165401037987, 0.023756685498805868, 0.9648869187207306, 0.011573769858392601, 0.9975141242199367, 0.003653897890915519, 0.9922536128483502, 0.008207397546611634, 0.9930951031400077, 0.8954994458501928, 0.019489769413354636, 0.08501025439239644, 0.011377016626409607, 0.026546372128289083, 0.9632540743693467, 0.03769074935313983, 0.9548323169462091, 0.9967442505669435, 0.6196021477527046, 0.20678247103478956, 0.1736181628857389, 0.9203362634155058, 0.015300686008570336, 0.06502791553642392, 0.012712343152934574, 0.9352652462516151, 0.051454722285687565, 0.8521110080677983, 0.08124805787213615, 0.066656338184408, 0.38566581066942734, 0.2736249812323743, 0.3407122160101503, 0.024707986054086035, 0.9218707307328782, 0.05341130602330088, 0.011175341956050463, 0.8506485143351075, 0.13820393306594952, 0.026836557095258617, 0.9303339793022988, 0.04258067059114368, 0.0200064375314324, 0.9119601108077936, 0.06811715635701984, 0.009281197034881145, 0.967822601915106, 0.022945181558456162, 0.09404545844833696, 0.7758042858659452, 0.13017325241595287, 0.9970651776425141, 0.281208662553591, 0.036904023957164175, 0.681986362728394, 0.04839175454102643, 0.8759325944443429, 0.07572542569388285, 0.318616829963818, 0.3828697092297449, 0.29850322876679664, 0.8784461842388788, 0.05993204464364191, 0.0618422293334791, 0.1800305302041682, 0.7642805527535443, 0.05560691429087516, 0.1199557439130717, 0.10289091005096108, 0.7774537544826279, 0.9503651996538748, 0.0025713344146479295, 0.04679828634659232, 0.0065712152148991124, 0.992253497449766, 0.0065712152148991124, 0.13949480242095977, 0.3471870638032777, 0.5133999183281461, 0.02592628790724234, 0.9657542245447771, 0.014361026952072841, 0.9909108596930261, 0.6389565871736572, 0.3022438946512508, 0.058783694789295904, 0.9680503304714234, 0.015447611656458885, 0.015447611656458885, 0.9372598217628219, 0.02441911300331576, 0.03831087506742428, 0.9663683922461104, 0.018985626566721224, 0.013289938596704857, 0.014958362120354292, 0.014958362120354292, 0.972293537823029, 0.9801038279587548, 0.016335063799312582, 0.9841361915765761, 0.9906556764425899, 0.07307145663279657, 0.19427381284408193, 0.7329023344906244, 0.005370241807012455, 0.9934947342973042, 0.9740148815072809, 0.888919360205858, 0.025850156925032813, 0.0852356525636217, 0.011674250193233388, 0.058371250966166945, 0.9281028903620544, 0.017819599645977437, 0.1747691503740095, 0.8073649378062085, 0.019368815819492517, 0.019368815819492517, 0.9878096067941183, 0.9835946301833803, 0.0031239225738972846, 0.9965313010732338, 0.0031239225738972846, 0.981189181485626, 0.1070050208762823, 0.005350251043814116, 0.8881416732731432, 0.48078753327256024, 0.2733395353097113, 0.24588674904668287, 0.043424776967975316, 0.03256858272598149, 0.9227765105694755, 0.6905209396657445, 0.15568029087410556, 0.15379772163640607, 0.2885071718469193, 0.486131948761742, 0.22535339625025355, 0.20682116623373478, 0.4654845312409741, 0.3276646014029602, 0.14621160173503933, 0.21718567256010987, 0.6367603032680358, 0.6325113364957455, 0.21211774347395554, 0.1553481108715076, 0.4430462334898867, 0.35037540013018265, 0.20658167485305567, 0.013094193815076694, 0.9820645361307521, 0.9746474707719743, 0.022666220250511033, 0.9483562160537513, 0.018202614511588316, 0.03276470612085897, 0.9121993654554058, 0.022564634024594354, 0.06526212447213504, 0.38720525283453733, 0.4692114655146786, 0.1435910189970105, 0.042167643846459345, 0.837534739473368, 0.12029691825317115, 0.21789554855601886, 0.3472064267550604, 0.4349297136974425, 0.9131830784519605, 0.051030819089962494, 0.035811101115763154, 0.9773578492982558, 0.022212678393142178, 0.011106339196571089, 0.9145731140953536, 0.05472706861187752, 0.030705092559556234, 0.9339077491231083, 0.036480771450121414, 0.029626808329189513, 0.9673104835958173, 0.02712085468025656, 0.004404238931672052, 0.9953579985578839, 0.004404238931672052, 0.007425047627197758, 0.9751562550386389, 0.017325111130128103, 0.012262476206153306, 0.9735530216528143, 0.014452204100109254, 0.28529566910757664, 0.07221472390399941, 0.6423309652513632, 0.004579170750547239, 0.993680052868751, 0.004579170750547239, 0.44124327952810644, 0.17550052729423632, 0.38323042063834184, 0.9354303130007909, 0.026793147196784797, 0.03785988190850025, 0.020746713518065327, 0.9332674839013579, 0.046010856592483586, 0.9959850329917049, 0.0438243418900693, 0.930140938620069, 0.026212690476303133, 0.3205088753075687, 0.49635854347128516, 0.18318284865428006, 0.020943735358829565, 0.959921203946355, 0.018616653652292946, 0.9815408460088532, 0.02010470403435293, 0.945479553615542, 0.03406630405820913, 0.00623970590180317, 0.01247941180360634, 0.9796338265830977, 0.0014598193616789646, 0.017517832340147574, 0.9809986110482641, 0.01371797704930591, 0.9739763705007196, 0.16186466380831915, 0.04611528883427896, 0.7922606621729126, 0.5676902565133326, 0.20160681684257628, 0.2307027727183671, 0.6051436470822031, 0.1330293335611128, 0.26182409974760756, 0.013093557299050764, 0.013093557299050764, 0.9820167974288073, 0.9281502419319063, 0.01751469861284019, 0.054347079519254125, 0.10763796102586827, 0.8109487762169969, 0.08137087239356089, 0.42536850275641, 0.4830545169083746, 0.09159959553125882, 0.2948979675105542, 0.6348633984944821, 0.07025222247320023, 0.34672599800728787, 0.03902220909472702, 0.614413381415065, 0.9818311055295429, 0.014545646007845081, 0.009549960182568451, 0.940419763241346, 0.05001163358766111, 0.9692552046366125, 0.9738693164792566, 0.019874884009780748, 0.009937442004890374, 0.1090299744651043, 0.4092484877231252, 0.4817163567284371, 0.9876864011873233, 0.9886455299561341, 0.013543089451453891, 0.08925338712916596, 0.5986218433257557, 0.3120747801719089, 0.01497675330754138, 0.02995350661508276, 0.9547680233557629, 0.8685102725453285, 0.08065693141647227, 0.05080049824020906, 0.8993308693152462, 0.026450907921036652, 0.07398587288058078, 0.8871894003718697, 0.042087490445852756, 0.07064242496663782, 0.40377437484324297, 0.2773105970697762, 0.31892409581299075, 0.3601961976169903, 0.358163997404758, 0.2816629494153922, 0.0368866832035726, 0.9110837574365984, 0.05203966339283365, 0.9912577616250172, 0.006354216420673187, 0.9842163983718009, 0.014912369672300013, 0.8895513717134057, 0.02894136171177625, 0.08151971980551767, 0.9818038719498428, 0.008537424973476893, 0.008537424973476893, 0.937958199530087, 0.011054811055205014, 0.05017183478900737, 0.2390696332495983, 0.6759737471579416, 0.08496797728149531, 0.06598627974727143, 0.8977352888543416, 0.036372924933861815, 0.037447808044076505, 0.8989921499731569, 0.06363679798339798, 0.027787759598950305, 0.8915065429227139, 0.080647181993946, 0.013314279410762573, 0.9852566763964304, 0.25295880035442114, 0.5623944237791745, 0.1846129426633537, 0.07272569740706626, 0.8071848440429855, 0.12010841165217644, 0.014161189525315074, 0.9555076300765224, 0.03055835634410095, 0.98981815701429, 0.018060900615513967, 0.9315622422738783, 0.050380406980117906, 0.8652797885202835, 0.05863014163517022, 0.07605218526194135, 0.006885796948754167, 0.9915547606206, 0.006885796948754167, 0.03580928669730975, 0.3983230532626677, 0.5656541028297262, 0.3366626846994179, 0.42335830622674725, 0.24000662871352585, 0.7792983024444973, 0.168140524964721, 0.05254549598476002, 0.6359296528568025, 0.2181528372817215, 0.14592169207285274, 0.021537606196395342, 0.8801635564499257, 0.09825912504346261, 0.9842268920706301, 0.9934019113930208, 0.9853443700561687, 0.01791535218283943, 0.9956202602446594, 0.7669551505136918, 0.1081842293998208, 0.12487573232121402, 0.18175408350448158, 0.48138407704410735, 0.3369114095302732, 0.09538436054218334, 0.20915188875249657, 0.6954387014075549, 0.988139361502156, 0.0987885412527669, 0.8570002051480303, 0.04420498927652994, 0.10726818278287845, 0.024754196026818102, 0.8677720940512346, 0.17268047657616215, 0.7523935050818494, 0.07496289161711472, 0.8283581121175885, 0.03931487197785752, 0.1322976644334253, 0.03529696836963843, 0.8544107422809302, 0.11018630337611995, 0.09878828563530948, 0.02853883807242274, 0.8715322088270636, 0.09045019000901926, 0.06820834000680141, 0.8407419300838347, 0.020919876598070184, 0.9832342001092987, 0.18782364696492865, 0.296683373147024, 0.5155401659340126, 0.006289976983049516, 0.9812364093557245, 0.012579953966099032, 0.7282586305422144, 0.12910442091762794, 0.1426477278178105, 0.954627878294726, 0.028077290538080175, 0.01754830658630011, 0.3913358242194332, 0.39797570539789207, 0.21066848136890515, 0.09257644118793043, 0.7568266931991688, 0.15057958180876338, 0.022581579616113408, 0.9710079234928766, 0.9666590709725219, 0.013062960418547594, 0.01959444062782139, 0.17802697231393746, 0.8102622441174705, 0.011731596198612025, 0.8140478570638765, 0.1029582547468007, 0.08299884785729353, 0.014196584959285857, 0.028393169918571715, 0.9582694847517954, 0.02959271074139273, 0.009864236913797576, 0.9666952175521625, 0.9767006219870314, 0.017758193127036935, 0.13743477724327094, 0.015585387110061652, 0.847278317437897, 0.03945553337655026, 0.8429085140458703, 0.11762964332807727, 0.01885641922212121, 0.8941284355198234, 0.08688274173230531, 0.784186574163402, 0.0636143291710454, 0.1521788966155551, 0.05074672622096305, 0.9031094031658814, 0.04618863703943942, 0.32320749249778596, 0.3821497076555684, 0.29464018918018364, 0.3270566050399776, 0.35360040606276505, 0.31934437628509804, 0.9854838962506054, 0.9783586215985731, 0.29737794521867983, 0.3390172390502654, 0.3636059599766758, 0.17807618336441106, 0.07132494346956517, 0.7505651335969474, 0.012743269020243383, 0.9812317145587405, 0.0013481401061598165, 0.9976236785582642, 0.0013481401061598165, 0.9938846272014124, 0.016623110512508657, 0.9807635202380108, 0.9115037367902942, 0.010449337370611838, 0.07837003027958879, 0.995000882700248, 0.019655633246039136, 0.009827816623019568, 0.9729538456789373, 0.9679786643239596, 0.011255565864232089, 0.022511131728464178, 0.3036067624438436, 0.36914894665005055, 0.3272307585093775, 0.026974344996952105, 0.08092303499085632, 0.8931505343435252, 0.10231302927961243, 0.30082416917926863, 0.5969502910956979, 0.021827531442469697, 0.9197879221729591, 0.058206750513252525, 0.1308751577323722, 0.0248376211754867, 0.8435238268444136, 0.3814920214314455, 0.2609165295033654, 0.3575921352906988, 0.9743393874306625, 0.872380539762332, 0.06961421967156865, 0.05799948836902481, 0.7016657707308797, 0.20418544875262606, 0.09412301204950796, 0.9849651841559353, 0.012791755638388769, 0.7371400358049726, 0.1477056493590378, 0.11515210163846039, 0.7674741969488817, 0.0920827778002627, 0.14046375789090887, 0.88417811078372, 0.04631967556492963, 0.06947951334739444, 0.5194394728670333, 0.22420181914777954, 0.25637734739188833, 0.4061649541318608, 0.3503675807263503, 0.24344139660650016, 0.015170957149394919, 0.9861122147106698, 0.008549724018821401, 0.9917679861832824, 0.1988994358831501, 0.1817498845225585, 0.6193286434654888, 0.9959811662909329, 0.006552507672966663, 0.012649718535200274, 0.9722212245625353, 0.01626392383097178, 0.8865060021309248, 0.027301246791288657, 0.08629704445522277, 0.004260658237664815, 0.992733369375902, 0.004260658237664815, 0.9954733277785366], \"Term\": [\"$\", \"$\", \"$\", \"12:50\", \"2:15\", \"2hrs\", \"2hrs\", \"40min\", \"40min\", \"40min\", \"6:40\", \"7:15\", \"7:15\", \"7:15\", \"aber\", \"aber\", \"aber\", \"acknowledge\", \"acknowledge\", \"acknowledge\", \"acknowledgement\", \"acknowledgement\", \"acknowledgement\", \"aliante\", \"aliante\", \"alle\", \"an_hour\", \"an_hour\", \"an_hour\", \"andrew\", \"andrew\", \"apologize\", \"apologize\", \"apologize\", \"arrive\", \"arrive\", \"arrive\", \"as_molass\", \"as_molass\", \"ask\", \"ask\", \"ask\", \"attitude\", \"attitude\", \"attitude\", \"auch\", \"auf\", \"aus\", \"bakery\", \"bakery\", \"bakery\", \"bar\", \"bar\", \"bar\", \"bbq_pork\", \"bbq_pork\", \"bbq_pork\", \"beef\", \"beef\", \"beef\", \"beer\", \"beer\", \"beer\", \"bianco\", \"bianco\", \"bianco\", \"biryani\", \"biryani\", \"biryani\", \"bit_steep\", \"bit_steep\", \"bit_steep\", \"bland\", \"bland\", \"bland\", \"blizzard\", \"blizzard\", \"blizzard\", \"bottle\", \"bottle\", \"bottle\", \"bread\", \"bread\", \"bread\", \"bring\", \"bring\", \"bring\", \"broccoli\", \"broccoli\", \"broccoli\", \"broth\", \"broth\", \"broth\", \"buen\", \"buffet\", \"buffet\", \"buffet\", \"burger\", \"burger\", \"burger\", \"buster\", \"buster\", \"busy\", \"busy\", \"busy\", \"c'\", \"call_ahead_seating\", \"caller\", \"caller\", \"cart\", \"cart\", \"cart\", \"casino\", \"casino\", \"casino\", \"ce\", \"ce\", \"charge\", \"charge\", \"charge\", \"check\", \"check\", \"check\", \"cheese\", \"cheese\", \"cheese\", \"chewy\", \"chewy\", \"chewy\", \"chicken\", \"chicken\", \"chicken\", \"chinese\", \"chinese\", \"chinese\", \"chocolate_cover_strawberry\", \"chocolate_cover_strawberry\", \"chocolate_cover_strawberry\", \"chocolate_syrup\", \"chocolate_syrup\", \"ck\", \"ck\", \"club\", \"club\", \"club\", \"cold\", \"cold\", \"cold\", \"completely_ignore\", \"completely_ignore\", \"completely_ignore\", \"cook\", \"cook\", \"cook\", \"crowd\", \"crowd\", \"crowd\", \"cupcake\", \"cupcake\", \"cupcake\", \"customer\", \"customer\", \"customer\", \"dance\", \"dance\", \"dance\", \"dance_floor\", \"dance_floor\", \"dance_floor\", \"dark_wood\", \"das\", \"das\", \"das\", \"day\", \"day\", \"day\", \"de\", \"de\", \"de\", \"der\", \"der\", \"der\", \"dim_sum\", \"dim_sum\", \"dim_sum\", \"discourteous\", \"dish\", \"dish\", \"dish\", \"dort\", \"drink\", \"drink\", \"drink\", \"drive_thru_speaker\", \"dry\", \"dry\", \"dry\", \"dumbfound\", \"dysfunctional\", \"dysfunctional\", \"earl\", \"earl\", \"earl\", \"eat\", \"eat\", \"eat\", \"egg_drop\", \"egg_drop\", \"egg_drop\", \"egg_roll\", \"egg_roll\", \"egg_roll\", \"ein\", \"ein\", \"eine\", \"einen\", \"einen\", \"employee\", \"employee\", \"employee\", \"en\", \"en\", \"en\", \"et\", \"et\", \"etwa\", \"experience\", \"experience\", \"experience\", \"extremely_rude\", \"extremely_rude\", \"extremely_rude\", \"fatty\", \"fatty\", \"fatty\", \"finally\", \"finally\", \"finally\", \"find\", \"find\", \"find\", \"fish\", \"fish\", \"fish\", \"flavor\", \"flavor\", \"flavor\", \"flavorless\", \"flavorless\", \"flavorless\", \"fried\", \"fried\", \"fried\", \"fried_rice\", \"fried_rice\", \"fried_rice\", \"fry\", \"fry\", \"fry\", \"f\\u00fcr\", \"game\", \"game\", \"game\", \"greasy\", \"greasy\", \"greasy\", \"great\", \"great\", \"great\", \"greet\", \"greet\", \"greet\", \"gross\", \"gross\", \"gross\", \"groupon\", \"groupon\", \"groupon\", \"hang_up\", \"hang_up\", \"hang_up\", \"hier\", \"hier\", \"hier\", \"high\", \"high\", \"high\", \"hob\", \"hob\", \"hollywood\", \"hollywood\", \"horrible\", \"horrible\", \"horrible\", \"host_stand\", \"host_stand\", \"host_stand\", \"hostess\", \"hostess\", \"hostess\", \"hostess_stand\", \"hostess_stand\", \"hostess_stand\", \"hot_fudge\", \"hot_fudge\", \"hot_fudge\", \"huge_inconvenience\", \"huge_inconvenience\", \"hunter\", \"i.d\", \"ice_cream\", \"ice_cream\", \"ice_cream\", \"ich\", \"ich\", \"idli\", \"ignore\", \"ignore\", \"ignore\", \"india\", \"india\", \"india\", \"indian\", \"indian\", \"indian\", \"indians\", \"indians\", \"indians\", \"ireland\", \"ist\", \"ist\", \"ist\", \"julie\", \"karaoke\", \"karaoke\", \"karaoke\", \"know\", \"know\", \"know\", \"le\", \"le\", \"le\", \"leave\", \"leave\", \"leave\", \"like\", \"like\", \"like\", \"little\", \"little\", \"little\", \"local\", \"local\", \"local\", \"long\", \"long\", \"long\", \"look\", \"look\", \"look\", \"mais\", \"mais\", \"make_amend\", \"make_amend\", \"make_eye_contact\", \"make_eye_contact\", \"make_eye_contact\", \"manager\", \"manager\", \"manager\", \"meal\", \"meal\", \"meal\", \"meat\", \"meat\", \"meat\", \"menu\", \"menu\", \"menu\", \"min\", \"min\", \"min\", \"minuet\", \"minuet\", \"minuet\", \"minute\", \"minute\", \"minute\", \"minute_later\", \"minute_later\", \"minute_later\", \"minutes\", \"minutes\", \"mit\", \"mit\", \"mit\", \"mongolian_beef\", \"mongolian_beef\", \"mongolian_beef\", \"mushy\", \"mushy\", \"mushy\", \"music\", \"music\", \"music\", \"nicht\", \"nicht\", \"nicht\", \"night\", \"night\", \"night\", \"no_apology\", \"no_apology\", \"no_apology\", \"noodle\", \"noodle\", \"noodle\", \"nur\", \"oil\", \"oil\", \"oil\", \"ok\", \"ok\", \"ok\", \"orange_chicken\", \"orange_chicken\", \"orange_chicken\", \"overheard\", \"pad_thai\", \"pad_thai\", \"pad_thai\", \"palace_station\", \"palace_station\", \"palace_station\", \"pan_roast\", \"pan_roast\", \"pan_roast\", \"para\", \"para\", \"parking\", \"parking\", \"parking\", \"pay\", \"pay\", \"pay\", \"people\", \"people\", \"people\", \"pero\", \"pero\", \"pero\", \"phone\", \"phone\", \"phone\", \"piece\", \"piece\", \"piece\", \"pizza\", \"pizza\", \"pizza\", \"plate\", \"plate\", \"plate\", \"play\", \"play\", \"play\", \"podium\", \"podium\", \"pork\", \"pork\", \"pork\", \"postmates\", \"prep_area\", \"prep_area\", \"prep_area\", \"price\", \"price\", \"price\", \"pubic_hair\", \"pull_forward\", \"pull_forward\", \"quality\", \"quality\", \"quality\", \"que\", \"que\", \"que\", \"ready\", \"ready\", \"ready\", \"register\", \"register\", \"register\", \"reservation\", \"reservation\", \"reservation\", \"restaurant\", \"restaurant\", \"restaurant\", \"review\", \"review\", \"review\", \"rice\", \"rice\", \"rice\", \"roast_pork\", \"roast_pork\", \"robin\", \"robin\", \"rude\", \"rude\", \"rude\", \"rude_tone\", \"rude_tone\", \"rude_tone\", \"rudely\", \"rudely\", \"rudely\", \"salad\", \"salad\", \"salad\", \"salmon\", \"salmon\", \"salmon\", \"salt\", \"salt\", \"salt\", \"salty\", \"salty\", \"salty\", \"sambar\", \"sambar\", \"sandwich\", \"sandwich\", \"sandwich\", \"sauce\", \"sauce\", \"sauce\", \"scallop\", \"scallop\", \"scallop\", \"schon\", \"seasoning\", \"seasoning\", \"seasoning\", \"seat\", \"seat\", \"seat\", \"sehr\", \"sehr\", \"sehr\", \"selection\", \"selection\", \"selection\", \"serve\", \"serve\", \"serve\", \"server\", \"server\", \"server\", \"service\", \"service\", \"service\", \"shrimp\", \"shrimp\", \"shrimp\", \"shuffleboard\", \"sich\", \"silver_wear\", \"silver_wear\", \"sind\", \"sit\", \"sit\", \"sit\", \"small\", \"small\", \"small\", \"smoke\", \"smoke\", \"smoke\", \"sofa\", \"soggy\", \"soggy\", \"soggy\", \"song\", \"song\", \"song\", \"soup\", \"soup\", \"soup\", \"speak\", \"speak\", \"speak\", \"spicy\", \"spicy\", \"spicy\", \"sport\", \"sport\", \"sport\", \"sport_bar\", \"sport_bar\", \"sport_bar\", \"sport_game\", \"sport_game\", \"spot\", \"spot\", \"spot\", \"squid\", \"squid\", \"squid\", \"staff\", \"staff\", \"staff\", \"stand_around\", \"stand_around\", \"stand_around\", \"star\", \"star\", \"star\", \"steak\", \"steak\", \"steak\", \"strawberry_shortcake\", \"strawberry_shortcake\", \"supervisor\", \"supervisor\", \"supervisor\", \"sushi\", \"sushi\", \"sushi\", \"table\", \"table\", \"table\", \"taco_shop\", \"taco_shop\", \"taco_shop\", \"tacos_el_gordo\", \"tacos_el_gordo\", \"tacos_el_gordo\", \"talk_amongst\", \"talk_amongst\", \"tao\", \"tao\", \"tao\", \"taste\", \"taste\", \"taste\", \"tasteless\", \"tasteless\", \"tasteless\", \"tell\", \"tell\", \"tell\", \"thai\", \"thai\", \"thai\", \"thing\", \"thing\", \"thing\", \"think\", \"think\", \"think\", \"tilted_kilt\", \"travis\", \"try\", \"try\", \"try\", \"tv\", \"tv\", \"tv\", \"una\", \"una\", \"und\", \"und\", \"und\", \"und_die\", \"une\", \"une\", \"unprofessional\", \"unprofessional\", \"unprofessional\", \"uns\", \"upsell\", \"upsell\", \"upsell\", \"urgency\", \"urgency\", \"urgency\", \"use\", \"use\", \"use\", \"vanilla\", \"vanilla\", \"vanilla\", \"vegas\", \"vegas\", \"vegas\", \"vegetable\", \"vegetable\", \"vegetable\", \"venue\", \"venue\", \"venue\", \"visit\", \"visit\", \"visit\", \"waffle_cone\", \"wait\", \"wait\", \"wait\", \"waiter\", \"waiter\", \"waiter\", \"waiting_list\", \"waiting_list\", \"waitress\", \"waitress\", \"waitress\", \"walk\", \"walk\", \"walk\", \"walk_away\", \"walk_away\", \"walk_away\", \"want\", \"want\", \"want\", \"way\", \"way\", \"way\", \"weary_traveler\", \"weary_traveler\", \"wie\", \"wie\", \"wine\", \"wine\", \"wine\", \"wir\", \"wir\", \"wonton\", \"wonton\", \"wonton\", \"yell\", \"yell\", \"yell\", \"zu\", \"zu\", \"zu\", \"zum\"]}, \"R\": 30, \"lambda.step\": 0.01, \"plot.opts\": {\"xlab\": \"PC1\", \"ylab\": \"PC2\"}, \"topic.order\": [3, 1, 2]};\n",
       "\n",
       "function LDAvis_load_lib(url, callback){\n",
       "  var s = document.createElement('script');\n",
       "  s.src = url;\n",
       "  s.async = true;\n",
       "  s.onreadystatechange = s.onload = callback;\n",
       "  s.onerror = function(){console.warn(\"failed to load library \" + url);};\n",
       "  document.getElementsByTagName(\"head\")[0].appendChild(s);\n",
       "}\n",
       "\n",
       "if(typeof(LDAvis) !== \"undefined\"){\n",
       "   // already loaded: just create the visualization\n",
       "   !function(LDAvis){\n",
       "       new LDAvis(\"#\" + \"ldavis_el100426750043487205740650985\", ldavis_el100426750043487205740650985_data);\n",
       "   }(LDAvis);\n",
       "}else if(typeof define === \"function\" && define.amd){\n",
       "   // require.js is available: use it to load d3/LDAvis\n",
       "   require.config({paths: {d3: \"https://cdnjs.cloudflare.com/ajax/libs/d3/3.5.5/d3.min\"}});\n",
       "   require([\"d3\"], function(d3){\n",
       "      window.d3 = d3;\n",
       "      LDAvis_load_lib(\"https://cdn.rawgit.com/bmabey/pyLDAvis/files/ldavis.v1.0.0.js\", function(){\n",
       "        new LDAvis(\"#\" + \"ldavis_el100426750043487205740650985\", ldavis_el100426750043487205740650985_data);\n",
       "      });\n",
       "    });\n",
       "}else{\n",
       "    // require.js not available: dynamically load d3 & LDAvis\n",
       "    LDAvis_load_lib(\"https://cdnjs.cloudflare.com/ajax/libs/d3/3.5.5/d3.min.js\", function(){\n",
       "         LDAvis_load_lib(\"https://cdn.rawgit.com/bmabey/pyLDAvis/files/ldavis.v1.0.0.js\", function(){\n",
       "                 new LDAvis(\"#\" + \"ldavis_el100426750043487205740650985\", ldavis_el100426750043487205740650985_data);\n",
       "            })\n",
       "         });\n",
       "}\n",
       "</script>"
      ],
      "text/plain": [
       "<IPython.core.display.HTML object>"
      ]
     },
     "execution_count": 32,
     "metadata": {},
     "output_type": "execute_result"
    }
   ],
   "source": [
    "lda = LdaMulticore.load('./models/lda_model_neg')\n",
    "    \n",
    "LDAvis_prepared = pyLDAvis.gensim.prepare(lda, trigram_bow_corpus, trigram_dictionary)\n",
    "\n",
    "# Save pre-prepared pyLDAvis data to disk:\n",
    "with open('./models/ldavis_prepared', 'wb') as f: \n",
    "    pickle.dump(LDAvis_prepared, f)\n",
    "    \n",
    "# load the pre-prepared pyLDAvis data from disk:\n",
    "with open('./models/ldavis_prepared', 'rb') as f:  \n",
    "    LDAvis_prepared = pickle.load(f)\n",
    "    \n",
    "pyLDAvis.display(LDAvis_prepared)"
   ]
  },
  {
   "cell_type": "code",
   "execution_count": 62,
   "metadata": {
    "collapsed": true
   },
   "outputs": [],
   "source": [
    "pyLDAvis.save_html(LDAvis_prepared, './models/ldavis_html')"
   ]
  },
  {
   "cell_type": "code",
   "execution_count": 10,
   "metadata": {
    "collapsed": true
   },
   "outputs": [],
   "source": [
    "def get_sample_review(review_number):\n",
    "    \"\"\"\n",
    "    retrieve a particular review index\n",
    "    from the reviews file and return it\n",
    "    \"\"\"\n",
    "    \n",
    "    return list(it.islice(line_review(neg_scores['text']),\n",
    "                          review_number, review_number+1))[0]"
   ]
  },
  {
   "cell_type": "code",
   "execution_count": 2,
   "metadata": {
    "collapsed": true
   },
   "outputs": [],
   "source": [
    "# for description of single review text\n",
    "\n",
    "def lda_description(review_text, min_topic_freq=0):\n",
    "    \"\"\"\n",
    "    accept the original text of a review and (1) parse it with spaCy,\n",
    "    (2) apply text pre-proccessing steps, (3) create a bag-of-words\n",
    "    representation, (4) create an LDA representation, and\n",
    "    (5) print a sorted list of the top topics in the LDA representation\n",
    "    \"\"\"\n",
    "    \n",
    "    # parse the review text with spaCy\n",
    "    parsed_review = nlp(review_text)\n",
    "    \n",
    "    # lemmatize the text and remove punctuation and whitespace\n",
    "    unigram_review = [token.lemma_ for token in parsed_review\n",
    "                      if not punct_space(token)]\n",
    "    \n",
    "    # apply the first-order and secord-order phrase models\n",
    "    bigram_review = bigram_model[unigram_review]\n",
    "    trigram_review = trigram_model[bigram_review]\n",
    "    \n",
    "    # remove any remaining stopwords\n",
    "    trigram_review = [term for term in trigram_review\n",
    "                      if not term in spacy.en.English.Defaults.stop_words]\n",
    "    \n",
    "    # create a bag-of-words representation\n",
    "    review_bow = trigram_dictionary.doc2bow(trigram_review)\n",
    "    \n",
    "    # create an LDA representation\n",
    "    review_lda = lda[review_bow]\n",
    "    \n",
    "    # sort with the most highly related topics first\n",
    "    #review_lda = sorted(review_lda, key=lambda (topic_number, freq): -freq)  # was: key=lambda (topic_number, freq): -freq) ???\n",
    "    \n",
    "    for topic_number, freq in review_lda:\n",
    "        if freq < min_topic_freq:\n",
    "            break\n",
    "            \n",
    "        # print the most highly related topic names and frequencies\n",
    "        print('{:25} {}'.format(topic_names[topic_number], round(freq, 3)))"
   ]
  },
  {
   "cell_type": "code",
   "execution_count": 16,
   "metadata": {
    "collapsed": true
   },
   "outputs": [],
   "source": [
    "bigram_model = Phrases.load('./models/bigram_model_neg.txt')\n",
    "trigram_model = Phrases.load('./models/trigram_model_neg.txt')\n",
    "trigram_dictionary = Dictionary.load('./models/trigram_dict_all_neg.dict')\n",
    "lda = LdaMulticore.load('./models/lda_model_neg')"
   ]
  },
  {
   "cell_type": "code",
   "execution_count": 20,
   "metadata": {},
   "outputs": [
    {
     "name": "stderr",
     "output_type": "stream",
     "text": [
      "C:\\ProgramData\\Anaconda3\\lib\\site-packages\\gensim\\models\\phrases.py:316: UserWarning: For a faster implementation, use the gensim.models.phrases.Phraser class\n",
      "  warnings.warn(\"For a faster implementation, use the gensim.models.phrases.Phraser class\")\n"
     ]
    },
    {
     "name": "stdout",
     "output_type": "stream",
     "text": [
      "food_quality              0.763\n",
      "price                     0.074\n",
      "service_quality           0.164\n"
     ]
    }
   ],
   "source": [
    "lda_description('This gets one star because 0 is not an option and they did have free mediocre cocktails with brunch. Ordered the tuna tartar taco and the kale and eggs salad. Waiter came back later, sorry no tuna tartare. Ok, no problem. Looking forward to the kale with roasted market veg and manchego What arrived was a bowl of kale with some canned garbanzos and eggs. For $16 they could have at least put it on a plate with a side bowl of house potatoes like the other brunch dishes. Asked the waiter where are the roasted market vegetables. He went to check, they took it away, maitre d apologized, said they will bring another. 10 mins later they brought another of the SAME THING. So what changed? I asked where are the roasted  market vegetables - she pointed to the 5 garbanzos You can get a better salad in the fridge at your local CVS.')"
   ]
  },
  {
   "cell_type": "code",
   "execution_count": 35,
   "metadata": {
    "collapsed": true
   },
   "outputs": [],
   "source": [
    "# for updating dataframe with values for each review:\n",
    "\n",
    "def lda_descr_df(review_text, min_topic_freq=0):\n",
    "    \"\"\"\n",
    "    accept the original text of a review and (1) parse it with spaCy,\n",
    "    (2) apply text pre-proccessing steps, (3) create a bag-of-words\n",
    "    representation, (4) create an LDA representation, and\n",
    "    (5) print a sorted list of the top topics in the LDA representation\n",
    "    \"\"\"\n",
    "    \n",
    "    # parse the review text with spaCy\n",
    "    parsed_review = nlp(review_text)\n",
    "    \n",
    "    # lemmatize the text and remove punctuation and whitespace\n",
    "    unigram_review = [token.lemma_ for token in parsed_review\n",
    "                      if not punct_space(token)]\n",
    "    \n",
    "    # apply the first-order and secord-order phrase models\n",
    "    bigram_review = bigram_model[unigram_review]\n",
    "    trigram_review = trigram_model[bigram_review]\n",
    "    \n",
    "    # remove any remaining stopwords\n",
    "    trigram_review = [term for term in trigram_review\n",
    "                      if not term in spacy.en.English.Defaults.stop_words]\n",
    "    \n",
    "    # create a bag-of-words representation\n",
    "    review_bow = trigram_dictionary.doc2bow(trigram_review)\n",
    "    \n",
    "    # create an LDA representation\n",
    "    review_lda = lda[review_bow]\n",
    "\n",
    "    return review_lda  "
   ]
  },
  {
   "cell_type": "code",
   "execution_count": 36,
   "metadata": {
    "collapsed": true
   },
   "outputs": [],
   "source": [
    "# for returning label of topic with max value:\n",
    "\n",
    "bigram_model = Phrases.load('./data/bigram_model_neg.txt')\n",
    "trigram_model = Phrases.load('./data/trigram_model_neg.txt')\n",
    "\n",
    "def punct_space(token):\n",
    "    \"\"\"\n",
    "    helper function to eliminate tokens\n",
    "    that are pure punctuation or whitespace\n",
    "    \"\"\"\n",
    "    \n",
    "    return token.is_punct or token.is_space or token.like_num or token.is_digit\n",
    "\n",
    "def lda_descr_chat(review_text, min_topic_freq=0):\n",
    "    \"\"\"\n",
    "    accept the original text of a review and (1) parse it with spaCy,\n",
    "    (2) apply text pre-proccessing steps, (3) create a bag-of-words\n",
    "    representation, (4) create an LDA representation, and\n",
    "    (5) print a sorted list of the top topics in the LDA representation\n",
    "    \"\"\"\n",
    "    \n",
    "    # parse the review text with spaCy\n",
    "    parsed_review = nlp(review_text)\n",
    "    \n",
    "    # lemmatize the text and remove punctuation and whitespace\n",
    "    unigram_review = [token.lemma_ for token in parsed_review\n",
    "                      if not punct_space(token)]\n",
    "    \n",
    "    # apply the first-order and secord-order phrase models\n",
    "    bigram_review = bigram_model[unigram_review]\n",
    "    trigram_review = trigram_model[bigram_review]\n",
    "    \n",
    "    # remove any remaining stopwords\n",
    "    trigram_review = [term for term in trigram_review\n",
    "                      if not term in spacy.en.English.Defaults.stop_words]\n",
    "    \n",
    "    # create a bag-of-words representation\n",
    "    review_bow = trigram_dictionary.doc2bow(trigram_review)\n",
    "    \n",
    "    # create an LDA representation\n",
    "    review_lda = lda[review_bow]\n",
    "\n",
    "    return max(review_lda, key=lambda item: item[1])[0]"
   ]
  },
  {
   "cell_type": "code",
   "execution_count": 52,
   "metadata": {
    "collapsed": true
   },
   "outputs": [],
   "source": [
    "import itertools as it"
   ]
  },
  {
   "cell_type": "code",
   "execution_count": 50,
   "metadata": {
    "collapsed": true
   },
   "outputs": [],
   "source": [
    "def select_review(review_number):\n",
    "    \"\"\"\n",
    "    retrieve a particular review index\n",
    "    from the reviews file and return it\n",
    "    \"\"\"\n",
    "    \n",
    "    return list(it.islice(line_review(neg_scores['text']),\n",
    "                          review_number, review_number+1))[0]"
   ]
  },
  {
   "cell_type": "code",
   "execution_count": 61,
   "metadata": {
    "collapsed": true
   },
   "outputs": [],
   "source": [
    "def update_df(df):\n",
    "    \n",
    "    df['food_quality'] = \"\"\n",
    "    df['price'] = \"\"\n",
    "    df['service_quality'] = \"\"\n",
    "    df['problem_type'] = \"\"\n",
    "    \n",
    "    for i in range(0, len(df)):\n",
    "        \n",
    "        result = lda_descr_df(select_review(i))\n",
    "        v1 = [round(x[1], 3) for x in result if x[0]==0]\n",
    "        v2 = [round(x[1], 3) for x in result if x[0]==1]\n",
    "        v3 = [round(x[1], 3) for x in result if x[0]==2]\n",
    "        \n",
    "        df['food_quality'].iloc[i] =  v1[0] if len(v1) > 0 else 0\n",
    "        df['price'].iloc[i] =  v2[0] if len(v2) > 0 else 0\n",
    "        df['service_quality'].iloc[i] =  v3[0] if len(v3) > 0 else 0\n",
    "        df['problem_type'].iloc[i] = (max(result, key=lambda item: item[1])[0])\n",
    "        \n",
    "    return df\n"
   ]
  },
  {
   "cell_type": "code",
   "execution_count": 53,
   "metadata": {},
   "outputs": [
    {
     "name": "stderr",
     "output_type": "stream",
     "text": [
      "C:\\ProgramData\\Anaconda3\\lib\\site-packages\\gensim\\models\\phrases.py:316: UserWarning: For a faster implementation, use the gensim.models.phrases.Phraser class\n",
      "  warnings.warn(\"For a faster implementation, use the gensim.models.phrases.Phraser class\")\n",
      "C:\\ProgramData\\Anaconda3\\lib\\site-packages\\pandas\\core\\indexing.py:179: SettingWithCopyWarning: \n",
      "A value is trying to be set on a copy of a slice from a DataFrame\n",
      "\n",
      "See the caveats in the documentation: http://pandas.pydata.org/pandas-docs/stable/indexing.html#indexing-view-versus-copy\n",
      "  self._setitem_with_indexer(indexer, value)\n"
     ]
    },
    {
     "name": "stdout",
     "output_type": "stream",
     "text": [
      "Wall time: 1d 8h 1min 21s\n"
     ]
    }
   ],
   "source": [
    "%%time\n",
    "df_topics = update_df(neg_scores)"
   ]
  },
  {
   "cell_type": "code",
   "execution_count": null,
   "metadata": {
    "collapsed": true
   },
   "outputs": [],
   "source": [
    "# Assign topic names and save to disk:\n",
    "topic_names = {0: u'food_quality',\n",
    "               1: u'price',\n",
    "               2: u'service_quality'}\n",
    "\n",
    "with open('./models/topic_names.pkl', 'wb') as f:\n",
    "    pickle.dump(topic_names, f)"
   ]
  },
  {
   "cell_type": "code",
   "execution_count": 60,
   "metadata": {
    "collapsed": true
   },
   "outputs": [],
   "source": [
    "df_topics.to_csv('df_topics.csv')"
   ]
  },
  {
   "cell_type": "code",
   "execution_count": 56,
   "metadata": {
    "collapsed": true
   },
   "outputs": [],
   "source": [
    "df_topics = df_topics.drop('Unnamed: 0', 1)"
   ]
  },
  {
   "cell_type": "code",
   "execution_count": 58,
   "metadata": {
    "collapsed": true
   },
   "outputs": [],
   "source": [
    "df_topics = df_topics.rename(columns = {'service_quality':'price'})\n",
    "df_topics = df_topics.rename(columns = {'food_quality':'service_quality'})\n",
    "df_topics = df_topics.rename(columns = {'waiting_time':'food_quality'})"
   ]
  },
  {
   "cell_type": "code",
   "execution_count": 163,
   "metadata": {},
   "outputs": [
    {
     "data": {
      "text/html": [
       "<div>\n",
       "<style>\n",
       "    .dataframe thead tr:only-child th {\n",
       "        text-align: right;\n",
       "    }\n",
       "\n",
       "    .dataframe thead th {\n",
       "        text-align: left;\n",
       "    }\n",
       "\n",
       "    .dataframe tbody tr th {\n",
       "        vertical-align: top;\n",
       "    }\n",
       "</style>\n",
       "<table border=\"1\" class=\"dataframe\">\n",
       "  <thead>\n",
       "    <tr style=\"text-align: right;\">\n",
       "      <th></th>\n",
       "      <th>funny</th>\n",
       "      <th>user_id</th>\n",
       "      <th>review_id</th>\n",
       "      <th>text</th>\n",
       "      <th>business_id</th>\n",
       "      <th>stars</th>\n",
       "      <th>date</th>\n",
       "      <th>useful</th>\n",
       "      <th>cool</th>\n",
       "      <th>yelping_since</th>\n",
       "      <th>...</th>\n",
       "      <th>is_open</th>\n",
       "      <th>categories</th>\n",
       "      <th>stars_dif</th>\n",
       "      <th>bus_stars_dif</th>\n",
       "      <th>filtered_text</th>\n",
       "      <th>sentiment_score</th>\n",
       "      <th>food_quality</th>\n",
       "      <th>price</th>\n",
       "      <th>service_quality</th>\n",
       "      <th>problem_type</th>\n",
       "    </tr>\n",
       "  </thead>\n",
       "  <tbody>\n",
       "    <tr>\n",
       "      <th>0</th>\n",
       "      <td>0</td>\n",
       "      <td>ujOPJEz_KxzAyZDnji-2Ng</td>\n",
       "      <td>QXWku_OB3FCj9VCZfUZwwg</td>\n",
       "      <td>I wish I could give 1.5 stars. Nothing special...</td>\n",
       "      <td>jQsNFOzDpxPmOurSWCg1vQ</td>\n",
       "      <td>1</td>\n",
       "      <td>2017-07-08</td>\n",
       "      <td>0.0</td>\n",
       "      <td>0.0</td>\n",
       "      <td>2017-07-01</td>\n",
       "      <td>...</td>\n",
       "      <td>1.0</td>\n",
       "      <td>['Fast Food', 'Gluten-Free', 'Asian Fusion', '...</td>\n",
       "      <td>-2.67</td>\n",
       "      <td>-2.5</td>\n",
       "      <td>['wish', 'could', 'give', '1', '5', 'stars', '...</td>\n",
       "      <td>-0.033333</td>\n",
       "      <td>0.968</td>\n",
       "      <td>0.016</td>\n",
       "      <td>0.016</td>\n",
       "      <td>0</td>\n",
       "    </tr>\n",
       "    <tr>\n",
       "      <th>1</th>\n",
       "      <td>0</td>\n",
       "      <td>6aEUn50d3Ts7MiGu6WdpKA</td>\n",
       "      <td>5NtaW5EwXK595kP4Ynnisg</td>\n",
       "      <td>Disappointed that on yelp their hours show the...</td>\n",
       "      <td>jQsNFOzDpxPmOurSWCg1vQ</td>\n",
       "      <td>2</td>\n",
       "      <td>2015-09-22</td>\n",
       "      <td>1.0</td>\n",
       "      <td>0.0</td>\n",
       "      <td>2013-06-27</td>\n",
       "      <td>...</td>\n",
       "      <td>1.0</td>\n",
       "      <td>['Fast Food', 'Gluten-Free', 'Asian Fusion', '...</td>\n",
       "      <td>-2.13</td>\n",
       "      <td>-1.5</td>\n",
       "      <td>['disappointed', 'yelp', 'hours', 'show', 'ope...</td>\n",
       "      <td>-0.040000</td>\n",
       "      <td>0.02</td>\n",
       "      <td>0.359</td>\n",
       "      <td>0.621</td>\n",
       "      <td>2</td>\n",
       "    </tr>\n",
       "    <tr>\n",
       "      <th>2</th>\n",
       "      <td>1</td>\n",
       "      <td>alTlRb9qMBX11pARX05Big</td>\n",
       "      <td>jJaU6pbKkYgl15P-5zfg3A</td>\n",
       "      <td>Everything was good except Thai chicken wraps....</td>\n",
       "      <td>jQsNFOzDpxPmOurSWCg1vQ</td>\n",
       "      <td>3</td>\n",
       "      <td>2014-05-29</td>\n",
       "      <td>0.0</td>\n",
       "      <td>1.0</td>\n",
       "      <td>2010-09-17</td>\n",
       "      <td>...</td>\n",
       "      <td>1.0</td>\n",
       "      <td>['Fast Food', 'Gluten-Free', 'Asian Fusion', '...</td>\n",
       "      <td>-0.48</td>\n",
       "      <td>-0.5</td>\n",
       "      <td>['everything', 'good', 'except', 'thai', 'chic...</td>\n",
       "      <td>-0.040000</td>\n",
       "      <td>0.964</td>\n",
       "      <td>0.018</td>\n",
       "      <td>0.017</td>\n",
       "      <td>0</td>\n",
       "    </tr>\n",
       "    <tr>\n",
       "      <th>3</th>\n",
       "      <td>0</td>\n",
       "      <td>R-kL1bocHgP4GW7Mgd-ZXA</td>\n",
       "      <td>nI2rhDM2CgNazMdhiODoRQ</td>\n",
       "      <td>OH MY GOD, this place. I used to like Pei Wei ...</td>\n",
       "      <td>jQsNFOzDpxPmOurSWCg1vQ</td>\n",
       "      <td>2</td>\n",
       "      <td>2016-02-14</td>\n",
       "      <td>0.0</td>\n",
       "      <td>0.0</td>\n",
       "      <td>2010-12-04</td>\n",
       "      <td>...</td>\n",
       "      <td>1.0</td>\n",
       "      <td>['Fast Food', 'Gluten-Free', 'Asian Fusion', '...</td>\n",
       "      <td>-1.63</td>\n",
       "      <td>-1.5</td>\n",
       "      <td>['oh', 'god', 'place', 'used', 'like', 'pei', ...</td>\n",
       "      <td>-0.022989</td>\n",
       "      <td>0.384</td>\n",
       "      <td>0.349</td>\n",
       "      <td>0.267</td>\n",
       "      <td>0</td>\n",
       "    </tr>\n",
       "    <tr>\n",
       "      <th>4</th>\n",
       "      <td>0</td>\n",
       "      <td>mCE5jUDzP-ihU_6cwQsiiw</td>\n",
       "      <td>FxAxYxj5SbiOtcK36bJxCA</td>\n",
       "      <td>We went as a family of 6 and was treated very ...</td>\n",
       "      <td>jQsNFOzDpxPmOurSWCg1vQ</td>\n",
       "      <td>1</td>\n",
       "      <td>2011-02-27</td>\n",
       "      <td>0.0</td>\n",
       "      <td>0.0</td>\n",
       "      <td>2011-02-26</td>\n",
       "      <td>...</td>\n",
       "      <td>1.0</td>\n",
       "      <td>['Fast Food', 'Gluten-Free', 'Asian Fusion', '...</td>\n",
       "      <td>-1.21</td>\n",
       "      <td>-2.5</td>\n",
       "      <td>['went', 'family', '6', 'treated', 'poorly', '...</td>\n",
       "      <td>-0.057692</td>\n",
       "      <td>0.271</td>\n",
       "      <td>0.41</td>\n",
       "      <td>0.319</td>\n",
       "      <td>1</td>\n",
       "    </tr>\n",
       "  </tbody>\n",
       "</table>\n",
       "<p>5 rows × 32 columns</p>\n",
       "</div>"
      ],
      "text/plain": [
       "   funny                 user_id               review_id  \\\n",
       "0      0  ujOPJEz_KxzAyZDnji-2Ng  QXWku_OB3FCj9VCZfUZwwg   \n",
       "1      0  6aEUn50d3Ts7MiGu6WdpKA  5NtaW5EwXK595kP4Ynnisg   \n",
       "2      1  alTlRb9qMBX11pARX05Big  jJaU6pbKkYgl15P-5zfg3A   \n",
       "3      0  R-kL1bocHgP4GW7Mgd-ZXA  nI2rhDM2CgNazMdhiODoRQ   \n",
       "4      0  mCE5jUDzP-ihU_6cwQsiiw  FxAxYxj5SbiOtcK36bJxCA   \n",
       "\n",
       "                                                text             business_id  \\\n",
       "0  I wish I could give 1.5 stars. Nothing special...  jQsNFOzDpxPmOurSWCg1vQ   \n",
       "1  Disappointed that on yelp their hours show the...  jQsNFOzDpxPmOurSWCg1vQ   \n",
       "2  Everything was good except Thai chicken wraps....  jQsNFOzDpxPmOurSWCg1vQ   \n",
       "3  OH MY GOD, this place. I used to like Pei Wei ...  jQsNFOzDpxPmOurSWCg1vQ   \n",
       "4  We went as a family of 6 and was treated very ...  jQsNFOzDpxPmOurSWCg1vQ   \n",
       "\n",
       "   stars        date  useful  cool yelping_since      ...       is_open  \\\n",
       "0      1  2017-07-08     0.0   0.0    2017-07-01      ...           1.0   \n",
       "1      2  2015-09-22     1.0   0.0    2013-06-27      ...           1.0   \n",
       "2      3  2014-05-29     0.0   1.0    2010-09-17      ...           1.0   \n",
       "3      2  2016-02-14     0.0   0.0    2010-12-04      ...           1.0   \n",
       "4      1  2011-02-27     0.0   0.0    2011-02-26      ...           1.0   \n",
       "\n",
       "                                          categories  stars_dif bus_stars_dif  \\\n",
       "0  ['Fast Food', 'Gluten-Free', 'Asian Fusion', '...      -2.67          -2.5   \n",
       "1  ['Fast Food', 'Gluten-Free', 'Asian Fusion', '...      -2.13          -1.5   \n",
       "2  ['Fast Food', 'Gluten-Free', 'Asian Fusion', '...      -0.48          -0.5   \n",
       "3  ['Fast Food', 'Gluten-Free', 'Asian Fusion', '...      -1.63          -1.5   \n",
       "4  ['Fast Food', 'Gluten-Free', 'Asian Fusion', '...      -1.21          -2.5   \n",
       "\n",
       "                                       filtered_text sentiment_score  \\\n",
       "0  ['wish', 'could', 'give', '1', '5', 'stars', '...       -0.033333   \n",
       "1  ['disappointed', 'yelp', 'hours', 'show', 'ope...       -0.040000   \n",
       "2  ['everything', 'good', 'except', 'thai', 'chic...       -0.040000   \n",
       "3  ['oh', 'god', 'place', 'used', 'like', 'pei', ...       -0.022989   \n",
       "4  ['went', 'family', '6', 'treated', 'poorly', '...       -0.057692   \n",
       "\n",
       "  food_quality  price  service_quality  problem_type  \n",
       "0        0.968  0.016            0.016             0  \n",
       "1         0.02  0.359            0.621             2  \n",
       "2        0.964  0.018            0.017             0  \n",
       "3        0.384  0.349            0.267             0  \n",
       "4        0.271   0.41            0.319             1  \n",
       "\n",
       "[5 rows x 32 columns]"
      ]
     },
     "execution_count": 163,
     "metadata": {},
     "output_type": "execute_result"
    }
   ],
   "source": [
    "df_topics.head()"
   ]
  },
  {
   "cell_type": "code",
   "execution_count": 176,
   "metadata": {
    "collapsed": true
   },
   "outputs": [],
   "source": [
    "food_quality = df_topics.loc[df_topics.problem_type==0,:]\n",
    "price = df_topics.loc[df_topics.problem_type==1,:]\n",
    "service_quality = df_topics.loc[df_topics.problem_type==2,:]"
   ]
  },
  {
   "cell_type": "code",
   "execution_count": 180,
   "metadata": {},
   "outputs": [
    {
     "data": {
      "text/plain": [
       "<matplotlib.collections.PathCollection at 0x26e9036cc18>"
      ]
     },
     "execution_count": 180,
     "metadata": {},
     "output_type": "execute_result"
    },
    {
     "data": {
      "image/png": "[encoded data removed]",
      "text/plain": [
       "<matplotlib.figure.Figure at 0x26e8c740080>"
      ]
     },
     "metadata": {},
     "output_type": "display_data"
    }
   ],
   "source": [
    "plt.figure(figsize=(12,6))\n",
    "plt.scatter(food_quality['sentiment_score'], food_quality['food_quality'])"
   ]
  },
  {
   "cell_type": "code",
   "execution_count": 181,
   "metadata": {},
   "outputs": [
    {
     "data": {
      "text/plain": [
       "<matplotlib.collections.PathCollection at 0x26e83f802b0>"
      ]
     },
     "execution_count": 181,
     "metadata": {},
     "output_type": "execute_result"
    },
    {
     "data": {
      "image/png": "[encoded data removed]",
      "text/plain": [
       "<matplotlib.figure.Figure at 0x26e8639aef0>"
      ]
     },
     "metadata": {},
     "output_type": "display_data"
    }
   ],
   "source": [
    "plt.figure(figsize=(12,6))\n",
    "plt.scatter(price['sentiment_score'], price['price'])"
   ]
  },
  {
   "cell_type": "code",
   "execution_count": 182,
   "metadata": {},
   "outputs": [
    {
     "data": {
      "text/plain": [
       "<matplotlib.collections.PathCollection at 0x26e8ec382e8>"
      ]
     },
     "execution_count": 182,
     "metadata": {},
     "output_type": "execute_result"
    },
    {
     "data": {
      "image/png": "[encoded data removed]",
      "text/plain": [
       "<matplotlib.figure.Figure at 0x26e90c8b908>"
      ]
     },
     "metadata": {},
     "output_type": "display_data"
    }
   ],
   "source": [
    "plt.figure(figsize=(12,6))\n",
    "plt.scatter(service_quality['sentiment_score'], service_quality['service_quality'])"
   ]
  },
  {
   "cell_type": "code",
   "execution_count": 164,
   "metadata": {
    "collapsed": true
   },
   "outputs": [],
   "source": [
    "distplot2 = df_topics.loc[:,['sentiment_score', 'stars_dif', 'food_quality', 'price', 'service_quality', 'problem_type']]"
   ]
  },
  {
   "cell_type": "code",
   "execution_count": 165,
   "metadata": {},
   "outputs": [
    {
     "data": {
      "text/html": [
       "<div>\n",
       "<style>\n",
       "    .dataframe thead tr:only-child th {\n",
       "        text-align: right;\n",
       "    }\n",
       "\n",
       "    .dataframe thead th {\n",
       "        text-align: left;\n",
       "    }\n",
       "\n",
       "    .dataframe tbody tr th {\n",
       "        vertical-align: top;\n",
       "    }\n",
       "</style>\n",
       "<table border=\"1\" class=\"dataframe\">\n",
       "  <thead>\n",
       "    <tr style=\"text-align: right;\">\n",
       "      <th></th>\n",
       "      <th>sentiment_score</th>\n",
       "      <th>stars_dif</th>\n",
       "      <th>food_quality</th>\n",
       "      <th>price</th>\n",
       "      <th>service_quality</th>\n",
       "      <th>problem_type</th>\n",
       "    </tr>\n",
       "  </thead>\n",
       "  <tbody>\n",
       "    <tr>\n",
       "      <th>0</th>\n",
       "      <td>-0.033333</td>\n",
       "      <td>-2.67</td>\n",
       "      <td>0.968</td>\n",
       "      <td>0.016</td>\n",
       "      <td>0.016</td>\n",
       "      <td>0</td>\n",
       "    </tr>\n",
       "    <tr>\n",
       "      <th>1</th>\n",
       "      <td>-0.040000</td>\n",
       "      <td>-2.13</td>\n",
       "      <td>0.02</td>\n",
       "      <td>0.359</td>\n",
       "      <td>0.621</td>\n",
       "      <td>2</td>\n",
       "    </tr>\n",
       "    <tr>\n",
       "      <th>2</th>\n",
       "      <td>-0.040000</td>\n",
       "      <td>-0.48</td>\n",
       "      <td>0.964</td>\n",
       "      <td>0.018</td>\n",
       "      <td>0.017</td>\n",
       "      <td>0</td>\n",
       "    </tr>\n",
       "    <tr>\n",
       "      <th>3</th>\n",
       "      <td>-0.022989</td>\n",
       "      <td>-1.63</td>\n",
       "      <td>0.384</td>\n",
       "      <td>0.349</td>\n",
       "      <td>0.267</td>\n",
       "      <td>0</td>\n",
       "    </tr>\n",
       "    <tr>\n",
       "      <th>4</th>\n",
       "      <td>-0.057692</td>\n",
       "      <td>-1.21</td>\n",
       "      <td>0.271</td>\n",
       "      <td>0.41</td>\n",
       "      <td>0.319</td>\n",
       "      <td>1</td>\n",
       "    </tr>\n",
       "  </tbody>\n",
       "</table>\n",
       "</div>"
      ],
      "text/plain": [
       "   sentiment_score  stars_dif food_quality  price service_quality problem_type\n",
       "0        -0.033333      -2.67        0.968  0.016           0.016            0\n",
       "1        -0.040000      -2.13         0.02  0.359           0.621            2\n",
       "2        -0.040000      -0.48        0.964  0.018           0.017            0\n",
       "3        -0.022989      -1.63        0.384  0.349           0.267            0\n",
       "4        -0.057692      -1.21        0.271   0.41           0.319            1"
      ]
     },
     "execution_count": 165,
     "metadata": {},
     "output_type": "execute_result"
    }
   ],
   "source": [
    "distplot2.head()"
   ]
  },
  {
   "cell_type": "code",
   "execution_count": 167,
   "metadata": {},
   "outputs": [
    {
     "name": "stderr",
     "output_type": "stream",
     "text": [
      "C:\\ProgramData\\Anaconda3\\lib\\site-packages\\statsmodels\\nonparametric\\kde.py:475: DeprecationWarning: object of type <class 'numpy.float64'> cannot be safely interpreted as an integer.\n",
      "  grid,delta = np.linspace(a,b,gridsize,retstep=True)\n",
      "C:\\ProgramData\\Anaconda3\\lib\\site-packages\\statsmodels\\nonparametric\\kde.py:475: DeprecationWarning: object of type <class 'numpy.float64'> cannot be safely interpreted as an integer.\n",
      "  grid,delta = np.linspace(a,b,gridsize,retstep=True)\n"
     ]
    },
    {
     "data": {
      "text/plain": [
       "<matplotlib.text.Text at 0x26e8e08f2b0>"
      ]
     },
     "execution_count": 167,
     "metadata": {},
     "output_type": "execute_result"
    },
    {
     "data": {
      "image/png": "[encoded data removed]",
      "text/plain": [
       "<matplotlib.figure.Figure at 0x26e8e08f0f0>"
      ]
     },
     "metadata": {},
     "output_type": "display_data"
    }
   ],
   "source": [
    "sns.set(style=\"darkgrid\")\n",
    "\n",
    "# Set up the figure\n",
    "f, ax = plt.subplots(figsize=(12,6))\n",
    "#ax.set_aspect(\"equal\")\n",
    "\n",
    "# Draw the two density plots\n",
    "ax = sns.distplot(distplot2['food_quality'], color=\"r\")\n",
    "ax = sns.distplot(distplot2['price'], color=\"b\")\n",
    "\n",
    "\n",
    "# Add labels to the plot\n",
    "red = sns.color_palette(\"Reds\")[-2]\n",
    "blue = sns.color_palette(\"Blues\")[-2]\n",
    "\n",
    "ax.text(0.05, 8.0, \"Food Quality\", size=16, color=blue)\n",
    "ax.text(0.15, 1.5, \"Price\", size=16, color=red)\n"
   ]
  },
  {
   "cell_type": "code",
   "execution_count": 168,
   "metadata": {},
   "outputs": [
    {
     "name": "stderr",
     "output_type": "stream",
     "text": [
      "C:\\ProgramData\\Anaconda3\\lib\\site-packages\\statsmodels\\nonparametric\\kde.py:475: DeprecationWarning: object of type <class 'numpy.float64'> cannot be safely interpreted as an integer.\n",
      "  grid,delta = np.linspace(a,b,gridsize,retstep=True)\n",
      "C:\\ProgramData\\Anaconda3\\lib\\site-packages\\statsmodels\\nonparametric\\kde.py:475: DeprecationWarning: object of type <class 'numpy.float64'> cannot be safely interpreted as an integer.\n",
      "  grid,delta = np.linspace(a,b,gridsize,retstep=True)\n"
     ]
    },
    {
     "data": {
      "text/plain": [
       "<matplotlib.text.Text at 0x26e8c11ce48>"
      ]
     },
     "execution_count": 168,
     "metadata": {},
     "output_type": "execute_result"
    },
    {
     "data": {
      "image/png": "[encoded data removed]",
      "text/plain": [
       "<matplotlib.figure.Figure at 0x26e9c996ef0>"
      ]
     },
     "metadata": {},
     "output_type": "display_data"
    }
   ],
   "source": [
    "sns.set(style=\"darkgrid\")\n",
    "\n",
    "# Set up the figure\n",
    "f, ax = plt.subplots(figsize=(12,6))\n",
    "#ax.set_aspect(\"equal\")\n",
    "\n",
    "# Draw the two density plots\n",
    "\n",
    "ax = sns.distplot(distplot2['price'], color=\"b\")\n",
    "ax = sns.distplot(distplot2['service_quality'], color=\"g\")\n",
    "\n",
    "# Add labels to the plot\n",
    "\n",
    "blue = sns.color_palette(\"Blues\")[-2]\n",
    "green = sns.color_palette(\"Greens\")[-2]\n",
    "ax.text(0.05, 8.0, \"Food Quality\", size=16, color=blue)\n",
    "\n",
    "ax.text(0.9, 5, \"Service Quality\", size=16, color=green)"
   ]
  },
  {
   "cell_type": "code",
   "execution_count": 169,
   "metadata": {},
   "outputs": [
    {
     "name": "stderr",
     "output_type": "stream",
     "text": [
      "C:\\ProgramData\\Anaconda3\\lib\\site-packages\\statsmodels\\nonparametric\\kde.py:475: DeprecationWarning: object of type <class 'numpy.float64'> cannot be safely interpreted as an integer.\n",
      "  grid,delta = np.linspace(a,b,gridsize,retstep=True)\n",
      "C:\\ProgramData\\Anaconda3\\lib\\site-packages\\statsmodels\\nonparametric\\kde.py:475: DeprecationWarning: object of type <class 'numpy.float64'> cannot be safely interpreted as an integer.\n",
      "  grid,delta = np.linspace(a,b,gridsize,retstep=True)\n"
     ]
    },
    {
     "data": {
      "text/plain": [
       "<matplotlib.text.Text at 0x26e970d0320>"
      ]
     },
     "execution_count": 169,
     "metadata": {},
     "output_type": "execute_result"
    },
    {
     "data": {
      "image/png": "[encoded data removed]",
      "text/plain": [
       "<matplotlib.figure.Figure at 0x26e98350f60>"
      ]
     },
     "metadata": {},
     "output_type": "display_data"
    }
   ],
   "source": [
    "sns.set(style=\"darkgrid\")\n",
    "\n",
    "# Set up the figure\n",
    "f, ax = plt.subplots(figsize=(12,6))\n",
    "#ax.set_aspect(\"equal\")\n",
    "\n",
    "# Draw the two density plots\n",
    "ax = sns.distplot(distplot2['food_quality'], color=\"r\")\n",
    "\n",
    "ax = sns.distplot(distplot2['service_quality'], color=\"g\")\n",
    "\n",
    "# Add labels to the plot\n",
    "red = sns.color_palette(\"Reds\")[-2]\n",
    "\n",
    "green = sns.color_palette(\"Greens\")[-2]\n",
    "\n",
    "ax.text(0.15, 1.5, \"Price\", size=16, color=red)\n",
    "ax.text(0.9, 5, \"Service Quality\", size=16, color=green)"
   ]
  },
  {
   "cell_type": "code",
   "execution_count": 229,
   "metadata": {},
   "outputs": [
    {
     "data": {
      "text/plain": [
       "<matplotlib.axes._subplots.AxesSubplot at 0x26f72b9bba8>"
      ]
     },
     "execution_count": 229,
     "metadata": {},
     "output_type": "execute_result"
    },
    {
     "data": {
      "image/png": "[encoded data removed]",
      "text/plain": [
       "<matplotlib.figure.Figure at 0x26f72b9beb8>"
      ]
     },
     "metadata": {},
     "output_type": "display_data"
    }
   ],
   "source": [
    "plt.figure(figsize=(4,6))\n",
    "bar_df2 = distplot2.groupby('problem_type')['problem_type'].count().sort_values(ascending=False)\n",
    "bar_df2.plot.bar()"
   ]
  },
  {
   "cell_type": "code",
   "execution_count": 139,
   "metadata": {},
   "outputs": [
    {
     "name": "stderr",
     "output_type": "stream",
     "text": [
      "C:\\ProgramData\\Anaconda3\\lib\\site-packages\\seaborn\\categorical.py:342: DeprecationWarning: pandas.core.common.is_categorical_dtype is deprecated. import from the public API: pandas.api.types.is_categorical_dtype instead\n",
      "  elif is_categorical(y):\n"
     ]
    },
    {
     "data": {
      "text/plain": [
       "[<matplotlib.text.Text at 0x26ec33dacc0>,\n",
       " <matplotlib.text.Text at 0x26e8f74b9e8>]"
      ]
     },
     "execution_count": 139,
     "metadata": {},
     "output_type": "execute_result"
    },
    {
     "data": {
      "image/png": "[encoded data removed]",
      "text/plain": [
       "<matplotlib.figure.Figure at 0x26e8c443780>"
      ]
     },
     "metadata": {},
     "output_type": "display_data"
    }
   ],
   "source": [
    "plt.figure(figsize=(12,6))\n",
    "sns.violinplot(x='problem_type', y='sentiment_score', data=df_topics).set(xlabel='', ylabel='Sentiment Score')"
   ]
  },
  {
   "cell_type": "code",
   "execution_count": null,
   "metadata": {
    "collapsed": true
   },
   "outputs": [],
   "source": [
    "plt.figure(figsize=(12,6))\n",
    "sns.set_style(\"darkgrid\", {\"axes.facecolor\": \".9\"})\n",
    "sns.jointplot(distplot.stars_dif, distplot.sentiment_score, kind = 'kde', cmap=\"Reds\", shade=True, shade_lowest=False)\n",
    "sns.plt.ylim(-0.25,0)\n",
    "sns.plt.xlim((-4),2)"
   ]
  }
 ],
 "metadata": {
  "kernelspec": {
   "display_name": "Python 3",
   "language": "python",
   "name": "python3"
  },
  "language_info": {
   "codemirror_mode": {
    "name": "ipython",
    "version": 3
   },
   "file_extension": ".py",
   "mimetype": "text/x-python",
   "name": "python",
   "nbconvert_exporter": "python",
   "pygments_lexer": "ipython3",
   "version": "3.6.1"
  }
 },
 "nbformat": 4,
 "nbformat_minor": 2
}
