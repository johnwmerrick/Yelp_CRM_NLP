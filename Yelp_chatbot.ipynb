{
 "cells": [
  {
   "cell_type": "code",
   "execution_count": 1,
   "metadata": {
    "collapsed": true
   },
   "outputs": [],
   "source": [
    "#load packages for NLP\n",
    "import spacy\n",
    "nlp = spacy.load('en')\n",
    "\n",
    "from gensim.models import Phrases\n",
    "from gensim.corpora import Dictionary, MmCorpus\n",
    "from gensim.models.word2vec import LineSentence\n",
    "from gensim.models.ldamulticore import LdaMulticore\n",
    "\n",
    "import pandas as pd\n",
    "import numpy as np"
   ]
  },
  {
   "cell_type": "code",
   "execution_count": 2,
   "metadata": {
    "collapsed": true
   },
   "outputs": [],
   "source": [
    "#load trained n-gram and LDA models\n",
    "trigram_dictionary = Dictionary.load('./models/trigram_dict_all_neg.dict')\n",
    "lda = LdaMulticore.load('./models/lda_model_neg')\n",
    "bigram_model = Phrases.load('./models/bigram_model_neg.txt')\n",
    "trigram_model = Phrases.load('./models/trigram_model_neg.txt')\n",
    "\n",
    "def punct_space(token):\n",
    "    \"\"\"\n",
    "    helper function to eliminate tokens\n",
    "    that are pure punctuation or whitespace\n",
    "    \"\"\"\n",
    "    return token.is_punct or token.is_space or token.like_num or token.is_digit\n",
    "\n",
    "\n",
    "def lda_descr_chat(review_text, min_topic_freq=0):\n",
    "    \"\"\"\n",
    "    accept the original text of a review and (1) parse it with spaCy,\n",
    "    (2) apply text pre-proccessing steps, (3) create a bag-of-words\n",
    "    representation, (4) create an LDA representation, and\n",
    "    (5) print a sorted list of the top topics in the LDA representation\n",
    "    \"\"\"    \n",
    "    # parse the review text with spaCy\n",
    "    parsed_review = nlp(review_text)\n",
    "    \n",
    "    # lemmatize the text and remove punctuation and whitespace\n",
    "    unigram_review = [token.lemma_ for token in parsed_review\n",
    "                      if not punct_space(token)]\n",
    "    \n",
    "    # apply the first-order and secord-order phrase models\n",
    "    bigram_review = bigram_model[unigram_review]\n",
    "    trigram_review = trigram_model[bigram_review]\n",
    "    \n",
    "    # remove any remaining stopwords\n",
    "    trigram_review = [term for term in trigram_review\n",
    "                      if not term in spacy.en.English.Defaults.stop_words]\n",
    "    \n",
    "    # create a bag-of-words representation\n",
    "    review_bow = trigram_dictionary.doc2bow(trigram_review)\n",
    "    \n",
    "    # create an LDA representation\n",
    "    review_lda = lda[review_bow]\n",
    "    return max(review_lda, key=lambda item: item[1])[0]"
   ]
  },
  {
   "cell_type": "code",
   "execution_count": 3,
   "metadata": {
    "collapsed": true
   },
   "outputs": [],
   "source": [
    "#use the JSON module to parse the JSON responses from Telegram into Python dictionaries\n",
    "import json \n",
    "#make web requests using Python and use it to interact with the Telegram API \n",
    "import requests \n",
    "#handle special characters\n",
    "import urllib \n",
    "import time"
   ]
  },
  {
   "cell_type": "code",
   "execution_count": 4,
   "metadata": {
    "collapsed": true
   },
   "outputs": [],
   "source": [
    "#set up global variables\n",
    "TOKEN = \"439831904:AAGOD7SWbHzGCPq0GHxiZ0qDXocZa4HGEvc\"\n",
    "URL = \"https://api.telegram.org/bot{}/\".format(TOKEN)"
   ]
  },
  {
   "cell_type": "code",
   "execution_count": null,
   "metadata": {},
   "outputs": [
    {
     "name": "stderr",
     "output_type": "stream",
     "text": [
      "/anaconda/lib/python3.6/site-packages/gensim-2.3.0-py3.6-macosx-10.7-x86_64.egg/gensim/models/phrases.py:316: UserWarning: For a faster implementation, use the gensim.models.phrases.Phraser class\n",
      "  warnings.warn(\"For a faster implementation, use the gensim.models.phrases.Phraser class\")\n"
     ]
    }
   ],
   "source": [
    "#download the content from a URL and giving us a string\n",
    "def get_url(url):\n",
    "    response = requests.get(url)\n",
    "    content = response.content.decode(\"utf8\")\n",
    "    return content\n",
    "\n",
    "\n",
    "#use the JSON module to parse the JSON responses from Telegram into Python dictionaries\n",
    "def get_json_from_url(url):\n",
    "    content = get_url(url)\n",
    "    js = json.loads(content)\n",
    "    return js\n",
    "\n",
    "\n",
    "#retrieve a list of \"updates\" (messages sent to YelpReviews_bot)\n",
    "def get_updates(offset=None):\n",
    "    # use Long Polling; keeps the connection open until there are updates\n",
    "    # in URLs, we specify that the argument list is starting with a ?\n",
    "    url = URL + \"getUpdates?timeout=100\"\n",
    "    # don't want to receive any messages with smaller IDs than this\n",
    "    if offset:\n",
    "        # in URLs, further arguments are separated with &\n",
    "        url += \"&offset={}\".format(offset)\n",
    "    js = get_json_from_url(url)\n",
    "    return js\n",
    "\n",
    "\n",
    "def get_last_update_id(updates):\n",
    "    update_ids = []\n",
    "    for update in updates[\"result\"]:\n",
    "        update_ids.append(int(update[\"update_id\"]))\n",
    "    return max(update_ids)\n",
    "\n",
    "\n",
    "def complaint_response(updates):\n",
    "    for update in updates[\"result\"]:\n",
    "        try:\n",
    "            text = update[\"message\"][\"text\"]\n",
    "            chat = update[\"message\"][\"chat\"][\"id\"]\n",
    "            send_message(text, chat)\n",
    "        except Exception as e:\n",
    "            pass            \n",
    "\n",
    "        \n",
    "def get_last_chat_id_and_text(updates):\n",
    "    num_updates = len(updates[\"result\"])\n",
    "    last_update = num_updates - 1\n",
    "    text = updates[\"result\"][last_update][\"message\"][\"text\"]\n",
    "    chat_id = updates[\"result\"][last_update][\"message\"][\"chat\"][\"id\"]\n",
    "    return (text, chat_id)\n",
    "\n",
    "\n",
    "#take the text of the message, and the chat ID of the chat where we want to send the message\n",
    "greeting_words = (\"hello\", \"hi\", \"hey\", \"greetings\", \"sup\", \"what's up\", \"/start\")\n",
    "\n",
    "def send_message(text, chat_id):\n",
    "    if text.lower() in greeting_words:\n",
    "        answer = \"Hello, I'm the Complainteller. How can I help you?\"\n",
    "    else:\n",
    "        complaint_type = lda_descr_chat(text)\n",
    "        if complaint_type == 0:\n",
    "            answer = \"We're sorry you were disappointed with your meal. If you have any suggestion, please let us know.\"\n",
    "        elif complaint_type == 1:\n",
    "            answer = \"We're sorry to hear that you were disappointed with our service and pricing. Unfortunately the costs are necessary to provide our quality ingredients. Thanks for your understanding.\"\n",
    "        else:\n",
    "            answer = \"Thank you for bringing this situation to our attention. We would like to sincerely apologize for the disappointing customer service. Providing primary customer service is our primary goal and we will use this situation as an educational oppourtunity for our staff.\"\n",
    "    url = URL + \"sendMessage?text={}&chat_id={}\".format(answer, chat_id)\n",
    "    get_url(url)\n",
    "\n",
    "\n",
    "def main():\n",
    "    last_update_id = None\n",
    "    # no duplicate messages\n",
    "    while True:\n",
    "        # to check 'get_updates' works\n",
    "        #print(\"getting updates\")\n",
    "        updates = get_updates(last_update_id)\n",
    "        #print(updates) check the current state and from/to info\n",
    "        if len(updates[\"result\"]) > 0:\n",
    "            last_update_id = get_last_update_id(updates) + 1\n",
    "            complaint_response(updates)\n",
    "        # gets the most recent messages from Telegram every half second\n",
    "        time.sleep(0.5) \n",
    "\n",
    "\n",
    "        \n",
    "#import the functions into another script without running anything\n",
    "if __name__ == '__main__':\n",
    "    main()"
   ]
  },
  {
   "cell_type": "code",
   "execution_count": 7,
   "metadata": {
    "collapsed": true
   },
   "outputs": [],
   "source": []
  },
  {
   "cell_type": "code",
   "execution_count": null,
   "metadata": {
    "collapsed": true
   },
   "outputs": [],
   "source": []
  }
 ],
 "metadata": {
  "kernelspec": {
   "display_name": "Python 3",
   "language": "python",
   "name": "python3"
  },
  "language_info": {
   "codemirror_mode": {
    "name": "ipython",
    "version": 3
   },
   "file_extension": ".py",
   "mimetype": "text/x-python",
   "name": "python",
   "nbconvert_exporter": "python",
   "pygments_lexer": "ipython3",
   "version": "3.6.1"
  }
 },
 "nbformat": 4,
 "nbformat_minor": 2
}
