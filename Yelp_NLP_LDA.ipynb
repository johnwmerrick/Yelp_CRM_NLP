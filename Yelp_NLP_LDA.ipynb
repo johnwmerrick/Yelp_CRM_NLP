{
 "cells": [
  {
   "cell_type": "markdown",
   "metadata": {},
   "source": [
    "## 1. pre-process data"
   ]
  },
  {
   "cell_type": "code",
   "execution_count": 1,
   "metadata": {
    "collapsed": true
   },
   "outputs": [],
   "source": [
    "import pandas as pd\n",
    "import numpy as np\n",
    "import os\n",
    "import codecs"
   ]
  },
  {
   "cell_type": "code",
   "execution_count": 2,
   "metadata": {
    "collapsed": true
   },
   "outputs": [],
   "source": [
    "# load datasets\n",
    "business = pd.read_csv(\"./yelp_dataset/business.csv\")\n",
    "user = pd.read_csv(\"./yelp_dataset/user.csv\")\n",
    "review = pd.read_csv(\"./yelp_dataset/review.csv\")"
   ]
  },
  {
   "cell_type": "code",
   "execution_count": 3,
   "metadata": {},
   "outputs": [
    {
     "data": {
      "text/plain": [
       "(156639, 12)"
      ]
     },
     "execution_count": 3,
     "metadata": {},
     "output_type": "execute_result"
    }
   ],
   "source": [
    "# select columns and pre-process 'business' dataset\n",
    "business['business_avg_stars'] = business['stars']\n",
    "business = business[['business_id','name','neighborhood','city',\n",
    "                     'state','postal_code','latitude','longitude',\n",
    "                     'business_avg_stars','review_count','is_open','categories']]\n",
    "np.shape(business) #(156639, 12)"
   ]
  },
  {
   "cell_type": "code",
   "execution_count": 4,
   "metadata": {},
   "outputs": [
    {
     "data": {
      "text/plain": [
       "(1183362, 5)"
      ]
     },
     "execution_count": 4,
     "metadata": {},
     "output_type": "execute_result"
    }
   ],
   "source": [
    "# select columns and pre-process 'user' dataset\n",
    "user = user[['yelping_since','review_count','fans','average_stars','user_id']]\n",
    "np.shape(user) #(1183362, 5)"
   ]
  },
  {
   "cell_type": "code",
   "execution_count": 5,
   "metadata": {},
   "outputs": [
    {
     "data": {
      "text/plain": [
       "(4736897, 9)"
      ]
     },
     "execution_count": 5,
     "metadata": {},
     "output_type": "execute_result"
    }
   ],
   "source": [
    "# select columns and pre-process 'review' dataset\n",
    "np.shape(review) #(4736897, 9)"
   ]
  },
  {
   "cell_type": "code",
   "execution_count": 6,
   "metadata": {},
   "outputs": [
    {
     "data": {
      "text/plain": [
       "(4736897, 24)"
      ]
     },
     "execution_count": 6,
     "metadata": {},
     "output_type": "execute_result"
    }
   ],
   "source": [
    "# merge 3 datasets\n",
    "data = pd.merge(review, user, how='left', on ='user_id')\n",
    "data = pd.merge(data, business, how='left', on = 'business_id')\n",
    "np.shape(data) #(4736897, 24)"
   ]
  },
  {
   "cell_type": "code",
   "execution_count": 21,
   "metadata": {},
   "outputs": [],
   "source": [
    "# drop NAs\n",
    "data = data.dropna(subset = ['stars'])"
   ]
  },
  {
   "cell_type": "code",
   "execution_count": 22,
   "metadata": {},
   "outputs": [],
   "source": [
    "# add columns for NLP tags\n",
    "data['stars_dif'] = data['stars'] - data['average_stars']\n",
    "data['bus_stars_dif'] = data['stars'] - data['business_avg_stars']"
   ]
  },
  {
   "cell_type": "code",
   "execution_count": 23,
   "metadata": {},
   "outputs": [
    {
     "data": {
      "text/plain": [
       "(3952097, 26)"
      ]
     },
     "execution_count": 23,
     "metadata": {},
     "output_type": "execute_result"
    }
   ],
   "source": [
    "# filter 51 states\n",
    "data = data[data.state.isin([\n",
    "    \"AL\", \"AK\", \"AZ\", \"AR\", \"CA\", \"CO\", \"CT\", \"DC\", \"DE\", \"FL\", \n",
    "    \"GA\", \"HI\", \"ID\", \"IL\", \"IN\", \"IA\", \"KS\", \"KY\", \"LA\", \"ME\", \n",
    "    \"MD\", \"MA\", \"MI\", \"MN\", \"MS\", \"MO\", \"MT\", \"NE\", \"NV\", \"NH\", \n",
    "    \"NJ\", \"NM\", \"NY\", \"NC\", \"ND\", \"OH\", \"OK\", \"OR\", \"PA\", \"RI\", \n",
    "    \"SC\", \"SD\", \"TN\", \"TX\", \"UT\", \"VT\", \"VA\", \"WA\", \"WV\", \"WI\", \"WY\"])]\n",
    "np.shape(data) #(3952097, 26)"
   ]
  },
  {
   "cell_type": "code",
   "execution_count": 24,
   "metadata": {},
   "outputs": [
    {
     "data": {
      "text/plain": [
       "(3505852, 26)"
      ]
     },
     "execution_count": 24,
     "metadata": {},
     "output_type": "execute_result"
    }
   ],
   "source": [
    "# filter still open\n",
    "data = data[data['is_open']==1]\n",
    "np.shape(data) #(3505852, 26)"
   ]
  },
  {
   "cell_type": "code",
   "execution_count": 25,
   "metadata": {},
   "outputs": [
    {
     "data": {
      "text/plain": [
       "(2043400, 26)"
      ]
     },
     "execution_count": 25,
     "metadata": {},
     "output_type": "execute_result"
    }
   ],
   "source": [
    "# filter 'Restaurant': our targets are restaurant business owners\n",
    "data = data[data['categories'].str.contains('Restaurants')]\n",
    "np.shape(data) #(2043400, 26)"
   ]
  },
  {
   "cell_type": "code",
   "execution_count": 26,
   "metadata": {
    "collapsed": true
   },
   "outputs": [],
   "source": [
    "# save the dataset\n",
    "data.to_csv('data.csv', index=False)"
   ]
  },
  {
   "cell_type": "code",
   "execution_count": null,
   "metadata": {
    "collapsed": true
   },
   "outputs": [],
   "source": [
    "# convert int stars column to float\n",
    "data.stars = data.stars.astype(float)\n",
    "data.average_stars = data.average_stars.astype(float)\n",
    "[]"
   ]
  },
  {
   "cell_type": "markdown",
   "metadata": {},
   "source": [
    "## 2. conduct sentiment analysis - NLTK"
   ]
  },
  {
   "cell_type": "code",
   "execution_count": 27,
   "metadata": {},
   "outputs": [
    {
     "name": "stderr",
     "output_type": "stream",
     "text": [
      "/anaconda/lib/python3.6/site-packages/IPython/core/interactiveshell.py:2717: DtypeWarning: Columns (0,10,11,12,20) have mixed types. Specify dtype option on import or set low_memory=False.\n",
      "  interactivity=interactivity, compiler=compiler, result=result)\n"
     ]
    },
    {
     "name": "stdout",
     "output_type": "stream",
     "text": [
      "(2043401, 26)\n"
     ]
    },
    {
     "data": {
      "text/html": [
       "<div>\n",
       "<style>\n",
       "    .dataframe thead tr:only-child th {\n",
       "        text-align: right;\n",
       "    }\n",
       "\n",
       "    .dataframe thead th {\n",
       "        text-align: left;\n",
       "    }\n",
       "\n",
       "    .dataframe tbody tr th {\n",
       "        vertical-align: top;\n",
       "    }\n",
       "</style>\n",
       "<table border=\"1\" class=\"dataframe\">\n",
       "  <thead>\n",
       "    <tr style=\"text-align: right;\">\n",
       "      <th></th>\n",
       "      <th>funny</th>\n",
       "      <th>user_id</th>\n",
       "      <th>review_id</th>\n",
       "      <th>text</th>\n",
       "      <th>business_id</th>\n",
       "      <th>stars</th>\n",
       "      <th>date</th>\n",
       "      <th>useful</th>\n",
       "      <th>cool</th>\n",
       "      <th>yelping_since</th>\n",
       "      <th>...</th>\n",
       "      <th>state</th>\n",
       "      <th>postal_code</th>\n",
       "      <th>latitude</th>\n",
       "      <th>longitude</th>\n",
       "      <th>business_avg_stars</th>\n",
       "      <th>review_count_y</th>\n",
       "      <th>is_open</th>\n",
       "      <th>categories</th>\n",
       "      <th>stars_dif</th>\n",
       "      <th>bus_stars_dif</th>\n",
       "    </tr>\n",
       "  </thead>\n",
       "  <tbody>\n",
       "    <tr>\n",
       "      <th>0</th>\n",
       "      <td>0</td>\n",
       "      <td>kzyLOqiJvyw_FWFTw2rjiQ</td>\n",
       "      <td>ByRzJ8rF2KJWLr-cUNU6EA</td>\n",
       "      <td>This place is horrible, we were so excited to ...</td>\n",
       "      <td>jQsNFOzDpxPmOurSWCg1vQ</td>\n",
       "      <td>1.0</td>\n",
       "      <td>2017-06-03</td>\n",
       "      <td>0.0</td>\n",
       "      <td>0.0</td>\n",
       "      <td>2016-06-17</td>\n",
       "      <td>...</td>\n",
       "      <td>AZ</td>\n",
       "      <td>85374.0</td>\n",
       "      <td>33.638228</td>\n",
       "      <td>-112.365259</td>\n",
       "      <td>3.5</td>\n",
       "      <td>92.0</td>\n",
       "      <td>1.0</td>\n",
       "      <td>['Fast Food', 'Gluten-Free', 'Asian Fusion', '...</td>\n",
       "      <td>-2.00</td>\n",
       "      <td>-2.5</td>\n",
       "    </tr>\n",
       "    <tr>\n",
       "      <th>1</th>\n",
       "      <td>0</td>\n",
       "      <td>WZXp9-V2dqRRJqhGgRqueA</td>\n",
       "      <td>i5UwUPlQFPLcE8p2gPFwBw</td>\n",
       "      <td>For being fairly \"fast\" food.. Pei Wei (pronou...</td>\n",
       "      <td>jQsNFOzDpxPmOurSWCg1vQ</td>\n",
       "      <td>4.0</td>\n",
       "      <td>2015-03-26</td>\n",
       "      <td>1.0</td>\n",
       "      <td>0.0</td>\n",
       "      <td>2012-09-28</td>\n",
       "      <td>...</td>\n",
       "      <td>AZ</td>\n",
       "      <td>85374.0</td>\n",
       "      <td>33.638228</td>\n",
       "      <td>-112.365259</td>\n",
       "      <td>3.5</td>\n",
       "      <td>92.0</td>\n",
       "      <td>1.0</td>\n",
       "      <td>['Fast Food', 'Gluten-Free', 'Asian Fusion', '...</td>\n",
       "      <td>0.46</td>\n",
       "      <td>0.5</td>\n",
       "    </tr>\n",
       "    <tr>\n",
       "      <th>2</th>\n",
       "      <td>1</td>\n",
       "      <td>XylT12exfdLiI_3uDLVIpw</td>\n",
       "      <td>EyQyvTTg2jX4or9bB8PC9g</td>\n",
       "      <td>I decided to try it out, I'm celiac and theref...</td>\n",
       "      <td>jQsNFOzDpxPmOurSWCg1vQ</td>\n",
       "      <td>5.0</td>\n",
       "      <td>2012-12-30</td>\n",
       "      <td>2.0</td>\n",
       "      <td>1.0</td>\n",
       "      <td>2010-10-19</td>\n",
       "      <td>...</td>\n",
       "      <td>AZ</td>\n",
       "      <td>85374.0</td>\n",
       "      <td>33.638228</td>\n",
       "      <td>-112.365259</td>\n",
       "      <td>3.5</td>\n",
       "      <td>92.0</td>\n",
       "      <td>1.0</td>\n",
       "      <td>['Fast Food', 'Gluten-Free', 'Asian Fusion', '...</td>\n",
       "      <td>0.96</td>\n",
       "      <td>1.5</td>\n",
       "    </tr>\n",
       "    <tr>\n",
       "      <th>3</th>\n",
       "      <td>1</td>\n",
       "      <td>Ji9PeffxjwqPLO7pEfSpKQ</td>\n",
       "      <td>G-EFA005besj5uHsH0sQFA</td>\n",
       "      <td>I'm not saying Pei Wei is the best asian food ...</td>\n",
       "      <td>jQsNFOzDpxPmOurSWCg1vQ</td>\n",
       "      <td>3.0</td>\n",
       "      <td>2009-01-12</td>\n",
       "      <td>1.0</td>\n",
       "      <td>1.0</td>\n",
       "      <td>2008-11-20</td>\n",
       "      <td>...</td>\n",
       "      <td>AZ</td>\n",
       "      <td>85374.0</td>\n",
       "      <td>33.638228</td>\n",
       "      <td>-112.365259</td>\n",
       "      <td>3.5</td>\n",
       "      <td>92.0</td>\n",
       "      <td>1.0</td>\n",
       "      <td>['Fast Food', 'Gluten-Free', 'Asian Fusion', '...</td>\n",
       "      <td>-0.55</td>\n",
       "      <td>-0.5</td>\n",
       "    </tr>\n",
       "    <tr>\n",
       "      <th>4</th>\n",
       "      <td>0</td>\n",
       "      <td>TLIWzAJPrET0zX4_vgvLhg</td>\n",
       "      <td>6PcJSGUBSLjt4VLXos5C4A</td>\n",
       "      <td>Sometimes the food is spot on and delicious an...</td>\n",
       "      <td>jQsNFOzDpxPmOurSWCg1vQ</td>\n",
       "      <td>3.0</td>\n",
       "      <td>2015-07-11</td>\n",
       "      <td>0.0</td>\n",
       "      <td>0.0</td>\n",
       "      <td>2014-08-03</td>\n",
       "      <td>...</td>\n",
       "      <td>AZ</td>\n",
       "      <td>85374.0</td>\n",
       "      <td>33.638228</td>\n",
       "      <td>-112.365259</td>\n",
       "      <td>3.5</td>\n",
       "      <td>92.0</td>\n",
       "      <td>1.0</td>\n",
       "      <td>['Fast Food', 'Gluten-Free', 'Asian Fusion', '...</td>\n",
       "      <td>-0.55</td>\n",
       "      <td>-0.5</td>\n",
       "    </tr>\n",
       "  </tbody>\n",
       "</table>\n",
       "<p>5 rows × 26 columns</p>\n",
       "</div>"
      ],
      "text/plain": [
       "  funny                 user_id               review_id  \\\n",
       "0     0  kzyLOqiJvyw_FWFTw2rjiQ  ByRzJ8rF2KJWLr-cUNU6EA   \n",
       "1     0  WZXp9-V2dqRRJqhGgRqueA  i5UwUPlQFPLcE8p2gPFwBw   \n",
       "2     1  XylT12exfdLiI_3uDLVIpw  EyQyvTTg2jX4or9bB8PC9g   \n",
       "3     1  Ji9PeffxjwqPLO7pEfSpKQ  G-EFA005besj5uHsH0sQFA   \n",
       "4     0  TLIWzAJPrET0zX4_vgvLhg  6PcJSGUBSLjt4VLXos5C4A   \n",
       "\n",
       "                                                text             business_id  \\\n",
       "0  This place is horrible, we were so excited to ...  jQsNFOzDpxPmOurSWCg1vQ   \n",
       "1  For being fairly \"fast\" food.. Pei Wei (pronou...  jQsNFOzDpxPmOurSWCg1vQ   \n",
       "2  I decided to try it out, I'm celiac and theref...  jQsNFOzDpxPmOurSWCg1vQ   \n",
       "3  I'm not saying Pei Wei is the best asian food ...  jQsNFOzDpxPmOurSWCg1vQ   \n",
       "4  Sometimes the food is spot on and delicious an...  jQsNFOzDpxPmOurSWCg1vQ   \n",
       "\n",
       "   stars        date  useful  cool yelping_since      ...       state  \\\n",
       "0    1.0  2017-06-03     0.0   0.0    2016-06-17      ...          AZ   \n",
       "1    4.0  2015-03-26     1.0   0.0    2012-09-28      ...          AZ   \n",
       "2    5.0  2012-12-30     2.0   1.0    2010-10-19      ...          AZ   \n",
       "3    3.0  2009-01-12     1.0   1.0    2008-11-20      ...          AZ   \n",
       "4    3.0  2015-07-11     0.0   0.0    2014-08-03      ...          AZ   \n",
       "\n",
       "  postal_code   latitude   longitude business_avg_stars review_count_y  \\\n",
       "0     85374.0  33.638228 -112.365259                3.5           92.0   \n",
       "1     85374.0  33.638228 -112.365259                3.5           92.0   \n",
       "2     85374.0  33.638228 -112.365259                3.5           92.0   \n",
       "3     85374.0  33.638228 -112.365259                3.5           92.0   \n",
       "4     85374.0  33.638228 -112.365259                3.5           92.0   \n",
       "\n",
       "  is_open                                         categories  stars_dif  \\\n",
       "0     1.0  ['Fast Food', 'Gluten-Free', 'Asian Fusion', '...      -2.00   \n",
       "1     1.0  ['Fast Food', 'Gluten-Free', 'Asian Fusion', '...       0.46   \n",
       "2     1.0  ['Fast Food', 'Gluten-Free', 'Asian Fusion', '...       0.96   \n",
       "3     1.0  ['Fast Food', 'Gluten-Free', 'Asian Fusion', '...      -0.55   \n",
       "4     1.0  ['Fast Food', 'Gluten-Free', 'Asian Fusion', '...      -0.55   \n",
       "\n",
       "   bus_stars_dif  \n",
       "0           -2.5  \n",
       "1            0.5  \n",
       "2            1.5  \n",
       "3           -0.5  \n",
       "4           -0.5  \n",
       "\n",
       "[5 rows x 26 columns]"
      ]
     },
     "execution_count": 27,
     "metadata": {},
     "output_type": "execute_result"
    }
   ],
   "source": [
    "data = pd.read_csv(\"data.csv\", encoding='ISO-8859-1')\n",
    "print(np.shape(data)) #(2043400, 26)\n",
    "data.head()"
   ]
  },
  {
   "cell_type": "code",
   "execution_count": 28,
   "metadata": {
    "collapsed": true
   },
   "outputs": [],
   "source": [
    "import spacy\n",
    "import nltk\n",
    "import nltk.classify.util\n",
    "from nltk.tokenize import sent_tokenize, word_tokenize, RegexpTokenizer\n",
    "from nltk.classify import NaiveBayesClassifier\n",
    "from nltk.corpus import stopwords, names\n",
    "\n",
    "nlp = spacy.load('en')"
   ]
  },
  {
   "cell_type": "code",
   "execution_count": 29,
   "metadata": {
    "collapsed": true
   },
   "outputs": [],
   "source": [
    "def textPreProcess(reviews_column):\n",
    "    \n",
    "    filtered = []\n",
    "    temp = []\n",
    "    tokenizer = RegexpTokenizer(r'\\w+')\n",
    "    stop_words = set(stopwords.words('english'))\n",
    "\n",
    "    for review in reviews_column:\n",
    "        words = tokenizer.tokenize(review)\n",
    "        for w in words:\n",
    "            if w.lower() not in stop_words:\n",
    "                temp.append(w.lower())\n",
    "        filtered.append(temp)\n",
    "        temp = []\n",
    "\n",
    "    return filtered"
   ]
  },
  {
   "cell_type": "code",
   "execution_count": 30,
   "metadata": {
    "collapsed": true
   },
   "outputs": [],
   "source": [
    "# get pre-processed text data\n",
    "filtered = textPreProcess(data['text'])"
   ]
  },
  {
   "cell_type": "code",
   "execution_count": 35,
   "metadata": {
    "collapsed": true
   },
   "outputs": [],
   "source": [
    "def sentimentScore(data, filtered):\n",
    "    \n",
    "    neg_file = open(\"negative-words.txt\", \"r\", encoding='ISO-8859-1')\n",
    "    neg_dict = neg_file.read().split('\\n')\n",
    "    neg_file.close()\n",
    "\n",
    "    pos_file = open(\"positive-words.txt\", \"r\", encoding='ISO-8859-1')\n",
    "    pos_dict = pos_file.read().split('\\n')\n",
    "    pos_file.close() \n",
    "    \n",
    "    # University of Illinois at Chicago\n",
    "    # https://github.com/jeffreybreen/twitter-sentiment-analysis-tutorial-201107/tree/08a269765a6b185d5f3dd522c876043ba9628715/data/opinion-lexicon-English\n",
    "        \n",
    "    pos_counter = 0\n",
    "    neg_counter = 0\n",
    "    sent_ratio = 0\n",
    "    sentiment_score = []\n",
    "    \n",
    "    for review in filtered:\n",
    "        for word in review:\n",
    "            if word in pos_dict:\n",
    "                pos_counter = pos_counter + 1\n",
    "            if word in neg_dict:\n",
    "                neg_counter = neg_counter + 1\n",
    "                \n",
    "        if len(review) != 0:\n",
    "            sent_ratio = float(pos_counter - neg_counter) / float(len(review))  \n",
    "        else:\n",
    "            sent_ratio = 0\n",
    "        sentiment_score.append(sent_ratio)\n",
    "        pos_counter = 0\n",
    "        neg_counter = 0\n",
    "    \n",
    "    df = pd.DataFrame(np.column_stack([filtered, sentiment_score]), columns=['filtered_text', 'sentiment_score'])\n",
    "    \n",
    "    # reset indexes to zero so pd.concat works properly\n",
    "    data.index = (range(0, len(data)))\n",
    "    df.index = (range(0, len(df)))\n",
    "    return pd.concat([data, df], axis=1)"
   ]
  },
  {
   "cell_type": "code",
   "execution_count": 36,
   "metadata": {},
   "outputs": [
    {
     "name": "stdout",
     "output_type": "stream",
     "text": [
      "CPU times: user 3h 54min 36s, sys: 3min 38s, total: 3h 58min 14s\n",
      "Wall time: 13h 41min 34s\n"
     ]
    }
   ],
   "source": [
    "%%time\n",
    "scored_df = sentimentScore(data, filtered)"
   ]
  },
  {
   "cell_type": "code",
   "execution_count": 37,
   "metadata": {},
   "outputs": [
    {
     "name": "stdout",
     "output_type": "stream",
     "text": [
      "(2043401, 28)\n"
     ]
    },
    {
     "data": {
      "text/html": [
       "<div>\n",
       "<style>\n",
       "    .dataframe thead tr:only-child th {\n",
       "        text-align: right;\n",
       "    }\n",
       "\n",
       "    .dataframe thead th {\n",
       "        text-align: left;\n",
       "    }\n",
       "\n",
       "    .dataframe tbody tr th {\n",
       "        vertical-align: top;\n",
       "    }\n",
       "</style>\n",
       "<table border=\"1\" class=\"dataframe\">\n",
       "  <thead>\n",
       "    <tr style=\"text-align: right;\">\n",
       "      <th></th>\n",
       "      <th>funny</th>\n",
       "      <th>user_id</th>\n",
       "      <th>review_id</th>\n",
       "      <th>text</th>\n",
       "      <th>business_id</th>\n",
       "      <th>stars</th>\n",
       "      <th>date</th>\n",
       "      <th>useful</th>\n",
       "      <th>cool</th>\n",
       "      <th>yelping_since</th>\n",
       "      <th>...</th>\n",
       "      <th>latitude</th>\n",
       "      <th>longitude</th>\n",
       "      <th>business_avg_stars</th>\n",
       "      <th>review_count_y</th>\n",
       "      <th>is_open</th>\n",
       "      <th>categories</th>\n",
       "      <th>stars_dif</th>\n",
       "      <th>bus_stars_dif</th>\n",
       "      <th>filtered_text</th>\n",
       "      <th>sentiment_score</th>\n",
       "    </tr>\n",
       "  </thead>\n",
       "  <tbody>\n",
       "    <tr>\n",
       "      <th>0</th>\n",
       "      <td>0</td>\n",
       "      <td>kzyLOqiJvyw_FWFTw2rjiQ</td>\n",
       "      <td>ByRzJ8rF2KJWLr-cUNU6EA</td>\n",
       "      <td>This place is horrible, we were so excited to ...</td>\n",
       "      <td>jQsNFOzDpxPmOurSWCg1vQ</td>\n",
       "      <td>1.0</td>\n",
       "      <td>2017-06-03</td>\n",
       "      <td>0.0</td>\n",
       "      <td>0.0</td>\n",
       "      <td>2016-06-17</td>\n",
       "      <td>...</td>\n",
       "      <td>33.638228</td>\n",
       "      <td>-112.365259</td>\n",
       "      <td>3.5</td>\n",
       "      <td>92.0</td>\n",
       "      <td>1.0</td>\n",
       "      <td>['Fast Food', 'Gluten-Free', 'Asian Fusion', '...</td>\n",
       "      <td>-2.00</td>\n",
       "      <td>-2.5</td>\n",
       "      <td>[place, horrible, excited, try, since, got, gi...</td>\n",
       "      <td>0</td>\n",
       "    </tr>\n",
       "    <tr>\n",
       "      <th>1</th>\n",
       "      <td>0</td>\n",
       "      <td>WZXp9-V2dqRRJqhGgRqueA</td>\n",
       "      <td>i5UwUPlQFPLcE8p2gPFwBw</td>\n",
       "      <td>For being fairly \"fast\" food.. Pei Wei (pronou...</td>\n",
       "      <td>jQsNFOzDpxPmOurSWCg1vQ</td>\n",
       "      <td>4.0</td>\n",
       "      <td>2015-03-26</td>\n",
       "      <td>1.0</td>\n",
       "      <td>0.0</td>\n",
       "      <td>2012-09-28</td>\n",
       "      <td>...</td>\n",
       "      <td>33.638228</td>\n",
       "      <td>-112.365259</td>\n",
       "      <td>3.5</td>\n",
       "      <td>92.0</td>\n",
       "      <td>1.0</td>\n",
       "      <td>['Fast Food', 'Gluten-Free', 'Asian Fusion', '...</td>\n",
       "      <td>0.46</td>\n",
       "      <td>0.5</td>\n",
       "      <td>[fairly, fast, food, pei, wei, pronounced, pay...</td>\n",
       "      <td>0.375</td>\n",
       "    </tr>\n",
       "    <tr>\n",
       "      <th>2</th>\n",
       "      <td>1</td>\n",
       "      <td>XylT12exfdLiI_3uDLVIpw</td>\n",
       "      <td>EyQyvTTg2jX4or9bB8PC9g</td>\n",
       "      <td>I decided to try it out, I'm celiac and theref...</td>\n",
       "      <td>jQsNFOzDpxPmOurSWCg1vQ</td>\n",
       "      <td>5.0</td>\n",
       "      <td>2012-12-30</td>\n",
       "      <td>2.0</td>\n",
       "      <td>1.0</td>\n",
       "      <td>2010-10-19</td>\n",
       "      <td>...</td>\n",
       "      <td>33.638228</td>\n",
       "      <td>-112.365259</td>\n",
       "      <td>3.5</td>\n",
       "      <td>92.0</td>\n",
       "      <td>1.0</td>\n",
       "      <td>['Fast Food', 'Gluten-Free', 'Asian Fusion', '...</td>\n",
       "      <td>0.96</td>\n",
       "      <td>1.5</td>\n",
       "      <td>[decided, try, celiac, therefore, eat, gluten,...</td>\n",
       "      <td>0.0757576</td>\n",
       "    </tr>\n",
       "    <tr>\n",
       "      <th>3</th>\n",
       "      <td>1</td>\n",
       "      <td>Ji9PeffxjwqPLO7pEfSpKQ</td>\n",
       "      <td>G-EFA005besj5uHsH0sQFA</td>\n",
       "      <td>I'm not saying Pei Wei is the best asian food ...</td>\n",
       "      <td>jQsNFOzDpxPmOurSWCg1vQ</td>\n",
       "      <td>3.0</td>\n",
       "      <td>2009-01-12</td>\n",
       "      <td>1.0</td>\n",
       "      <td>1.0</td>\n",
       "      <td>2008-11-20</td>\n",
       "      <td>...</td>\n",
       "      <td>33.638228</td>\n",
       "      <td>-112.365259</td>\n",
       "      <td>3.5</td>\n",
       "      <td>92.0</td>\n",
       "      <td>1.0</td>\n",
       "      <td>['Fast Food', 'Gluten-Free', 'Asian Fusion', '...</td>\n",
       "      <td>-0.55</td>\n",
       "      <td>-0.5</td>\n",
       "      <td>[saying, pei, wei, best, asian, food, ever, ta...</td>\n",
       "      <td>0.0898204</td>\n",
       "    </tr>\n",
       "    <tr>\n",
       "      <th>4</th>\n",
       "      <td>0</td>\n",
       "      <td>TLIWzAJPrET0zX4_vgvLhg</td>\n",
       "      <td>6PcJSGUBSLjt4VLXos5C4A</td>\n",
       "      <td>Sometimes the food is spot on and delicious an...</td>\n",
       "      <td>jQsNFOzDpxPmOurSWCg1vQ</td>\n",
       "      <td>3.0</td>\n",
       "      <td>2015-07-11</td>\n",
       "      <td>0.0</td>\n",
       "      <td>0.0</td>\n",
       "      <td>2014-08-03</td>\n",
       "      <td>...</td>\n",
       "      <td>33.638228</td>\n",
       "      <td>-112.365259</td>\n",
       "      <td>3.5</td>\n",
       "      <td>92.0</td>\n",
       "      <td>1.0</td>\n",
       "      <td>['Fast Food', 'Gluten-Free', 'Asian Fusion', '...</td>\n",
       "      <td>-0.55</td>\n",
       "      <td>-0.5</td>\n",
       "      <td>[sometimes, food, spot, delicious, times, quit...</td>\n",
       "      <td>0.117647</td>\n",
       "    </tr>\n",
       "  </tbody>\n",
       "</table>\n",
       "<p>5 rows × 28 columns</p>\n",
       "</div>"
      ],
      "text/plain": [
       "  funny                 user_id               review_id  \\\n",
       "0     0  kzyLOqiJvyw_FWFTw2rjiQ  ByRzJ8rF2KJWLr-cUNU6EA   \n",
       "1     0  WZXp9-V2dqRRJqhGgRqueA  i5UwUPlQFPLcE8p2gPFwBw   \n",
       "2     1  XylT12exfdLiI_3uDLVIpw  EyQyvTTg2jX4or9bB8PC9g   \n",
       "3     1  Ji9PeffxjwqPLO7pEfSpKQ  G-EFA005besj5uHsH0sQFA   \n",
       "4     0  TLIWzAJPrET0zX4_vgvLhg  6PcJSGUBSLjt4VLXos5C4A   \n",
       "\n",
       "                                                text             business_id  \\\n",
       "0  This place is horrible, we were so excited to ...  jQsNFOzDpxPmOurSWCg1vQ   \n",
       "1  For being fairly \"fast\" food.. Pei Wei (pronou...  jQsNFOzDpxPmOurSWCg1vQ   \n",
       "2  I decided to try it out, I'm celiac and theref...  jQsNFOzDpxPmOurSWCg1vQ   \n",
       "3  I'm not saying Pei Wei is the best asian food ...  jQsNFOzDpxPmOurSWCg1vQ   \n",
       "4  Sometimes the food is spot on and delicious an...  jQsNFOzDpxPmOurSWCg1vQ   \n",
       "\n",
       "   stars        date  useful  cool yelping_since       ...          latitude  \\\n",
       "0    1.0  2017-06-03     0.0   0.0    2016-06-17       ...         33.638228   \n",
       "1    4.0  2015-03-26     1.0   0.0    2012-09-28       ...         33.638228   \n",
       "2    5.0  2012-12-30     2.0   1.0    2010-10-19       ...         33.638228   \n",
       "3    3.0  2009-01-12     1.0   1.0    2008-11-20       ...         33.638228   \n",
       "4    3.0  2015-07-11     0.0   0.0    2014-08-03       ...         33.638228   \n",
       "\n",
       "    longitude business_avg_stars review_count_y is_open  \\\n",
       "0 -112.365259                3.5           92.0     1.0   \n",
       "1 -112.365259                3.5           92.0     1.0   \n",
       "2 -112.365259                3.5           92.0     1.0   \n",
       "3 -112.365259                3.5           92.0     1.0   \n",
       "4 -112.365259                3.5           92.0     1.0   \n",
       "\n",
       "                                          categories stars_dif  bus_stars_dif  \\\n",
       "0  ['Fast Food', 'Gluten-Free', 'Asian Fusion', '...     -2.00           -2.5   \n",
       "1  ['Fast Food', 'Gluten-Free', 'Asian Fusion', '...      0.46            0.5   \n",
       "2  ['Fast Food', 'Gluten-Free', 'Asian Fusion', '...      0.96            1.5   \n",
       "3  ['Fast Food', 'Gluten-Free', 'Asian Fusion', '...     -0.55           -0.5   \n",
       "4  ['Fast Food', 'Gluten-Free', 'Asian Fusion', '...     -0.55           -0.5   \n",
       "\n",
       "                                       filtered_text  sentiment_score  \n",
       "0  [place, horrible, excited, try, since, got, gi...                0  \n",
       "1  [fairly, fast, food, pei, wei, pronounced, pay...            0.375  \n",
       "2  [decided, try, celiac, therefore, eat, gluten,...        0.0757576  \n",
       "3  [saying, pei, wei, best, asian, food, ever, ta...        0.0898204  \n",
       "4  [sometimes, food, spot, delicious, times, quit...         0.117647  \n",
       "\n",
       "[5 rows x 28 columns]"
      ]
     },
     "execution_count": 37,
     "metadata": {},
     "output_type": "execute_result"
    }
   ],
   "source": [
    "scored_df.to_csv('scored_df.csv', index=False)\n",
    "print(np.shape(scored_df))\n",
    "scored_df.head()"
   ]
  },
  {
   "cell_type": "code",
   "execution_count": 38,
   "metadata": {},
   "outputs": [
    {
     "name": "stdout",
     "output_type": "stream",
     "text": [
      "(223486, 28)\n"
     ]
    },
    {
     "data": {
      "text/html": [
       "<div>\n",
       "<style>\n",
       "    .dataframe thead tr:only-child th {\n",
       "        text-align: right;\n",
       "    }\n",
       "\n",
       "    .dataframe thead th {\n",
       "        text-align: left;\n",
       "    }\n",
       "\n",
       "    .dataframe tbody tr th {\n",
       "        vertical-align: top;\n",
       "    }\n",
       "</style>\n",
       "<table border=\"1\" class=\"dataframe\">\n",
       "  <thead>\n",
       "    <tr style=\"text-align: right;\">\n",
       "      <th></th>\n",
       "      <th>funny</th>\n",
       "      <th>user_id</th>\n",
       "      <th>review_id</th>\n",
       "      <th>text</th>\n",
       "      <th>business_id</th>\n",
       "      <th>stars</th>\n",
       "      <th>date</th>\n",
       "      <th>useful</th>\n",
       "      <th>cool</th>\n",
       "      <th>yelping_since</th>\n",
       "      <th>...</th>\n",
       "      <th>latitude</th>\n",
       "      <th>longitude</th>\n",
       "      <th>business_avg_stars</th>\n",
       "      <th>review_count_y</th>\n",
       "      <th>is_open</th>\n",
       "      <th>categories</th>\n",
       "      <th>stars_dif</th>\n",
       "      <th>bus_stars_dif</th>\n",
       "      <th>filtered_text</th>\n",
       "      <th>sentiment_score</th>\n",
       "    </tr>\n",
       "  </thead>\n",
       "  <tbody>\n",
       "    <tr>\n",
       "      <th>15</th>\n",
       "      <td>0</td>\n",
       "      <td>ujOPJEz_KxzAyZDnji-2Ng</td>\n",
       "      <td>QXWku_OB3FCj9VCZfUZwwg</td>\n",
       "      <td>I wish I could give 1.5 stars. Nothing special...</td>\n",
       "      <td>jQsNFOzDpxPmOurSWCg1vQ</td>\n",
       "      <td>1.0</td>\n",
       "      <td>2017-07-08</td>\n",
       "      <td>0.0</td>\n",
       "      <td>0.0</td>\n",
       "      <td>2017-07-01</td>\n",
       "      <td>...</td>\n",
       "      <td>33.638228</td>\n",
       "      <td>-112.365259</td>\n",
       "      <td>3.5</td>\n",
       "      <td>92.0</td>\n",
       "      <td>1.0</td>\n",
       "      <td>['Fast Food', 'Gluten-Free', 'Asian Fusion', '...</td>\n",
       "      <td>-2.67</td>\n",
       "      <td>-2.5</td>\n",
       "      <td>[wish, could, give, 1, 5, stars, nothing, spec...</td>\n",
       "      <td>-0.0333333</td>\n",
       "    </tr>\n",
       "    <tr>\n",
       "      <th>16</th>\n",
       "      <td>0</td>\n",
       "      <td>6aEUn50d3Ts7MiGu6WdpKA</td>\n",
       "      <td>5NtaW5EwXK595kP4Ynnisg</td>\n",
       "      <td>Disappointed that on yelp their hours show the...</td>\n",
       "      <td>jQsNFOzDpxPmOurSWCg1vQ</td>\n",
       "      <td>2.0</td>\n",
       "      <td>2015-09-22</td>\n",
       "      <td>1.0</td>\n",
       "      <td>0.0</td>\n",
       "      <td>2013-06-27</td>\n",
       "      <td>...</td>\n",
       "      <td>33.638228</td>\n",
       "      <td>-112.365259</td>\n",
       "      <td>3.5</td>\n",
       "      <td>92.0</td>\n",
       "      <td>1.0</td>\n",
       "      <td>['Fast Food', 'Gluten-Free', 'Asian Fusion', '...</td>\n",
       "      <td>-2.13</td>\n",
       "      <td>-1.5</td>\n",
       "      <td>[disappointed, yelp, hours, show, open, 1030am...</td>\n",
       "      <td>-0.04</td>\n",
       "    </tr>\n",
       "    <tr>\n",
       "      <th>29</th>\n",
       "      <td>1</td>\n",
       "      <td>alTlRb9qMBX11pARX05Big</td>\n",
       "      <td>jJaU6pbKkYgl15P-5zfg3A</td>\n",
       "      <td>Everything was good except Thai chicken wraps....</td>\n",
       "      <td>jQsNFOzDpxPmOurSWCg1vQ</td>\n",
       "      <td>3.0</td>\n",
       "      <td>2014-05-29</td>\n",
       "      <td>0.0</td>\n",
       "      <td>1.0</td>\n",
       "      <td>2010-09-17</td>\n",
       "      <td>...</td>\n",
       "      <td>33.638228</td>\n",
       "      <td>-112.365259</td>\n",
       "      <td>3.5</td>\n",
       "      <td>92.0</td>\n",
       "      <td>1.0</td>\n",
       "      <td>['Fast Food', 'Gluten-Free', 'Asian Fusion', '...</td>\n",
       "      <td>-0.48</td>\n",
       "      <td>-0.5</td>\n",
       "      <td>[everything, good, except, thai, chicken, wrap...</td>\n",
       "      <td>-0.04</td>\n",
       "    </tr>\n",
       "    <tr>\n",
       "      <th>33</th>\n",
       "      <td>0</td>\n",
       "      <td>R-kL1bocHgP4GW7Mgd-ZXA</td>\n",
       "      <td>nI2rhDM2CgNazMdhiODoRQ</td>\n",
       "      <td>OH MY GOD, this place. I used to like Pei Wei ...</td>\n",
       "      <td>jQsNFOzDpxPmOurSWCg1vQ</td>\n",
       "      <td>2.0</td>\n",
       "      <td>2016-02-14</td>\n",
       "      <td>0.0</td>\n",
       "      <td>0.0</td>\n",
       "      <td>2010-12-04</td>\n",
       "      <td>...</td>\n",
       "      <td>33.638228</td>\n",
       "      <td>-112.365259</td>\n",
       "      <td>3.5</td>\n",
       "      <td>92.0</td>\n",
       "      <td>1.0</td>\n",
       "      <td>['Fast Food', 'Gluten-Free', 'Asian Fusion', '...</td>\n",
       "      <td>-1.63</td>\n",
       "      <td>-1.5</td>\n",
       "      <td>[oh, god, place, used, like, pei, wei, moved, ...</td>\n",
       "      <td>-0.0229885</td>\n",
       "    </tr>\n",
       "    <tr>\n",
       "      <th>44</th>\n",
       "      <td>0</td>\n",
       "      <td>mCE5jUDzP-ihU_6cwQsiiw</td>\n",
       "      <td>FxAxYxj5SbiOtcK36bJxCA</td>\n",
       "      <td>We went as a family of 6 and was treated very ...</td>\n",
       "      <td>jQsNFOzDpxPmOurSWCg1vQ</td>\n",
       "      <td>1.0</td>\n",
       "      <td>2011-02-27</td>\n",
       "      <td>0.0</td>\n",
       "      <td>0.0</td>\n",
       "      <td>2011-02-26</td>\n",
       "      <td>...</td>\n",
       "      <td>33.638228</td>\n",
       "      <td>-112.365259</td>\n",
       "      <td>3.5</td>\n",
       "      <td>92.0</td>\n",
       "      <td>1.0</td>\n",
       "      <td>['Fast Food', 'Gluten-Free', 'Asian Fusion', '...</td>\n",
       "      <td>-1.21</td>\n",
       "      <td>-2.5</td>\n",
       "      <td>[went, family, 6, treated, poorly, manager, pl...</td>\n",
       "      <td>-0.0576923</td>\n",
       "    </tr>\n",
       "  </tbody>\n",
       "</table>\n",
       "<p>5 rows × 28 columns</p>\n",
       "</div>"
      ],
      "text/plain": [
       "   funny                 user_id               review_id  \\\n",
       "15     0  ujOPJEz_KxzAyZDnji-2Ng  QXWku_OB3FCj9VCZfUZwwg   \n",
       "16     0  6aEUn50d3Ts7MiGu6WdpKA  5NtaW5EwXK595kP4Ynnisg   \n",
       "29     1  alTlRb9qMBX11pARX05Big  jJaU6pbKkYgl15P-5zfg3A   \n",
       "33     0  R-kL1bocHgP4GW7Mgd-ZXA  nI2rhDM2CgNazMdhiODoRQ   \n",
       "44     0  mCE5jUDzP-ihU_6cwQsiiw  FxAxYxj5SbiOtcK36bJxCA   \n",
       "\n",
       "                                                 text             business_id  \\\n",
       "15  I wish I could give 1.5 stars. Nothing special...  jQsNFOzDpxPmOurSWCg1vQ   \n",
       "16  Disappointed that on yelp their hours show the...  jQsNFOzDpxPmOurSWCg1vQ   \n",
       "29  Everything was good except Thai chicken wraps....  jQsNFOzDpxPmOurSWCg1vQ   \n",
       "33  OH MY GOD, this place. I used to like Pei Wei ...  jQsNFOzDpxPmOurSWCg1vQ   \n",
       "44  We went as a family of 6 and was treated very ...  jQsNFOzDpxPmOurSWCg1vQ   \n",
       "\n",
       "    stars        date  useful  cool yelping_since       ...          latitude  \\\n",
       "15    1.0  2017-07-08     0.0   0.0    2017-07-01       ...         33.638228   \n",
       "16    2.0  2015-09-22     1.0   0.0    2013-06-27       ...         33.638228   \n",
       "29    3.0  2014-05-29     0.0   1.0    2010-09-17       ...         33.638228   \n",
       "33    2.0  2016-02-14     0.0   0.0    2010-12-04       ...         33.638228   \n",
       "44    1.0  2011-02-27     0.0   0.0    2011-02-26       ...         33.638228   \n",
       "\n",
       "     longitude business_avg_stars review_count_y is_open  \\\n",
       "15 -112.365259                3.5           92.0     1.0   \n",
       "16 -112.365259                3.5           92.0     1.0   \n",
       "29 -112.365259                3.5           92.0     1.0   \n",
       "33 -112.365259                3.5           92.0     1.0   \n",
       "44 -112.365259                3.5           92.0     1.0   \n",
       "\n",
       "                                           categories stars_dif  \\\n",
       "15  ['Fast Food', 'Gluten-Free', 'Asian Fusion', '...     -2.67   \n",
       "16  ['Fast Food', 'Gluten-Free', 'Asian Fusion', '...     -2.13   \n",
       "29  ['Fast Food', 'Gluten-Free', 'Asian Fusion', '...     -0.48   \n",
       "33  ['Fast Food', 'Gluten-Free', 'Asian Fusion', '...     -1.63   \n",
       "44  ['Fast Food', 'Gluten-Free', 'Asian Fusion', '...     -1.21   \n",
       "\n",
       "    bus_stars_dif                                      filtered_text  \\\n",
       "15           -2.5  [wish, could, give, 1, 5, stars, nothing, spec...   \n",
       "16           -1.5  [disappointed, yelp, hours, show, open, 1030am...   \n",
       "29           -0.5  [everything, good, except, thai, chicken, wrap...   \n",
       "33           -1.5  [oh, god, place, used, like, pei, wei, moved, ...   \n",
       "44           -2.5  [went, family, 6, treated, poorly, manager, pl...   \n",
       "\n",
       "    sentiment_score  \n",
       "15       -0.0333333  \n",
       "16            -0.04  \n",
       "29            -0.04  \n",
       "33       -0.0229885  \n",
       "44       -0.0576923  \n",
       "\n",
       "[5 rows x 28 columns]"
      ]
     },
     "execution_count": 38,
     "metadata": {},
     "output_type": "execute_result"
    }
   ],
   "source": [
    "# get the neg_scored dataframe for analysis\n",
    "#scored_df = pd.read_csv(\"scored_df.csv\", encoding='ISO-8859-1')\n",
    "neg_scores = scored_df[scored_df['sentiment_score'] < 0]\n",
    "print(np.shape(neg_scores))\n",
    "neg_scores.head()"
   ]
  },
  {
   "cell_type": "code",
   "execution_count": 39,
   "metadata": {
    "collapsed": true
   },
   "outputs": [],
   "source": [
    "neg_scores.to_csv('neg_scores.csv', index=False)"
   ]
  },
  {
   "cell_type": "markdown",
   "metadata": {},
   "source": [
    "## 3. EDA and statistical analysis"
   ]
  },
  {
   "cell_type": "code",
   "execution_count": 40,
   "metadata": {
    "collapsed": true
   },
   "outputs": [],
   "source": [
    "from matplotlib import pyplot as plt\n",
    "import seaborn as sns\n",
    "%matplotlib inline"
   ]
  },
  {
   "cell_type": "code",
   "execution_count": 41,
   "metadata": {},
   "outputs": [
    {
     "name": "stderr",
     "output_type": "stream",
     "text": [
      "/anaconda/lib/python3.6/site-packages/IPython/core/interactiveshell.py:2717: DtypeWarning: Columns (0,10,11,12,20) have mixed types. Specify dtype option on import or set low_memory=False.\n",
      "  interactivity=interactivity, compiler=compiler, result=result)\n"
     ]
    },
    {
     "data": {
      "text/plain": [
       "(2043401, 28)"
      ]
     },
     "execution_count": 41,
     "metadata": {},
     "output_type": "execute_result"
    }
   ],
   "source": [
    "# scored_df\n",
    "scored_df = pd.read_csv(\"scored_df.csv\", encoding='ISO-8859-1')\n",
    "np.shape(scored_df) #(2043401, 28)"
   ]
  },
  {
   "cell_type": "code",
   "execution_count": 42,
   "metadata": {},
   "outputs": [
    {
     "data": {
      "text/html": [
       "<div>\n",
       "<style>\n",
       "    .dataframe thead tr:only-child th {\n",
       "        text-align: right;\n",
       "    }\n",
       "\n",
       "    .dataframe thead th {\n",
       "        text-align: left;\n",
       "    }\n",
       "\n",
       "    .dataframe tbody tr th {\n",
       "        vertical-align: top;\n",
       "    }\n",
       "</style>\n",
       "<table border=\"1\" class=\"dataframe\">\n",
       "  <thead>\n",
       "    <tr style=\"text-align: right;\">\n",
       "      <th></th>\n",
       "      <th>stars</th>\n",
       "      <th>useful</th>\n",
       "      <th>cool</th>\n",
       "      <th>postal_code</th>\n",
       "      <th>latitude</th>\n",
       "      <th>longitude</th>\n",
       "      <th>review_count_y</th>\n",
       "      <th>is_open</th>\n",
       "      <th>stars_dif</th>\n",
       "      <th>bus_stars_dif</th>\n",
       "      <th>sentiment_score</th>\n",
       "    </tr>\n",
       "  </thead>\n",
       "  <tbody>\n",
       "    <tr>\n",
       "      <th>count</th>\n",
       "      <td>2.043400e+06</td>\n",
       "      <td>2.043400e+06</td>\n",
       "      <td>2.043400e+06</td>\n",
       "      <td>2.042975e+06</td>\n",
       "      <td>2.043400e+06</td>\n",
       "      <td>2.043400e+06</td>\n",
       "      <td>2.043400e+06</td>\n",
       "      <td>2043400.0</td>\n",
       "      <td>2.043399e+06</td>\n",
       "      <td>2.043399e+06</td>\n",
       "      <td>2.043401e+06</td>\n",
       "    </tr>\n",
       "    <tr>\n",
       "      <th>mean</th>\n",
       "      <td>3.748967e+00</td>\n",
       "      <td>9.164495e-01</td>\n",
       "      <td>5.244377e-01</td>\n",
       "      <td>7.397929e+04</td>\n",
       "      <td>3.598703e+01</td>\n",
       "      <td>-1.058747e+02</td>\n",
       "      <td>5.253169e+02</td>\n",
       "      <td>1.0</td>\n",
       "      <td>-3.154558e-03</td>\n",
       "      <td>-2.966381e-03</td>\n",
       "      <td>1.053572e-01</td>\n",
       "    </tr>\n",
       "    <tr>\n",
       "      <th>std</th>\n",
       "      <td>1.358270e+00</td>\n",
       "      <td>2.498608e+00</td>\n",
       "      <td>2.101432e+00</td>\n",
       "      <td>2.428915e+04</td>\n",
       "      <td>2.731777e+00</td>\n",
       "      <td>1.377946e+01</td>\n",
       "      <td>8.720525e+02</td>\n",
       "      <td>0.0</td>\n",
       "      <td>1.166744e+00</td>\n",
       "      <td>1.243536e+00</td>\n",
       "      <td>1.074904e-01</td>\n",
       "    </tr>\n",
       "    <tr>\n",
       "      <th>min</th>\n",
       "      <td>1.000000e+00</td>\n",
       "      <td>0.000000e+00</td>\n",
       "      <td>0.000000e+00</td>\n",
       "      <td>4.000000e+00</td>\n",
       "      <td>3.313739e+01</td>\n",
       "      <td>-1.156796e+02</td>\n",
       "      <td>3.500000e-01</td>\n",
       "      <td>1.0</td>\n",
       "      <td>-3.910000e+00</td>\n",
       "      <td>-4.000000e+00</td>\n",
       "      <td>-1.000000e+00</td>\n",
       "    </tr>\n",
       "    <tr>\n",
       "      <th>25%</th>\n",
       "      <td>3.000000e+00</td>\n",
       "      <td>0.000000e+00</td>\n",
       "      <td>0.000000e+00</td>\n",
       "      <td>8.500300e+04</td>\n",
       "      <td>3.353931e+01</td>\n",
       "      <td>-1.151702e+02</td>\n",
       "      <td>1.030000e+02</td>\n",
       "      <td>1.0</td>\n",
       "      <td>-6.700000e-01</td>\n",
       "      <td>-1.000000e+00</td>\n",
       "      <td>3.773585e-02</td>\n",
       "    </tr>\n",
       "    <tr>\n",
       "      <th>50%</th>\n",
       "      <td>4.000000e+00</td>\n",
       "      <td>0.000000e+00</td>\n",
       "      <td>0.000000e+00</td>\n",
       "      <td>8.526000e+04</td>\n",
       "      <td>3.606815e+01</td>\n",
       "      <td>-1.120655e+02</td>\n",
       "      <td>2.480000e+02</td>\n",
       "      <td>1.0</td>\n",
       "      <td>1.100000e-01</td>\n",
       "      <td>5.000000e-01</td>\n",
       "      <td>9.722222e-02</td>\n",
       "    </tr>\n",
       "    <tr>\n",
       "      <th>75%</th>\n",
       "      <td>5.000000e+00</td>\n",
       "      <td>1.000000e+00</td>\n",
       "      <td>0.000000e+00</td>\n",
       "      <td>8.910900e+04</td>\n",
       "      <td>3.614495e+01</td>\n",
       "      <td>-1.116799e+02</td>\n",
       "      <td>5.610000e+02</td>\n",
       "      <td>1.0</td>\n",
       "      <td>8.200000e-01</td>\n",
       "      <td>1.000000e+00</td>\n",
       "      <td>1.666667e-01</td>\n",
       "    </tr>\n",
       "    <tr>\n",
       "      <th>max</th>\n",
       "      <td>5.000000e+00</td>\n",
       "      <td>2.510000e+02</td>\n",
       "      <td>2.310000e+02</td>\n",
       "      <td>9.802300e+04</td>\n",
       "      <td>8.830000e+02</td>\n",
       "      <td>1.409264e+01</td>\n",
       "      <td>6.979000e+03</td>\n",
       "      <td>1.0</td>\n",
       "      <td>3.850000e+00</td>\n",
       "      <td>4.000000e+00</td>\n",
       "      <td>1.000000e+00</td>\n",
       "    </tr>\n",
       "  </tbody>\n",
       "</table>\n",
       "</div>"
      ],
      "text/plain": [
       "              stars        useful          cool   postal_code      latitude  \\\n",
       "count  2.043400e+06  2.043400e+06  2.043400e+06  2.042975e+06  2.043400e+06   \n",
       "mean   3.748967e+00  9.164495e-01  5.244377e-01  7.397929e+04  3.598703e+01   \n",
       "std    1.358270e+00  2.498608e+00  2.101432e+00  2.428915e+04  2.731777e+00   \n",
       "min    1.000000e+00  0.000000e+00  0.000000e+00  4.000000e+00  3.313739e+01   \n",
       "25%    3.000000e+00  0.000000e+00  0.000000e+00  8.500300e+04  3.353931e+01   \n",
       "50%    4.000000e+00  0.000000e+00  0.000000e+00  8.526000e+04  3.606815e+01   \n",
       "75%    5.000000e+00  1.000000e+00  0.000000e+00  8.910900e+04  3.614495e+01   \n",
       "max    5.000000e+00  2.510000e+02  2.310000e+02  9.802300e+04  8.830000e+02   \n",
       "\n",
       "          longitude  review_count_y    is_open     stars_dif  bus_stars_dif  \\\n",
       "count  2.043400e+06    2.043400e+06  2043400.0  2.043399e+06   2.043399e+06   \n",
       "mean  -1.058747e+02    5.253169e+02        1.0 -3.154558e-03  -2.966381e-03   \n",
       "std    1.377946e+01    8.720525e+02        0.0  1.166744e+00   1.243536e+00   \n",
       "min   -1.156796e+02    3.500000e-01        1.0 -3.910000e+00  -4.000000e+00   \n",
       "25%   -1.151702e+02    1.030000e+02        1.0 -6.700000e-01  -1.000000e+00   \n",
       "50%   -1.120655e+02    2.480000e+02        1.0  1.100000e-01   5.000000e-01   \n",
       "75%   -1.116799e+02    5.610000e+02        1.0  8.200000e-01   1.000000e+00   \n",
       "max    1.409264e+01    6.979000e+03        1.0  3.850000e+00   4.000000e+00   \n",
       "\n",
       "       sentiment_score  \n",
       "count     2.043401e+06  \n",
       "mean      1.053572e-01  \n",
       "std       1.074904e-01  \n",
       "min      -1.000000e+00  \n",
       "25%       3.773585e-02  \n",
       "50%       9.722222e-02  \n",
       "75%       1.666667e-01  \n",
       "max       1.000000e+00  "
      ]
     },
     "execution_count": 42,
     "metadata": {},
     "output_type": "execute_result"
    }
   ],
   "source": [
    "scored_df.describe()"
   ]
  },
  {
   "cell_type": "code",
   "execution_count": 43,
   "metadata": {},
   "outputs": [
    {
     "data": {
      "text/html": [
       "<div>\n",
       "<style>\n",
       "    .dataframe thead tr:only-child th {\n",
       "        text-align: right;\n",
       "    }\n",
       "\n",
       "    .dataframe thead th {\n",
       "        text-align: left;\n",
       "    }\n",
       "\n",
       "    .dataframe tbody tr th {\n",
       "        vertical-align: top;\n",
       "    }\n",
       "</style>\n",
       "<table border=\"1\" class=\"dataframe\">\n",
       "  <thead>\n",
       "    <tr style=\"text-align: right;\">\n",
       "      <th></th>\n",
       "      <th>funny</th>\n",
       "      <th>user_id</th>\n",
       "      <th>review_id</th>\n",
       "      <th>text</th>\n",
       "      <th>business_id</th>\n",
       "      <th>date</th>\n",
       "      <th>useful</th>\n",
       "      <th>cool</th>\n",
       "      <th>yelping_since</th>\n",
       "      <th>review_count_x</th>\n",
       "      <th>...</th>\n",
       "      <th>latitude</th>\n",
       "      <th>longitude</th>\n",
       "      <th>business_avg_stars</th>\n",
       "      <th>review_count_y</th>\n",
       "      <th>is_open</th>\n",
       "      <th>categories</th>\n",
       "      <th>stars_dif</th>\n",
       "      <th>bus_stars_dif</th>\n",
       "      <th>filtered_text</th>\n",
       "      <th>sentiment_score</th>\n",
       "    </tr>\n",
       "    <tr>\n",
       "      <th>stars</th>\n",
       "      <th></th>\n",
       "      <th></th>\n",
       "      <th></th>\n",
       "      <th></th>\n",
       "      <th></th>\n",
       "      <th></th>\n",
       "      <th></th>\n",
       "      <th></th>\n",
       "      <th></th>\n",
       "      <th></th>\n",
       "      <th></th>\n",
       "      <th></th>\n",
       "      <th></th>\n",
       "      <th></th>\n",
       "      <th></th>\n",
       "      <th></th>\n",
       "      <th></th>\n",
       "      <th></th>\n",
       "      <th></th>\n",
       "      <th></th>\n",
       "      <th></th>\n",
       "    </tr>\n",
       "  </thead>\n",
       "  <tbody>\n",
       "    <tr>\n",
       "      <th>1.0</th>\n",
       "      <td>228345</td>\n",
       "      <td>228345</td>\n",
       "      <td>228345</td>\n",
       "      <td>228345</td>\n",
       "      <td>228345</td>\n",
       "      <td>228345</td>\n",
       "      <td>228345</td>\n",
       "      <td>228345</td>\n",
       "      <td>228345</td>\n",
       "      <td>228345</td>\n",
       "      <td>...</td>\n",
       "      <td>228345</td>\n",
       "      <td>228345</td>\n",
       "      <td>228345</td>\n",
       "      <td>228345</td>\n",
       "      <td>228345</td>\n",
       "      <td>228344</td>\n",
       "      <td>228344</td>\n",
       "      <td>228344</td>\n",
       "      <td>228345</td>\n",
       "      <td>228345</td>\n",
       "    </tr>\n",
       "    <tr>\n",
       "      <th>2.0</th>\n",
       "      <td>190147</td>\n",
       "      <td>190147</td>\n",
       "      <td>190147</td>\n",
       "      <td>190147</td>\n",
       "      <td>190147</td>\n",
       "      <td>190147</td>\n",
       "      <td>190147</td>\n",
       "      <td>190147</td>\n",
       "      <td>190147</td>\n",
       "      <td>190147</td>\n",
       "      <td>...</td>\n",
       "      <td>190147</td>\n",
       "      <td>190147</td>\n",
       "      <td>190147</td>\n",
       "      <td>190147</td>\n",
       "      <td>190147</td>\n",
       "      <td>190147</td>\n",
       "      <td>190147</td>\n",
       "      <td>190147</td>\n",
       "      <td>190147</td>\n",
       "      <td>190147</td>\n",
       "    </tr>\n",
       "    <tr>\n",
       "      <th>3.0</th>\n",
       "      <td>265286</td>\n",
       "      <td>265286</td>\n",
       "      <td>265286</td>\n",
       "      <td>265286</td>\n",
       "      <td>265286</td>\n",
       "      <td>265286</td>\n",
       "      <td>265286</td>\n",
       "      <td>265286</td>\n",
       "      <td>265286</td>\n",
       "      <td>265286</td>\n",
       "      <td>...</td>\n",
       "      <td>265286</td>\n",
       "      <td>265286</td>\n",
       "      <td>265286</td>\n",
       "      <td>265286</td>\n",
       "      <td>265286</td>\n",
       "      <td>265286</td>\n",
       "      <td>265286</td>\n",
       "      <td>265286</td>\n",
       "      <td>265286</td>\n",
       "      <td>265286</td>\n",
       "    </tr>\n",
       "    <tr>\n",
       "      <th>4.0</th>\n",
       "      <td>541968</td>\n",
       "      <td>541968</td>\n",
       "      <td>541968</td>\n",
       "      <td>541968</td>\n",
       "      <td>541968</td>\n",
       "      <td>541968</td>\n",
       "      <td>541968</td>\n",
       "      <td>541968</td>\n",
       "      <td>541968</td>\n",
       "      <td>541968</td>\n",
       "      <td>...</td>\n",
       "      <td>541968</td>\n",
       "      <td>541968</td>\n",
       "      <td>541968</td>\n",
       "      <td>541968</td>\n",
       "      <td>541968</td>\n",
       "      <td>541968</td>\n",
       "      <td>541968</td>\n",
       "      <td>541968</td>\n",
       "      <td>541968</td>\n",
       "      <td>541968</td>\n",
       "    </tr>\n",
       "    <tr>\n",
       "      <th>5.0</th>\n",
       "      <td>817654</td>\n",
       "      <td>817654</td>\n",
       "      <td>817654</td>\n",
       "      <td>817654</td>\n",
       "      <td>817654</td>\n",
       "      <td>817654</td>\n",
       "      <td>817654</td>\n",
       "      <td>817654</td>\n",
       "      <td>817654</td>\n",
       "      <td>817654</td>\n",
       "      <td>...</td>\n",
       "      <td>817654</td>\n",
       "      <td>817654</td>\n",
       "      <td>817654</td>\n",
       "      <td>817654</td>\n",
       "      <td>817654</td>\n",
       "      <td>817654</td>\n",
       "      <td>817654</td>\n",
       "      <td>817654</td>\n",
       "      <td>817654</td>\n",
       "      <td>817654</td>\n",
       "    </tr>\n",
       "  </tbody>\n",
       "</table>\n",
       "<p>5 rows × 27 columns</p>\n",
       "</div>"
      ],
      "text/plain": [
       "        funny  user_id  review_id    text  business_id    date  useful  \\\n",
       "stars                                                                    \n",
       "1.0    228345   228345     228345  228345       228345  228345  228345   \n",
       "2.0    190147   190147     190147  190147       190147  190147  190147   \n",
       "3.0    265286   265286     265286  265286       265286  265286  265286   \n",
       "4.0    541968   541968     541968  541968       541968  541968  541968   \n",
       "5.0    817654   817654     817654  817654       817654  817654  817654   \n",
       "\n",
       "         cool  yelping_since  review_count_x       ...         latitude  \\\n",
       "stars                                              ...                    \n",
       "1.0    228345         228345          228345       ...           228345   \n",
       "2.0    190147         190147          190147       ...           190147   \n",
       "3.0    265286         265286          265286       ...           265286   \n",
       "4.0    541968         541968          541968       ...           541968   \n",
       "5.0    817654         817654          817654       ...           817654   \n",
       "\n",
       "       longitude  business_avg_stars  review_count_y  is_open  categories  \\\n",
       "stars                                                                       \n",
       "1.0       228345              228345          228345   228345      228344   \n",
       "2.0       190147              190147          190147   190147      190147   \n",
       "3.0       265286              265286          265286   265286      265286   \n",
       "4.0       541968              541968          541968   541968      541968   \n",
       "5.0       817654              817654          817654   817654      817654   \n",
       "\n",
       "       stars_dif  bus_stars_dif  filtered_text  sentiment_score  \n",
       "stars                                                            \n",
       "1.0       228344         228344         228345           228345  \n",
       "2.0       190147         190147         190147           190147  \n",
       "3.0       265286         265286         265286           265286  \n",
       "4.0       541968         541968         541968           541968  \n",
       "5.0       817654         817654         817654           817654  \n",
       "\n",
       "[5 rows x 27 columns]"
      ]
     },
     "execution_count": 43,
     "metadata": {},
     "output_type": "execute_result"
    }
   ],
   "source": [
    "scored_df.groupby('stars').count()"
   ]
  },
  {
   "cell_type": "code",
   "execution_count": 44,
   "metadata": {},
   "outputs": [
    {
     "name": "stdout",
     "output_type": "stream",
     "text": [
      "0.567849078131\n",
      "0.454064083615\n"
     ]
    }
   ],
   "source": [
    "print(scored_df['stars'].corr(scored_df['sentiment_score']))\n",
    "print(scored_df['stars_dif'].corr(scored_df['sentiment_score']))"
   ]
  },
  {
   "cell_type": "code",
   "execution_count": 45,
   "metadata": {},
   "outputs": [
    {
     "data": {
      "text/html": [
       "<div>\n",
       "<style>\n",
       "    .dataframe thead tr:only-child th {\n",
       "        text-align: right;\n",
       "    }\n",
       "\n",
       "    .dataframe thead th {\n",
       "        text-align: left;\n",
       "    }\n",
       "\n",
       "    .dataframe tbody tr th {\n",
       "        vertical-align: top;\n",
       "    }\n",
       "</style>\n",
       "<table border=\"1\" class=\"dataframe\">\n",
       "  <thead>\n",
       "    <tr style=\"text-align: right;\">\n",
       "      <th></th>\n",
       "      <th>stars</th>\n",
       "      <th>useful</th>\n",
       "      <th>cool</th>\n",
       "      <th>postal_code</th>\n",
       "      <th>latitude</th>\n",
       "      <th>longitude</th>\n",
       "      <th>review_count_y</th>\n",
       "      <th>is_open</th>\n",
       "      <th>stars_dif</th>\n",
       "      <th>bus_stars_dif</th>\n",
       "    </tr>\n",
       "  </thead>\n",
       "  <tbody>\n",
       "    <tr>\n",
       "      <th>count</th>\n",
       "      <td>223486.000000</td>\n",
       "      <td>223486.000000</td>\n",
       "      <td>223486.000000</td>\n",
       "      <td>223442.000000</td>\n",
       "      <td>223486.000000</td>\n",
       "      <td>223486.000000</td>\n",
       "      <td>223486.000000</td>\n",
       "      <td>223486.0</td>\n",
       "      <td>223486.000000</td>\n",
       "      <td>223486.000000</td>\n",
       "    </tr>\n",
       "    <tr>\n",
       "      <th>mean</th>\n",
       "      <td>1.863678</td>\n",
       "      <td>0.961179</td>\n",
       "      <td>0.308458</td>\n",
       "      <td>74168.084304</td>\n",
       "      <td>36.005578</td>\n",
       "      <td>-105.948270</td>\n",
       "      <td>432.918205</td>\n",
       "      <td>1.0</td>\n",
       "      <td>-1.292165</td>\n",
       "      <td>-1.506472</td>\n",
       "    </tr>\n",
       "    <tr>\n",
       "      <th>std</th>\n",
       "      <td>1.166737</td>\n",
       "      <td>2.203883</td>\n",
       "      <td>1.449254</td>\n",
       "      <td>24142.503419</td>\n",
       "      <td>2.647370</td>\n",
       "      <td>13.769752</td>\n",
       "      <td>790.379761</td>\n",
       "      <td>0.0</td>\n",
       "      <td>1.164322</td>\n",
       "      <td>1.164728</td>\n",
       "    </tr>\n",
       "    <tr>\n",
       "      <th>min</th>\n",
       "      <td>1.000000</td>\n",
       "      <td>0.000000</td>\n",
       "      <td>0.000000</td>\n",
       "      <td>2224.000000</td>\n",
       "      <td>33.137390</td>\n",
       "      <td>-115.644741</td>\n",
       "      <td>3.000000</td>\n",
       "      <td>1.0</td>\n",
       "      <td>-3.890000</td>\n",
       "      <td>-4.000000</td>\n",
       "    </tr>\n",
       "    <tr>\n",
       "      <th>25%</th>\n",
       "      <td>1.000000</td>\n",
       "      <td>0.000000</td>\n",
       "      <td>0.000000</td>\n",
       "      <td>85003.000000</td>\n",
       "      <td>33.567825</td>\n",
       "      <td>-115.170430</td>\n",
       "      <td>67.000000</td>\n",
       "      <td>1.0</td>\n",
       "      <td>-2.190000</td>\n",
       "      <td>-2.500000</td>\n",
       "    </tr>\n",
       "    <tr>\n",
       "      <th>50%</th>\n",
       "      <td>1.000000</td>\n",
       "      <td>0.000000</td>\n",
       "      <td>0.000000</td>\n",
       "      <td>85281.000000</td>\n",
       "      <td>36.072370</td>\n",
       "      <td>-112.073929</td>\n",
       "      <td>178.000000</td>\n",
       "      <td>1.0</td>\n",
       "      <td>-1.440000</td>\n",
       "      <td>-1.500000</td>\n",
       "    </tr>\n",
       "    <tr>\n",
       "      <th>75%</th>\n",
       "      <td>2.000000</td>\n",
       "      <td>1.000000</td>\n",
       "      <td>0.000000</td>\n",
       "      <td>89109.000000</td>\n",
       "      <td>36.148619</td>\n",
       "      <td>-111.682424</td>\n",
       "      <td>435.000000</td>\n",
       "      <td>1.0</td>\n",
       "      <td>-0.360000</td>\n",
       "      <td>-1.000000</td>\n",
       "    </tr>\n",
       "    <tr>\n",
       "      <th>max</th>\n",
       "      <td>5.000000</td>\n",
       "      <td>251.000000</td>\n",
       "      <td>168.000000</td>\n",
       "      <td>98023.000000</td>\n",
       "      <td>44.992140</td>\n",
       "      <td>-73.363621</td>\n",
       "      <td>6979.000000</td>\n",
       "      <td>1.0</td>\n",
       "      <td>3.560000</td>\n",
       "      <td>3.500000</td>\n",
       "    </tr>\n",
       "  </tbody>\n",
       "</table>\n",
       "</div>"
      ],
      "text/plain": [
       "               stars         useful           cool    postal_code  \\\n",
       "count  223486.000000  223486.000000  223486.000000  223442.000000   \n",
       "mean        1.863678       0.961179       0.308458   74168.084304   \n",
       "std         1.166737       2.203883       1.449254   24142.503419   \n",
       "min         1.000000       0.000000       0.000000    2224.000000   \n",
       "25%         1.000000       0.000000       0.000000   85003.000000   \n",
       "50%         1.000000       0.000000       0.000000   85281.000000   \n",
       "75%         2.000000       1.000000       0.000000   89109.000000   \n",
       "max         5.000000     251.000000     168.000000   98023.000000   \n",
       "\n",
       "            latitude      longitude  review_count_y   is_open      stars_dif  \\\n",
       "count  223486.000000  223486.000000   223486.000000  223486.0  223486.000000   \n",
       "mean       36.005578    -105.948270      432.918205       1.0      -1.292165   \n",
       "std         2.647370      13.769752      790.379761       0.0       1.164322   \n",
       "min        33.137390    -115.644741        3.000000       1.0      -3.890000   \n",
       "25%        33.567825    -115.170430       67.000000       1.0      -2.190000   \n",
       "50%        36.072370    -112.073929      178.000000       1.0      -1.440000   \n",
       "75%        36.148619    -111.682424      435.000000       1.0      -0.360000   \n",
       "max        44.992140     -73.363621     6979.000000       1.0       3.560000   \n",
       "\n",
       "       bus_stars_dif  \n",
       "count  223486.000000  \n",
       "mean       -1.506472  \n",
       "std         1.164728  \n",
       "min        -4.000000  \n",
       "25%        -2.500000  \n",
       "50%        -1.500000  \n",
       "75%        -1.000000  \n",
       "max         3.500000  "
      ]
     },
     "execution_count": 45,
     "metadata": {},
     "output_type": "execute_result"
    }
   ],
   "source": [
    "# neg_scores\n",
    "neg_scores.describe()"
   ]
  },
  {
   "cell_type": "code",
   "execution_count": 46,
   "metadata": {},
   "outputs": [
    {
     "data": {
      "text/html": [
       "<div>\n",
       "<style>\n",
       "    .dataframe thead tr:only-child th {\n",
       "        text-align: right;\n",
       "    }\n",
       "\n",
       "    .dataframe thead th {\n",
       "        text-align: left;\n",
       "    }\n",
       "\n",
       "    .dataframe tbody tr th {\n",
       "        vertical-align: top;\n",
       "    }\n",
       "</style>\n",
       "<table border=\"1\" class=\"dataframe\">\n",
       "  <thead>\n",
       "    <tr style=\"text-align: right;\">\n",
       "      <th></th>\n",
       "      <th>funny</th>\n",
       "      <th>user_id</th>\n",
       "      <th>review_id</th>\n",
       "      <th>text</th>\n",
       "      <th>business_id</th>\n",
       "      <th>date</th>\n",
       "      <th>useful</th>\n",
       "      <th>cool</th>\n",
       "      <th>yelping_since</th>\n",
       "      <th>review_count_x</th>\n",
       "      <th>...</th>\n",
       "      <th>latitude</th>\n",
       "      <th>longitude</th>\n",
       "      <th>business_avg_stars</th>\n",
       "      <th>review_count_y</th>\n",
       "      <th>is_open</th>\n",
       "      <th>categories</th>\n",
       "      <th>stars_dif</th>\n",
       "      <th>bus_stars_dif</th>\n",
       "      <th>filtered_text</th>\n",
       "      <th>sentiment_score</th>\n",
       "    </tr>\n",
       "    <tr>\n",
       "      <th>stars</th>\n",
       "      <th></th>\n",
       "      <th></th>\n",
       "      <th></th>\n",
       "      <th></th>\n",
       "      <th></th>\n",
       "      <th></th>\n",
       "      <th></th>\n",
       "      <th></th>\n",
       "      <th></th>\n",
       "      <th></th>\n",
       "      <th></th>\n",
       "      <th></th>\n",
       "      <th></th>\n",
       "      <th></th>\n",
       "      <th></th>\n",
       "      <th></th>\n",
       "      <th></th>\n",
       "      <th></th>\n",
       "      <th></th>\n",
       "      <th></th>\n",
       "      <th></th>\n",
       "    </tr>\n",
       "  </thead>\n",
       "  <tbody>\n",
       "    <tr>\n",
       "      <th>1.0</th>\n",
       "      <td>120176</td>\n",
       "      <td>120176</td>\n",
       "      <td>120176</td>\n",
       "      <td>120176</td>\n",
       "      <td>120176</td>\n",
       "      <td>120176</td>\n",
       "      <td>120176</td>\n",
       "      <td>120176</td>\n",
       "      <td>120176</td>\n",
       "      <td>120176</td>\n",
       "      <td>...</td>\n",
       "      <td>120176</td>\n",
       "      <td>120176</td>\n",
       "      <td>120176</td>\n",
       "      <td>120176</td>\n",
       "      <td>120176</td>\n",
       "      <td>120176</td>\n",
       "      <td>120176</td>\n",
       "      <td>120176</td>\n",
       "      <td>120176</td>\n",
       "      <td>120176</td>\n",
       "    </tr>\n",
       "    <tr>\n",
       "      <th>2.0</th>\n",
       "      <td>51259</td>\n",
       "      <td>51259</td>\n",
       "      <td>51259</td>\n",
       "      <td>51259</td>\n",
       "      <td>51259</td>\n",
       "      <td>51259</td>\n",
       "      <td>51259</td>\n",
       "      <td>51259</td>\n",
       "      <td>51259</td>\n",
       "      <td>51259</td>\n",
       "      <td>...</td>\n",
       "      <td>51259</td>\n",
       "      <td>51259</td>\n",
       "      <td>51259</td>\n",
       "      <td>51259</td>\n",
       "      <td>51259</td>\n",
       "      <td>51259</td>\n",
       "      <td>51259</td>\n",
       "      <td>51259</td>\n",
       "      <td>51259</td>\n",
       "      <td>51259</td>\n",
       "    </tr>\n",
       "    <tr>\n",
       "      <th>3.0</th>\n",
       "      <td>25979</td>\n",
       "      <td>25979</td>\n",
       "      <td>25979</td>\n",
       "      <td>25979</td>\n",
       "      <td>25979</td>\n",
       "      <td>25979</td>\n",
       "      <td>25979</td>\n",
       "      <td>25979</td>\n",
       "      <td>25979</td>\n",
       "      <td>25979</td>\n",
       "      <td>...</td>\n",
       "      <td>25979</td>\n",
       "      <td>25979</td>\n",
       "      <td>25979</td>\n",
       "      <td>25979</td>\n",
       "      <td>25979</td>\n",
       "      <td>25979</td>\n",
       "      <td>25979</td>\n",
       "      <td>25979</td>\n",
       "      <td>25979</td>\n",
       "      <td>25979</td>\n",
       "    </tr>\n",
       "    <tr>\n",
       "      <th>4.0</th>\n",
       "      <td>14485</td>\n",
       "      <td>14485</td>\n",
       "      <td>14485</td>\n",
       "      <td>14485</td>\n",
       "      <td>14485</td>\n",
       "      <td>14485</td>\n",
       "      <td>14485</td>\n",
       "      <td>14485</td>\n",
       "      <td>14485</td>\n",
       "      <td>14485</td>\n",
       "      <td>...</td>\n",
       "      <td>14485</td>\n",
       "      <td>14485</td>\n",
       "      <td>14485</td>\n",
       "      <td>14485</td>\n",
       "      <td>14485</td>\n",
       "      <td>14485</td>\n",
       "      <td>14485</td>\n",
       "      <td>14485</td>\n",
       "      <td>14485</td>\n",
       "      <td>14485</td>\n",
       "    </tr>\n",
       "    <tr>\n",
       "      <th>5.0</th>\n",
       "      <td>11587</td>\n",
       "      <td>11587</td>\n",
       "      <td>11587</td>\n",
       "      <td>11587</td>\n",
       "      <td>11587</td>\n",
       "      <td>11587</td>\n",
       "      <td>11587</td>\n",
       "      <td>11587</td>\n",
       "      <td>11587</td>\n",
       "      <td>11587</td>\n",
       "      <td>...</td>\n",
       "      <td>11587</td>\n",
       "      <td>11587</td>\n",
       "      <td>11587</td>\n",
       "      <td>11587</td>\n",
       "      <td>11587</td>\n",
       "      <td>11587</td>\n",
       "      <td>11587</td>\n",
       "      <td>11587</td>\n",
       "      <td>11587</td>\n",
       "      <td>11587</td>\n",
       "    </tr>\n",
       "  </tbody>\n",
       "</table>\n",
       "<p>5 rows × 27 columns</p>\n",
       "</div>"
      ],
      "text/plain": [
       "        funny  user_id  review_id    text  business_id    date  useful  \\\n",
       "stars                                                                    \n",
       "1.0    120176   120176     120176  120176       120176  120176  120176   \n",
       "2.0     51259    51259      51259   51259        51259   51259   51259   \n",
       "3.0     25979    25979      25979   25979        25979   25979   25979   \n",
       "4.0     14485    14485      14485   14485        14485   14485   14485   \n",
       "5.0     11587    11587      11587   11587        11587   11587   11587   \n",
       "\n",
       "         cool  yelping_since  review_count_x       ...         latitude  \\\n",
       "stars                                              ...                    \n",
       "1.0    120176         120176          120176       ...           120176   \n",
       "2.0     51259          51259           51259       ...            51259   \n",
       "3.0     25979          25979           25979       ...            25979   \n",
       "4.0     14485          14485           14485       ...            14485   \n",
       "5.0     11587          11587           11587       ...            11587   \n",
       "\n",
       "       longitude  business_avg_stars  review_count_y  is_open  categories  \\\n",
       "stars                                                                       \n",
       "1.0       120176              120176          120176   120176      120176   \n",
       "2.0        51259               51259           51259    51259       51259   \n",
       "3.0        25979               25979           25979    25979       25979   \n",
       "4.0        14485               14485           14485    14485       14485   \n",
       "5.0        11587               11587           11587    11587       11587   \n",
       "\n",
       "       stars_dif  bus_stars_dif  filtered_text  sentiment_score  \n",
       "stars                                                            \n",
       "1.0       120176         120176         120176           120176  \n",
       "2.0        51259          51259          51259            51259  \n",
       "3.0        25979          25979          25979            25979  \n",
       "4.0        14485          14485          14485            14485  \n",
       "5.0        11587          11587          11587            11587  \n",
       "\n",
       "[5 rows x 27 columns]"
      ]
     },
     "execution_count": 46,
     "metadata": {},
     "output_type": "execute_result"
    }
   ],
   "source": [
    "neg_scores.groupby('stars').count()"
   ]
  },
  {
   "cell_type": "code",
   "execution_count": 48,
   "metadata": {},
   "outputs": [
    {
     "name": "stdout",
     "output_type": "stream",
     "text": [
      "SpearmanrResult(correlation=0.14817384826249083, pvalue=0.0)\n",
      "SpearmanrResult(correlation=0.046836975321569628, pvalue=9.5692159238598414e-109)\n"
     ]
    }
   ],
   "source": [
    "import scipy as sp\n",
    "print(sp.stats.spearmanr(neg_scores['stars'], neg_scores['sentiment_score']))\n",
    "print(sp.stats.spearmanr(neg_scores['stars_dif'], neg_scores['sentiment_score']))"
   ]
  },
  {
   "cell_type": "markdown",
   "metadata": {},
   "source": [
    "- distribution of sentiment score"
   ]
  },
  {
   "cell_type": "code",
   "execution_count": 49,
   "metadata": {},
   "outputs": [
    {
     "data": {
      "text/plain": [
       "(-0.4, 0.4)"
      ]
     },
     "execution_count": 49,
     "metadata": {},
     "output_type": "execute_result"
    },
    {
     "data": {
      "image/png": "[encoded data removed]",
      "text/plain": [
       "<matplotlib.figure.Figure at 0x4dfe4ac50>"
      ]
     },
     "metadata": {},
     "output_type": "display_data"
    }
   ],
   "source": [
    "plt.figure(figsize=(12,6))\n",
    "sns.distplot(scored_df['sentiment_score'], label='Sentiment Score')\n",
    "sns.plt.xlim(-0.4,0.4)"
   ]
  },
  {
   "cell_type": "markdown",
   "metadata": {},
   "source": [
    "- overall / negative review count "
   ]
  },
  {
   "cell_type": "code",
   "execution_count": 51,
   "metadata": {},
   "outputs": [
    {
     "data": {
      "text/plain": [
       "<matplotlib.axes._subplots.AxesSubplot at 0x4d03cfdd8>"
      ]
     },
     "execution_count": 51,
     "metadata": {},
     "output_type": "execute_result"
    },
    {
     "data": {
      "image/png": "[encoded data removed]",
      "text/plain": [
       "<matplotlib.figure.Figure at 0x4dfe459e8>"
      ]
     },
     "metadata": {},
     "output_type": "display_data"
    }
   ],
   "source": [
    "bar_df = scored_df.groupby('stars')['is_open'].sum()\n",
    "bar_df.plot.bar()\n",
    "# fig, ax = plt.subplots()\n",
    "# ax2 = ax.twiny() # put a second plot on top of it, having the same y axis\n",
    "# data1 = np.random.random(10) #random in [0,1]\n",
    "# data2 = np.random.random(15)+1 #random in [1,2]\n",
    "\n",
    "# ax.plot(np.arange(len(data1)), data1) # plot in the first plot\n",
    "# ax2.plot(np.arange(len(data2)),data2) # plot in the second plot\n",
    "\n",
    "# https://stackoverflow.com/questions/16748577/matplotlib-combine-different-figures-and-put-them-in-a-single-subplot-sharing-a"
   ]
  },
  {
   "cell_type": "code",
   "execution_count": 52,
   "metadata": {},
   "outputs": [
    {
     "data": {
      "text/plain": [
       "<matplotlib.axes._subplots.AxesSubplot at 0x405270d30>"
      ]
     },
     "execution_count": 52,
     "metadata": {},
     "output_type": "execute_result"
    },
    {
     "data": {
      "image/png": "[encoded data removed]",
      "text/plain": [
       "<matplotlib.figure.Figure at 0x40529a748>"
      ]
     },
     "metadata": {},
     "output_type": "display_data"
    }
   ],
   "source": [
    "bar_df = neg_scores.groupby('stars')['is_open'].sum()\n",
    "bar_df.plot.bar()"
   ]
  },
  {
   "cell_type": "markdown",
   "metadata": {},
   "source": [
    "- overall sentiment_score and stars_dif"
   ]
  },
  {
   "cell_type": "code",
   "execution_count": 53,
   "metadata": {
    "collapsed": true
   },
   "outputs": [],
   "source": [
    "distplot3 = scored_df.loc[:,['sentiment_score', 'stars_dif', 'stars']]"
   ]
  },
  {
   "cell_type": "code",
   "execution_count": 54,
   "metadata": {},
   "outputs": [
    {
     "data": {
      "text/plain": [
       "(-4, 2)"
      ]
     },
     "execution_count": 54,
     "metadata": {},
     "output_type": "execute_result"
    },
    {
     "data": {
      "text/plain": [
       "<matplotlib.figure.Figure at 0x4052a59e8>"
      ]
     },
     "metadata": {},
     "output_type": "display_data"
    },
    {
     "data": {
      "image/png": "[encoded data removed]",
      "text/plain": [
       "<matplotlib.figure.Figure at 0x4052a5550>"
      ]
     },
     "metadata": {},
     "output_type": "display_data"
    }
   ],
   "source": [
    "plt.figure(figsize=(12,6))\n",
    "sns.set_style(\"darkgrid\", {\"axes.facecolor\": \".9\"})\n",
    "sns.jointplot(distplot3.stars_dif, distplot3.sentiment_score, kind = 'kde', cmap=\"Reds\", shade=True, shade_lowest=False)\n",
    "#sns.plt.ylim(-0.25,0)\n",
    "sns.plt.xlim((-4),2)"
   ]
  },
  {
   "cell_type": "markdown",
   "metadata": {},
   "source": [
    "- focus on negative reviews"
   ]
  },
  {
   "cell_type": "code",
   "execution_count": 55,
   "metadata": {
    "collapsed": true
   },
   "outputs": [],
   "source": [
    "distplot = neg_scores.loc[:,['sentiment_score', 'stars_dif']]"
   ]
  },
  {
   "cell_type": "code",
   "execution_count": 56,
   "metadata": {},
   "outputs": [
    {
     "data": {
      "text/plain": [
       "(-4, 2)"
      ]
     },
     "execution_count": 56,
     "metadata": {},
     "output_type": "execute_result"
    },
    {
     "data": {
      "text/plain": [
       "<matplotlib.figure.Figure at 0x4d11f37b8>"
      ]
     },
     "metadata": {},
     "output_type": "display_data"
    },
    {
     "data": {
      "image/png": "[encoded data removed]",
      "text/plain": [
       "<matplotlib.figure.Figure at 0x4d11f34a8>"
      ]
     },
     "metadata": {},
     "output_type": "display_data"
    }
   ],
   "source": [
    "plt.figure(figsize=(12,6))\n",
    "sns.set_style(\"darkgrid\", {\"axes.facecolor\": \".9\"})\n",
    "sns.jointplot(distplot.stars_dif, distplot.sentiment_score, kind = 'kde', cmap=\"Reds\", shade=True, shade_lowest=False)\n",
    "sns.plt.ylim(-0.25,0)\n",
    "sns.plt.xlim((-4),2)"
   ]
  },
  {
   "cell_type": "markdown",
   "metadata": {},
   "source": [
    "- stars_dif"
   ]
  },
  {
   "cell_type": "code",
   "execution_count": 57,
   "metadata": {},
   "outputs": [
    {
     "data": {
      "text/plain": [
       "<matplotlib.axes._subplots.AxesSubplot at 0x4d11f9208>"
      ]
     },
     "execution_count": 57,
     "metadata": {},
     "output_type": "execute_result"
    },
    {
     "data": {
      "image/png": "[encoded data removed]",
      "text/plain": [
       "<matplotlib.figure.Figure at 0x4d11f9940>"
      ]
     },
     "metadata": {},
     "output_type": "display_data"
    }
   ],
   "source": [
    "plt.figure(figsize=(12,6))\n",
    "sns.distplot(neg_scores['stars_dif'], label='Stars_Dif')"
   ]
  },
  {
   "cell_type": "markdown",
   "metadata": {},
   "source": [
    "## 4. Phrase modeling, LDA - spacy, gensim"
   ]
  },
  {
   "cell_type": "code",
   "execution_count": 58,
   "metadata": {
    "collapsed": true
   },
   "outputs": [],
   "source": [
    "from gensim.models import Phrases\n",
    "from gensim.corpora import Dictionary, MmCorpus\n",
    "from gensim.models.word2vec import LineSentence\n",
    "from gensim.models.ldamulticore import LdaMulticore\n",
    "import pyLDAvis\n",
    "import pyLDAvis.gensim\n",
    "import warnings\n",
    "import _pickle as pickle\n",
    "import itertools"
   ]
  },
  {
   "cell_type": "code",
   "execution_count": 63,
   "metadata": {
    "collapsed": true
   },
   "outputs": [],
   "source": [
    "# helper functions for text preprocessing & LDA modeling:\n",
    "\n",
    "def punct_space(token):\n",
    "    \"\"\"\n",
    "    helper function to eliminate tokens\n",
    "    that are pure punctuation or whitespace\n",
    "    \"\"\"\n",
    "    \n",
    "    return token.is_punct or token.is_space or token.like_num or token.is_digit\n",
    "\n",
    "def line_review(filename):\n",
    "    \"\"\"\n",
    "    generator function to read in reviews from Pandas Series\n",
    "    and un-escape the original line breaks in the text\n",
    "    \"\"\"\n",
    "    \n",
    "    #with codecs.open(filename, encoding='utf_8') as f:\n",
    "    for review in filename:\n",
    "        yield review.replace('\\\\n', '\\n')\n",
    "            \n",
    "def lemmatized_sentence_corpus(filename):\n",
    "    \"\"\"\n",
    "    generator function to use spaCy to parse reviews,\n",
    "    lemmatize the text, and yield sentences\n",
    "    \"\"\"\n",
    "    \n",
    "    for parsed_review in nlp.pipe(line_review(filename), batch_size=10000, n_threads=4):\n",
    "        \n",
    "        for sent in parsed_review.sents:\n",
    "            yield u' '.join([token.lemma_ for token in sent\n",
    "                             if not punct_space(token)])\n",
    "\n",
    "def trigram_bow_generator(filepath):\n",
    "    \"\"\"\n",
    "    generator function to read reviews from a file\n",
    "    and yield a bag-of-words representation\n",
    "    \"\"\"\n",
    "    # load finished dictionary from disk\n",
    "    trigram_dictionary = Dictionary.load('./models/trigram_dict_all_neg.dict')\n",
    "    \n",
    "    for review in LineSentence(filepath):\n",
    "        yield trigram_dictionary.doc2bow(review)"
   ]
  },
  {
   "cell_type": "code",
   "execution_count": 64,
   "metadata": {
    "collapsed": true
   },
   "outputs": [],
   "source": [
    "def reviewPreProcess(text):\n",
    "    \"\"\"\n",
    "    Takes Pandas series as input,\n",
    "    consisting of one review as \n",
    "    text string per row\n",
    "    \"\"\"\n",
    "    \n",
    "    # lemmatized_sentence_corpus generator loops over original review text, segments the reviews into individual sentences \n",
    "    # and normalizes text. Writes data to new file with one normalized sentence per line:\n",
    "    with codecs.open('./models/unigram_sentences_neg.txt', 'w', encoding='utf_8') as f:\n",
    "        for sentence in lemmatized_sentence_corpus(text):  \n",
    "            f.write(sentence + '\\n')\n",
    "    \n",
    "    # Create object to stream unigram sentences from disk, rather than hold in memory:\n",
    "    unigram_sentences = LineSentence('./models/unigram_sentences_neg.txt')\n",
    "        \n",
    "    # Train phrase model to link individual words into two-word phrases: \n",
    "    bigram_model = Phrases(unigram_sentences)\n",
    "    bigram_model.save('./models/bigram_model_neg.txt')\n",
    "            \n",
    "    # Apply trained bigram phrase model to the review sentences data: \n",
    "    with codecs.open('./models/bigram_sentences_neg.txt', 'w', encoding='utf_8') as f:\n",
    "        for unigram_sentence in unigram_sentences:\n",
    "            bigram_sentence = u' '.join(bigram_model[unigram_sentence])\n",
    "            f.write(bigram_sentence + '\\n')\n",
    "    \n",
    "    # Create object to stream bigram sentences from disk, rather than hold in memory:\n",
    "    bigram_sentences = LineSentence('./models/bigram_sentences_neg.txt')\n",
    "    \n",
    "    # Train second-order phrase model to to generate trigrams:\n",
    "    trigram_model = Phrases(bigram_sentences)\n",
    "    trigram_model.save('./models/trigram_model_neg.txt')\n",
    "    \n",
    "    # Apply trained second-order phrase model to our first-order transformed sentences and write to a new file:\n",
    "    #with codecs.open('./models/trigram_sentences_neg.txt', 'w', encoding='utf_8') as f:\n",
    "    #    for bigram_sentence in bigram_sentences:\n",
    "    #        trigram_sentence = u' '.join(trigram_model[bigram_sentence])\n",
    "    #        f.write(trigram_sentence + '\\n')\n",
    "    \n",
    "    # Run complete text of the reviews through a pipeline that applies text normalization and phrase models.\n",
    "    # Also remove stopwords and write transformed text to a new file, one review per line:\n",
    "    with codecs.open('./models/trigram_transformed_reviews_neg.txt', 'w', encoding='utf_8') as f:\n",
    "        for parsed_review in nlp.pipe(line_review(text), \n",
    "                                        batch_size=10000, n_threads=4):\n",
    "            \n",
    "            # lemmatize the text, removing punctuation and whitespace\n",
    "            unigram_review = [token.lemma_ for token in parsed_review\n",
    "                                if not punct_space(token)]\n",
    "            \n",
    "            # apply the first-order and second-order phrase models\n",
    "            bigram_review = bigram_model[unigram_review]\n",
    "            trigram_review = trigram_model[bigram_review]\n",
    "                \n",
    "            common_terms = ['order', 'come', 'bad', 'good', \\\n",
    "                            'place', 'time', '\\'s'] \n",
    "                \n",
    "            # remove any remaining stopwords\n",
    "            trigram_review = [term for term in trigram_review\n",
    "                                if term not in spacy.en.English.Defaults.stop_words]\n",
    "            trigram_review = [term for term in trigram_review\n",
    "                                if term not in common_terms]\n",
    "            \n",
    "            # write the transformed review as a line in the new file\n",
    "            trigram_review = u' '.join(trigram_review)\n",
    "            f.write(trigram_review + '\\n')\n",
    "    \n",
    "    \n",
    "    # Learn full vocabulary of corpus to be modeled, using gensim's Dictionary class.  \n",
    "    # Stream reviews off of disk using LineSentence:\n",
    "    trigram_reviews = LineSentence('./models/trigram_transformed_reviews_neg.txt')\n",
    "\n",
    "    # learn the dictionary by iterating over all of the reviews\n",
    "    trigram_dictionary = Dictionary(trigram_reviews)\n",
    "    \n",
    "    # filter tokens that are very rare or too common from\n",
    "    # the dictionary (filter_extremes) and reassign integer ids (compactify)\n",
    "    trigram_dictionary.filter_extremes(no_below=10, no_above=0.4)\n",
    "    trigram_dictionary.compactify()\n",
    "\n",
    "    trigram_dictionary.save('./models/trigram_dict_all_neg.dict')\n",
    "    \n",
    "    return bigram_model, trigram_model, trigram_dictionary"
   ]
  },
  {
   "cell_type": "code",
   "execution_count": 65,
   "metadata": {
    "collapsed": true
   },
   "outputs": [],
   "source": [
    "def LDA_Model(topics, cores=3):\n",
    "    \"\"\"\n",
    "    Topics represents desired LDA topics,\n",
    "    cores should be physical cores minus one. \n",
    "    Both should be integers.\n",
    "    \"\"\"\n",
    "    \n",
    "    # load finished dictionary from disk\n",
    "    trigram_dictionary = Dictionary.load('./models/trigram_dict_all_neg.dict')\n",
    "        \n",
    "    # generate bag-of-words representations for all reviews and save them as a matrix\n",
    "    MmCorpus.serialize('./models/trigram_bow_corpus_neg.nm',\n",
    "                        trigram_bow_generator('./models/trigram_transformed_reviews_neg.txt'))\n",
    "    \n",
    "    # load finished bag-of-words corpus from disk\n",
    "    trigram_bow_corpus = MmCorpus('./models/trigram_bow_corpus_neg.nm')\n",
    "    \n",
    "    \n",
    "    # Pass the bag-of-words matrix and Dictionary from previous steps to LdaMulticore as inputs, \n",
    "    # along with the number of topics the model should learn\n",
    "        \n",
    "    # workers => sets the parallelism, and should be\n",
    "    # set to your number of physical cores minus one\n",
    "    lda = LdaMulticore(trigram_bow_corpus, \n",
    "                       num_topics=topics, \n",
    "                       id2word=trigram_dictionary, \n",
    "                       workers=cores)\n",
    "        \n",
    "    lda.save('./models/lda_model_neg')\n",
    "        \n",
    "    # load the finished LDA model from disk\n",
    "    #lda = LdaMulticore.load('./models/lda_model_neg')\n",
    "    \n",
    "    return trigram_bow_corpus, lda"
   ]
  },
  {
   "cell_type": "code",
   "execution_count": 66,
   "metadata": {},
   "outputs": [
    {
     "name": "stderr",
     "output_type": "stream",
     "text": [
      "/anaconda/lib/python3.6/site-packages/gensim-2.3.0-py3.6-macosx-10.7-x86_64.egg/gensim/models/phrases.py:316: UserWarning: For a faster implementation, use the gensim.models.phrases.Phraser class\n",
      "  warnings.warn(\"For a faster implementation, use the gensim.models.phrases.Phraser class\")\n"
     ]
    },
    {
     "name": "stdout",
     "output_type": "stream",
     "text": [
      "CPU times: user 1h 28min 25s, sys: 1h 34min 54s, total: 3h 3min 19s\n",
      "Wall time: 9h 35min 42s\n"
     ]
    }
   ],
   "source": [
    "%%time\n",
    "bigram_model, trigram_model, trigram_dictionary = reviewPreProcess(neg_scores['text'])"
   ]
  },
  {
   "cell_type": "code",
   "execution_count": 67,
   "metadata": {},
   "outputs": [
    {
     "name": "stdout",
     "output_type": "stream",
     "text": [
      "CPU times: user 3min 58s, sys: 21.7 s, total: 4min 20s\n",
      "Wall time: 2h 1min 50s\n"
     ]
    }
   ],
   "source": [
    "%%time\n",
    "trigram_bow_corpus, lda = LDA_Model(3)"
   ]
  },
  {
   "cell_type": "code",
   "execution_count": 68,
   "metadata": {
    "collapsed": true
   },
   "outputs": [],
   "source": [
    "def explore_topic(topic_number, topn=25):\n",
    "    \"\"\"\n",
    "    accept a user-supplied topic number and\n",
    "    print out a formatted list of the top terms\n",
    "    \"\"\"\n",
    "        \n",
    "    print(u'{:20} {}'.format(u'term', u'frequency') + u'\\n')\n",
    "\n",
    "    for term, frequency in lda.show_topic(topic_number, topn=25):\n",
    "        print(u'{:20} {:.3f}'.format(term, round(frequency, 3)))"
   ]
  },
  {
   "cell_type": "code",
   "execution_count": 69,
   "metadata": {},
   "outputs": [
    {
     "name": "stdout",
     "output_type": "stream",
     "text": [
      "term                 frequency\n",
      "\n",
      "eat                  0.010\n",
      "like                 0.010\n",
      "$                    0.010\n",
      "taste                0.010\n",
      "chicken              0.009\n",
      "pizza                0.009\n",
      "try                  0.007\n",
      "fry                  0.006\n",
      "sauce                0.006\n",
      "meat                 0.005\n",
      "restaurant           0.005\n",
      "think                0.005\n",
      "sandwich             0.005\n",
      "price                0.005\n",
      "cheese               0.005\n",
      "burger               0.005\n",
      "dish                 0.005\n",
      "flavor               0.005\n",
      "want                 0.004\n",
      "bland                0.004\n",
      "cold                 0.004\n",
      "salad                0.004\n",
      "service              0.004\n",
      "meal                 0.004\n",
      "little               0.004\n"
     ]
    }
   ],
   "source": [
    "explore_topic(topic_number=0)"
   ]
  },
  {
   "cell_type": "code",
   "execution_count": 70,
   "metadata": {},
   "outputs": [
    {
     "name": "stdout",
     "output_type": "stream",
     "text": [
      "term                 frequency\n",
      "\n",
      "table                0.013\n",
      "restaurant           0.009\n",
      "bar                  0.007\n",
      "like                 0.007\n",
      "drink                0.006\n",
      "want                 0.006\n",
      "people               0.006\n",
      "tell                 0.006\n",
      "ask                  0.006\n",
      "service              0.005\n",
      "eat                  0.005\n",
      "leave                0.005\n",
      "know                 0.005\n",
      "look                 0.005\n",
      "wait                 0.005\n",
      "try                  0.005\n",
      "friend               0.005\n",
      "think                0.005\n",
      "$                    0.005\n",
      "seat                 0.004\n",
      "sit                  0.004\n",
      "menu                 0.004\n",
      "server               0.004\n",
      "walk                 0.004\n",
      "way                  0.004\n"
     ]
    }
   ],
   "source": [
    "explore_topic(topic_number=1)"
   ]
  },
  {
   "cell_type": "code",
   "execution_count": 71,
   "metadata": {},
   "outputs": [
    {
     "name": "stdout",
     "output_type": "stream",
     "text": [
      "term                 frequency\n",
      "\n",
      "service              0.029\n",
      "wait                 0.017\n",
      "ask                  0.015\n",
      "minute               0.013\n",
      "tell                 0.010\n",
      "customer             0.010\n",
      "manager              0.009\n",
      "server               0.009\n",
      "drink                0.009\n",
      "table                0.008\n",
      "eat                  0.007\n",
      "experience           0.007\n",
      "rude                 0.007\n",
      "horrible             0.007\n",
      "waitress             0.007\n",
      "want                 0.007\n",
      "restaurant           0.006\n",
      "leave                0.006\n",
      "like                 0.006\n",
      "location             0.006\n",
      "people               0.006\n",
      "know                 0.006\n",
      "slow                 0.005\n",
      "staff                0.005\n",
      "terrible             0.005\n"
     ]
    }
   ],
   "source": [
    "explore_topic(topic_number=2)"
   ]
  },
  {
   "cell_type": "code",
   "execution_count": 72,
   "metadata": {
    "collapsed": true
   },
   "outputs": [],
   "source": [
    "# Assign topic names and save to disk:\n",
    "topic_names = {0: u'food_quality',\n",
    "               1: u'price',\n",
    "               2: u'service_quality'}\n",
    "\n",
    "#with open('./models/topic_names.pkl', 'wb') as f:\n",
    "    #pickle.dump(topic_names, f)"
   ]
  },
  {
   "cell_type": "code",
   "execution_count": 73,
   "metadata": {
    "collapsed": true
   },
   "outputs": [],
   "source": [
    "# Prepare for LDA visualization\n",
    "trigram_dictionary = Dictionary.load('./models/trigram_dict_all_neg.dict')"
   ]
  },
  {
   "cell_type": "code",
   "execution_count": 75,
   "metadata": {
    "scrolled": false
   },
   "outputs": [
    {
     "name": "stderr",
     "output_type": "stream",
     "text": [
      "/anaconda/lib/python3.6/site-packages/pyLDAvis/_prepare.py:387: DeprecationWarning: \n",
      ".ix is deprecated. Please use\n",
      ".loc for label based indexing or\n",
      ".iloc for positional indexing\n",
      "\n",
      "See the documentation here:\n",
      "http://pandas.pydata.org/pandas-docs/stable/indexing.html#deprecate_ix\n",
      "  topic_term_dists = topic_term_dists.ix[topic_order]\n"
     ]
    },
    {
     "data": {
      "text/html": [
       "\n",
       "<link rel=\"stylesheet\" type=\"text/css\" href=\"https://cdn.rawgit.com/bmabey/pyLDAvis/files/ldavis.v1.0.0.css\">\n",
       "\n",
       "\n",
       "<div id=\"ldavis_el757212496411128397041590\"></div>\n",
       "<script type=\"text/javascript\">\n",
       "\n",
       "var ldavis_el757212496411128397041590_data = {\"mdsDat\": {\"Freq\": [36.74143167127191, 33.44402079757835, 29.81454753114973], \"cluster\": [1, 1, 1], \"topics\": [1, 2, 3], \"x\": [0.11770727881504844, -0.06935191449860134, -0.04835536431644717], \"y\": [-0.006351907496418254, -0.050237517050706115, 0.05658942454712439]}, \"tinfo\": {\"Category\": [\"Default\", \"Default\", \"Default\", \"Default\", \"Default\", \"Default\", \"Default\", \"Default\", \"Default\", \"Default\", \"Default\", \"Default\", \"Default\", \"Default\", \"Default\", \"Default\", \"Default\", \"Default\", \"Default\", \"Default\", \"Default\", \"Default\", \"Default\", \"Default\", \"Default\", \"Default\", \"Default\", \"Default\", \"Default\", \"Default\", \"Topic1\", \"Topic1\", \"Topic1\", \"Topic1\", \"Topic1\", \"Topic1\", \"Topic1\", \"Topic1\", \"Topic1\", \"Topic1\", \"Topic1\", \"Topic1\", \"Topic1\", \"Topic1\", \"Topic1\", \"Topic1\", \"Topic1\", \"Topic1\", \"Topic1\", \"Topic1\", \"Topic1\", \"Topic1\", \"Topic1\", \"Topic1\", \"Topic1\", \"Topic1\", \"Topic1\", \"Topic1\", \"Topic1\", \"Topic1\", \"Topic1\", \"Topic1\", \"Topic1\", \"Topic1\", \"Topic1\", \"Topic1\", \"Topic1\", \"Topic1\", \"Topic1\", \"Topic1\", \"Topic1\", \"Topic1\", \"Topic1\", \"Topic1\", \"Topic1\", \"Topic1\", \"Topic1\", \"Topic1\", \"Topic1\", \"Topic1\", \"Topic1\", \"Topic1\", \"Topic1\", \"Topic1\", \"Topic1\", \"Topic1\", \"Topic1\", \"Topic1\", \"Topic1\", \"Topic1\", \"Topic1\", \"Topic1\", \"Topic1\", \"Topic1\", \"Topic1\", \"Topic1\", \"Topic1\", \"Topic1\", \"Topic1\", \"Topic1\", \"Topic1\", \"Topic1\", \"Topic1\", \"Topic1\", \"Topic1\", \"Topic1\", \"Topic1\", \"Topic1\", \"Topic1\", \"Topic1\", \"Topic1\", \"Topic1\", \"Topic1\", \"Topic1\", \"Topic1\", \"Topic1\", \"Topic1\", \"Topic1\", \"Topic1\", \"Topic1\", \"Topic1\", \"Topic1\", \"Topic1\", \"Topic1\", \"Topic1\", \"Topic1\", \"Topic1\", \"Topic1\", \"Topic1\", \"Topic1\", \"Topic2\", \"Topic2\", \"Topic2\", \"Topic2\", \"Topic2\", \"Topic2\", \"Topic2\", \"Topic2\", \"Topic2\", \"Topic2\", \"Topic2\", \"Topic2\", \"Topic2\", \"Topic2\", \"Topic2\", \"Topic2\", \"Topic2\", \"Topic2\", \"Topic2\", \"Topic2\", \"Topic2\", \"Topic2\", \"Topic2\", \"Topic2\", \"Topic2\", \"Topic2\", \"Topic2\", \"Topic2\", \"Topic2\", \"Topic2\", \"Topic2\", \"Topic2\", \"Topic2\", \"Topic2\", \"Topic2\", \"Topic2\", \"Topic2\", \"Topic2\", \"Topic2\", \"Topic2\", \"Topic2\", \"Topic2\", \"Topic2\", \"Topic2\", \"Topic2\", \"Topic2\", \"Topic2\", \"Topic2\", \"Topic2\", \"Topic2\", \"Topic2\", \"Topic2\", \"Topic2\", \"Topic2\", \"Topic2\", \"Topic2\", \"Topic2\", \"Topic2\", \"Topic2\", \"Topic2\", \"Topic2\", \"Topic2\", \"Topic2\", \"Topic2\", \"Topic2\", \"Topic2\", \"Topic2\", \"Topic2\", \"Topic2\", \"Topic2\", \"Topic2\", \"Topic2\", \"Topic2\", \"Topic2\", \"Topic2\", \"Topic2\", \"Topic2\", \"Topic2\", \"Topic2\", \"Topic2\", \"Topic2\", \"Topic2\", \"Topic2\", \"Topic2\", \"Topic2\", \"Topic2\", \"Topic2\", \"Topic2\", \"Topic2\", \"Topic2\", \"Topic2\", \"Topic2\", \"Topic2\", \"Topic2\", \"Topic3\", \"Topic3\", \"Topic3\", \"Topic3\", \"Topic3\", \"Topic3\", \"Topic3\", \"Topic3\", \"Topic3\", \"Topic3\", \"Topic3\", \"Topic3\", \"Topic3\", \"Topic3\", \"Topic3\", \"Topic3\", \"Topic3\", \"Topic3\", \"Topic3\", \"Topic3\", \"Topic3\", \"Topic3\", \"Topic3\", \"Topic3\", \"Topic3\", \"Topic3\", \"Topic3\", \"Topic3\", \"Topic3\", \"Topic3\", \"Topic3\", \"Topic3\", \"Topic3\", \"Topic3\", \"Topic3\", \"Topic3\", \"Topic3\", \"Topic3\", \"Topic3\", \"Topic3\", \"Topic3\", \"Topic3\", \"Topic3\", \"Topic3\", \"Topic3\", \"Topic3\", \"Topic3\", \"Topic3\", \"Topic3\", \"Topic3\", \"Topic3\", \"Topic3\", \"Topic3\", \"Topic3\", \"Topic3\", \"Topic3\", \"Topic3\", \"Topic3\", \"Topic3\", \"Topic3\", \"Topic3\", \"Topic3\", \"Topic3\", \"Topic3\", \"Topic3\", \"Topic3\", \"Topic3\", \"Topic3\", \"Topic3\", \"Topic3\", \"Topic3\", \"Topic3\", \"Topic3\", \"Topic3\", \"Topic3\", \"Topic3\", \"Topic3\", \"Topic3\", \"Topic3\", \"Topic3\", \"Topic3\", \"Topic3\", \"Topic3\", \"Topic3\", \"Topic3\", \"Topic3\", \"Topic3\", \"Topic3\", \"Topic3\", \"Topic3\", \"Topic3\", \"Topic3\", \"Topic3\", \"Topic3\", \"Topic3\", \"Topic3\", \"Topic3\", \"Topic3\", \"Topic3\", \"Topic3\", \"Topic3\", \"Topic3\", \"Topic3\", \"Topic3\", \"Topic3\", \"Topic3\", \"Topic3\", \"Topic3\", \"Topic3\", \"Topic3\", \"Topic3\", \"Topic3\", \"Topic3\", \"Topic3\"], \"Freq\": [112237.0, 68389.0, 57873.0, 49091.0, 34045.0, 31478.0, 36116.0, 36805.0, 35977.0, 22166.0, 68922.0, 39587.0, 45544.0, 19158.0, 27432.0, 18241.0, 21831.0, 15658.0, 16691.0, 26466.0, 18199.0, 15857.0, 51251.0, 21637.0, 7302.0, 20769.0, 28979.0, 11504.0, 21023.0, 11576.0, 748.8792355053354, 538.9715939703176, 436.412812470029, 285.2325179623067, 237.39793693249078, 331.85605802736524, 234.37472081534946, 170.4992219506044, 187.02239568718744, 138.6331563333653, 191.8476622852337, 140.38928335488418, 221.88656046158923, 230.6095828040592, 170.15908554747725, 154.47870488955968, 157.6771213626332, 156.0193575560796, 144.80969683526527, 153.03263651598522, 110.57418222516648, 95.81743731363204, 109.6118827771159, 98.81619168392842, 126.795095659036, 124.3196198555977, 83.00113475512886, 78.55017755913632, 84.72462772961109, 121.54241300453728, 2645.120144648573, 918.2939615942544, 3771.32611743572, 2528.322427683712, 3277.932286722136, 367.89590288142887, 523.2521311994058, 302.1279687034682, 357.5229088248676, 5865.242477567808, 5773.9378135428105, 5522.895997075813, 3821.094937766928, 14567.598502740726, 17624.485958456855, 1604.09748800738, 2503.664320685314, 1056.805009148911, 2237.5508394120325, 28412.868236499096, 1691.0831313374974, 3864.0508729804205, 16626.808754357815, 1627.3875235385974, 15176.62958916, 30151.08782129107, 10436.031334190955, 2585.2348388541395, 4036.004659995984, 2878.3106988848335, 4106.619224611647, 14074.126600955942, 6563.106329189199, 30428.07434157616, 8990.626785380206, 18589.55448878212, 3091.965772825245, 3487.9103923173348, 11663.265836460705, 5300.676733472073, 8966.12099499798, 3941.0482301237607, 15844.055769538352, 5886.680560193467, 9587.04561251209, 15025.835341291826, 15123.031772801083, 4733.90262030017, 30765.657288002647, 33035.70386449353, 32185.67520767483, 15660.241606563768, 7421.87903829045, 13225.024972879231, 23386.96088637811, 11070.445701451205, 12399.176485084066, 10271.672641805373, 9859.727593314356, 16297.894556610796, 13271.455118386291, 9482.567429025747, 12317.914047482536, 16332.167148834274, 12581.443830600816, 12069.466034093488, 14240.71405880496, 12290.483953400088, 12056.835991554992, 12778.369759589317, 62.93463700582943, 155.84755236177296, 62.25765812400399, 77.34047237810464, 39.36930368864613, 70.98469315741818, 54.075486805476885, 40.4389757414912, 49.99696608477399, 39.40359291501399, 39.993477286606144, 43.33125984623394, 39.516399486722705, 46.560712711541775, 35.57976474599769, 157.82095822427712, 161.0737611696237, 32.66925005096599, 103.23251987285663, 48.70301842609024, 34.309021993494895, 83.58334681623661, 123.51908649970287, 97.43037030947106, 46.4258369924406, 61.6516064788344, 28.41506468284475, 36.80973928271329, 36.441379685072434, 26.931791262225804, 61.40069896899845, 96.45989039486227, 354.57002756723114, 48.16694112579831, 19813.478064118983, 3197.783887871061, 166.32789536881555, 890.7103268859435, 1140.210711123877, 15302.632628342075, 9844.5775339108, 462.426310151814, 264.62799337288544, 2865.104594202051, 178.68941071396952, 76.70105738955661, 85638.80744177937, 28610.132579310623, 6572.534696442325, 1529.4015333131626, 2767.32453360051, 497.3356650559777, 27599.535913010885, 50811.42558268621, 36701.50903202905, 9970.1949302586, 19737.59351772513, 1126.8654042485248, 1127.4488070693262, 947.8789527019359, 3880.4390909587823, 6580.309280112078, 10811.473538763123, 27237.23103706118, 6152.102501378608, 44675.10400431342, 4819.535148886674, 4113.92091994985, 6790.604515767767, 19198.51129132903, 16353.227196493475, 10233.134574867647, 8413.931316023069, 26889.597875137075, 21302.435426323857, 29057.292783602694, 14556.04251809432, 14785.833793743566, 11310.752810744274, 13076.469865582147, 13115.367293920846, 14038.6683265321, 10371.947529480243, 18101.11514981102, 13223.35484927216, 22328.01640288341, 19187.992518893938, 16175.465932448664, 21725.888576243153, 18757.75892369286, 16045.445966170866, 16840.44088715691, 12369.23896732437, 13839.814252415508, 87.52426399617927, 86.71141000766309, 141.68199070507072, 58.809054033599594, 88.51195159086036, 129.01560028710892, 75.43475420854004, 75.19926796891556, 76.71404446343168, 88.45355987419246, 483.46764343666507, 52.41750142841907, 66.34375442984792, 55.695464100740445, 166.4526609054983, 143.67463333875483, 383.49690930538935, 110.46628955763245, 47.79777849162724, 53.07751960288833, 45.62456340439442, 474.6519081001041, 44.10012172392433, 45.520652887334435, 42.1045967446243, 44.61127993917866, 97.09111533376031, 47.807748990449646, 36.206031936972266, 49.06898888614874, 7162.98924479557, 677.8303465303306, 452.9247622434991, 351.3489151027951, 588.1149620655694, 421.67167526107613, 345.93180217316626, 2190.141817267115, 166.06933545651015, 115.9998838959963, 125.9601204763911, 177.2216068658392, 988.5039991929151, 564.1434912031951, 381.17650093105846, 3727.6869797671925, 639.9185046555424, 155.2936281932795, 832.1644361053422, 1013.1783180651361, 1293.7080950566155, 608.1354819053199, 410.8574859812577, 377.90522788617636, 559.20779978675, 4281.36426585938, 3519.578682266734, 4218.4217927883665, 1857.4865686769626, 531.4027677615932, 795.7414384122018, 6597.41730974295, 5890.670041263284, 1595.38446253219, 2564.761093935211, 5795.266571857845, 1669.0273493598713, 3051.683597904681, 2965.077332854931, 18272.380034296722, 841.6640724066343, 2455.4777628198767, 33058.9200581076, 7919.746215591897, 2424.845020302513, 7547.258950865365, 7400.393629096274, 1641.8197825872983, 5544.331370628118, 4599.023111523849, 9001.605295583116, 2956.8529478127034, 4038.6620373582996, 11609.42103002996, 4228.931829527245, 3206.3346273465004, 24113.638314426054, 12021.306844879291, 5132.767295638024, 15500.880104971517, 11074.827839581229, 6885.1252472937385, 9782.118128242357, 16027.747828527428, 9212.465588013509, 12957.223233700688, 13117.06018254812, 15772.357778788912, 9157.94654357586, 17710.600313395593, 14901.477180160262, 12967.820816077401, 10444.1079600327, 11911.136095863554, 8912.760052620377, 12727.026934360576, 14564.33622226296, 13183.106464990275, 11840.764042194429, 12819.883622258625, 13820.206073546624, 10265.015591809195, 9481.521850927806, 9271.558096549394], \"Term\": [\"service\", \"wait\", \"table\", \"minute\", \"chicken\", \"pizza\", \"manager\", \"customer\", \"taste\", \"rude\", \"ask\", \"server\", \"drink\", \"sauce\", \"bar\", \"meat\", \"fry\", \"flavor\", \"cheese\", \"horrible\", \"slow\", \"bland\", \"tell\", \"seat\", \"room\", \"sandwich\", \"waitress\", \"rice\", \"burger\", \"min\", \"und\", \"der\", \"das\", \"ein\", \"zu\", \"ist\", \"aber\", \"eine\", \"f\\u00e3\\u00bcr\", \"alle\", \"ich\", \"sich\", \"nicht\", \"mit\", \"earl_'s\", \"auch\", \"hier\", \"wir\", \"sehr\", \"sind\", \"nur\", \"auf\", \"zum\", \"schon\", \"new_york_style\", \"einen\", \"thai_ice_tea\", \"dort\", \"aus\", \"wie\", \"crust\", \"pepperoni\", \"fried_rice\", \"garlic\", \"dim_sum\", \"banh_mi\", \"wonton\", \"wonton_soup\", \"thin_crust\", \"noodle\", \"beef\", \"slice\", \"pork\", \"flavor\", \"sauce\", \"texture\", \"crispy\", \"dough\", \"mushy\", \"pizza\", \"pad_thai\", \"onion\", \"meat\", \"egg_roll\", \"cheese\", \"chicken\", \"rice\", \"topping\", \"fried\", \"mushroom\", \"veggie\", \"bland\", \"greasy\", \"taste\", \"shrimp\", \"fry\", \"vegetable\", \"tomato\", \"dry\", \"chinese\", \"piece\", \"tasteless\", \"sandwich\", \"bacon\", \"bread\", \"dish\", \"burger\", \"soggy\", \"$\", \"eat\", \"like\", \"price\", \"fish\", \"salad\", \"try\", \"small\", \"little\", \"quality\", \"hard\", \"think\", \"cold\", \"cook\", \"menu\", \"restaurant\", \"meal\", \"thing\", \"want\", \"look\", \"know\", \"service\", \"une\", \"ra\", \"silver_wear\", \"grow_pain\", \"total_bitch\", \"pull_forward\", \"esta\", \"6:40\", \"prepare_incorrectly\", \"sake_bomb\", \"call_ahead_seating\", \"smart_ass\", \"servicio\", \"curbside\", \"managerial_skill\", \"slowest\", \"terribly_slow\", \"excruciatingly_slow\", \"doug\", \"alienate\", \"bien\", \"pero\", \"acai_bowl\", \"goyemon\", \"always_mes_up\", \"bday_dinner\", \"stood\", \"tiene\", \"an_imposition\", \"google_map\", \"por\", \"25min\", \"costumer\", \"recomend\", \"rude\", \"drive_thru\", \"tropical_smoothie\", \"extremely_slow\", \"smoothie\", \"slow\", \"min\", \"sushi_chef\", \"rudest\", \"take_forever\", \"dq\", \"heather\", \"service\", \"customer\", \"attitude\", \"no_apology\", \"acknowledge\", \"toby_keith\", \"manager\", \"wait\", \"minute\", \"employee\", \"horrible\", \"drive_through\", \"extremely_rude\", \"disrespectful\", \"worst\", \"management\", \"busy\", \"server\", \"refill\", \"ask\", \"apologize\", \"cashier\", \"an_hour\", \"waitress\", \"location\", \"poor\", \"receive\", \"drink\", \"experience\", \"tell\", \"terrible\", \"staff\", \"finally\", \"wrong\", \"long\", \"check\", \"work\", \"leave\", \"bring\", \"table\", \"want\", \"people\", \"eat\", \"restaurant\", \"know\", \"like\", \"sit\", \"try\", \"pompous\", \"cider\", \"dancer\", \"beer_pong\", \"bed_bug\", \"mario\", \"non_smoking_room\", \"stk\", \"kinda_weird\", \"bathtub\", \"karaoke\", \"strew\", \"non_smoking\", \"porch\", \"french_laundry\", \"spa\", \"shower\", \"resort_fee\", \"room_key\", \"mattress\", \"women\", \"roach\", \"lakeside\", \"beers\", \"blade\", \"velvet_rope\", \"luggage\", \"tapas_style\", \"west_wing\", \"rap_music\", \"room\", \"tao\", \"cockroach\", \"hallway\", \"dance_floor\", \"carpet\", \"elevator\", \"chair\", \"balcony\", \"absinthe\", \"harrah_'s\", \"bloody_marys\", \"noise\", \"valet\", \"nightclub\", \"bathroom\", \"song\", \"deposit\", \"bouncer\", \"dance\", \"security\", \"dj\", \"stain\", \"wedding\", \"sleep\", \"floor\", \"music\", \"hotel\", \"restroom\", \"mgm\", \"front_desk\", \"reservation\", \"loud\", \"wear\", \"booth\", \"stay\", \"book\", \"play\", \"club\", \"bar\", \"reserve\", \"casino\", \"table\", \"beer\", \"patio\", \"party\", \"dirty\", \"tv\", \"group\", \"clean\", \"night\", \"game\", \"wine\", \"seat\", \"door\", \"crowd\", \"restaurant\", \"friend\", \"glass\", \"people\", \"sit\", \"buffet\", \"walk\", \"drink\", \"dinner\", \"look\", \"leave\", \"want\", \"waiter\", \"like\", \"tell\", \"know\", \"menu\", \"think\", \"find\", \"try\", \"ask\", \"eat\", \"$\", \"wait\", \"service\", \"server\", \"way\", \"minute\"], \"Total\": [112237.0, 68389.0, 57873.0, 49091.0, 34045.0, 31478.0, 36116.0, 36805.0, 35977.0, 22166.0, 68922.0, 39587.0, 45544.0, 19158.0, 27432.0, 18241.0, 21831.0, 15658.0, 16691.0, 26466.0, 18199.0, 15857.0, 51251.0, 21637.0, 7302.0, 20769.0, 28979.0, 11504.0, 21023.0, 11576.0, 750.5751756812352, 540.6340597597357, 437.9799176689656, 286.3362364449722, 238.39683263955183, 333.44424277384877, 235.57450639836733, 171.37849143803248, 187.99750692486194, 139.4084569840503, 192.93295608488876, 141.19961388466206, 223.17859663214412, 231.98663646346057, 171.18318541089985, 155.41134577216567, 158.6308848539731, 157.09416257779066, 145.81716849654032, 154.12285121302318, 111.36658714869365, 96.55890861429025, 110.46427693539107, 99.60626740458082, 127.82817845285359, 125.34823506783016, 83.7058965693479, 79.2421878022841, 85.47486966576065, 122.63307780842796, 2688.489928435617, 930.6625249558624, 3883.3517679732327, 2595.8805670698694, 3381.9659359111124, 371.760819329592, 531.0920774124667, 305.8468808399293, 362.62719713182435, 6127.437300458724, 6076.882714602456, 5811.860836731472, 3991.6084374587285, 15658.120383467873, 19158.039334917543, 1661.7649746203722, 2620.880940992935, 1089.2624601286584, 2351.713708712695, 31478.842676006407, 1769.3032039898746, 4112.663198984542, 18241.102340026795, 1703.4926537811027, 16691.457037494274, 34045.10568635823, 11504.09882086119, 2733.205444344009, 4329.2430781905205, 3057.5318006743687, 4432.845708144262, 15857.03054253242, 7211.705019733595, 35977.81461811768, 10155.485884960124, 21831.4359158909, 3328.3427750987403, 3786.6764938417477, 13576.00148259881, 5889.120047283928, 10626.999416759956, 4346.206678901003, 20769.993069539178, 6879.737646749479, 12104.121280698388, 20290.103072251582, 21023.5125292453, 5379.948313588639, 51371.032400284064, 67944.69890572695, 66736.71640822734, 26043.48685689572, 9762.262669880018, 21819.026731959355, 49953.80207315419, 17483.87415250058, 21786.76531604542, 16554.45293631737, 15716.761675546868, 37830.23076810162, 27000.725840489475, 15944.3580350282, 28942.549565746234, 59203.56438695319, 31725.42451835941, 28162.59624344827, 49201.06435648781, 34773.09026079113, 41070.10277380326, 112237.38327491531, 63.65963638515818, 157.84570061060134, 63.138181994125475, 78.45263936221201, 40.03437439984195, 72.24413381143417, 55.03493780977166, 41.179018279624906, 50.9259076435647, 40.145792354825296, 40.75661266066335, 44.18382582120276, 40.32623611360191, 47.53105113251323, 36.34427241789062, 161.40533437176467, 164.85973458101077, 33.46048680623458, 105.75623681651777, 49.89997815052518, 35.17346919589607, 85.70711416358445, 126.69755385399492, 99.98476781790808, 47.644162506218784, 63.29490099815014, 29.180103747538762, 37.827960140621414, 37.473294487200626, 27.69976261814358, 63.231478211015734, 99.81543006233964, 372.4291045125725, 49.59869336911381, 22166.77427173225, 3506.018840585259, 174.36309247410267, 966.6654661450939, 1249.812734253765, 18199.145044484798, 11576.684465009794, 500.33063042873164, 284.4933596652964, 3317.828849398426, 190.0351375870206, 79.53855712610414, 112237.38327491531, 36805.41406006802, 7953.4940589315265, 1748.5371735478059, 3274.7403527887645, 548.4475890102533, 36116.78859259184, 68389.3588184063, 49091.13010610364, 12672.251555988762, 26466.632911516106, 1299.7164422679039, 1310.5524502996288, 1093.5084717471318, 4851.179694092817, 8555.44245116005, 14649.29439814313, 39587.9744516753, 8105.594343488994, 68922.60576247405, 6337.047929174106, 5366.768683330542, 9259.336831925411, 28979.025717043092, 24439.69639994533, 14939.972740678464, 12147.01779114252, 45544.79059447532, 35441.93705163922, 51251.65971001269, 23450.822880284923, 23933.121840085932, 17762.134313522667, 21753.88460756686, 22114.961815371, 24424.201067771774, 16651.935494094112, 36336.45335394787, 24510.615520020223, 57873.797468134064, 49201.06435648781, 36821.346375070185, 67944.69890572695, 59203.56438695319, 41070.10277380326, 66736.71640822734, 25491.455530692583, 49953.80207315419, 88.34732103860269, 87.53021881264281, 143.27923782680227, 59.51535462165644, 89.62689821224852, 130.65196127578164, 76.39615464511517, 76.17505870548403, 77.74172820695487, 89.75739025595347, 490.61355244245175, 53.21126075738832, 67.34861858265359, 56.54453292074358, 168.99231142936551, 145.89524480648865, 389.5230446278137, 112.21846720048643, 48.57995129333909, 53.95779519004679, 46.40944496586272, 482.847766798395, 44.864088683442, 46.33546540187318, 42.86324108756024, 45.42301302496493, 98.87589976647249, 48.69693090194084, 36.88654327330315, 49.99683759519367, 7302.323078207524, 692.5201680562027, 462.7998280913126, 358.9975844619157, 604.3304688639067, 432.8767911899242, 354.9008977655116, 2299.5506202447705, 169.96686900853774, 118.41749792243756, 128.7335497860267, 181.76007972934485, 1037.0366752969544, 585.6796326200459, 394.53866461331256, 4063.763049766529, 673.3188348601052, 159.11457407397756, 884.5270522436198, 1084.6645406142536, 1397.6255693707358, 646.2318678612683, 431.49222134202296, 396.2701165341733, 593.8090343839613, 4872.677187402481, 3980.712220524433, 4818.942893177038, 2070.682495793284, 565.6142788126523, 864.1531466186099, 7855.038548326383, 7062.311557145631, 1789.1459349487448, 3021.6369477235853, 7375.488596409857, 1946.235749712578, 3768.854587770604, 3681.108462688583, 27432.988235774486, 928.2773041321074, 3085.444846603298, 57873.797468134064, 11564.262166380999, 3061.314725106414, 11292.859023499854, 11080.603112591372, 1978.3397939092083, 8034.638663100934, 6604.846485263922, 14679.060262052104, 3955.3302777716435, 5800.459168404923, 21637.594544804015, 6252.8052890736235, 4441.17706859616, 59203.56438695319, 24993.476674231446, 8302.30863739174, 36821.346375070185, 25491.455530692583, 13316.447863594534, 22236.995006708414, 45544.79059447532, 20490.219537194986, 34773.09026079113, 36336.45335394787, 49201.06435648781, 21650.063100171625, 66736.71640822734, 51251.65971001269, 41070.10277380326, 28942.549565746234, 37830.23076810162, 22825.68276325843, 49953.80207315419, 68922.60576247405, 67944.69890572695, 51371.032400284064, 68389.3588184063, 112237.38327491531, 39587.9744516753, 31139.731856658436, 49091.13010610364], \"loglift\": [30.0, 29.0, 28.0, 27.0, 26.0, 25.0, 24.0, 23.0, 22.0, 21.0, 20.0, 19.0, 18.0, 17.0, 16.0, 15.0, 14.0, 13.0, 12.0, 11.0, 10.0, 9.0, 8.0, 7.0, 6.0, 5.0, 4.0, 3.0, 2.0, 1.0, 0.999, 0.9982, 0.9977, 0.9974, 0.9971, 0.9965, 0.9962, 0.9961, 0.9961, 0.9957, 0.9956, 0.9955, 0.9955, 0.9953, 0.9953, 0.9952, 0.9952, 0.9944, 0.9943, 0.9942, 0.9941, 0.9936, 0.9935, 0.9933, 0.9932, 0.993, 0.9928, 0.9925, 0.9924, 0.9923, 0.985, 0.9879, 0.972, 0.9749, 0.97, 0.9908, 0.9864, 0.989, 0.9871, 0.9575, 0.9501, 0.9503, 0.9576, 0.9291, 0.9178, 0.9659, 0.9555, 0.971, 0.9515, 0.8988, 0.956, 0.9389, 0.9086, 0.9556, 0.9061, 0.8798, 0.9038, 0.9456, 0.9311, 0.9409, 0.9248, 0.882, 0.907, 0.8337, 0.8794, 0.8405, 0.9276, 0.9191, 0.8494, 0.896, 0.8313, 0.9034, 0.7306, 0.8454, 0.7681, 0.7009, 0.6718, 0.8733, 0.4886, 0.2802, 0.272, 0.4926, 0.7272, 0.5006, 0.2423, 0.5443, 0.4376, 0.524, 0.535, 0.1592, 0.291, 0.4816, 0.147, -0.2866, 0.0764, 0.1539, -0.2385, -0.0388, -0.2244, -1.1716, 1.0838, 1.0826, 1.0813, 1.081, 1.0785, 1.0777, 1.0777, 1.0772, 1.0769, 1.0766, 1.0764, 1.0758, 1.075, 1.0747, 1.074, 1.0728, 1.0721, 1.0714, 1.0711, 1.071, 1.0704, 1.0702, 1.0699, 1.0694, 1.0694, 1.069, 1.0687, 1.068, 1.0674, 1.0672, 1.0659, 1.0611, 1.0462, 1.066, 0.9831, 1.0033, 1.0481, 1.0135, 1.0035, 0.9219, 0.9332, 1.0165, 1.0229, 0.9486, 1.0337, 1.059, 0.8248, 0.8434, 0.9046, 0.9614, 0.9269, 0.9975, 0.8263, 0.7982, 0.8044, 0.8555, 0.8019, 0.9526, 0.9448, 0.9524, 0.872, 0.8328, 0.7915, 0.7214, 0.8195, 0.6617, 0.8216, 0.8294, 0.7852, 0.6836, 0.6935, 0.7169, 0.7281, 0.5683, 0.5862, 0.5278, 0.6184, 0.6137, 0.644, 0.5863, 0.5728, 0.5415, 0.6219, 0.3984, 0.4782, 0.1429, 0.1537, 0.2727, -0.0449, -0.0541, 0.1554, -0.2817, 0.3722, -0.1883, 1.2008, 1.2008, 1.199, 1.1982, 1.1977, 1.1976, 1.1975, 1.1973, 1.1969, 1.1955, 1.1955, 1.1951, 1.1951, 1.195, 1.195, 1.1948, 1.1946, 1.1944, 1.1939, 1.1937, 1.1931, 1.1931, 1.193, 1.1924, 1.1923, 1.1921, 1.192, 1.1917, 1.1916, 1.1914, 1.1909, 1.1887, 1.1886, 1.1886, 1.183, 1.1839, 1.1846, 1.1614, 1.187, 1.1895, 1.1884, 1.1849, 1.1622, 1.1727, 1.1757, 1.1239, 1.1593, 1.1859, 1.1492, 1.142, 1.1329, 1.1494, 1.1612, 1.1627, 1.1501, 1.0808, 1.0871, 1.0771, 1.1015, 1.1478, 1.1277, 1.0357, 1.0288, 1.0956, 1.0462, 0.9691, 1.0565, 0.9991, 0.9939, 0.8038, 1.1122, 0.9818, 0.6502, 0.8316, 0.9771, 0.8072, 0.8065, 1.0237, 0.8392, 0.8482, 0.7212, 0.9192, 0.8482, 0.5876, 0.8191, 0.8844, 0.312, 0.4782, 0.7293, 0.345, 0.3765, 0.5505, 0.389, 0.1658, 0.4108, 0.223, 0.1913, 0.0725, 0.3498, -0.1164, -0.0251, 0.0574, 0.1909, 0.0545, 0.2698, -0.1572, -0.3442, -0.4296, -0.2574, -0.464, -0.8843, -0.1396, 0.021, -0.4566], \"logprob\": [30.0, 29.0, 28.0, 27.0, 26.0, 25.0, 24.0, 23.0, 22.0, 21.0, 20.0, 19.0, 18.0, 17.0, 16.0, 15.0, 14.0, 13.0, 12.0, 11.0, 10.0, 9.0, 8.0, 7.0, 6.0, 5.0, 4.0, 3.0, 2.0, 1.0, -8.3579, -8.6868, -8.8979, -9.3232, -9.5068, -9.1718, -9.5196, -9.8378, -9.7453, -10.0447, -9.7198, -10.0321, -9.5743, -9.5358, -9.8398, -9.9364, -9.9159, -9.9265, -10.0011, -9.9458, -10.2708, -10.414, -10.2795, -10.3832, -10.1339, -10.1536, -10.5576, -10.6128, -10.5371, -10.1762, -7.096, -8.154, -6.7413, -7.1412, -6.8815, -9.0687, -8.7164, -9.2656, -9.0973, -6.2997, -6.3154, -6.3598, -6.7282, -5.3899, -5.1994, -7.5962, -7.151, -8.0135, -7.2634, -4.7219, -7.5434, -6.717, -5.2577, -7.5818, -5.349, -4.6625, -5.7235, -7.1189, -6.6735, -7.0115, -6.6561, -5.4244, -6.1873, -4.6534, -5.8726, -5.1461, -6.9399, -6.8194, -5.6123, -6.4009, -5.8753, -6.6973, -5.3059, -6.296, -5.8083, -5.359, -5.3525, -6.514, -4.6423, -4.5711, -4.5972, -5.3176, -6.0643, -5.4866, -4.9166, -5.6645, -5.5511, -5.7393, -5.7803, -5.2777, -5.4831, -5.8193, -5.5577, -5.2756, -5.5365, -5.5781, -5.4126, -5.5599, -5.5791, -5.521, -10.7404, -9.8336, -10.7512, -10.5342, -11.2095, -10.62, -10.8921, -11.1827, -10.9705, -11.2086, -11.1937, -11.1136, -11.2057, -11.0417, -11.3107, -9.821, -9.8006, -11.396, -10.2455, -10.9967, -11.3471, -10.4566, -10.0661, -10.3033, -11.0446, -10.761, -11.5355, -11.2767, -11.2868, -11.5892, -10.765, -10.3133, -9.0116, -11.0078, -4.9883, -6.8122, -9.7685, -8.0904, -7.8435, -5.2467, -5.6878, -8.746, -9.3041, -6.9221, -9.6968, -10.5425, -3.5246, -4.6209, -6.0918, -7.5498, -6.9568, -8.6732, -4.6569, -4.0466, -4.3719, -5.6751, -4.9922, -7.8553, -7.8547, -8.0282, -6.6188, -6.0906, -5.5941, -4.6701, -6.1579, -4.1753, -6.402, -6.5603, -6.0592, -5.0199, -5.1803, -5.6491, -5.8448, -4.683, -4.9159, -4.6054, -5.2967, -5.281, -5.549, -5.4039, -5.4009, -5.3329, -5.6356, -5.0787, -5.3927, -4.8689, -5.0204, -5.1912, -4.8962, -5.0431, -5.1993, -5.1509, -5.4595, -5.3472, -10.2957, -10.305, -9.814, -10.6933, -10.2844, -9.9077, -10.4443, -10.4474, -10.4275, -10.2851, -8.5866, -10.8083, -10.5727, -10.7477, -9.6529, -9.8, -8.8183, -10.0629, -10.9006, -10.7958, -10.9471, -8.605, -10.9811, -10.9494, -11.0274, -10.9696, -10.1919, -10.9004, -11.1784, -10.8744, -5.8909, -8.2487, -8.6519, -8.9058, -8.3907, -8.7234, -8.9213, -7.0759, -9.6552, -10.014, -9.9316, -9.5902, -7.8714, -8.4323, -8.8243, -6.544, -8.3062, -9.7223, -8.0436, -7.8467, -7.6023, -8.3572, -8.7493, -8.8329, -8.4411, -6.4056, -6.6015, -6.4204, -7.2406, -8.4921, -8.0883, -5.9732, -6.0865, -7.3927, -6.918, -6.1028, -7.3476, -6.7441, -6.7729, -4.9544, -8.0322, -6.9615, -4.3615, -5.7905, -6.9741, -5.8386, -5.8583, -7.364, -6.1471, -6.334, -5.6624, -6.7757, -6.4639, -5.408, -6.4179, -6.6947, -4.6771, -5.3731, -6.2242, -5.1189, -5.4552, -5.9305, -5.5793, -5.0855, -5.6393, -5.2982, -5.2859, -5.1016, -5.6452, -4.9857, -5.1584, -5.2974, -5.5138, -5.3824, -5.6723, -5.3161, -5.1813, -5.2809, -5.3883, -5.3088, -5.2337, -5.5311, -5.6105, -5.6329]}, \"token.table\": {\"Topic\": [1, 2, 3, 1, 2, 3, 2, 1, 2, 3, 2, 3, 1, 2, 3, 1, 2, 3, 1, 2, 3, 1, 1, 2, 1, 2, 3, 2, 3, 1, 2, 3, 1, 2, 3, 1, 2, 3, 1, 1, 1, 1, 2, 3, 1, 2, 3, 1, 2, 3, 1, 2, 3, 1, 2, 3, 1, 2, 3, 2, 3, 2, 3, 1, 2, 3, 1, 2, 3, 3, 3, 1, 2, 3, 1, 2, 3, 1, 2, 3, 1, 2, 3, 1, 2, 3, 1, 2, 3, 1, 2, 3, 1, 2, 3, 1, 2, 3, 1, 2, 3, 1, 2, 3, 2, 1, 2, 3, 1, 2, 3, 1, 2, 3, 1, 2, 3, 1, 2, 3, 1, 2, 3, 1, 2, 3, 1, 2, 3, 3, 1, 2, 3, 1, 2, 3, 1, 2, 3, 1, 2, 3, 1, 2, 3, 1, 2, 3, 1, 2, 3, 1, 2, 3, 1, 2, 3, 1, 2, 1, 2, 3, 1, 2, 3, 1, 2, 3, 1, 2, 3, 1, 2, 3, 1, 2, 3, 1, 2, 3, 1, 2, 3, 1, 2, 3, 1, 2, 3, 1, 2, 3, 1, 2, 3, 1, 2, 3, 1, 2, 3, 1, 1, 2, 3, 1, 2, 3, 1, 2, 3, 1, 2, 3, 1, 2, 3, 1, 2, 3, 1, 2, 3, 1, 2, 1, 2, 3, 1, 2, 3, 1, 2, 3, 1, 1, 2, 1, 2, 3, 1, 2, 3, 1, 2, 2, 1, 2, 3, 1, 2, 3, 1, 2, 3, 1, 2, 3, 1, 2, 3, 1, 2, 3, 1, 2, 3, 1, 2, 3, 1, 2, 3, 1, 2, 3, 1, 2, 3, 1, 2, 3, 1, 2, 3, 1, 2, 3, 1, 1, 2, 3, 1, 2, 3, 1, 2, 3, 2, 1, 2, 3, 1, 2, 3, 1, 2, 3, 2, 3, 1, 2, 3, 1, 2, 3, 1, 2, 3, 1, 2, 3, 1, 2, 1, 2, 3, 1, 2, 3, 1, 2, 1, 2, 3, 1, 2, 3, 1, 3, 1, 2, 3, 3, 1, 2, 3, 1, 2, 3, 1, 2, 3, 1, 2, 3, 1, 2, 3, 1, 2, 3, 1, 2, 3, 1, 2, 3, 1, 2, 3, 1, 2, 3, 2, 1, 3, 3, 1, 2, 3, 1, 2, 3, 1, 2, 3, 1, 2, 3, 1, 2, 3, 1, 2, 3, 1, 2, 1, 2, 3, 1, 2, 3, 1, 2, 3, 1, 2, 1, 2, 3, 1, 2, 3, 1, 2, 3, 1, 2, 3, 1, 2, 3, 2, 3, 3, 1, 2, 3, 1, 1, 2, 3, 1, 2, 3, 1, 2, 3, 1, 2, 3, 1, 2, 3, 1, 2, 3, 1, 2, 1, 2, 3, 1, 2, 3, 1, 2, 3, 3, 1, 2, 3, 1, 2, 3, 1, 2, 3, 2, 1, 2, 3, 2, 3, 1, 2, 3, 2, 3, 3, 1, 2, 3, 1, 2, 3, 1, 2, 3, 1, 2, 3, 1, 2, 3, 1, 2, 3, 1, 2, 3, 1, 2, 3, 1, 2, 3, 1, 2, 3, 1, 2, 3, 3, 1, 2, 3, 1, 2, 3, 2, 1, 2, 3, 1, 2, 3, 1, 2, 3, 1, 1, 2, 3, 1, 2, 3, 1, 2, 1, 2, 3, 1, 2, 3, 2, 1, 2, 3, 1, 2, 3, 1, 2, 1, 2, 1, 2, 3, 1, 2, 3, 1, 2, 3, 1, 2, 3, 1, 2, 3, 1, 2, 3, 2, 1, 2, 3, 1, 2, 3, 1, 2, 3, 1, 2, 3, 1, 2, 3, 1, 2, 3, 1, 2, 3, 1, 3, 2, 3, 1, 2, 3, 1, 2, 3, 1, 2, 3, 1, 2, 3, 1, 3, 1, 2, 3, 1, 2, 3, 1, 2, 3, 1, 2, 3, 1, 2, 3, 1, 2, 3, 1, 1, 2, 3, 1, 2, 3, 1, 2, 3, 1, 2, 1, 2, 3, 1, 2, 3, 1, 2, 3, 2, 1, 2, 3, 1, 2, 3, 1, 2, 3, 1, 2, 3, 2, 1, 2, 3, 1, 2, 3, 1, 2, 3, 3, 1, 2, 3, 1, 2, 3, 1, 2, 3, 1, 2, 3, 1, 2, 3, 1, 2, 3, 1, 2, 3, 1, 2, 3, 3, 1, 2, 3, 1, 2, 3, 1, 2, 3, 3, 1, 2, 3, 1, 2, 3, 1, 2, 3, 1, 2, 3, 1, 2, 3, 1, 2, 1], \"Freq\": [0.598897833321136, 0.17062144929661824, 0.23049955289461, 0.020036982245639795, 0.9617751477907102, 0.020036982245639795, 0.9713684704278568, 0.99331631243788, 0.004244941506144786, 0.004244941506144786, 0.016889395867070108, 0.9795849602900663, 0.02367843662914891, 0.9787087140048216, 0.007892812209716304, 0.007634193037231191, 0.8449524853607482, 0.14749260947930662, 0.02004008893517873, 0.9819643578237578, 0.02004008893517873, 0.9970700702605364, 0.02098893017312403, 0.9654907879637054, 0.10616311058160224, 0.7334218555032155, 0.1604866554672034, 0.9606841483418587, 0.026685670787273852, 0.032191645428597364, 0.7606065243423495, 0.20719426690072715, 0.14049091575803502, 0.6481908149840147, 0.211309480233401, 0.043125700158765025, 0.8264292336547011, 0.1305086786145717, 0.9909186439049649, 0.9942117343463063, 0.9944443358893956, 0.8557012348837859, 0.056833562568296296, 0.08750333674198048, 0.011766999131457416, 0.011766999131457416, 0.9766609279109655, 0.9898837662979816, 0.008069704616559634, 0.002689901538853211, 0.045966556364996, 0.28793800850682266, 0.6660594114997676, 0.03346651818388217, 0.049215467917473776, 0.9173763219817112, 0.011141143889638341, 0.011141143889638341, 0.980420662288174, 0.9795417801792915, 0.015799060970633733, 0.011157364808406801, 0.9930054679482052, 0.9501582095908082, 0.023860917975522547, 0.0260001726905694, 0.09425590533296534, 0.22093930103277654, 0.6848685965477848, 0.9913408123847604, 0.9927600726794552, 0.028430519447216678, 0.9666376612053671, 0.9798605736370513, 0.8875558360217635, 0.07119870249172737, 0.0411804718574827, 0.011003516300048715, 0.011003516300048715, 0.9738111925543113, 0.06833704499552101, 0.07398898104778215, 0.8575528428385305, 0.028792340544268002, 0.1224501839238984, 0.8488776263913498, 0.0033916430168986268, 0.05652738361497712, 0.9406156633532192, 0.7920442779508275, 0.12565967943707193, 0.08228602282664277, 0.17449582188201496, 0.5394805360640363, 0.2860393283177009, 0.43262287803865757, 0.050313717806960694, 0.5170297717924245, 0.7193374550976084, 0.25785415222403857, 0.022831579610318856, 0.0799355906280667, 0.7379877628352084, 0.1820565501324115, 0.9814358306230487, 0.013860756968528504, 0.011550630807107087, 0.9748732401198382, 0.14925182121002287, 0.7665692789738253, 0.08422200148181067, 0.16594041554936564, 0.03824408014614286, 0.7956713284642434, 0.026961789601048464, 0.020873643562102036, 0.9523599875209054, 0.10043317254036133, 0.5747987400302212, 0.32480079810953383, 0.9092675352371979, 0.05937168922844193, 0.031393304899801786, 0.8856192216810012, 0.09058570792558149, 0.0237919660894037, 0.9001344780609167, 0.04211155452916569, 0.05790338747760283, 0.993942448449972, 0.16487892677440252, 0.138837443390383, 0.6963068725761957, 0.12414738784040594, 0.07035924168635697, 0.8054639057916928, 0.00648228417104789, 0.015125329732445077, 0.9788249098282313, 0.49150530539068726, 0.402803986242869, 0.10566382610802734, 0.5947558364637054, 0.26435683335384563, 0.14092759301212127, 0.01879552353772527, 0.9532015508417814, 0.029535822702139704, 0.9554039486629049, 0.023656168057947326, 0.021366861471694358, 0.09839733774409812, 0.1796820950109618, 0.7218806975001798, 0.9838236595288556, 0.004091516164392217, 0.012274548493176649, 0.021038878294781876, 0.9888272798547482, 0.05822512950139704, 0.7773312902636349, 0.1644323302577951, 0.014751104512865407, 0.05070692176297484, 0.933929304470791, 0.004964171350883171, 0.021511409187160407, 0.9729775847731015, 0.006979378276766188, 0.006979378276766188, 0.9910717153007986, 0.9954794327568643, 0.0022832097081579455, 0.0022832097081579455, 0.012569558832933397, 0.012569558832933397, 0.9741408095523383, 0.9969775123667535, 0.0018496799858381326, 0.0018496799858381326, 0.9692587276509326, 0.007392150149869833, 0.02335919447358867, 0.2938475104705611, 0.25656142875664173, 0.44958034652961454, 0.12400047055549385, 0.20820166344361304, 0.6678336842144501, 0.7405580911291335, 0.07387838271014051, 0.18555844623327483, 0.011888339538174317, 0.8669342986299425, 0.12162685835209108, 0.01547432198460813, 0.04332810155690277, 0.9408387766641744, 0.0834825291796886, 0.2402121816626289, 0.6763364289289331, 0.9969437012152115, 0.009455707106285885, 0.9739378319474461, 0.01891141421257177, 0.9703813715155044, 0.008262471469857653, 0.022033257252953742, 0.02631092367173627, 0.9419310674481586, 0.03683529314043078, 0.05767948355258572, 0.5904078084236886, 0.351917305816842, 0.1154097887215012, 0.8671122125942123, 0.017696167603963517, 0.07701042472291134, 0.9121456972735944, 0.010838504220261596, 0.8590894760102361, 0.09590452694549666, 0.045005887836941975, 0.9930881914128435, 0.005841695243604962, 0.48621894764501555, 0.31976004530014557, 0.19402543851568713, 0.9550965754907611, 0.033460666750444616, 0.011153555583481538, 0.9953333309763293, 0.003492397652548524, 0.003492397652548524, 0.9919564501562267, 0.9892440841540323, 0.007977774872209938, 0.01408843998840368, 0.011270751990722944, 0.9749200471975347, 0.04466451739055913, 0.7867583717029585, 0.16855725997567897, 0.018170275824722495, 0.9811948945350147, 0.9862378928046923, 0.165679432008596, 0.6010393836251894, 0.23325474530229276, 0.02899540570948697, 0.8599426903839952, 0.11064036389146345, 0.017586228737221016, 0.9217252826390545, 0.061034558558590586, 0.09238754594658559, 0.6368041024995915, 0.27080078976421496, 0.3622235569359906, 0.24730914113493796, 0.39048120016575766, 0.7602745645125342, 0.18827602392536216, 0.0514225049023568, 0.9303798695647505, 0.030974343543307522, 0.03863809864680629, 0.03960861608049273, 0.08167994404163786, 0.878572463422743, 0.011834857947581533, 0.0059174289737907665, 0.9822932096492673, 0.9322645846180838, 0.030721305687365003, 0.0369579617291609, 0.9710683515977564, 0.020858270082052047, 0.00798279472276066, 0.2158163136047925, 0.3031991146639076, 0.4809654997855415, 0.006943213738765767, 0.07174654196724625, 0.9211330226762584, 0.8515243830786463, 0.1268354500669592, 0.021666005013243665, 0.9946940417392842, 0.053851381564019495, 0.19846635928523618, 0.7475987572056604, 0.9738506586431708, 0.01194199779190597, 0.01425335220324261, 0.07118501922926213, 0.31051603988669674, 0.6182617659962817, 0.9747375951270705, 0.020003046900527822, 0.9701477746755993, 0.010001523450263911, 0.9100483147940016, 0.03522051987775048, 0.054772068313824564, 0.05302043039675255, 0.25701218020961036, 0.6900123617830896, 0.9814838688153594, 0.012746543750848825, 0.011142136251405168, 0.011142136251405168, 0.9777224560608035, 0.6273556985559444, 0.15626628759162264, 0.21639317756478366, 0.015535965591908882, 0.007767982795954441, 0.9787658322902596, 0.012572518739742203, 0.9680839429601497, 0.025145037479484406, 0.9960229380643381, 0.006303942645976823, 0.19360226203048503, 0.7457692131065015, 0.06064239472266363, 0.1056248250463134, 0.019091323976936803, 0.8752957014643418, 0.9951643508510891, 0.005183147660682756, 0.9956687128203671, 0.0029990021470492987, 0.0029990021470492987, 0.0061147923555411685, 0.008153056474054891, 0.984481569242128, 0.012863104835255499, 0.9904590723146733, 0.2935712156944153, 0.39067348061847007, 0.3157528012876485, 0.9807398587868584, 0.14085029020709147, 0.49814988336040694, 0.3609873498722975, 0.4822832427522924, 0.2523348601239236, 0.2653861465353213, 0.5691069702241864, 0.15027471735736644, 0.28062908427701233, 0.2177195621796637, 0.6691163315775306, 0.11313561161938923, 0.2049291352088175, 0.5930374245948018, 0.20203516683870182, 0.353434219042009, 0.2739187092249907, 0.37261571815519207, 0.04559413690467976, 0.12021559699401589, 0.8341461506381008, 0.010113687990317402, 0.010113687990317402, 0.981027735060788, 0.01940285390821508, 0.7691010766027424, 0.21144435373470533, 0.033668552697662106, 0.7641875447824623, 0.20214975595857818, 0.9905274643021564, 0.007653922606559183, 0.9873560162461346, 0.9822491785167777, 0.3965589173667136, 0.3569692185977293, 0.246458483021249, 0.911512894893148, 0.04621431228693834, 0.04226718241189734, 0.4256017588228807, 0.21356100594936075, 0.36085279827457106, 0.04950370075306109, 0.010607935875655948, 0.9388023249955514, 0.06867251175436848, 0.8504161990210788, 0.08093854530043178, 0.0635145288621565, 0.7476299673825747, 0.18887322373634224, 0.9957470116447161, 0.0043105931240031, 0.9412821149939401, 0.03237905815997223, 0.02616489548280584, 0.9516464490165597, 0.027639418760534575, 0.02083586952717222, 0.025874766698515676, 0.09018486645404979, 0.884263871638594, 0.9935211589269494, 0.007823001251393302, 0.9947190427311148, 0.0044807164086987155, 0.0044807164086987155, 0.14312905339256946, 0.24361232505084643, 0.6132545162493622, 0.007603817493883142, 0.02788066414423819, 0.9656848217231591, 0.0348863043478968, 0.8744452352120362, 0.09036124732733924, 0.016392862861028583, 0.02989286757011094, 0.9536789040916039, 0.014848114498039036, 0.9799755568705765, 0.98172480471562, 0.9571701369446771, 0.010608023683103839, 0.03231367214237785, 0.9967082842522219, 0.9395371838263004, 0.043037805780863136, 0.0175069040464528, 0.955743479233352, 0.019781798801399953, 0.024868547064617084, 0.03754585079984422, 0.29416819895538326, 0.668298433930246, 0.02449927783801874, 0.18358125526622043, 0.792143316762606, 0.1397287309266728, 0.43928323085304805, 0.4209786313108561, 0.9863940745261416, 0.008596026793256136, 0.004298013396628068, 0.023335285752157167, 0.980082001590601, 0.8437000557146568, 0.09184154075145048, 0.06445845841674547, 0.9026062454849004, 0.06791863417614181, 0.02948011810825987, 0.0546585163217601, 0.13558496039038548, 0.8097951058932613, 0.9960686862428921, 0.1759708699361797, 0.684941008770227, 0.13908994588337062, 0.01581490783218456, 0.964709377763258, 0.9903698396181496, 0.9572582230617422, 0.018037841418593416, 0.024551506375307706, 0.9818185342901453, 0.6013019718154057, 0.15032549295385142, 0.24835384123256987, 0.9827787566159835, 0.013841954318534978, 0.6204977017069018, 0.29871116967879957, 0.08082417493027984, 0.9883069313673952, 0.012670601684197376, 0.9800619870547673, 0.16893035272380166, 0.6926803059542238, 0.1383878766709116, 0.020161821452795003, 0.9677674297341601, 0.020161821452795003, 0.09832715112867801, 0.7589819745842248, 0.14261754919040376, 0.013621830031985995, 0.14653015296089608, 0.8398431095421647, 0.009695378697656028, 0.08402661537968557, 0.9070565403807084, 0.008911189262756792, 0.008911189262756792, 0.9802308189032473, 0.27586176895118014, 0.31683903147111425, 0.4073065574631863, 0.038634604852518344, 0.06471296312796822, 0.896805765139082, 0.9071549334290895, 0.06484645269625343, 0.02799002381795389, 0.01035523066235422, 0.006213138397412532, 0.9837469129236509, 0.012461787711306996, 0.006710193383011459, 0.9809207184185935, 0.9880619210621026, 0.017639012118177932, 0.8938152099679268, 0.0885559610945864, 0.003515020530449252, 0.9314804405690518, 0.06678539007853579, 0.9714592168290439, 0.6061223611147017, 0.32645819116975583, 0.06741822254818347, 0.7628312607978897, 0.21627354351831105, 0.02089552936040672, 0.9199271225985222, 0.05647759570197464, 0.02354103111052732, 0.9939133608719792, 0.027406003877746252, 0.43609283742059635, 0.5365198971614776, 0.007154992166108109, 0.06725692636141622, 0.9258559862943894, 0.9943959377008497, 0.006857903018626549, 0.05269276917783107, 0.6880119626541634, 0.2592959135236989, 0.11384798564575803, 0.763016719574039, 0.12313187992051776, 0.9919100777795657, 0.005134484410058421, 0.010268968820116842, 0.9832537645261876, 0.8853343012681765, 0.060558402322314374, 0.054157920776053504, 0.9915041277262844, 0.9819731585836384, 0.9927145702004226, 0.006488330524185769, 0.08030141698010701, 0.485221410174374, 0.4344593029089815, 0.023576603233266904, 0.03536490484990036, 0.9413800862425857, 0.9502980465557871, 0.014109078366390465, 0.035616819778571056, 0.08956464691147495, 0.8408636758811664, 0.06961865499192563, 0.012391164194074298, 0.9789019713318696, 0.012391164194074298, 0.6331548662180656, 0.1044390953671353, 0.2623560407716592, 0.9732068059023836, 0.040806113269801936, 0.9121366495602785, 0.04720707221408459, 0.8799341042074499, 0.10855122874042052, 0.01152427428408574, 0.013366624448980284, 0.03564433186394742, 0.9505155163719312, 0.013708465979496067, 0.0068542329897480336, 0.9870095505237169, 0.08791164036427458, 0.6178049022938041, 0.2942783664855446, 0.03476308322163293, 0.013905233288653172, 0.9525084802727423, 0.10589128974860933, 0.1083318060296272, 0.7857106582499245, 0.013127656440230711, 0.9845742330173034, 0.9595579317418191, 0.9772367589087779, 0.039973567044780105, 0.9233893987344204, 0.035976210340302094, 0.0429728151391719, 0.38580499253213923, 0.5712256918720884, 0.06630842336544558, 0.8635165133727344, 0.07022664838249464, 0.014440012668610731, 0.007220006334305366, 0.9790328589318076, 0.020535175040366754, 0.9856884019376042, 0.8457434205766654, 0.09458606744519496, 0.05967566465025965, 0.9067677382053388, 0.05430022487096168, 0.03911456876298087, 0.14229783076810712, 0.5669474932989015, 0.2907418039593534, 0.269628065176158, 0.6207031656973202, 0.1096763219410214, 0.012131525051177466, 0.976587766619786, 0.006065762525588733, 0.9652387819561737, 0.01684955479723994, 0.018053094425614223, 0.991566943330413, 0.9872397956677743, 0.0027576530605245096, 0.011030612242098038, 0.4285471373331826, 0.2758268425556519, 0.29560484864518566, 0.4308194708064653, 0.25432041530427063, 0.3148540137916191, 0.02643547249924676, 0.9781124824721301, 0.007293313126270703, 0.9061941559391348, 0.08751975751524843, 0.9211243700570979, 0.05624985402011521, 0.022447124843707946, 0.9457759589017725, 0.031099016056731398, 0.023049858959695035, 0.9741628434227254, 0.01147031732244053, 0.952036337762564, 0.03441095196732159, 0.4681725720446907, 0.2770559882455432, 0.2547754019075888, 0.11575362367224842, 0.0545912286314534, 0.8299888649337638, 0.9979013751956217, 0.0013323115823706566, 0.0013323115823706566, 0.9896380748836328, 0.008537090452731693, 0.02731868944874142, 0.962983803068135, 0.9289908548882172, 0.024336435719904785, 0.046569722673891874, 0.9264928829926111, 0.053690115936752235, 0.019851807573252927, 0.9906872530729646, 0.06957222705704667, 0.7429664625883982, 0.1874560636551783, 0.09635075844113654, 0.4806452504019496, 0.42300107660782765, 0.10424781114098308, 0.6625136465063668, 0.2332721626325871, 0.06628593474771778, 0.493816722839002, 0.43989756696212706, 0.2894449578736021, 0.3899915632103558, 0.3205621708856437, 0.3709087815260146, 0.3246334954499118, 0.30449844730992814, 0.025151665451644198, 0.08272103304096314, 0.8914868087860555, 0.017664718352276603, 0.02775884312500609, 0.9538947910229366, 0.9759656721765851, 0.9948376260325381, 0.008154406770758509, 0.008154406770758509, 0.10206088566653854, 0.2017081693071792, 0.6963241844715357, 0.993034988952891, 0.006365608903544173, 0.006365608903544173, 0.9911775509023241, 0.9847633249362482, 0.007531650668728476, 0.007531650668728476, 0.9874222001893076, 0.0065392198688033615, 0.0065392198688033615, 0.10455241077636139, 0.6228705368020795, 0.2725809261998302, 0.160167227148097, 0.7998054586031099, 0.039990272930155495, 0.29236157655206746, 0.6010880463828355, 0.1065097127155881, 0.9941407248406534, 0.004194686602703179, 0.995797040018081], \"Term\": [\"$\", \"$\", \"$\", \"25min\", \"25min\", \"25min\", \"6:40\", \"aber\", \"aber\", \"aber\", \"absinthe\", \"absinthe\", \"acai_bowl\", \"acai_bowl\", \"acai_bowl\", \"acknowledge\", \"acknowledge\", \"acknowledge\", \"alienate\", \"alienate\", \"alienate\", \"alle\", \"always_mes_up\", \"always_mes_up\", \"an_hour\", \"an_hour\", \"an_hour\", \"an_imposition\", \"an_imposition\", \"apologize\", \"apologize\", \"apologize\", \"ask\", \"ask\", \"ask\", \"attitude\", \"attitude\", \"attitude\", \"auch\", \"auf\", \"aus\", \"bacon\", \"bacon\", \"bacon\", \"balcony\", \"balcony\", \"balcony\", \"banh_mi\", \"banh_mi\", \"banh_mi\", \"bar\", \"bar\", \"bar\", \"bathroom\", \"bathroom\", \"bathroom\", \"bathtub\", \"bathtub\", \"bathtub\", \"bday_dinner\", \"bday_dinner\", \"bed_bug\", \"bed_bug\", \"beef\", \"beef\", \"beef\", \"beer\", \"beer\", \"beer\", \"beer_pong\", \"beers\", \"bien\", \"bien\", \"blade\", \"bland\", \"bland\", \"bland\", \"bloody_marys\", \"bloody_marys\", \"bloody_marys\", \"book\", \"book\", \"book\", \"booth\", \"booth\", \"booth\", \"bouncer\", \"bouncer\", \"bouncer\", \"bread\", \"bread\", \"bread\", \"bring\", \"bring\", \"bring\", \"buffet\", \"buffet\", \"buffet\", \"burger\", \"burger\", \"burger\", \"busy\", \"busy\", \"busy\", \"call_ahead_seating\", \"carpet\", \"carpet\", \"carpet\", \"cashier\", \"cashier\", \"cashier\", \"casino\", \"casino\", \"casino\", \"chair\", \"chair\", \"chair\", \"check\", \"check\", \"check\", \"cheese\", \"cheese\", \"cheese\", \"chicken\", \"chicken\", \"chicken\", \"chinese\", \"chinese\", \"chinese\", \"cider\", \"clean\", \"clean\", \"clean\", \"club\", \"club\", \"club\", \"cockroach\", \"cockroach\", \"cockroach\", \"cold\", \"cold\", \"cold\", \"cook\", \"cook\", \"cook\", \"costumer\", \"costumer\", \"costumer\", \"crispy\", \"crispy\", \"crispy\", \"crowd\", \"crowd\", \"crowd\", \"crust\", \"crust\", \"crust\", \"curbside\", \"curbside\", \"customer\", \"customer\", \"customer\", \"dance\", \"dance\", \"dance\", \"dance_floor\", \"dance_floor\", \"dance_floor\", \"dancer\", \"dancer\", \"dancer\", \"das\", \"das\", \"das\", \"deposit\", \"deposit\", \"deposit\", \"der\", \"der\", \"der\", \"dim_sum\", \"dim_sum\", \"dim_sum\", \"dinner\", \"dinner\", \"dinner\", \"dirty\", \"dirty\", \"dirty\", \"dish\", \"dish\", \"dish\", \"disrespectful\", \"disrespectful\", \"disrespectful\", \"dj\", \"dj\", \"dj\", \"door\", \"door\", \"door\", \"dort\", \"doug\", \"doug\", \"doug\", \"dough\", \"dough\", \"dough\", \"dq\", \"dq\", \"dq\", \"drink\", \"drink\", \"drink\", \"drive_through\", \"drive_through\", \"drive_through\", \"drive_thru\", \"drive_thru\", \"drive_thru\", \"dry\", \"dry\", \"dry\", \"earl_'s\", \"earl_'s\", \"eat\", \"eat\", \"eat\", \"egg_roll\", \"egg_roll\", \"egg_roll\", \"ein\", \"ein\", \"ein\", \"eine\", \"einen\", \"einen\", \"elevator\", \"elevator\", \"elevator\", \"employee\", \"employee\", \"employee\", \"esta\", \"esta\", \"excruciatingly_slow\", \"experience\", \"experience\", \"experience\", \"extremely_rude\", \"extremely_rude\", \"extremely_rude\", \"extremely_slow\", \"extremely_slow\", \"extremely_slow\", \"finally\", \"finally\", \"finally\", \"find\", \"find\", \"find\", \"fish\", \"fish\", \"fish\", \"flavor\", \"flavor\", \"flavor\", \"floor\", \"floor\", \"floor\", \"french_laundry\", \"french_laundry\", \"french_laundry\", \"fried\", \"fried\", \"fried\", \"fried_rice\", \"fried_rice\", \"fried_rice\", \"friend\", \"friend\", \"friend\", \"front_desk\", \"front_desk\", \"front_desk\", \"fry\", \"fry\", \"fry\", \"f\\u00e3\\u00bcr\", \"game\", \"game\", \"game\", \"garlic\", \"garlic\", \"garlic\", \"glass\", \"glass\", \"glass\", \"google_map\", \"goyemon\", \"goyemon\", \"goyemon\", \"greasy\", \"greasy\", \"greasy\", \"group\", \"group\", \"group\", \"grow_pain\", \"grow_pain\", \"hallway\", \"hallway\", \"hallway\", \"hard\", \"hard\", \"hard\", \"harrah_'s\", \"harrah_'s\", \"harrah_'s\", \"heather\", \"heather\", \"heather\", \"hier\", \"hier\", \"horrible\", \"horrible\", \"horrible\", \"hotel\", \"hotel\", \"hotel\", \"ich\", \"ich\", \"ist\", \"ist\", \"ist\", \"karaoke\", \"karaoke\", \"karaoke\", \"kinda_weird\", \"kinda_weird\", \"know\", \"know\", \"know\", \"lakeside\", \"leave\", \"leave\", \"leave\", \"like\", \"like\", \"like\", \"little\", \"little\", \"little\", \"location\", \"location\", \"location\", \"long\", \"long\", \"long\", \"look\", \"look\", \"look\", \"loud\", \"loud\", \"loud\", \"luggage\", \"luggage\", \"luggage\", \"management\", \"management\", \"management\", \"manager\", \"manager\", \"manager\", \"managerial_skill\", \"mario\", \"mario\", \"mattress\", \"meal\", \"meal\", \"meal\", \"meat\", \"meat\", \"meat\", \"menu\", \"menu\", \"menu\", \"mgm\", \"mgm\", \"mgm\", \"min\", \"min\", \"min\", \"minute\", \"minute\", \"minute\", \"mit\", \"mit\", \"mushroom\", \"mushroom\", \"mushroom\", \"mushy\", \"mushy\", \"mushy\", \"music\", \"music\", \"music\", \"new_york_style\", \"new_york_style\", \"nicht\", \"nicht\", \"nicht\", \"night\", \"night\", \"night\", \"nightclub\", \"nightclub\", \"nightclub\", \"no_apology\", \"no_apology\", \"no_apology\", \"noise\", \"noise\", \"noise\", \"non_smoking\", \"non_smoking\", \"non_smoking_room\", \"noodle\", \"noodle\", \"noodle\", \"nur\", \"onion\", \"onion\", \"onion\", \"pad_thai\", \"pad_thai\", \"pad_thai\", \"party\", \"party\", \"party\", \"patio\", \"patio\", \"patio\", \"people\", \"people\", \"people\", \"pepperoni\", \"pepperoni\", \"pepperoni\", \"pero\", \"pero\", \"piece\", \"piece\", \"piece\", \"pizza\", \"pizza\", \"pizza\", \"play\", \"play\", \"play\", \"pompous\", \"poor\", \"poor\", \"poor\", \"por\", \"por\", \"porch\", \"pork\", \"pork\", \"pork\", \"prepare_incorrectly\", \"price\", \"price\", \"price\", \"pull_forward\", \"pull_forward\", \"quality\", \"quality\", \"quality\", \"ra\", \"ra\", \"rap_music\", \"receive\", \"receive\", \"receive\", \"recomend\", \"recomend\", \"recomend\", \"refill\", \"refill\", \"refill\", \"reservation\", \"reservation\", \"reservation\", \"reserve\", \"reserve\", \"reserve\", \"resort_fee\", \"resort_fee\", \"resort_fee\", \"restaurant\", \"restaurant\", \"restaurant\", \"restroom\", \"restroom\", \"restroom\", \"rice\", \"rice\", \"rice\", \"roach\", \"roach\", \"roach\", \"room\", \"room\", \"room\", \"room_key\", \"rude\", \"rude\", \"rude\", \"rudest\", \"rudest\", \"rudest\", \"sake_bomb\", \"salad\", \"salad\", \"salad\", \"sandwich\", \"sandwich\", \"sandwich\", \"sauce\", \"sauce\", \"sauce\", \"schon\", \"seat\", \"seat\", \"seat\", \"security\", \"security\", \"security\", \"sehr\", \"sehr\", \"server\", \"server\", \"server\", \"service\", \"service\", \"service\", \"servicio\", \"shower\", \"shower\", \"shower\", \"shrimp\", \"shrimp\", \"shrimp\", \"sich\", \"silver_wear\", \"sind\", \"sind\", \"sit\", \"sit\", \"sit\", \"sleep\", \"sleep\", \"sleep\", \"slice\", \"slice\", \"slice\", \"slow\", \"slow\", \"slow\", \"slowest\", \"slowest\", \"slowest\", \"small\", \"small\", \"small\", \"smart_ass\", \"smoothie\", \"smoothie\", \"smoothie\", \"soggy\", \"soggy\", \"soggy\", \"song\", \"song\", \"song\", \"spa\", \"spa\", \"spa\", \"staff\", \"staff\", \"staff\", \"stain\", \"stain\", \"stain\", \"stay\", \"stay\", \"stay\", \"stk\", \"stk\", \"stood\", \"strew\", \"sushi_chef\", \"sushi_chef\", \"sushi_chef\", \"table\", \"table\", \"table\", \"take_forever\", \"take_forever\", \"take_forever\", \"tao\", \"tao\", \"tao\", \"tapas_style\", \"tapas_style\", \"taste\", \"taste\", \"taste\", \"tasteless\", \"tasteless\", \"tasteless\", \"tell\", \"tell\", \"tell\", \"terrible\", \"terrible\", \"terrible\", \"terribly_slow\", \"terribly_slow\", \"terribly_slow\", \"texture\", \"texture\", \"texture\", \"thai_ice_tea\", \"thin_crust\", \"thin_crust\", \"thin_crust\", \"thing\", \"thing\", \"thing\", \"think\", \"think\", \"think\", \"tiene\", \"tiene\", \"toby_keith\", \"toby_keith\", \"toby_keith\", \"tomato\", \"tomato\", \"tomato\", \"topping\", \"topping\", \"topping\", \"total_bitch\", \"tropical_smoothie\", \"tropical_smoothie\", \"tropical_smoothie\", \"try\", \"try\", \"try\", \"tv\", \"tv\", \"tv\", \"und\", \"und\", \"und\", \"une\", \"valet\", \"valet\", \"valet\", \"vegetable\", \"vegetable\", \"vegetable\", \"veggie\", \"veggie\", \"veggie\", \"velvet_rope\", \"wait\", \"wait\", \"wait\", \"waiter\", \"waiter\", \"waiter\", \"waitress\", \"waitress\", \"waitress\", \"walk\", \"walk\", \"walk\", \"want\", \"want\", \"want\", \"way\", \"way\", \"way\", \"wear\", \"wear\", \"wear\", \"wedding\", \"wedding\", \"wedding\", \"west_wing\", \"wie\", \"wie\", \"wie\", \"wine\", \"wine\", \"wine\", \"wir\", \"wir\", \"wir\", \"women\", \"wonton\", \"wonton\", \"wonton\", \"wonton_soup\", \"wonton_soup\", \"wonton_soup\", \"work\", \"work\", \"work\", \"worst\", \"worst\", \"worst\", \"wrong\", \"wrong\", \"wrong\", \"zu\", \"zu\", \"zum\"]}, \"R\": 30, \"lambda.step\": 0.01, \"plot.opts\": {\"xlab\": \"PC1\", \"ylab\": \"PC2\"}, \"topic.order\": [1, 3, 2]};\n",
       "\n",
       "function LDAvis_load_lib(url, callback){\n",
       "  var s = document.createElement('script');\n",
       "  s.src = url;\n",
       "  s.async = true;\n",
       "  s.onreadystatechange = s.onload = callback;\n",
       "  s.onerror = function(){console.warn(\"failed to load library \" + url);};\n",
       "  document.getElementsByTagName(\"head\")[0].appendChild(s);\n",
       "}\n",
       "\n",
       "if(typeof(LDAvis) !== \"undefined\"){\n",
       "   // already loaded: just create the visualization\n",
       "   !function(LDAvis){\n",
       "       new LDAvis(\"#\" + \"ldavis_el757212496411128397041590\", ldavis_el757212496411128397041590_data);\n",
       "   }(LDAvis);\n",
       "}else if(typeof define === \"function\" && define.amd){\n",
       "   // require.js is available: use it to load d3/LDAvis\n",
       "   require.config({paths: {d3: \"https://cdnjs.cloudflare.com/ajax/libs/d3/3.5.5/d3.min\"}});\n",
       "   require([\"d3\"], function(d3){\n",
       "      window.d3 = d3;\n",
       "      LDAvis_load_lib(\"https://cdn.rawgit.com/bmabey/pyLDAvis/files/ldavis.v1.0.0.js\", function(){\n",
       "        new LDAvis(\"#\" + \"ldavis_el757212496411128397041590\", ldavis_el757212496411128397041590_data);\n",
       "      });\n",
       "    });\n",
       "}else{\n",
       "    // require.js not available: dynamically load d3 & LDAvis\n",
       "    LDAvis_load_lib(\"https://cdnjs.cloudflare.com/ajax/libs/d3/3.5.5/d3.min.js\", function(){\n",
       "         LDAvis_load_lib(\"https://cdn.rawgit.com/bmabey/pyLDAvis/files/ldavis.v1.0.0.js\", function(){\n",
       "                 new LDAvis(\"#\" + \"ldavis_el757212496411128397041590\", ldavis_el757212496411128397041590_data);\n",
       "            })\n",
       "         });\n",
       "}\n",
       "</script>"
      ],
      "text/plain": [
       "<IPython.core.display.HTML object>"
      ]
     },
     "execution_count": 75,
     "metadata": {},
     "output_type": "execute_result"
    }
   ],
   "source": [
    "lda = LdaMulticore.load('./models/lda_model_neg')\n",
    "    \n",
    "LDAvis_prepared = pyLDAvis.gensim.prepare(lda, trigram_bow_corpus, trigram_dictionary)\n",
    "\n",
    "# Save pre-prepared pyLDAvis data to disk:\n",
    "with open('./models/ldavis_prepared', 'wb') as f: \n",
    "    pickle.dump(LDAvis_prepared, f)\n",
    "    \n",
    "# load the pre-prepared pyLDAvis data from disk:\n",
    "with open('./models/ldavis_prepared', 'rb') as f:  \n",
    "    LDAvis_prepared = pickle.load(f)\n",
    "    \n",
    "pyLDAvis.display(LDAvis_prepared)"
   ]
  },
  {
   "cell_type": "code",
   "execution_count": 62,
   "metadata": {
    "collapsed": true
   },
   "outputs": [],
   "source": [
    "pyLDAvis.save_html(LDAvis_prepared, './models/ldavis_html')"
   ]
  },
  {
   "cell_type": "code",
   "execution_count": 10,
   "metadata": {
    "collapsed": true
   },
   "outputs": [],
   "source": [
    "def get_sample_review(review_number):\n",
    "    \"\"\"\n",
    "    retrieve a particular review index\n",
    "    from the reviews file and return it\n",
    "    \"\"\"\n",
    "    \n",
    "    return list(it.islice(line_review(neg_scores['text']),\n",
    "                          review_number, review_number+1))[0]"
   ]
  },
  {
   "cell_type": "code",
   "execution_count": 2,
   "metadata": {
    "collapsed": true
   },
   "outputs": [],
   "source": [
    "# for description of single review text\n",
    "\n",
    "def lda_description(review_text, min_topic_freq=0):\n",
    "    \"\"\"\n",
    "    accept the original text of a review and (1) parse it with spaCy,\n",
    "    (2) apply text pre-proccessing steps, (3) create a bag-of-words\n",
    "    representation, (4) create an LDA representation, and\n",
    "    (5) print a sorted list of the top topics in the LDA representation\n",
    "    \"\"\"\n",
    "    \n",
    "    # parse the review text with spaCy\n",
    "    parsed_review = nlp(review_text)\n",
    "    \n",
    "    # lemmatize the text and remove punctuation and whitespace\n",
    "    unigram_review = [token.lemma_ for token in parsed_review\n",
    "                      if not punct_space(token)]\n",
    "    \n",
    "    # apply the first-order and secord-order phrase models\n",
    "    bigram_review = bigram_model[unigram_review]\n",
    "    trigram_review = trigram_model[bigram_review]\n",
    "    \n",
    "    # remove any remaining stopwords\n",
    "    trigram_review = [term for term in trigram_review\n",
    "                      if not term in spacy.en.English.Defaults.stop_words]\n",
    "    \n",
    "    # create a bag-of-words representation\n",
    "    review_bow = trigram_dictionary.doc2bow(trigram_review)\n",
    "    \n",
    "    # create an LDA representation\n",
    "    review_lda = lda[review_bow]\n",
    "    \n",
    "    # sort with the most highly related topics first\n",
    "    #review_lda = sorted(review_lda, key=lambda (topic_number, freq): -freq)  # was: key=lambda (topic_number, freq): -freq) ???\n",
    "    \n",
    "    for topic_number, freq in review_lda:\n",
    "        if freq < min_topic_freq:\n",
    "            break\n",
    "            \n",
    "        # print the most highly related topic names and frequencies\n",
    "        print('{:25} {}'.format(topic_names[topic_number], round(freq, 3)))"
   ]
  },
  {
   "cell_type": "code",
   "execution_count": 16,
   "metadata": {
    "collapsed": true
   },
   "outputs": [],
   "source": [
    "bigram_model = Phrases.load('./models/bigram_model_neg.txt')\n",
    "trigram_model = Phrases.load('./models/trigram_model_neg.txt')\n",
    "trigram_dictionary = Dictionary.load('./models/trigram_dict_all_neg.dict')\n",
    "lda = LdaMulticore.load('./models/lda_model_neg')"
   ]
  },
  {
   "cell_type": "code",
   "execution_count": 20,
   "metadata": {},
   "outputs": [
    {
     "name": "stderr",
     "output_type": "stream",
     "text": [
      "C:\\ProgramData\\Anaconda3\\lib\\site-packages\\gensim\\models\\phrases.py:316: UserWarning: For a faster implementation, use the gensim.models.phrases.Phraser class\n",
      "  warnings.warn(\"For a faster implementation, use the gensim.models.phrases.Phraser class\")\n"
     ]
    },
    {
     "name": "stdout",
     "output_type": "stream",
     "text": [
      "food_quality              0.763\n",
      "price                     0.074\n",
      "service_quality           0.164\n"
     ]
    }
   ],
   "source": [
    "# test a review and show the posibility of each problem type\n",
    "lda_description('This gets one star because 0 is not an option and they did have free mediocre cocktails with brunch. Ordered the tuna tartar taco and the kale and eggs salad. Waiter came back later, sorry no tuna tartare. Ok, no problem. Looking forward to the kale with roasted market veg and manchego What arrived was a bowl of kale with some canned garbanzos and eggs. For $16 they could have at least put it on a plate with a side bowl of house potatoes like the other brunch dishes. Asked the waiter where are the roasted market vegetables. He went to check, they took it away, maitre d apologized, said they will bring another. 10 mins later they brought another of the SAME THING. So what changed? I asked where are the roasted  market vegetables - she pointed to the 5 garbanzos You can get a better salad in the fridge at your local CVS.')"
   ]
  },
  {
   "cell_type": "code",
   "execution_count": 35,
   "metadata": {
    "collapsed": true
   },
   "outputs": [],
   "source": [
    "# for updating dataframe with values for each review:\n",
    "\n",
    "def lda_descr_df(review_text, min_topic_freq=0):\n",
    "    \"\"\"\n",
    "    accept the original text of a review and (1) parse it with spaCy,\n",
    "    (2) apply text pre-proccessing steps, (3) create a bag-of-words\n",
    "    representation, (4) create an LDA representation, and\n",
    "    (5) print a sorted list of the top topics in the LDA representation\n",
    "    \"\"\"\n",
    "    \n",
    "    # parse the review text with spaCy\n",
    "    parsed_review = nlp(review_text)\n",
    "    \n",
    "    # lemmatize the text and remove punctuation and whitespace\n",
    "    unigram_review = [token.lemma_ for token in parsed_review\n",
    "                      if not punct_space(token)]\n",
    "    \n",
    "    # apply the first-order and secord-order phrase models\n",
    "    bigram_review = bigram_model[unigram_review]\n",
    "    trigram_review = trigram_model[bigram_review]\n",
    "    \n",
    "    # remove any remaining stopwords\n",
    "    trigram_review = [term for term in trigram_review\n",
    "                      if not term in spacy.en.English.Defaults.stop_words]\n",
    "    \n",
    "    # create a bag-of-words representation\n",
    "    review_bow = trigram_dictionary.doc2bow(trigram_review)\n",
    "    \n",
    "    # create an LDA representation\n",
    "    review_lda = lda[review_bow]\n",
    "\n",
    "    return review_lda  "
   ]
  },
  {
   "cell_type": "code",
   "execution_count": 36,
   "metadata": {
    "collapsed": true
   },
   "outputs": [],
   "source": [
    "# for returning label of topic with max value:\n",
    "\n",
    "bigram_model = Phrases.load('./data/bigram_model_neg.txt')\n",
    "trigram_model = Phrases.load('./data/trigram_model_neg.txt')\n",
    "\n",
    "def punct_space(token):\n",
    "    \"\"\"\n",
    "    helper function to eliminate tokens\n",
    "    that are pure punctuation or whitespace\n",
    "    \"\"\"\n",
    "    \n",
    "    return token.is_punct or token.is_space or token.like_num or token.is_digit\n",
    "\n",
    "def lda_descr_chat(review_text, min_topic_freq=0):\n",
    "    \"\"\"\n",
    "    accept the original text of a review and (1) parse it with spaCy,\n",
    "    (2) apply text pre-proccessing steps, (3) create a bag-of-words\n",
    "    representation, (4) create an LDA representation, and\n",
    "    (5) print a sorted list of the top topics in the LDA representation\n",
    "    \"\"\"\n",
    "    \n",
    "    # parse the review text with spaCy\n",
    "    parsed_review = nlp(review_text)\n",
    "    \n",
    "    # lemmatize the text and remove punctuation and whitespace\n",
    "    unigram_review = [token.lemma_ for token in parsed_review\n",
    "                      if not punct_space(token)]\n",
    "    \n",
    "    # apply the first-order and secord-order phrase models\n",
    "    bigram_review = bigram_model[unigram_review]\n",
    "    trigram_review = trigram_model[bigram_review]\n",
    "    \n",
    "    # remove any remaining stopwords\n",
    "    trigram_review = [term for term in trigram_review\n",
    "                      if not term in spacy.en.English.Defaults.stop_words]\n",
    "    \n",
    "    # create a bag-of-words representation\n",
    "    review_bow = trigram_dictionary.doc2bow(trigram_review)\n",
    "    \n",
    "    # create an LDA representation\n",
    "    review_lda = lda[review_bow]\n",
    "\n",
    "    return max(review_lda, key=lambda item: item[1])[0]"
   ]
  },
  {
   "cell_type": "code",
   "execution_count": 52,
   "metadata": {
    "collapsed": true
   },
   "outputs": [],
   "source": [
    "import itertools as it"
   ]
  },
  {
   "cell_type": "code",
   "execution_count": 50,
   "metadata": {
    "collapsed": true
   },
   "outputs": [],
   "source": [
    "def select_review(review_number):\n",
    "    \"\"\"\n",
    "    retrieve a particular review index\n",
    "    from the reviews file and return it\n",
    "    \"\"\"\n",
    "    \n",
    "    return list(it.islice(line_review(neg_scores['text']),\n",
    "                          review_number, review_number+1))[0]"
   ]
  },
  {
   "cell_type": "code",
   "execution_count": 61,
   "metadata": {
    "collapsed": true
   },
   "outputs": [],
   "source": [
    "def update_df(df):\n",
    "    \n",
    "    df['food_quality'] = \"\"\n",
    "    df['price'] = \"\"\n",
    "    df['service_quality'] = \"\"\n",
    "    df['problem_type'] = \"\"\n",
    "    \n",
    "    for i in range(0, len(df)):\n",
    "        \n",
    "        result = lda_descr_df(select_review(i))\n",
    "        v1 = [round(x[1], 3) for x in result if x[0]==0]\n",
    "        v2 = [round(x[1], 3) for x in result if x[0]==1]\n",
    "        v3 = [round(x[1], 3) for x in result if x[0]==2]\n",
    "        \n",
    "        df['food_quality'].iloc[i] =  v1[0] if len(v1) > 0 else 0\n",
    "        df['price'].iloc[i] =  v2[0] if len(v2) > 0 else 0\n",
    "        df['service_quality'].iloc[i] =  v3[0] if len(v3) > 0 else 0\n",
    "        df['problem_type'].iloc[i] = (max(result, key=lambda item: item[1])[0])\n",
    "        \n",
    "    return df\n"
   ]
  },
  {
   "cell_type": "code",
   "execution_count": 53,
   "metadata": {},
   "outputs": [
    {
     "name": "stderr",
     "output_type": "stream",
     "text": [
      "C:\\ProgramData\\Anaconda3\\lib\\site-packages\\gensim\\models\\phrases.py:316: UserWarning: For a faster implementation, use the gensim.models.phrases.Phraser class\n",
      "  warnings.warn(\"For a faster implementation, use the gensim.models.phrases.Phraser class\")\n",
      "C:\\ProgramData\\Anaconda3\\lib\\site-packages\\pandas\\core\\indexing.py:179: SettingWithCopyWarning: \n",
      "A value is trying to be set on a copy of a slice from a DataFrame\n",
      "\n",
      "See the caveats in the documentation: http://pandas.pydata.org/pandas-docs/stable/indexing.html#indexing-view-versus-copy\n",
      "  self._setitem_with_indexer(indexer, value)\n"
     ]
    },
    {
     "name": "stdout",
     "output_type": "stream",
     "text": [
      "Wall time: 1d 8h 1min 21s\n"
     ]
    }
   ],
   "source": [
    "%%time\n",
    "df_topics = update_df(neg_scores)"
   ]
  },
  {
   "cell_type": "code",
   "execution_count": null,
   "metadata": {
    "collapsed": true
   },
   "outputs": [],
   "source": [
    "# Assign topic names and save to disk:\n",
    "topic_names = {0: u'food_quality',\n",
    "               1: u'price',\n",
    "               2: u'service_quality'}\n",
    "\n",
    "with open('./models/topic_names.pkl', 'wb') as f:\n",
    "    pickle.dump(topic_names, f)"
   ]
  },
  {
   "cell_type": "code",
   "execution_count": 60,
   "metadata": {
    "collapsed": true
   },
   "outputs": [],
   "source": [
    "df_topics.to_csv('df_topics.csv')"
   ]
  },
  {
   "cell_type": "code",
   "execution_count": 56,
   "metadata": {
    "collapsed": true
   },
   "outputs": [],
   "source": [
    "df_topics = df_topics.drop('Unnamed: 0', 1)"
   ]
  },
  {
   "cell_type": "code",
   "execution_count": 58,
   "metadata": {
    "collapsed": true
   },
   "outputs": [],
   "source": [
    "df_topics = df_topics.rename(columns = {'service_quality':'price'})\n",
    "df_topics = df_topics.rename(columns = {'food_quality':'service_quality'})\n",
    "df_topics = df_topics.rename(columns = {'waiting_time':'food_quality'})"
   ]
  },
  {
   "cell_type": "code",
   "execution_count": 163,
   "metadata": {},
   "outputs": [
    {
     "data": {
      "text/html": [
       "<div>\n",
       "<style>\n",
       "    .dataframe thead tr:only-child th {\n",
       "        text-align: right;\n",
       "    }\n",
       "\n",
       "    .dataframe thead th {\n",
       "        text-align: left;\n",
       "    }\n",
       "\n",
       "    .dataframe tbody tr th {\n",
       "        vertical-align: top;\n",
       "    }\n",
       "</style>\n",
       "<table border=\"1\" class=\"dataframe\">\n",
       "  <thead>\n",
       "    <tr style=\"text-align: right;\">\n",
       "      <th></th>\n",
       "      <th>funny</th>\n",
       "      <th>user_id</th>\n",
       "      <th>review_id</th>\n",
       "      <th>text</th>\n",
       "      <th>business_id</th>\n",
       "      <th>stars</th>\n",
       "      <th>date</th>\n",
       "      <th>useful</th>\n",
       "      <th>cool</th>\n",
       "      <th>yelping_since</th>\n",
       "      <th>...</th>\n",
       "      <th>is_open</th>\n",
       "      <th>categories</th>\n",
       "      <th>stars_dif</th>\n",
       "      <th>bus_stars_dif</th>\n",
       "      <th>filtered_text</th>\n",
       "      <th>sentiment_score</th>\n",
       "      <th>food_quality</th>\n",
       "      <th>price</th>\n",
       "      <th>service_quality</th>\n",
       "      <th>problem_type</th>\n",
       "    </tr>\n",
       "  </thead>\n",
       "  <tbody>\n",
       "    <tr>\n",
       "      <th>0</th>\n",
       "      <td>0</td>\n",
       "      <td>ujOPJEz_KxzAyZDnji-2Ng</td>\n",
       "      <td>QXWku_OB3FCj9VCZfUZwwg</td>\n",
       "      <td>I wish I could give 1.5 stars. Nothing special...</td>\n",
       "      <td>jQsNFOzDpxPmOurSWCg1vQ</td>\n",
       "      <td>1</td>\n",
       "      <td>2017-07-08</td>\n",
       "      <td>0.0</td>\n",
       "      <td>0.0</td>\n",
       "      <td>2017-07-01</td>\n",
       "      <td>...</td>\n",
       "      <td>1.0</td>\n",
       "      <td>['Fast Food', 'Gluten-Free', 'Asian Fusion', '...</td>\n",
       "      <td>-2.67</td>\n",
       "      <td>-2.5</td>\n",
       "      <td>['wish', 'could', 'give', '1', '5', 'stars', '...</td>\n",
       "      <td>-0.033333</td>\n",
       "      <td>0.968</td>\n",
       "      <td>0.016</td>\n",
       "      <td>0.016</td>\n",
       "      <td>0</td>\n",
       "    </tr>\n",
       "    <tr>\n",
       "      <th>1</th>\n",
       "      <td>0</td>\n",
       "      <td>6aEUn50d3Ts7MiGu6WdpKA</td>\n",
       "      <td>5NtaW5EwXK595kP4Ynnisg</td>\n",
       "      <td>Disappointed that on yelp their hours show the...</td>\n",
       "      <td>jQsNFOzDpxPmOurSWCg1vQ</td>\n",
       "      <td>2</td>\n",
       "      <td>2015-09-22</td>\n",
       "      <td>1.0</td>\n",
       "      <td>0.0</td>\n",
       "      <td>2013-06-27</td>\n",
       "      <td>...</td>\n",
       "      <td>1.0</td>\n",
       "      <td>['Fast Food', 'Gluten-Free', 'Asian Fusion', '...</td>\n",
       "      <td>-2.13</td>\n",
       "      <td>-1.5</td>\n",
       "      <td>['disappointed', 'yelp', 'hours', 'show', 'ope...</td>\n",
       "      <td>-0.040000</td>\n",
       "      <td>0.02</td>\n",
       "      <td>0.359</td>\n",
       "      <td>0.621</td>\n",
       "      <td>2</td>\n",
       "    </tr>\n",
       "    <tr>\n",
       "      <th>2</th>\n",
       "      <td>1</td>\n",
       "      <td>alTlRb9qMBX11pARX05Big</td>\n",
       "      <td>jJaU6pbKkYgl15P-5zfg3A</td>\n",
       "      <td>Everything was good except Thai chicken wraps....</td>\n",
       "      <td>jQsNFOzDpxPmOurSWCg1vQ</td>\n",
       "      <td>3</td>\n",
       "      <td>2014-05-29</td>\n",
       "      <td>0.0</td>\n",
       "      <td>1.0</td>\n",
       "      <td>2010-09-17</td>\n",
       "      <td>...</td>\n",
       "      <td>1.0</td>\n",
       "      <td>['Fast Food', 'Gluten-Free', 'Asian Fusion', '...</td>\n",
       "      <td>-0.48</td>\n",
       "      <td>-0.5</td>\n",
       "      <td>['everything', 'good', 'except', 'thai', 'chic...</td>\n",
       "      <td>-0.040000</td>\n",
       "      <td>0.964</td>\n",
       "      <td>0.018</td>\n",
       "      <td>0.017</td>\n",
       "      <td>0</td>\n",
       "    </tr>\n",
       "    <tr>\n",
       "      <th>3</th>\n",
       "      <td>0</td>\n",
       "      <td>R-kL1bocHgP4GW7Mgd-ZXA</td>\n",
       "      <td>nI2rhDM2CgNazMdhiODoRQ</td>\n",
       "      <td>OH MY GOD, this place. I used to like Pei Wei ...</td>\n",
       "      <td>jQsNFOzDpxPmOurSWCg1vQ</td>\n",
       "      <td>2</td>\n",
       "      <td>2016-02-14</td>\n",
       "      <td>0.0</td>\n",
       "      <td>0.0</td>\n",
       "      <td>2010-12-04</td>\n",
       "      <td>...</td>\n",
       "      <td>1.0</td>\n",
       "      <td>['Fast Food', 'Gluten-Free', 'Asian Fusion', '...</td>\n",
       "      <td>-1.63</td>\n",
       "      <td>-1.5</td>\n",
       "      <td>['oh', 'god', 'place', 'used', 'like', 'pei', ...</td>\n",
       "      <td>-0.022989</td>\n",
       "      <td>0.384</td>\n",
       "      <td>0.349</td>\n",
       "      <td>0.267</td>\n",
       "      <td>0</td>\n",
       "    </tr>\n",
       "    <tr>\n",
       "      <th>4</th>\n",
       "      <td>0</td>\n",
       "      <td>mCE5jUDzP-ihU_6cwQsiiw</td>\n",
       "      <td>FxAxYxj5SbiOtcK36bJxCA</td>\n",
       "      <td>We went as a family of 6 and was treated very ...</td>\n",
       "      <td>jQsNFOzDpxPmOurSWCg1vQ</td>\n",
       "      <td>1</td>\n",
       "      <td>2011-02-27</td>\n",
       "      <td>0.0</td>\n",
       "      <td>0.0</td>\n",
       "      <td>2011-02-26</td>\n",
       "      <td>...</td>\n",
       "      <td>1.0</td>\n",
       "      <td>['Fast Food', 'Gluten-Free', 'Asian Fusion', '...</td>\n",
       "      <td>-1.21</td>\n",
       "      <td>-2.5</td>\n",
       "      <td>['went', 'family', '6', 'treated', 'poorly', '...</td>\n",
       "      <td>-0.057692</td>\n",
       "      <td>0.271</td>\n",
       "      <td>0.41</td>\n",
       "      <td>0.319</td>\n",
       "      <td>1</td>\n",
       "    </tr>\n",
       "  </tbody>\n",
       "</table>\n",
       "<p>5 rows × 32 columns</p>\n",
       "</div>"
      ],
      "text/plain": [
       "   funny                 user_id               review_id  \\\n",
       "0      0  ujOPJEz_KxzAyZDnji-2Ng  QXWku_OB3FCj9VCZfUZwwg   \n",
       "1      0  6aEUn50d3Ts7MiGu6WdpKA  5NtaW5EwXK595kP4Ynnisg   \n",
       "2      1  alTlRb9qMBX11pARX05Big  jJaU6pbKkYgl15P-5zfg3A   \n",
       "3      0  R-kL1bocHgP4GW7Mgd-ZXA  nI2rhDM2CgNazMdhiODoRQ   \n",
       "4      0  mCE5jUDzP-ihU_6cwQsiiw  FxAxYxj5SbiOtcK36bJxCA   \n",
       "\n",
       "                                                text             business_id  \\\n",
       "0  I wish I could give 1.5 stars. Nothing special...  jQsNFOzDpxPmOurSWCg1vQ   \n",
       "1  Disappointed that on yelp their hours show the...  jQsNFOzDpxPmOurSWCg1vQ   \n",
       "2  Everything was good except Thai chicken wraps....  jQsNFOzDpxPmOurSWCg1vQ   \n",
       "3  OH MY GOD, this place. I used to like Pei Wei ...  jQsNFOzDpxPmOurSWCg1vQ   \n",
       "4  We went as a family of 6 and was treated very ...  jQsNFOzDpxPmOurSWCg1vQ   \n",
       "\n",
       "   stars        date  useful  cool yelping_since      ...       is_open  \\\n",
       "0      1  2017-07-08     0.0   0.0    2017-07-01      ...           1.0   \n",
       "1      2  2015-09-22     1.0   0.0    2013-06-27      ...           1.0   \n",
       "2      3  2014-05-29     0.0   1.0    2010-09-17      ...           1.0   \n",
       "3      2  2016-02-14     0.0   0.0    2010-12-04      ...           1.0   \n",
       "4      1  2011-02-27     0.0   0.0    2011-02-26      ...           1.0   \n",
       "\n",
       "                                          categories  stars_dif bus_stars_dif  \\\n",
       "0  ['Fast Food', 'Gluten-Free', 'Asian Fusion', '...      -2.67          -2.5   \n",
       "1  ['Fast Food', 'Gluten-Free', 'Asian Fusion', '...      -2.13          -1.5   \n",
       "2  ['Fast Food', 'Gluten-Free', 'Asian Fusion', '...      -0.48          -0.5   \n",
       "3  ['Fast Food', 'Gluten-Free', 'Asian Fusion', '...      -1.63          -1.5   \n",
       "4  ['Fast Food', 'Gluten-Free', 'Asian Fusion', '...      -1.21          -2.5   \n",
       "\n",
       "                                       filtered_text sentiment_score  \\\n",
       "0  ['wish', 'could', 'give', '1', '5', 'stars', '...       -0.033333   \n",
       "1  ['disappointed', 'yelp', 'hours', 'show', 'ope...       -0.040000   \n",
       "2  ['everything', 'good', 'except', 'thai', 'chic...       -0.040000   \n",
       "3  ['oh', 'god', 'place', 'used', 'like', 'pei', ...       -0.022989   \n",
       "4  ['went', 'family', '6', 'treated', 'poorly', '...       -0.057692   \n",
       "\n",
       "  food_quality  price  service_quality  problem_type  \n",
       "0        0.968  0.016            0.016             0  \n",
       "1         0.02  0.359            0.621             2  \n",
       "2        0.964  0.018            0.017             0  \n",
       "3        0.384  0.349            0.267             0  \n",
       "4        0.271   0.41            0.319             1  \n",
       "\n",
       "[5 rows x 32 columns]"
      ]
     },
     "execution_count": 163,
     "metadata": {},
     "output_type": "execute_result"
    }
   ],
   "source": [
    "df_topics.head()"
   ]
  },
  {
   "cell_type": "code",
   "execution_count": 176,
   "metadata": {
    "collapsed": true
   },
   "outputs": [],
   "source": [
    "food_quality = df_topics.loc[df_topics.problem_type==0,:]\n",
    "price = df_topics.loc[df_topics.problem_type==1,:]\n",
    "service_quality = df_topics.loc[df_topics.problem_type==2,:]"
   ]
  },
  {
   "cell_type": "code",
   "execution_count": 180,
   "metadata": {},
   "outputs": [
    {
     "data": {
      "text/plain": [
       "<matplotlib.collections.PathCollection at 0x26e9036cc18>"
      ]
     },
     "execution_count": 180,
     "metadata": {},
     "output_type": "execute_result"
    },
    {
     "data": {
      "image/png": "[encoded data removed]",
      "text/plain": [
       "<matplotlib.figure.Figure at 0x26e8c740080>"
      ]
     },
     "metadata": {},
     "output_type": "display_data"
    }
   ],
   "source": [
    "plt.figure(figsize=(12,6))\n",
    "plt.scatter(food_quality['sentiment_score'], food_quality['food_quality'])"
   ]
  },
  {
   "cell_type": "code",
   "execution_count": 181,
   "metadata": {},
   "outputs": [
    {
     "data": {
      "text/plain": [
       "<matplotlib.collections.PathCollection at 0x26e83f802b0>"
      ]
     },
     "execution_count": 181,
     "metadata": {},
     "output_type": "execute_result"
    },
    {
     "data": {
      "image/png": "[encoded data removed]",
      "text/plain": [
       "<matplotlib.figure.Figure at 0x26e8639aef0>"
      ]
     },
     "metadata": {},
     "output_type": "display_data"
    }
   ],
   "source": [
    "plt.figure(figsize=(12,6))\n",
    "plt.scatter(price['sentiment_score'], price['price'])"
   ]
  },
  {
   "cell_type": "code",
   "execution_count": 182,
   "metadata": {},
   "outputs": [
    {
     "data": {
      "text/plain": [
       "<matplotlib.collections.PathCollection at 0x26e8ec382e8>"
      ]
     },
     "execution_count": 182,
     "metadata": {},
     "output_type": "execute_result"
    },
    {
     "data": {
      "image/png": "[encoded data removed]",
      "text/plain": [
       "<matplotlib.figure.Figure at 0x26e90c8b908>"
      ]
     },
     "metadata": {},
     "output_type": "display_data"
    }
   ],
   "source": [
    "plt.figure(figsize=(12,6))\n",
    "plt.scatter(service_quality['sentiment_score'], service_quality['service_quality'])"
   ]
  },
  {
   "cell_type": "code",
   "execution_count": 164,
   "metadata": {
    "collapsed": true
   },
   "outputs": [],
   "source": [
    "distplot2 = df_topics.loc[:,['sentiment_score', 'stars_dif', 'food_quality', 'price', 'service_quality', 'problem_type']]"
   ]
  },
  {
   "cell_type": "code",
   "execution_count": 165,
   "metadata": {},
   "outputs": [
    {
     "data": {
      "text/html": [
       "<div>\n",
       "<style>\n",
       "    .dataframe thead tr:only-child th {\n",
       "        text-align: right;\n",
       "    }\n",
       "\n",
       "    .dataframe thead th {\n",
       "        text-align: left;\n",
       "    }\n",
       "\n",
       "    .dataframe tbody tr th {\n",
       "        vertical-align: top;\n",
       "    }\n",
       "</style>\n",
       "<table border=\"1\" class=\"dataframe\">\n",
       "  <thead>\n",
       "    <tr style=\"text-align: right;\">\n",
       "      <th></th>\n",
       "      <th>sentiment_score</th>\n",
       "      <th>stars_dif</th>\n",
       "      <th>food_quality</th>\n",
       "      <th>price</th>\n",
       "      <th>service_quality</th>\n",
       "      <th>problem_type</th>\n",
       "    </tr>\n",
       "  </thead>\n",
       "  <tbody>\n",
       "    <tr>\n",
       "      <th>0</th>\n",
       "      <td>-0.033333</td>\n",
       "      <td>-2.67</td>\n",
       "      <td>0.968</td>\n",
       "      <td>0.016</td>\n",
       "      <td>0.016</td>\n",
       "      <td>0</td>\n",
       "    </tr>\n",
       "    <tr>\n",
       "      <th>1</th>\n",
       "      <td>-0.040000</td>\n",
       "      <td>-2.13</td>\n",
       "      <td>0.02</td>\n",
       "      <td>0.359</td>\n",
       "      <td>0.621</td>\n",
       "      <td>2</td>\n",
       "    </tr>\n",
       "    <tr>\n",
       "      <th>2</th>\n",
       "      <td>-0.040000</td>\n",
       "      <td>-0.48</td>\n",
       "      <td>0.964</td>\n",
       "      <td>0.018</td>\n",
       "      <td>0.017</td>\n",
       "      <td>0</td>\n",
       "    </tr>\n",
       "    <tr>\n",
       "      <th>3</th>\n",
       "      <td>-0.022989</td>\n",
       "      <td>-1.63</td>\n",
       "      <td>0.384</td>\n",
       "      <td>0.349</td>\n",
       "      <td>0.267</td>\n",
       "      <td>0</td>\n",
       "    </tr>\n",
       "    <tr>\n",
       "      <th>4</th>\n",
       "      <td>-0.057692</td>\n",
       "      <td>-1.21</td>\n",
       "      <td>0.271</td>\n",
       "      <td>0.41</td>\n",
       "      <td>0.319</td>\n",
       "      <td>1</td>\n",
       "    </tr>\n",
       "  </tbody>\n",
       "</table>\n",
       "</div>"
      ],
      "text/plain": [
       "   sentiment_score  stars_dif food_quality  price service_quality problem_type\n",
       "0        -0.033333      -2.67        0.968  0.016           0.016            0\n",
       "1        -0.040000      -2.13         0.02  0.359           0.621            2\n",
       "2        -0.040000      -0.48        0.964  0.018           0.017            0\n",
       "3        -0.022989      -1.63        0.384  0.349           0.267            0\n",
       "4        -0.057692      -1.21        0.271   0.41           0.319            1"
      ]
     },
     "execution_count": 165,
     "metadata": {},
     "output_type": "execute_result"
    }
   ],
   "source": [
    "distplot2.head()"
   ]
  },
  {
   "cell_type": "code",
   "execution_count": 167,
   "metadata": {},
   "outputs": [
    {
     "name": "stderr",
     "output_type": "stream",
     "text": [
      "C:\\ProgramData\\Anaconda3\\lib\\site-packages\\statsmodels\\nonparametric\\kde.py:475: DeprecationWarning: object of type <class 'numpy.float64'> cannot be safely interpreted as an integer.\n",
      "  grid,delta = np.linspace(a,b,gridsize,retstep=True)\n",
      "C:\\ProgramData\\Anaconda3\\lib\\site-packages\\statsmodels\\nonparametric\\kde.py:475: DeprecationWarning: object of type <class 'numpy.float64'> cannot be safely interpreted as an integer.\n",
      "  grid,delta = np.linspace(a,b,gridsize,retstep=True)\n"
     ]
    },
    {
     "data": {
      "text/plain": [
       "<matplotlib.text.Text at 0x26e8e08f2b0>"
      ]
     },
     "execution_count": 167,
     "metadata": {},
     "output_type": "execute_result"
    },
    {
     "data": {
      "image/png": "[encoded data removed]",
      "text/plain": [
       "<matplotlib.figure.Figure at 0x26e8e08f0f0>"
      ]
     },
     "metadata": {},
     "output_type": "display_data"
    }
   ],
   "source": [
    "sns.set(style=\"darkgrid\")\n",
    "\n",
    "# Set up the figure\n",
    "f, ax = plt.subplots(figsize=(12,6))\n",
    "#ax.set_aspect(\"equal\")\n",
    "\n",
    "# Draw the two density plots\n",
    "ax = sns.distplot(distplot2['food_quality'], color=\"r\")\n",
    "ax = sns.distplot(distplot2['price'], color=\"b\")\n",
    "\n",
    "\n",
    "# Add labels to the plot\n",
    "red = sns.color_palette(\"Reds\")[-2]\n",
    "blue = sns.color_palette(\"Blues\")[-2]\n",
    "\n",
    "ax.text(0.05, 8.0, \"Food Quality\", size=16, color=blue)\n",
    "ax.text(0.15, 1.5, \"Price\", size=16, color=red)\n"
   ]
  },
  {
   "cell_type": "code",
   "execution_count": 168,
   "metadata": {},
   "outputs": [
    {
     "name": "stderr",
     "output_type": "stream",
     "text": [
      "C:\\ProgramData\\Anaconda3\\lib\\site-packages\\statsmodels\\nonparametric\\kde.py:475: DeprecationWarning: object of type <class 'numpy.float64'> cannot be safely interpreted as an integer.\n",
      "  grid,delta = np.linspace(a,b,gridsize,retstep=True)\n",
      "C:\\ProgramData\\Anaconda3\\lib\\site-packages\\statsmodels\\nonparametric\\kde.py:475: DeprecationWarning: object of type <class 'numpy.float64'> cannot be safely interpreted as an integer.\n",
      "  grid,delta = np.linspace(a,b,gridsize,retstep=True)\n"
     ]
    },
    {
     "data": {
      "text/plain": [
       "<matplotlib.text.Text at 0x26e8c11ce48>"
      ]
     },
     "execution_count": 168,
     "metadata": {},
     "output_type": "execute_result"
    },
    {
     "data": {
      "image/png": "[encoded data removed]",
      "text/plain": [
       "<matplotlib.figure.Figure at 0x26e9c996ef0>"
      ]
     },
     "metadata": {},
     "output_type": "display_data"
    }
   ],
   "source": [
    "sns.set(style=\"darkgrid\")\n",
    "\n",
    "# Set up the figure\n",
    "f, ax = plt.subplots(figsize=(12,6))\n",
    "#ax.set_aspect(\"equal\")\n",
    "\n",
    "# Draw the two density plots\n",
    "\n",
    "ax = sns.distplot(distplot2['price'], color=\"b\")\n",
    "ax = sns.distplot(distplot2['service_quality'], color=\"g\")\n",
    "\n",
    "# Add labels to the plot\n",
    "\n",
    "blue = sns.color_palette(\"Blues\")[-2]\n",
    "green = sns.color_palette(\"Greens\")[-2]\n",
    "ax.text(0.05, 8.0, \"Food Quality\", size=16, color=blue)\n",
    "\n",
    "ax.text(0.9, 5, \"Service Quality\", size=16, color=green)"
   ]
  },
  {
   "cell_type": "code",
   "execution_count": 169,
   "metadata": {},
   "outputs": [
    {
     "name": "stderr",
     "output_type": "stream",
     "text": [
      "C:\\ProgramData\\Anaconda3\\lib\\site-packages\\statsmodels\\nonparametric\\kde.py:475: DeprecationWarning: object of type <class 'numpy.float64'> cannot be safely interpreted as an integer.\n",
      "  grid,delta = np.linspace(a,b,gridsize,retstep=True)\n",
      "C:\\ProgramData\\Anaconda3\\lib\\site-packages\\statsmodels\\nonparametric\\kde.py:475: DeprecationWarning: object of type <class 'numpy.float64'> cannot be safely interpreted as an integer.\n",
      "  grid,delta = np.linspace(a,b,gridsize,retstep=True)\n"
     ]
    },
    {
     "data": {
      "text/plain": [
       "<matplotlib.text.Text at 0x26e970d0320>"
      ]
     },
     "execution_count": 169,
     "metadata": {},
     "output_type": "execute_result"
    },
    {
     "data": {
      "image/png": "[encoded data removed]",
      "text/plain": [
       "<matplotlib.figure.Figure at 0x26e98350f60>"
      ]
     },
     "metadata": {},
     "output_type": "display_data"
    }
   ],
   "source": [
    "sns.set(style=\"darkgrid\")\n",
    "\n",
    "# Set up the figure\n",
    "f, ax = plt.subplots(figsize=(12,6))\n",
    "#ax.set_aspect(\"equal\")\n",
    "\n",
    "# Draw the two density plots\n",
    "ax = sns.distplot(distplot2['food_quality'], color=\"r\")\n",
    "\n",
    "ax = sns.distplot(distplot2['service_quality'], color=\"g\")\n",
    "\n",
    "# Add labels to the plot\n",
    "red = sns.color_palette(\"Reds\")[-2]\n",
    "\n",
    "green = sns.color_palette(\"Greens\")[-2]\n",
    "\n",
    "ax.text(0.15, 1.5, \"Price\", size=16, color=red)\n",
    "ax.text(0.9, 5, \"Service Quality\", size=16, color=green)"
   ]
  },
  {
   "cell_type": "code",
   "execution_count": 229,
   "metadata": {},
   "outputs": [
    {
     "data": {
      "text/plain": [
       "<matplotlib.axes._subplots.AxesSubplot at 0x26f72b9bba8>"
      ]
     },
     "execution_count": 229,
     "metadata": {},
     "output_type": "execute_result"
    },
    {
     "data": {
      "image/png": "[encoded data removed]",
      "text/plain": [
       "<matplotlib.figure.Figure at 0x26f72b9beb8>"
      ]
     },
     "metadata": {},
     "output_type": "display_data"
    }
   ],
   "source": [
    "plt.figure(figsize=(4,6))\n",
    "bar_df2 = distplot2.groupby('problem_type')['problem_type'].count().sort_values(ascending=False)\n",
    "bar_df2.plot.bar()"
   ]
  },
  {
   "cell_type": "code",
   "execution_count": 139,
   "metadata": {},
   "outputs": [
    {
     "name": "stderr",
     "output_type": "stream",
     "text": [
      "C:\\ProgramData\\Anaconda3\\lib\\site-packages\\seaborn\\categorical.py:342: DeprecationWarning: pandas.core.common.is_categorical_dtype is deprecated. import from the public API: pandas.api.types.is_categorical_dtype instead\n",
      "  elif is_categorical(y):\n"
     ]
    },
    {
     "data": {
      "text/plain": [
       "[<matplotlib.text.Text at 0x26ec33dacc0>,\n",
       " <matplotlib.text.Text at 0x26e8f74b9e8>]"
      ]
     },
     "execution_count": 139,
     "metadata": {},
     "output_type": "execute_result"
    },
    {
     "data": {
      "image/png": "[encoded data removed]",
      "text/plain": [
       "<matplotlib.figure.Figure at 0x26e8c443780>"
      ]
     },
     "metadata": {},
     "output_type": "display_data"
    }
   ],
   "source": [
    "plt.figure(figsize=(12,6))\n",
    "sns.violinplot(x='problem_type', y='sentiment_score', data=df_topics).set(xlabel='', ylabel='Sentiment Score')"
   ]
  },
  {
   "cell_type": "code",
   "execution_count": null,
   "metadata": {
    "collapsed": true
   },
   "outputs": [],
   "source": [
    "plt.figure(figsize=(12,6))\n",
    "sns.set_style(\"darkgrid\", {\"axes.facecolor\": \".9\"})\n",
    "sns.jointplot(distplot.stars_dif, distplot.sentiment_score, kind = 'kde', cmap=\"Reds\", shade=True, shade_lowest=False)\n",
    "sns.plt.ylim(-0.25,0)\n",
    "sns.plt.xlim((-4),2)"
   ]
  }
 ],
 "metadata": {
  "kernelspec": {
   "display_name": "Python 3",
   "language": "python",
   "name": "python3"
  },
  "language_info": {
   "codemirror_mode": {
    "name": "ipython",
    "version": 3
   },
   "file_extension": ".py",
   "mimetype": "text/x-python",
   "name": "python",
   "nbconvert_exporter": "python",
   "pygments_lexer": "ipython3",
   "version": "3.6.1"
  }
 },
 "nbformat": 4,
 "nbformat_minor": 2
}
